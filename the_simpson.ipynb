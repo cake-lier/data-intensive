{
 "cells": [
  {
   "cell_type": "markdown",
   "metadata": {},
   "source": [
    "# Un'analisi predittiva sulla serie tv più amata del mondo - I Simpson\n",
    "## Esame di Programmazione di Applicazioni Data Intensive\n",
    "#### Laurea in Ingegneria e Scienze Informatiche - A.A. 2019/2020\n",
    "#### Matteo Castellucci - matteo.castellucci3@studio.unibo.it"
   ]
  },
  {
   "cell_type": "markdown",
   "metadata": {},
   "source": [
    "### Descrizione del problema e della variabile da predire"
   ]
  },
  {
   "cell_type": "markdown",
   "metadata": {},
   "source": [
    "Si vogliono analizzare le caratteristiche degli episodi della serie tv \"I Simpson\" (in originale \"The Simpsons\") con il fine di predire quanto più accuratamente possibile il [rating su IMDB](https://www.imdb.com/title/tt0096697/) di ciascun episodio. Immaginiamo perciò che tutti gli episodi non siano ancora andati in onda, in modo tale che gli spettatori non abbiano ancora potuto farsene un'opinione, ma che siano già stati prodotti e ne sia stata programmata la trasmissione, in modo tale da sapere il contenuto di ciascuno di essi e il momento in cui saranno trasmessi.\n",
    "\n",
    "Poichè il valore assoluto del rating di per sè è per noi poco significativo, essendo legato alle esperienze personali degli spettatori, cercheremo di predire una variabile categorica ottenuta da esso che ci dica se l'episodio complessivamente è ritenuto \"bello\" oppure \"brutto\" dal pubblico.\n",
    "Scegliamo le categorie secondo la seguente logica:\n",
    "- **Bello**: rating superiore a 7,5 incluso\n",
    "- **Brutto**: rating inferiore a 7,5 escluso  \n",
    "\n",
    "Dovremo perciò affrontare un problema di classificazione binaria."
   ]
  },
  {
   "cell_type": "markdown",
   "metadata": {},
   "source": [
    "### Importazione delle librerie e impostazione delle opzioni"
   ]
  },
  {
   "cell_type": "markdown",
   "metadata": {},
   "source": [
    "Per prima cosa ci preoccupiamo di importare tutte le librerie, le funzioni e gli oggetti che utilizzeremo. Inoltre, scarichiamo tutti i componenti della libreria NLTK che ci serviranno e impostiamo tutte le proprietà delle librerie utili, in modo da non doverlo fare più avanti. Sopprimiamo inoltre i warning inutili."
   ]
  },
  {
   "cell_type": "code",
   "execution_count": 1,
   "metadata": {},
   "outputs": [
    {
     "name": "stderr",
     "output_type": "stream",
     "text": [
      "Using TensorFlow backend.\n",
      "[nltk_data] Downloading package punkt to /home/matteo/nltk_data...\n",
      "[nltk_data]   Unzipping tokenizers/punkt.zip.\n",
      "[nltk_data] Downloading package stopwords to /home/matteo/nltk_data...\n",
      "[nltk_data]   Unzipping corpora/stopwords.zip.\n",
      "[nltk_data] Downloading package averaged_perceptron_tagger to\n",
      "[nltk_data]     /home/matteo/nltk_data...\n",
      "[nltk_data]   Unzipping taggers/averaged_perceptron_tagger.zip.\n",
      "[nltk_data] Downloading package wordnet to /home/matteo/nltk_data...\n",
      "[nltk_data]   Unzipping corpora/wordnet.zip.\n"
     ]
    },
    {
     "data": {
      "text/plain": [
       "True"
      ]
     },
     "execution_count": 1,
     "metadata": {},
     "output_type": "execute_result"
    }
   ],
   "source": [
    "%matplotlib inline\n",
    "import os.path\n",
    "import re\n",
    "import numpy as np\n",
    "import pandas as pd\n",
    "import matplotlib.pyplot as plt\n",
    "import nltk\n",
    "\n",
    "from sklearn.feature_extraction.text import CountVectorizer, TfidfVectorizer\n",
    "from sklearn.model_selection import train_test_split, cross_validate, StratifiedKFold, GridSearchCV\n",
    "from sklearn.linear_model import LogisticRegression, Perceptron\n",
    "from sklearn.neural_network import MLPClassifier\n",
    "from sklearn.ensemble import RandomForestClassifier\n",
    "from sklearn.pipeline import Pipeline\n",
    "from sklearn.preprocessing import StandardScaler\n",
    "from sklearn.metrics import confusion_matrix, classification_report\n",
    "from sklearn.svm import SVC\n",
    "from sklearn.dummy import DummyClassifier\n",
    "from scipy.stats import norm\n",
    "from scipy.sparse import csr_matrix, hstack\n",
    "from xgboost import XGBClassifier\n",
    "import tensorflow as tf\n",
    "import keras\n",
    "from keras.models import Sequential\n",
    "from keras.utils import to_categorical\n",
    "from keras.layers import Dense, Conv1D, Flatten, Dropout, Reshape\n",
    "from keras.regularizers import l2\n",
    "import warnings\n",
    "warnings.filterwarnings(\"ignore\", category=UserWarning)\n",
    "\n",
    "pd.options.display.max_colwidth = 100\n",
    "nltk.download(\"punkt\")\n",
    "nltk.download(\"stopwords\")\n",
    "nltk.download(\"averaged_perceptron_tagger\")\n",
    "nltk.download(\"wordnet\")"
   ]
  },
  {
   "cell_type": "markdown",
   "metadata": {},
   "source": [
    "### Importazione del dataset"
   ]
  },
  {
   "cell_type": "markdown",
   "metadata": {},
   "source": [
    "Verranno utilizzati i dataset contenuti nel post \"The Simpsons by the data\" originariamente pubblicati da William Kukierski e, data la loro cancellazione da Kaggle, aggiunti nuovamente da Prashant Banerjee. Mi sono riservato di applicare alcune modifiche al dataset originale per renderlo importabile tramite Pandas, visto che presentava alcuni errori di formattazione. Detto questo, lo scarichiamo e lo importiamo."
   ]
  },
  {
   "cell_type": "code",
   "execution_count": 2,
   "metadata": {},
   "outputs": [],
   "source": [
    "zip_filename = \"the_simpsons.zip\"\n",
    "if not os.path.exists(\"the_simpsons.zip\"):\n",
    "    from urllib.request import urlretrieve\n",
    "    urlretrieve(\"https://drive.google.com/uc?export=download&id=1M4xsnaYl5KfsQ9Wx7wQ9Jc5oBdeCPcTx\", zip_filename)\n",
    "    from zipfile import ZipFile\n",
    "    with ZipFile(zip_filename) as file:\n",
    "        file.extractall()"
   ]
  },
  {
   "cell_type": "markdown",
   "metadata": {},
   "source": [
    "### Comprensione dei dati"
   ]
  },
  {
   "cell_type": "markdown",
   "metadata": {},
   "source": [
    "Osserviamo per prima cosa i personaggi. Notiamo innanzitutto che ogni riga ha già un suo identificatore dato dalla colonna ``id`` e che, oltre a questa colonna, nel file sono presenti altre tre feature:\n",
    "\n",
    "- ``name``: il nome del personaggio\n",
    "- ``normalized_name``: il nome del personaggio costituito da soli caratteri alfabetici minuscoli\n",
    "- ``gender``: il genere sessuale del personaggio"
   ]
  },
  {
   "cell_type": "code",
   "execution_count": 3,
   "metadata": {},
   "outputs": [
    {
     "data": {
      "text/html": [
       "<div>\n",
       "<style scoped>\n",
       "    .dataframe tbody tr th:only-of-type {\n",
       "        vertical-align: middle;\n",
       "    }\n",
       "\n",
       "    .dataframe tbody tr th {\n",
       "        vertical-align: top;\n",
       "    }\n",
       "\n",
       "    .dataframe thead th {\n",
       "        text-align: right;\n",
       "    }\n",
       "</style>\n",
       "<table border=\"1\" class=\"dataframe\">\n",
       "  <thead>\n",
       "    <tr style=\"text-align: right;\">\n",
       "      <th></th>\n",
       "      <th>name</th>\n",
       "      <th>normalized_name</th>\n",
       "      <th>gender</th>\n",
       "    </tr>\n",
       "    <tr>\n",
       "      <th>id</th>\n",
       "      <th></th>\n",
       "      <th></th>\n",
       "      <th></th>\n",
       "    </tr>\n",
       "  </thead>\n",
       "  <tbody>\n",
       "    <tr>\n",
       "      <th>6</th>\n",
       "      <td>Dewey Largo</td>\n",
       "      <td>dewey largo</td>\n",
       "      <td>m</td>\n",
       "    </tr>\n",
       "    <tr>\n",
       "      <th>7</th>\n",
       "      <td>Children</td>\n",
       "      <td>children</td>\n",
       "      <td>NaN</td>\n",
       "    </tr>\n",
       "    <tr>\n",
       "      <th>8</th>\n",
       "      <td>Bart Simpson</td>\n",
       "      <td>bart simpson</td>\n",
       "      <td>m</td>\n",
       "    </tr>\n",
       "    <tr>\n",
       "      <th>9</th>\n",
       "      <td>Lisa Simpson</td>\n",
       "      <td>lisa simpson</td>\n",
       "      <td>f</td>\n",
       "    </tr>\n",
       "    <tr>\n",
       "      <th>10</th>\n",
       "      <td>Patty Bouvier</td>\n",
       "      <td>patty bouvier</td>\n",
       "      <td>f</td>\n",
       "    </tr>\n",
       "    <tr>\n",
       "      <th>11</th>\n",
       "      <td>Ned Flanders</td>\n",
       "      <td>ned flanders</td>\n",
       "      <td>m</td>\n",
       "    </tr>\n",
       "    <tr>\n",
       "      <th>12</th>\n",
       "      <td>Mechanical Santa</td>\n",
       "      <td>mechanical santa</td>\n",
       "      <td>NaN</td>\n",
       "    </tr>\n",
       "    <tr>\n",
       "      <th>13</th>\n",
       "      <td>Tattoo Man</td>\n",
       "      <td>tattoo man</td>\n",
       "      <td>NaN</td>\n",
       "    </tr>\n",
       "    <tr>\n",
       "      <th>14</th>\n",
       "      <td>Waylon Smithers</td>\n",
       "      <td>waylon smithers</td>\n",
       "      <td>m</td>\n",
       "    </tr>\n",
       "    <tr>\n",
       "      <th>15</th>\n",
       "      <td>C. Montgomery Burns</td>\n",
       "      <td>c montgomery burns</td>\n",
       "      <td>m</td>\n",
       "    </tr>\n",
       "  </tbody>\n",
       "</table>\n",
       "</div>"
      ],
      "text/plain": [
       "                   name     normalized_name gender\n",
       "id                                                \n",
       "6           Dewey Largo         dewey largo      m\n",
       "7              Children            children    NaN\n",
       "8          Bart Simpson        bart simpson      m\n",
       "9          Lisa Simpson        lisa simpson      f\n",
       "10        Patty Bouvier       patty bouvier      f\n",
       "11         Ned Flanders        ned flanders      m\n",
       "12     Mechanical Santa    mechanical santa    NaN\n",
       "13           Tattoo Man          tattoo man    NaN\n",
       "14      Waylon Smithers     waylon smithers      m\n",
       "15  C. Montgomery Burns  c montgomery burns      m"
      ]
     },
     "execution_count": 3,
     "metadata": {},
     "output_type": "execute_result"
    }
   ],
   "source": [
    "simpsons_characters = pd.read_csv(\"simpsons_characters.csv\", index_col=\"id\").sort_values(\"id\")\n",
    "simpsons_characters.iloc[5:15]"
   ]
  },
  {
   "cell_type": "markdown",
   "metadata": {},
   "source": [
    "Come si può notare, la stragrande maggioranza dei personaggi non ha genere (perchè è sconosciuto o perché è un insieme di persone) e perciò non è un elemento particolarmente significativo. Questo DataFrame verrà perciò utilizzato solo per identificare il nome dei personaggi, in quanto non riporta altro che tutti i possibili nomi di personaggi presenti nei copioni dei vari episodi, essendo presenti solo nomi unici."
   ]
  },
  {
   "cell_type": "code",
   "execution_count": 4,
   "metadata": {},
   "outputs": [
    {
     "data": {
      "text/html": [
       "<div>\n",
       "<style scoped>\n",
       "    .dataframe tbody tr th:only-of-type {\n",
       "        vertical-align: middle;\n",
       "    }\n",
       "\n",
       "    .dataframe tbody tr th {\n",
       "        vertical-align: top;\n",
       "    }\n",
       "\n",
       "    .dataframe thead th {\n",
       "        text-align: right;\n",
       "    }\n",
       "</style>\n",
       "<table border=\"1\" class=\"dataframe\">\n",
       "  <thead>\n",
       "    <tr style=\"text-align: right;\">\n",
       "      <th></th>\n",
       "      <th>name</th>\n",
       "      <th>normalized_name</th>\n",
       "      <th>gender</th>\n",
       "    </tr>\n",
       "  </thead>\n",
       "  <tbody>\n",
       "    <tr>\n",
       "      <th>count</th>\n",
       "      <td>6722</td>\n",
       "      <td>6722</td>\n",
       "      <td>323</td>\n",
       "    </tr>\n",
       "    <tr>\n",
       "      <th>unique</th>\n",
       "      <td>6722</td>\n",
       "      <td>6722</td>\n",
       "      <td>2</td>\n",
       "    </tr>\n",
       "  </tbody>\n",
       "</table>\n",
       "</div>"
      ],
      "text/plain": [
       "        name normalized_name gender\n",
       "count   6722            6722    323\n",
       "unique  6722            6722      2"
      ]
     },
     "execution_count": 4,
     "metadata": {},
     "output_type": "execute_result"
    }
   ],
   "source": [
    "simpsons_characters.describe().loc[[\"count\", \"unique\"]]"
   ]
  },
  {
   "cell_type": "markdown",
   "metadata": {},
   "source": [
    "Possiamo perciò già provvedere alla rimozione delle colonne non necessarie."
   ]
  },
  {
   "cell_type": "code",
   "execution_count": 5,
   "metadata": {},
   "outputs": [
    {
     "data": {
      "text/html": [
       "<div>\n",
       "<style scoped>\n",
       "    .dataframe tbody tr th:only-of-type {\n",
       "        vertical-align: middle;\n",
       "    }\n",
       "\n",
       "    .dataframe tbody tr th {\n",
       "        vertical-align: top;\n",
       "    }\n",
       "\n",
       "    .dataframe thead th {\n",
       "        text-align: right;\n",
       "    }\n",
       "</style>\n",
       "<table border=\"1\" class=\"dataframe\">\n",
       "  <thead>\n",
       "    <tr style=\"text-align: right;\">\n",
       "      <th></th>\n",
       "      <th>name</th>\n",
       "    </tr>\n",
       "    <tr>\n",
       "      <th>id</th>\n",
       "      <th></th>\n",
       "    </tr>\n",
       "  </thead>\n",
       "  <tbody>\n",
       "    <tr>\n",
       "      <th>1</th>\n",
       "      <td>Marge Simpson</td>\n",
       "    </tr>\n",
       "    <tr>\n",
       "      <th>2</th>\n",
       "      <td>Homer Simpson</td>\n",
       "    </tr>\n",
       "    <tr>\n",
       "      <th>3</th>\n",
       "      <td>Seymour Skinner</td>\n",
       "    </tr>\n",
       "    <tr>\n",
       "      <th>4</th>\n",
       "      <td>JANEY</td>\n",
       "    </tr>\n",
       "    <tr>\n",
       "      <th>5</th>\n",
       "      <td>Todd Flanders</td>\n",
       "    </tr>\n",
       "  </tbody>\n",
       "</table>\n",
       "</div>"
      ],
      "text/plain": [
       "               name\n",
       "id                 \n",
       "1     Marge Simpson\n",
       "2     Homer Simpson\n",
       "3   Seymour Skinner\n",
       "4             JANEY\n",
       "5     Todd Flanders"
      ]
     },
     "execution_count": 5,
     "metadata": {},
     "output_type": "execute_result"
    }
   ],
   "source": [
    "simpsons_characters.drop(columns=[\"normalized_name\", \"gender\"], inplace=True)\n",
    "simpsons_characters.head()"
   ]
  },
  {
   "cell_type": "markdown",
   "metadata": {},
   "source": [
    "Questo, come vedremo anche per gli altri, è un dataset molto pesante in memoria perchè contiene un numero molto alto di istanze (6722 per la precisione). Per questo, modifichiamo il tipo delle sue colonne in modo da ottimizzare al massimo l'uso della memoria sfruttando i tipi di Pandas. In questo modo, riusciamo a ridurre lo spazio occupato di quasi 5 volte."
   ]
  },
  {
   "cell_type": "code",
   "execution_count": 6,
   "metadata": {},
   "outputs": [
    {
     "name": "stdout",
     "output_type": "stream",
     "text": [
      "<class 'pandas.core.frame.DataFrame'>\n",
      "Int64Index: 6722 entries, 1 to 6749\n",
      "Data columns (total 1 columns):\n",
      " #   Column  Non-Null Count  Dtype \n",
      "---  ------  --------------  ----- \n",
      " 0   name    6722 non-null   object\n",
      "dtypes: object(1)\n",
      "memory usage: 506.4 KB\n"
     ]
    }
   ],
   "source": [
    "simpsons_characters.info(memory_usage=\"deep\")"
   ]
  },
  {
   "cell_type": "code",
   "execution_count": 7,
   "metadata": {},
   "outputs": [
    {
     "name": "stdout",
     "output_type": "stream",
     "text": [
      "<class 'pandas.core.frame.DataFrame'>\n",
      "Int64Index: 6722 entries, 1 to 6749\n",
      "Data columns (total 1 columns):\n",
      " #   Column  Non-Null Count  Dtype \n",
      "---  ------  --------------  ----- \n",
      " 0   name    6722 non-null   string\n",
      "dtypes: string(1)\n",
      "memory usage: 105.0 KB\n"
     ]
    }
   ],
   "source": [
    "simpsons_characters = simpsons_characters.astype({\n",
    "    \"name\": \"string\",\n",
    "})\n",
    "simpsons_characters.info(memory_usage=\"deep\")"
   ]
  },
  {
   "cell_type": "markdown",
   "metadata": {},
   "source": [
    "Osservando invece le location notiamo un pattern simile a quello già visto per i personaggi: abbiamo una colonna ``id`` che determina l'identificatore della location, mentre le feature vere e proprie sono:\n",
    "\n",
    "- ``name``: il nome della location\n",
    "- ``normalized_name``: il nome della location fatto di soli caratteri alfabetici in minuscolo"
   ]
  },
  {
   "cell_type": "code",
   "execution_count": 8,
   "metadata": {},
   "outputs": [
    {
     "data": {
      "text/html": [
       "<div>\n",
       "<style scoped>\n",
       "    .dataframe tbody tr th:only-of-type {\n",
       "        vertical-align: middle;\n",
       "    }\n",
       "\n",
       "    .dataframe tbody tr th {\n",
       "        vertical-align: top;\n",
       "    }\n",
       "\n",
       "    .dataframe thead th {\n",
       "        text-align: right;\n",
       "    }\n",
       "</style>\n",
       "<table border=\"1\" class=\"dataframe\">\n",
       "  <thead>\n",
       "    <tr style=\"text-align: right;\">\n",
       "      <th></th>\n",
       "      <th>name</th>\n",
       "      <th>normalized_name</th>\n",
       "    </tr>\n",
       "    <tr>\n",
       "      <th>id</th>\n",
       "      <th></th>\n",
       "      <th></th>\n",
       "    </tr>\n",
       "  </thead>\n",
       "  <tbody>\n",
       "    <tr>\n",
       "      <th>1</th>\n",
       "      <td>Street</td>\n",
       "      <td>street</td>\n",
       "    </tr>\n",
       "    <tr>\n",
       "      <th>2</th>\n",
       "      <td>Car</td>\n",
       "      <td>car</td>\n",
       "    </tr>\n",
       "    <tr>\n",
       "      <th>3</th>\n",
       "      <td>Springfield Elementary School</td>\n",
       "      <td>springfield elementary school</td>\n",
       "    </tr>\n",
       "    <tr>\n",
       "      <th>4</th>\n",
       "      <td>Auditorium</td>\n",
       "      <td>auditorium</td>\n",
       "    </tr>\n",
       "    <tr>\n",
       "      <th>5</th>\n",
       "      <td>Simpson Home</td>\n",
       "      <td>simpson home</td>\n",
       "    </tr>\n",
       "  </tbody>\n",
       "</table>\n",
       "</div>"
      ],
      "text/plain": [
       "                             name                normalized_name\n",
       "id                                                              \n",
       "1                          Street                         street\n",
       "2                             Car                            car\n",
       "3   Springfield Elementary School  springfield elementary school\n",
       "4                      Auditorium                     auditorium\n",
       "5                    Simpson Home                   simpson home"
      ]
     },
     "execution_count": 8,
     "metadata": {},
     "output_type": "execute_result"
    }
   ],
   "source": [
    "simpsons_locations = pd.read_csv(\"simpsons_locations.csv\", index_col=\"id\").sort_values(\"id\")\n",
    "simpsons_locations.head()"
   ]
  },
  {
   "cell_type": "markdown",
   "metadata": {},
   "source": [
    "Anche in questo caso, il DataFrame è utile solo per poter identificare il nome dei vari luoghi in cui gli episodi si svolgono, contenendo solamente i luoghi unici che compaiono nei vari copioni degli episodi."
   ]
  },
  {
   "cell_type": "code",
   "execution_count": 9,
   "metadata": {},
   "outputs": [
    {
     "data": {
      "text/html": [
       "<div>\n",
       "<style scoped>\n",
       "    .dataframe tbody tr th:only-of-type {\n",
       "        vertical-align: middle;\n",
       "    }\n",
       "\n",
       "    .dataframe tbody tr th {\n",
       "        vertical-align: top;\n",
       "    }\n",
       "\n",
       "    .dataframe thead th {\n",
       "        text-align: right;\n",
       "    }\n",
       "</style>\n",
       "<table border=\"1\" class=\"dataframe\">\n",
       "  <thead>\n",
       "    <tr style=\"text-align: right;\">\n",
       "      <th></th>\n",
       "      <th>name</th>\n",
       "      <th>normalized_name</th>\n",
       "    </tr>\n",
       "  </thead>\n",
       "  <tbody>\n",
       "    <tr>\n",
       "      <th>count</th>\n",
       "      <td>4459</td>\n",
       "      <td>4459</td>\n",
       "    </tr>\n",
       "    <tr>\n",
       "      <th>unique</th>\n",
       "      <td>4459</td>\n",
       "      <td>4459</td>\n",
       "    </tr>\n",
       "  </tbody>\n",
       "</table>\n",
       "</div>"
      ],
      "text/plain": [
       "        name normalized_name\n",
       "count   4459            4459\n",
       "unique  4459            4459"
      ]
     },
     "execution_count": 9,
     "metadata": {},
     "output_type": "execute_result"
    }
   ],
   "source": [
    "simpsons_locations.describe().loc[[\"count\", \"unique\"]]"
   ]
  },
  {
   "cell_type": "markdown",
   "metadata": {},
   "source": [
    "Possiamo perciò rimuovere ``normalized_name``, non essendoci di alcuna utilità."
   ]
  },
  {
   "cell_type": "code",
   "execution_count": 10,
   "metadata": {},
   "outputs": [
    {
     "data": {
      "text/html": [
       "<div>\n",
       "<style scoped>\n",
       "    .dataframe tbody tr th:only-of-type {\n",
       "        vertical-align: middle;\n",
       "    }\n",
       "\n",
       "    .dataframe tbody tr th {\n",
       "        vertical-align: top;\n",
       "    }\n",
       "\n",
       "    .dataframe thead th {\n",
       "        text-align: right;\n",
       "    }\n",
       "</style>\n",
       "<table border=\"1\" class=\"dataframe\">\n",
       "  <thead>\n",
       "    <tr style=\"text-align: right;\">\n",
       "      <th></th>\n",
       "      <th>name</th>\n",
       "    </tr>\n",
       "    <tr>\n",
       "      <th>id</th>\n",
       "      <th></th>\n",
       "    </tr>\n",
       "  </thead>\n",
       "  <tbody>\n",
       "    <tr>\n",
       "      <th>1</th>\n",
       "      <td>Street</td>\n",
       "    </tr>\n",
       "    <tr>\n",
       "      <th>2</th>\n",
       "      <td>Car</td>\n",
       "    </tr>\n",
       "    <tr>\n",
       "      <th>3</th>\n",
       "      <td>Springfield Elementary School</td>\n",
       "    </tr>\n",
       "    <tr>\n",
       "      <th>4</th>\n",
       "      <td>Auditorium</td>\n",
       "    </tr>\n",
       "    <tr>\n",
       "      <th>5</th>\n",
       "      <td>Simpson Home</td>\n",
       "    </tr>\n",
       "  </tbody>\n",
       "</table>\n",
       "</div>"
      ],
      "text/plain": [
       "                             name\n",
       "id                               \n",
       "1                          Street\n",
       "2                             Car\n",
       "3   Springfield Elementary School\n",
       "4                      Auditorium\n",
       "5                    Simpson Home"
      ]
     },
     "execution_count": 10,
     "metadata": {},
     "output_type": "execute_result"
    }
   ],
   "source": [
    "simpsons_locations.drop(columns=\"normalized_name\", inplace=True)\n",
    "simpsons_locations.head()"
   ]
  },
  {
   "cell_type": "markdown",
   "metadata": {},
   "source": [
    "In questo caso l'uso di memoria incide di meno rispetto al dataset precedente. Decidiamo lo stesso di scegliere i tipi adeguati per le colonne del DataFrame, anche solo per coerenza con il caso precedente, e otteniamo anche in questo caso una diminuzione nell'uso di memoria di un fattore 5."
   ]
  },
  {
   "cell_type": "code",
   "execution_count": 11,
   "metadata": {},
   "outputs": [
    {
     "name": "stdout",
     "output_type": "stream",
     "text": [
      "<class 'pandas.core.frame.DataFrame'>\n",
      "Int64Index: 4459 entries, 1 to 4459\n",
      "Data columns (total 1 columns):\n",
      " #   Column  Non-Null Count  Dtype \n",
      "---  ------  --------------  ----- \n",
      " 0   name    4459 non-null   object\n",
      "dtypes: object(1)\n",
      "memory usage: 356.8 KB\n"
     ]
    }
   ],
   "source": [
    "simpsons_locations.info(memory_usage=\"deep\")"
   ]
  },
  {
   "cell_type": "code",
   "execution_count": 12,
   "metadata": {},
   "outputs": [
    {
     "name": "stdout",
     "output_type": "stream",
     "text": [
      "<class 'pandas.core.frame.DataFrame'>\n",
      "Int64Index: 4459 entries, 1 to 4459\n",
      "Data columns (total 1 columns):\n",
      " #   Column  Non-Null Count  Dtype \n",
      "---  ------  --------------  ----- \n",
      " 0   name    4459 non-null   string\n",
      "dtypes: string(1)\n",
      "memory usage: 69.7 KB\n"
     ]
    }
   ],
   "source": [
    "simpsons_locations = simpsons_locations.astype({\n",
    "    \"name\": \"string\",\n",
    "})\n",
    "simpsons_locations.info(memory_usage=\"deep\")"
   ]
  },
  {
   "cell_type": "markdown",
   "metadata": {},
   "source": [
    "Questo dataset invece è quello che contiene i dati relativi ai singoli episodi. In esso troviamo un identificatore per ciascun episodio contraddistinto dal nome ``id``, come nei precedenti dataset, mentre le altre sue feature sono:\n",
    "\n",
    "- ``image_url``: l'URL del frame che rappresenta l'episodio\n",
    "- ``imdb_rating``: il rating che l'episodio ha su IMDB\n",
    "- ``imdb_votes``: il numero di voti che hanno contribuito al rating su IMDB\n",
    "- ``number_in_season``: il numero dell'episodio all'interno della stagione\n",
    "- ``number_in_series``: il numero dell'episodio all'interno dell'intera serie\n",
    "- ``original_air_date``: la data della prima trasmissione originale dell'episodio\n",
    "- ``original_air_year``: l'anno della prima trasmissione originale dell'episodio\n",
    "- ``production_code``: il codice di produzione dell'episodio\n",
    "- ``season``: il numero della stagione dell'episodio\n",
    "- ``title``: il titolo dell'episodio\n",
    "- ``us_viewers_in_millions``: il numero di spettatori per quell'episodio in milioni\n",
    "- ``video_url``: l'URL per vedere l'episodio sul sito di Fox\n",
    "- ``views``: il numero di visualizzazioni dell'episodio sul sito di Fox"
   ]
  },
  {
   "cell_type": "code",
   "execution_count": 13,
   "metadata": {},
   "outputs": [
    {
     "data": {
      "text/html": [
       "<div>\n",
       "<style scoped>\n",
       "    .dataframe tbody tr th:only-of-type {\n",
       "        vertical-align: middle;\n",
       "    }\n",
       "\n",
       "    .dataframe tbody tr th {\n",
       "        vertical-align: top;\n",
       "    }\n",
       "\n",
       "    .dataframe thead th {\n",
       "        text-align: right;\n",
       "    }\n",
       "</style>\n",
       "<table border=\"1\" class=\"dataframe\">\n",
       "  <thead>\n",
       "    <tr style=\"text-align: right;\">\n",
       "      <th></th>\n",
       "      <th>image_url</th>\n",
       "      <th>imdb_rating</th>\n",
       "      <th>imdb_votes</th>\n",
       "      <th>number_in_season</th>\n",
       "      <th>number_in_series</th>\n",
       "      <th>original_air_date</th>\n",
       "      <th>original_air_year</th>\n",
       "      <th>production_code</th>\n",
       "      <th>season</th>\n",
       "      <th>title</th>\n",
       "      <th>us_viewers_in_millions</th>\n",
       "      <th>video_url</th>\n",
       "      <th>views</th>\n",
       "    </tr>\n",
       "    <tr>\n",
       "      <th>id</th>\n",
       "      <th></th>\n",
       "      <th></th>\n",
       "      <th></th>\n",
       "      <th></th>\n",
       "      <th></th>\n",
       "      <th></th>\n",
       "      <th></th>\n",
       "      <th></th>\n",
       "      <th></th>\n",
       "      <th></th>\n",
       "      <th></th>\n",
       "      <th></th>\n",
       "      <th></th>\n",
       "    </tr>\n",
       "  </thead>\n",
       "  <tbody>\n",
       "    <tr>\n",
       "      <th>1</th>\n",
       "      <td>http://static-media.fxx.com/img/FX_Networks_-_FXX/617/479/Simpsons_01_08.jpg</td>\n",
       "      <td>8.2</td>\n",
       "      <td>3734.0</td>\n",
       "      <td>1</td>\n",
       "      <td>1</td>\n",
       "      <td>1989-12-17</td>\n",
       "      <td>1989</td>\n",
       "      <td>7G08</td>\n",
       "      <td>1</td>\n",
       "      <td>Simpsons Roasting on an Open Fire</td>\n",
       "      <td>26.7</td>\n",
       "      <td>http://www.simpsonsworld.com/video/273376835817</td>\n",
       "      <td>171408.0</td>\n",
       "    </tr>\n",
       "    <tr>\n",
       "      <th>2</th>\n",
       "      <td>http://static-media.fxx.com/img/FX_Networks_-_FXX/265/167/Simpsons_01_02.jpg</td>\n",
       "      <td>7.8</td>\n",
       "      <td>1973.0</td>\n",
       "      <td>2</td>\n",
       "      <td>2</td>\n",
       "      <td>1990-01-14</td>\n",
       "      <td>1990</td>\n",
       "      <td>7G02</td>\n",
       "      <td>1</td>\n",
       "      <td>Bart the Genius</td>\n",
       "      <td>24.5</td>\n",
       "      <td>http://www.simpsonsworld.com/video/283744835990</td>\n",
       "      <td>91423.0</td>\n",
       "    </tr>\n",
       "    <tr>\n",
       "      <th>3</th>\n",
       "      <td>http://static-media.fxx.com/img/FX_Networks_-_FXX/621/883/Simpsons_01_03.jpg</td>\n",
       "      <td>7.5</td>\n",
       "      <td>1709.0</td>\n",
       "      <td>3</td>\n",
       "      <td>3</td>\n",
       "      <td>1990-01-21</td>\n",
       "      <td>1990</td>\n",
       "      <td>7G03</td>\n",
       "      <td>1</td>\n",
       "      <td>Homer's Odyssey</td>\n",
       "      <td>27.5</td>\n",
       "      <td>http://www.simpsonsworld.com/video/273381443699</td>\n",
       "      <td>78072.0</td>\n",
       "    </tr>\n",
       "    <tr>\n",
       "      <th>4</th>\n",
       "      <td>http://static-media.fxx.com/img/FX_Networks_-_FXX/632/119/Simpsons_01_04__343617.jpg</td>\n",
       "      <td>7.8</td>\n",
       "      <td>1701.0</td>\n",
       "      <td>4</td>\n",
       "      <td>4</td>\n",
       "      <td>1990-01-28</td>\n",
       "      <td>1990</td>\n",
       "      <td>7G04</td>\n",
       "      <td>1</td>\n",
       "      <td>There's No Disgrace Like Home</td>\n",
       "      <td>20.2</td>\n",
       "      <td>http://www.simpsonsworld.com/video/273392195780</td>\n",
       "      <td>67378.0</td>\n",
       "    </tr>\n",
       "    <tr>\n",
       "      <th>5</th>\n",
       "      <td>http://static-media.fxx.com/img/FX_Networks_-_FXX/274/735/Simpsons_01_05.jpg</td>\n",
       "      <td>8.1</td>\n",
       "      <td>1732.0</td>\n",
       "      <td>5</td>\n",
       "      <td>5</td>\n",
       "      <td>1990-02-04</td>\n",
       "      <td>1990</td>\n",
       "      <td>7G05</td>\n",
       "      <td>1</td>\n",
       "      <td>Bart the General</td>\n",
       "      <td>27.1</td>\n",
       "      <td>http://www.simpsonsworld.com/video/300934723994</td>\n",
       "      <td>63129.0</td>\n",
       "    </tr>\n",
       "  </tbody>\n",
       "</table>\n",
       "</div>"
      ],
      "text/plain": [
       "                                                                               image_url  \\\n",
       "id                                                                                         \n",
       "1           http://static-media.fxx.com/img/FX_Networks_-_FXX/617/479/Simpsons_01_08.jpg   \n",
       "2           http://static-media.fxx.com/img/FX_Networks_-_FXX/265/167/Simpsons_01_02.jpg   \n",
       "3           http://static-media.fxx.com/img/FX_Networks_-_FXX/621/883/Simpsons_01_03.jpg   \n",
       "4   http://static-media.fxx.com/img/FX_Networks_-_FXX/632/119/Simpsons_01_04__343617.jpg   \n",
       "5           http://static-media.fxx.com/img/FX_Networks_-_FXX/274/735/Simpsons_01_05.jpg   \n",
       "\n",
       "    imdb_rating  imdb_votes  number_in_season  number_in_series  \\\n",
       "id                                                                \n",
       "1           8.2      3734.0                 1                 1   \n",
       "2           7.8      1973.0                 2                 2   \n",
       "3           7.5      1709.0                 3                 3   \n",
       "4           7.8      1701.0                 4                 4   \n",
       "5           8.1      1732.0                 5                 5   \n",
       "\n",
       "   original_air_date  original_air_year production_code  season  \\\n",
       "id                                                                \n",
       "1         1989-12-17               1989            7G08       1   \n",
       "2         1990-01-14               1990            7G02       1   \n",
       "3         1990-01-21               1990            7G03       1   \n",
       "4         1990-01-28               1990            7G04       1   \n",
       "5         1990-02-04               1990            7G05       1   \n",
       "\n",
       "                                title  us_viewers_in_millions  \\\n",
       "id                                                              \n",
       "1   Simpsons Roasting on an Open Fire                    26.7   \n",
       "2                     Bart the Genius                    24.5   \n",
       "3                     Homer's Odyssey                    27.5   \n",
       "4       There's No Disgrace Like Home                    20.2   \n",
       "5                    Bart the General                    27.1   \n",
       "\n",
       "                                          video_url     views  \n",
       "id                                                             \n",
       "1   http://www.simpsonsworld.com/video/273376835817  171408.0  \n",
       "2   http://www.simpsonsworld.com/video/283744835990   91423.0  \n",
       "3   http://www.simpsonsworld.com/video/273381443699   78072.0  \n",
       "4   http://www.simpsonsworld.com/video/273392195780   67378.0  \n",
       "5   http://www.simpsonsworld.com/video/300934723994   63129.0  "
      ]
     },
     "execution_count": 13,
     "metadata": {},
     "output_type": "execute_result"
    }
   ],
   "source": [
    "simpsons_episodes = pd.read_csv(\"simpsons_episodes.csv\", index_col=\"id\").sort_values(\"id\")\n",
    "simpsons_episodes.head()"
   ]
  },
  {
   "cell_type": "markdown",
   "metadata": {},
   "source": [
    "Colonne come ``image_url`` e ``video_url`` non sono di alcuna utilità, così come quelle per identificare l'episodio, ``number_in_season``, ``number_in_series``, ``production_code``, avendo già un identificatore. Le feature ``imdb_votes``, ``us_viewers_in_millions`` e ``views`` non sono note in anticipo per come abbiamo descritto il problema e ``original_air_year`` è una feature duplicata. Per tutte queste ragioni, le colonne descritte verranno eliminate dal DataFrame."
   ]
  },
  {
   "cell_type": "code",
   "execution_count": 14,
   "metadata": {},
   "outputs": [
    {
     "data": {
      "text/html": [
       "<div>\n",
       "<style scoped>\n",
       "    .dataframe tbody tr th:only-of-type {\n",
       "        vertical-align: middle;\n",
       "    }\n",
       "\n",
       "    .dataframe tbody tr th {\n",
       "        vertical-align: top;\n",
       "    }\n",
       "\n",
       "    .dataframe thead th {\n",
       "        text-align: right;\n",
       "    }\n",
       "</style>\n",
       "<table border=\"1\" class=\"dataframe\">\n",
       "  <thead>\n",
       "    <tr style=\"text-align: right;\">\n",
       "      <th></th>\n",
       "      <th>imdb_rating</th>\n",
       "      <th>original_air_date</th>\n",
       "      <th>season</th>\n",
       "      <th>title</th>\n",
       "    </tr>\n",
       "    <tr>\n",
       "      <th>id</th>\n",
       "      <th></th>\n",
       "      <th></th>\n",
       "      <th></th>\n",
       "      <th></th>\n",
       "    </tr>\n",
       "  </thead>\n",
       "  <tbody>\n",
       "    <tr>\n",
       "      <th>1</th>\n",
       "      <td>8.2</td>\n",
       "      <td>1989-12-17</td>\n",
       "      <td>1</td>\n",
       "      <td>Simpsons Roasting on an Open Fire</td>\n",
       "    </tr>\n",
       "    <tr>\n",
       "      <th>2</th>\n",
       "      <td>7.8</td>\n",
       "      <td>1990-01-14</td>\n",
       "      <td>1</td>\n",
       "      <td>Bart the Genius</td>\n",
       "    </tr>\n",
       "    <tr>\n",
       "      <th>3</th>\n",
       "      <td>7.5</td>\n",
       "      <td>1990-01-21</td>\n",
       "      <td>1</td>\n",
       "      <td>Homer's Odyssey</td>\n",
       "    </tr>\n",
       "    <tr>\n",
       "      <th>4</th>\n",
       "      <td>7.8</td>\n",
       "      <td>1990-01-28</td>\n",
       "      <td>1</td>\n",
       "      <td>There's No Disgrace Like Home</td>\n",
       "    </tr>\n",
       "    <tr>\n",
       "      <th>5</th>\n",
       "      <td>8.1</td>\n",
       "      <td>1990-02-04</td>\n",
       "      <td>1</td>\n",
       "      <td>Bart the General</td>\n",
       "    </tr>\n",
       "  </tbody>\n",
       "</table>\n",
       "</div>"
      ],
      "text/plain": [
       "    imdb_rating original_air_date  season                              title\n",
       "id                                                                          \n",
       "1           8.2        1989-12-17       1  Simpsons Roasting on an Open Fire\n",
       "2           7.8        1990-01-14       1                    Bart the Genius\n",
       "3           7.5        1990-01-21       1                    Homer's Odyssey\n",
       "4           7.8        1990-01-28       1      There's No Disgrace Like Home\n",
       "5           8.1        1990-02-04       1                   Bart the General"
      ]
     },
     "execution_count": 14,
     "metadata": {},
     "output_type": "execute_result"
    }
   ],
   "source": [
    "simpsons_episodes.drop(columns=simpsons_episodes.columns.difference([\"imdb_rating\", \"original_air_date\", \"season\", \"title\"]), inplace=True)\n",
    "simpsons_episodes.head()"
   ]
  },
  {
   "cell_type": "markdown",
   "metadata": {},
   "source": [
    "In questo caso l'uso di memoria è insignificante, ma per poter essere compatibile con i precedenti dataset dobbiamo trasformarlo con i tipi di dato adeguati, che inevitabilmente ci farà risparmiare non poca memoria."
   ]
  },
  {
   "cell_type": "code",
   "execution_count": 15,
   "metadata": {},
   "outputs": [
    {
     "name": "stdout",
     "output_type": "stream",
     "text": [
      "<class 'pandas.core.frame.DataFrame'>\n",
      "Int64Index: 600 entries, 1 to 600\n",
      "Data columns (total 4 columns):\n",
      " #   Column             Non-Null Count  Dtype  \n",
      "---  ------             --------------  -----  \n",
      " 0   imdb_rating        597 non-null    float64\n",
      " 1   original_air_date  600 non-null    object \n",
      " 2   season             600 non-null    int64  \n",
      " 3   title              600 non-null    object \n",
      "dtypes: float64(1), int64(1), object(2)\n",
      "memory usage: 99.0 KB\n"
     ]
    }
   ],
   "source": [
    "simpsons_episodes.info(memory_usage=\"deep\")"
   ]
  },
  {
   "cell_type": "code",
   "execution_count": 16,
   "metadata": {},
   "outputs": [
    {
     "name": "stdout",
     "output_type": "stream",
     "text": [
      "<class 'pandas.core.frame.DataFrame'>\n",
      "Int64Index: 600 entries, 1 to 600\n",
      "Data columns (total 4 columns):\n",
      " #   Column             Non-Null Count  Dtype         \n",
      "---  ------             --------------  -----         \n",
      " 0   imdb_rating        597 non-null    float64       \n",
      " 1   original_air_date  600 non-null    datetime64[ns]\n",
      " 2   season             600 non-null    int64         \n",
      " 3   title              600 non-null    string        \n",
      "dtypes: datetime64[ns](1), float64(1), int64(1), string(1)\n",
      "memory usage: 23.4 KB\n"
     ]
    }
   ],
   "source": [
    "simpsons_episodes = simpsons_episodes.astype({\n",
    "    \"title\": \"string\"\n",
    "})\n",
    "simpsons_episodes[\"original_air_date\"] = pd.to_datetime(simpsons_episodes[\"original_air_date\"])\n",
    "simpsons_episodes.info(memory_usage=\"deep\")"
   ]
  },
  {
   "cell_type": "markdown",
   "metadata": {},
   "source": [
    "In quest'utlimo dataset sono invece contenute tutte le battute dei copioni dei vari episodi. Oltre alla colonna ``id`` che fa da identificatore, vista più volte, troviamo:\n",
    "- ``episode_id``: l'identificatore dell'episodio, utile per effettuare join con il DataFrame che contiene gli episodi\n",
    "- ``number``: il numero della battuta all'interno del copione dell'episodio\n",
    "- ``raw_text``: il testo della battuta così com'è stato trovato nel copione\n",
    "- ``timestamp_in_ms``: il timestamp dell'istante in cui la battuta viene pronunciata all'interno dell'episodio\n",
    "- ``speaking_line``: se la battuta viene pronunciata da qualcuno o semplicemente è un appunto dello sceneggiatore\n",
    "- ``character_id``: l'identificatore del personaggio che pronuncia la battuta\n",
    "- ``location_id``: l'identificatore della location in cui viene pronunciata la battuta\n",
    "- ``raw_character_text``: il nome del personaggio che pronuncia la battuta\n",
    "- ``raw_location_text``: il nome del luogo in cui la battuta viene pronunciata\n",
    "- ``spoken_words``: il testo della battuta con rimossi i suggerimenti di interpretazione e il nome di chi la pronuncia\n",
    "- ``normalized_text``: come ``spoken_words`` ma sono stati rimossi tutti i caratteri non alfabetici e quelli rimasti posti in minuscolo\n",
    "- ``word_count``: il conteggio delle parole nella battuta"
   ]
  },
  {
   "cell_type": "code",
   "execution_count": 17,
   "metadata": {},
   "outputs": [
    {
     "data": {
      "text/html": [
       "<div>\n",
       "<style scoped>\n",
       "    .dataframe tbody tr th:only-of-type {\n",
       "        vertical-align: middle;\n",
       "    }\n",
       "\n",
       "    .dataframe tbody tr th {\n",
       "        vertical-align: top;\n",
       "    }\n",
       "\n",
       "    .dataframe thead th {\n",
       "        text-align: right;\n",
       "    }\n",
       "</style>\n",
       "<table border=\"1\" class=\"dataframe\">\n",
       "  <thead>\n",
       "    <tr style=\"text-align: right;\">\n",
       "      <th></th>\n",
       "      <th>episode_id</th>\n",
       "      <th>number</th>\n",
       "      <th>raw_text</th>\n",
       "      <th>timestamp_in_ms</th>\n",
       "      <th>speaking_line</th>\n",
       "      <th>character_id</th>\n",
       "      <th>location_id</th>\n",
       "      <th>raw_character_text</th>\n",
       "      <th>raw_location_text</th>\n",
       "      <th>spoken_words</th>\n",
       "      <th>normalized_text</th>\n",
       "      <th>word_count</th>\n",
       "    </tr>\n",
       "    <tr>\n",
       "      <th>id</th>\n",
       "      <th></th>\n",
       "      <th></th>\n",
       "      <th></th>\n",
       "      <th></th>\n",
       "      <th></th>\n",
       "      <th></th>\n",
       "      <th></th>\n",
       "      <th></th>\n",
       "      <th></th>\n",
       "      <th></th>\n",
       "      <th></th>\n",
       "      <th></th>\n",
       "    </tr>\n",
       "  </thead>\n",
       "  <tbody>\n",
       "    <tr>\n",
       "      <th>6</th>\n",
       "      <td>1</td>\n",
       "      <td>5</td>\n",
       "      <td>(Springfield Elementary School: Ext. springfield elementary school - establishing - night)</td>\n",
       "      <td>24000.0</td>\n",
       "      <td>False</td>\n",
       "      <td>NaN</td>\n",
       "      <td>3.0</td>\n",
       "      <td>NaN</td>\n",
       "      <td>Springfield Elementary School</td>\n",
       "      <td>NaN</td>\n",
       "      <td>NaN</td>\n",
       "      <td>NaN</td>\n",
       "    </tr>\n",
       "    <tr>\n",
       "      <th>7</th>\n",
       "      <td>1</td>\n",
       "      <td>6</td>\n",
       "      <td>(Auditorium: int. auditorium - night)</td>\n",
       "      <td>24000.0</td>\n",
       "      <td>False</td>\n",
       "      <td>NaN</td>\n",
       "      <td>4.0</td>\n",
       "      <td>NaN</td>\n",
       "      <td>Auditorium</td>\n",
       "      <td>NaN</td>\n",
       "      <td>NaN</td>\n",
       "      <td>NaN</td>\n",
       "    </tr>\n",
       "    <tr>\n",
       "      <th>8</th>\n",
       "      <td>1</td>\n",
       "      <td>7</td>\n",
       "      <td>Marge Simpson: (HUSHED VOICE) Sorry, Excuse us. Pardon me...</td>\n",
       "      <td>24000.0</td>\n",
       "      <td>True</td>\n",
       "      <td>1.0</td>\n",
       "      <td>4.0</td>\n",
       "      <td>Marge Simpson</td>\n",
       "      <td>Auditorium</td>\n",
       "      <td>Sorry, Excuse us. Pardon me...</td>\n",
       "      <td>sorry excuse us pardon me</td>\n",
       "      <td>5.0</td>\n",
       "    </tr>\n",
       "    <tr>\n",
       "      <th>9</th>\n",
       "      <td>1</td>\n",
       "      <td>8</td>\n",
       "      <td>Homer Simpson: (SIMULTANEOUSLY) Hey, Norman. How's it going? So you got dragged down here, too.....</td>\n",
       "      <td>26000.0</td>\n",
       "      <td>True</td>\n",
       "      <td>2.0</td>\n",
       "      <td>4.0</td>\n",
       "      <td>Homer Simpson</td>\n",
       "      <td>Auditorium</td>\n",
       "      <td>Hey, Norman. How's it going? So you got dragged down here, too... heh, heh. How ya doing, Fred? ...</td>\n",
       "      <td>hey norman hows it going so you got dragged down here too heh heh how ya doing fred excuse me fred</td>\n",
       "      <td>21.0</td>\n",
       "    </tr>\n",
       "    <tr>\n",
       "      <th>10</th>\n",
       "      <td>1</td>\n",
       "      <td>9</td>\n",
       "      <td>Homer Simpson: Pardon my galoshes. (CHUCKLES)</td>\n",
       "      <td>34000.0</td>\n",
       "      <td>True</td>\n",
       "      <td>2.0</td>\n",
       "      <td>4.0</td>\n",
       "      <td>Homer Simpson</td>\n",
       "      <td>Auditorium</td>\n",
       "      <td>Pardon my galoshes.</td>\n",
       "      <td>pardon my galoshes</td>\n",
       "      <td>3.0</td>\n",
       "    </tr>\n",
       "  </tbody>\n",
       "</table>\n",
       "</div>"
      ],
      "text/plain": [
       "    episode_id  number  \\\n",
       "id                       \n",
       "6            1       5   \n",
       "7            1       6   \n",
       "8            1       7   \n",
       "9            1       8   \n",
       "10           1       9   \n",
       "\n",
       "                                                                                               raw_text  \\\n",
       "id                                                                                                        \n",
       "6            (Springfield Elementary School: Ext. springfield elementary school - establishing - night)   \n",
       "7                                                                 (Auditorium: int. auditorium - night)   \n",
       "8                                          Marge Simpson: (HUSHED VOICE) Sorry, Excuse us. Pardon me...   \n",
       "9   Homer Simpson: (SIMULTANEOUSLY) Hey, Norman. How's it going? So you got dragged down here, too.....   \n",
       "10                                                        Homer Simpson: Pardon my galoshes. (CHUCKLES)   \n",
       "\n",
       "    timestamp_in_ms  speaking_line  character_id  location_id  \\\n",
       "id                                                              \n",
       "6           24000.0          False           NaN          3.0   \n",
       "7           24000.0          False           NaN          4.0   \n",
       "8           24000.0           True           1.0          4.0   \n",
       "9           26000.0           True           2.0          4.0   \n",
       "10          34000.0           True           2.0          4.0   \n",
       "\n",
       "   raw_character_text              raw_location_text  \\\n",
       "id                                                     \n",
       "6                 NaN  Springfield Elementary School   \n",
       "7                 NaN                     Auditorium   \n",
       "8       Marge Simpson                     Auditorium   \n",
       "9       Homer Simpson                     Auditorium   \n",
       "10      Homer Simpson                     Auditorium   \n",
       "\n",
       "                                                                                           spoken_words  \\\n",
       "id                                                                                                        \n",
       "6                                                                                                   NaN   \n",
       "7                                                                                                   NaN   \n",
       "8                                                                        Sorry, Excuse us. Pardon me...   \n",
       "9   Hey, Norman. How's it going? So you got dragged down here, too... heh, heh. How ya doing, Fred? ...   \n",
       "10                                                                                  Pardon my galoshes.   \n",
       "\n",
       "                                                                                       normalized_text  \\\n",
       "id                                                                                                       \n",
       "6                                                                                                  NaN   \n",
       "7                                                                                                  NaN   \n",
       "8                                                                            sorry excuse us pardon me   \n",
       "9   hey norman hows it going so you got dragged down here too heh heh how ya doing fred excuse me fred   \n",
       "10                                                                                  pardon my galoshes   \n",
       "\n",
       "    word_count  \n",
       "id              \n",
       "6          NaN  \n",
       "7          NaN  \n",
       "8          5.0  \n",
       "9         21.0  \n",
       "10         3.0  "
      ]
     },
     "execution_count": 17,
     "metadata": {},
     "output_type": "execute_result"
    }
   ],
   "source": [
    "simpsons_script_lines = pd.read_csv(\"simpsons_script_lines.csv\", index_col=\"id\").sort_values(\"id\")\n",
    "simpsons_script_lines.iloc[5:10]"
   ]
  },
  {
   "cell_type": "markdown",
   "metadata": {},
   "source": [
    "La colonna ``raw_text``, benchè possa sembrare utile, in realtà può essere eliminata, perchè sono le colonne successive a mantenere i suoi dati utili in una forma più leggibile. L'unico caso in cui si perdono delle informazioni si ha quando la battuta non è pronunciata e perciò indica un cambio di location o uno specifico momento del giorno. Il luogo indicato però è presente alla feature ``location_id`` e ``raw_location_text``, mentre il momento del giorno non è un'informazione particolarmente significativa. Inoltre, ``spoken_words`` è migliore di ``raw_text`` perchè non presenta i suggerimenti di interpretazione, che non fanno capire che cosa sta succedendo durante quella battuta, e perchè chi la pronuncia è già inserito nelle colonne ``character_id`` e ``raw_character_text``. Tratterremo però ``raw_text`` al momento perchè ci servirà per l'elaborazione dei dati succssiva. La feature ``speaking_line`` non è necessaria da trattenere poichè tutte le righe che hanno la colonna ``spoken_words`` diversa da NA hanno anche ``speaking_line`` posto a True, rendendolo un attributo derivato al pari di ``normalized_text``, ``word_count``, ``raw_character_text`` e ``raw_location_text``. Possiamo perciò eliminare queste colonne tranquillamente. La feature ``timestamp_in_ms`` non ci dà alcuna informazione utile."
   ]
  },
  {
   "cell_type": "code",
   "execution_count": 18,
   "metadata": {},
   "outputs": [
    {
     "data": {
      "text/plain": [
       "0"
      ]
     },
     "execution_count": 18,
     "metadata": {},
     "output_type": "execute_result"
    }
   ],
   "source": [
    "simpsons_script_lines[(simpsons_script_lines[\"speaking_line\"] == True) & (simpsons_script_lines[\"spoken_words\"].isna())].size"
   ]
  },
  {
   "cell_type": "code",
   "execution_count": 19,
   "metadata": {},
   "outputs": [
    {
     "data": {
      "text/html": [
       "<div>\n",
       "<style scoped>\n",
       "    .dataframe tbody tr th:only-of-type {\n",
       "        vertical-align: middle;\n",
       "    }\n",
       "\n",
       "    .dataframe tbody tr th {\n",
       "        vertical-align: top;\n",
       "    }\n",
       "\n",
       "    .dataframe thead th {\n",
       "        text-align: right;\n",
       "    }\n",
       "</style>\n",
       "<table border=\"1\" class=\"dataframe\">\n",
       "  <thead>\n",
       "    <tr style=\"text-align: right;\">\n",
       "      <th></th>\n",
       "      <th>episode_id</th>\n",
       "      <th>number</th>\n",
       "      <th>raw_text</th>\n",
       "      <th>character_id</th>\n",
       "      <th>location_id</th>\n",
       "      <th>spoken_words</th>\n",
       "    </tr>\n",
       "    <tr>\n",
       "      <th>id</th>\n",
       "      <th></th>\n",
       "      <th></th>\n",
       "      <th></th>\n",
       "      <th></th>\n",
       "      <th></th>\n",
       "      <th></th>\n",
       "    </tr>\n",
       "  </thead>\n",
       "  <tbody>\n",
       "    <tr>\n",
       "      <th>1</th>\n",
       "      <td>1</td>\n",
       "      <td>0</td>\n",
       "      <td>(Street: ext. street - establishing - night)</td>\n",
       "      <td>NaN</td>\n",
       "      <td>1.0</td>\n",
       "      <td>NaN</td>\n",
       "    </tr>\n",
       "    <tr>\n",
       "      <th>2</th>\n",
       "      <td>1</td>\n",
       "      <td>1</td>\n",
       "      <td>(Car: int. car - night)</td>\n",
       "      <td>NaN</td>\n",
       "      <td>2.0</td>\n",
       "      <td>NaN</td>\n",
       "    </tr>\n",
       "    <tr>\n",
       "      <th>3</th>\n",
       "      <td>1</td>\n",
       "      <td>2</td>\n",
       "      <td>Marge Simpson: Ooo, careful, Homer.</td>\n",
       "      <td>1.0</td>\n",
       "      <td>2.0</td>\n",
       "      <td>Ooo, careful, Homer.</td>\n",
       "    </tr>\n",
       "    <tr>\n",
       "      <th>4</th>\n",
       "      <td>1</td>\n",
       "      <td>3</td>\n",
       "      <td>Homer Simpson: There's no time to be careful.</td>\n",
       "      <td>2.0</td>\n",
       "      <td>2.0</td>\n",
       "      <td>There's no time to be careful.</td>\n",
       "    </tr>\n",
       "    <tr>\n",
       "      <th>5</th>\n",
       "      <td>1</td>\n",
       "      <td>4</td>\n",
       "      <td>Homer Simpson: We're late.</td>\n",
       "      <td>2.0</td>\n",
       "      <td>2.0</td>\n",
       "      <td>We're late.</td>\n",
       "    </tr>\n",
       "  </tbody>\n",
       "</table>\n",
       "</div>"
      ],
      "text/plain": [
       "    episode_id  number                                       raw_text  \\\n",
       "id                                                                      \n",
       "1            1       0   (Street: ext. street - establishing - night)   \n",
       "2            1       1                        (Car: int. car - night)   \n",
       "3            1       2            Marge Simpson: Ooo, careful, Homer.   \n",
       "4            1       3  Homer Simpson: There's no time to be careful.   \n",
       "5            1       4                     Homer Simpson: We're late.   \n",
       "\n",
       "    character_id  location_id                    spoken_words  \n",
       "id                                                             \n",
       "1            NaN          1.0                             NaN  \n",
       "2            NaN          2.0                             NaN  \n",
       "3            1.0          2.0            Ooo, careful, Homer.  \n",
       "4            2.0          2.0  There's no time to be careful.  \n",
       "5            2.0          2.0                     We're late.  "
      ]
     },
     "execution_count": 19,
     "metadata": {},
     "output_type": "execute_result"
    }
   ],
   "source": [
    "simpsons_script_lines.drop(columns=simpsons_script_lines.columns.difference([\"episode_id\", \"number\", \"raw_text\", \"character_id\", \"location_id\", \"spoken_words\"]), inplace=True)\n",
    "simpsons_script_lines.head()"
   ]
  },
  {
   "cell_type": "markdown",
   "metadata": {},
   "source": [
    "Per quest'ultimo DataFrame l'uso della memoria è importantissimo, dato che occupa oltre 20 MiB. Anche in questo caso ci affidiamo all'assegnamento dei tipi di dato di Pandas per migliorare l'uso della memoria, che migliora in questo caso solo di un fattore 2."
   ]
  },
  {
   "cell_type": "code",
   "execution_count": 20,
   "metadata": {},
   "outputs": [
    {
     "name": "stdout",
     "output_type": "stream",
     "text": [
      "<class 'pandas.core.frame.DataFrame'>\n",
      "Int64Index: 158301 entries, 1 to 158315\n",
      "Data columns (total 6 columns):\n",
      " #   Column        Non-Null Count   Dtype  \n",
      "---  ------        --------------   -----  \n",
      " 0   episode_id    158301 non-null  int64  \n",
      " 1   number        158301 non-null  int64  \n",
      " 2   raw_text      158301 non-null  object \n",
      " 3   character_id  140760 non-null  float64\n",
      " 4   location_id   157878 non-null  float64\n",
      " 5   spoken_words  132139 non-null  object \n",
      "dtypes: float64(2), int64(2), object(2)\n",
      "memory usage: 39.7 MB\n"
     ]
    }
   ],
   "source": [
    "simpsons_script_lines.info(memory_usage=\"deep\")"
   ]
  },
  {
   "cell_type": "code",
   "execution_count": 21,
   "metadata": {},
   "outputs": [
    {
     "data": {
      "text/html": [
       "<div>\n",
       "<style scoped>\n",
       "    .dataframe tbody tr th:only-of-type {\n",
       "        vertical-align: middle;\n",
       "    }\n",
       "\n",
       "    .dataframe tbody tr th {\n",
       "        vertical-align: top;\n",
       "    }\n",
       "\n",
       "    .dataframe thead th {\n",
       "        text-align: right;\n",
       "    }\n",
       "</style>\n",
       "<table border=\"1\" class=\"dataframe\">\n",
       "  <thead>\n",
       "    <tr style=\"text-align: right;\">\n",
       "      <th></th>\n",
       "      <th>episode_id</th>\n",
       "      <th>number</th>\n",
       "      <th>raw_text</th>\n",
       "      <th>character_id</th>\n",
       "      <th>location_id</th>\n",
       "      <th>spoken_words</th>\n",
       "    </tr>\n",
       "    <tr>\n",
       "      <th>id</th>\n",
       "      <th></th>\n",
       "      <th></th>\n",
       "      <th></th>\n",
       "      <th></th>\n",
       "      <th></th>\n",
       "      <th></th>\n",
       "    </tr>\n",
       "  </thead>\n",
       "  <tbody>\n",
       "    <tr>\n",
       "      <th>1</th>\n",
       "      <td>1</td>\n",
       "      <td>0</td>\n",
       "      <td>(Street: ext. street - establishing - night)</td>\n",
       "      <td>&lt;NA&gt;</td>\n",
       "      <td>1</td>\n",
       "      <td>&lt;NA&gt;</td>\n",
       "    </tr>\n",
       "    <tr>\n",
       "      <th>2</th>\n",
       "      <td>1</td>\n",
       "      <td>1</td>\n",
       "      <td>(Car: int. car - night)</td>\n",
       "      <td>&lt;NA&gt;</td>\n",
       "      <td>2</td>\n",
       "      <td>&lt;NA&gt;</td>\n",
       "    </tr>\n",
       "    <tr>\n",
       "      <th>3</th>\n",
       "      <td>1</td>\n",
       "      <td>2</td>\n",
       "      <td>Marge Simpson: Ooo, careful, Homer.</td>\n",
       "      <td>1</td>\n",
       "      <td>2</td>\n",
       "      <td>Ooo, careful, Homer.</td>\n",
       "    </tr>\n",
       "    <tr>\n",
       "      <th>4</th>\n",
       "      <td>1</td>\n",
       "      <td>3</td>\n",
       "      <td>Homer Simpson: There's no time to be careful.</td>\n",
       "      <td>2</td>\n",
       "      <td>2</td>\n",
       "      <td>There's no time to be careful.</td>\n",
       "    </tr>\n",
       "    <tr>\n",
       "      <th>5</th>\n",
       "      <td>1</td>\n",
       "      <td>4</td>\n",
       "      <td>Homer Simpson: We're late.</td>\n",
       "      <td>2</td>\n",
       "      <td>2</td>\n",
       "      <td>We're late.</td>\n",
       "    </tr>\n",
       "  </tbody>\n",
       "</table>\n",
       "</div>"
      ],
      "text/plain": [
       "    episode_id  number                                       raw_text  \\\n",
       "id                                                                      \n",
       "1            1       0   (Street: ext. street - establishing - night)   \n",
       "2            1       1                        (Car: int. car - night)   \n",
       "3            1       2            Marge Simpson: Ooo, careful, Homer.   \n",
       "4            1       3  Homer Simpson: There's no time to be careful.   \n",
       "5            1       4                     Homer Simpson: We're late.   \n",
       "\n",
       "    character_id  location_id                    spoken_words  \n",
       "id                                                             \n",
       "1           <NA>            1                            <NA>  \n",
       "2           <NA>            2                            <NA>  \n",
       "3              1            2            Ooo, careful, Homer.  \n",
       "4              2            2  There's no time to be careful.  \n",
       "5              2            2                     We're late.  "
      ]
     },
     "execution_count": 21,
     "metadata": {},
     "output_type": "execute_result"
    }
   ],
   "source": [
    "simpsons_script_lines = simpsons_script_lines.astype({\n",
    "    \"character_id\": pd.Int64Dtype(),\n",
    "    \"location_id\": pd.Int64Dtype(),\n",
    "    \"spoken_words\": \"string\"\n",
    "})\n",
    "simpsons_script_lines.head()"
   ]
  },
  {
   "cell_type": "code",
   "execution_count": 22,
   "metadata": {},
   "outputs": [
    {
     "name": "stdout",
     "output_type": "stream",
     "text": [
      "<class 'pandas.core.frame.DataFrame'>\n",
      "Int64Index: 158301 entries, 1 to 158315\n",
      "Data columns (total 6 columns):\n",
      " #   Column        Non-Null Count   Dtype \n",
      "---  ------        --------------   ----- \n",
      " 0   episode_id    158301 non-null  int64 \n",
      " 1   number        158301 non-null  int64 \n",
      " 2   raw_text      158301 non-null  object\n",
      " 3   character_id  140760 non-null  Int64 \n",
      " 4   location_id   157878 non-null  Int64 \n",
      " 5   spoken_words  132139 non-null  string\n",
      "dtypes: Int64(2), int64(2), object(1), string(1)\n",
      "memory usage: 26.5 MB\n"
     ]
    }
   ],
   "source": [
    "simpsons_script_lines.info(memory_usage=\"deep\")"
   ]
  },
  {
   "cell_type": "markdown",
   "metadata": {},
   "source": [
    "### Analisi dei dati"
   ]
  },
  {
   "cell_type": "markdown",
   "metadata": {},
   "source": [
    "Gli episodi contenuti nel dataset sono 600, ma solo i primi 597 hanno un rating su IMDB. Questo è segno del fatto che quando questi dati sono stati raccolti quegli episodi erano ancora molto recenti e non c'erano sufficienti valutazioni per estrarre un rating."
   ]
  },
  {
   "cell_type": "code",
   "execution_count": 23,
   "metadata": {},
   "outputs": [
    {
     "data": {
      "text/html": [
       "<div>\n",
       "<style scoped>\n",
       "    .dataframe tbody tr th:only-of-type {\n",
       "        vertical-align: middle;\n",
       "    }\n",
       "\n",
       "    .dataframe tbody tr th {\n",
       "        vertical-align: top;\n",
       "    }\n",
       "\n",
       "    .dataframe thead th {\n",
       "        text-align: right;\n",
       "    }\n",
       "</style>\n",
       "<table border=\"1\" class=\"dataframe\">\n",
       "  <thead>\n",
       "    <tr style=\"text-align: right;\">\n",
       "      <th></th>\n",
       "      <th>imdb_rating</th>\n",
       "      <th>season</th>\n",
       "    </tr>\n",
       "  </thead>\n",
       "  <tbody>\n",
       "    <tr>\n",
       "      <th>count</th>\n",
       "      <td>597.000000</td>\n",
       "      <td>600.000000</td>\n",
       "    </tr>\n",
       "    <tr>\n",
       "      <th>mean</th>\n",
       "      <td>7.386097</td>\n",
       "      <td>14.100000</td>\n",
       "    </tr>\n",
       "    <tr>\n",
       "      <th>std</th>\n",
       "      <td>0.732439</td>\n",
       "      <td>7.755444</td>\n",
       "    </tr>\n",
       "    <tr>\n",
       "      <th>min</th>\n",
       "      <td>4.500000</td>\n",
       "      <td>1.000000</td>\n",
       "    </tr>\n",
       "    <tr>\n",
       "      <th>25%</th>\n",
       "      <td>6.900000</td>\n",
       "      <td>7.000000</td>\n",
       "    </tr>\n",
       "    <tr>\n",
       "      <th>50%</th>\n",
       "      <td>7.300000</td>\n",
       "      <td>14.000000</td>\n",
       "    </tr>\n",
       "    <tr>\n",
       "      <th>75%</th>\n",
       "      <td>8.000000</td>\n",
       "      <td>21.000000</td>\n",
       "    </tr>\n",
       "    <tr>\n",
       "      <th>max</th>\n",
       "      <td>9.200000</td>\n",
       "      <td>28.000000</td>\n",
       "    </tr>\n",
       "  </tbody>\n",
       "</table>\n",
       "</div>"
      ],
      "text/plain": [
       "       imdb_rating      season\n",
       "count   597.000000  600.000000\n",
       "mean      7.386097   14.100000\n",
       "std       0.732439    7.755444\n",
       "min       4.500000    1.000000\n",
       "25%       6.900000    7.000000\n",
       "50%       7.300000   14.000000\n",
       "75%       8.000000   21.000000\n",
       "max       9.200000   28.000000"
      ]
     },
     "execution_count": 23,
     "metadata": {},
     "output_type": "execute_result"
    }
   ],
   "source": [
    "simpsons_episodes.describe()"
   ]
  },
  {
   "cell_type": "code",
   "execution_count": 24,
   "metadata": {},
   "outputs": [
    {
     "data": {
      "text/plain": [
       "True"
      ]
     },
     "execution_count": 24,
     "metadata": {},
     "output_type": "execute_result"
    }
   ],
   "source": [
    "simpsons_episodes[simpsons_episodes[\"imdb_rating\"].isna()].equals(simpsons_episodes.tail(3))"
   ]
  },
  {
   "cell_type": "markdown",
   "metadata": {},
   "source": [
    "Sui 597 episodi, in media le recensioni li hanno considerati nella media, cioè tra il \"bello\" e il \"brutto\", con un valore però che tende maggiormente verso il \"brutto\", seguendo le classi che abbiamo definito all'inizio. Questo vuol dire che il punto di separazione tra i valori inclusi tra le due classi è corretto, nell'ottica di avere due classi bilanciate. La mediana non si discosta molto dal valore medio, segno che le recensioni sono state molto equilibrate, senza troppi valori estremi, come ci conferma anche il boxplot. Esistono però due episodi, considerati i peggiori della serie, che sono *outliers* rispetto alla distribuzione di tutti i voti."
   ]
  },
  {
   "cell_type": "code",
   "execution_count": 25,
   "metadata": {},
   "outputs": [
    {
     "data": {
      "image/png": "[encoded data removed]",
      "text/plain": [
       "<Figure size 432x288 with 1 Axes>"
      ]
     },
     "metadata": {
      "needs_background": "light"
     },
     "output_type": "display_data"
    }
   ],
   "source": [
    "plt.boxplot(simpsons_episodes[\"imdb_rating\"].dropna(), showmeans=True, labels=[\"ratings\"]);"
   ]
  },
  {
   "cell_type": "code",
   "execution_count": 26,
   "metadata": {},
   "outputs": [
    {
     "data": {
      "text/html": [
       "<div>\n",
       "<style scoped>\n",
       "    .dataframe tbody tr th:only-of-type {\n",
       "        vertical-align: middle;\n",
       "    }\n",
       "\n",
       "    .dataframe tbody tr th {\n",
       "        vertical-align: top;\n",
       "    }\n",
       "\n",
       "    .dataframe thead th {\n",
       "        text-align: right;\n",
       "    }\n",
       "</style>\n",
       "<table border=\"1\" class=\"dataframe\">\n",
       "  <thead>\n",
       "    <tr style=\"text-align: right;\">\n",
       "      <th></th>\n",
       "      <th>title</th>\n",
       "      <th>imdb_rating</th>\n",
       "    </tr>\n",
       "    <tr>\n",
       "      <th>id</th>\n",
       "      <th></th>\n",
       "      <th></th>\n",
       "    </tr>\n",
       "  </thead>\n",
       "  <tbody>\n",
       "    <tr>\n",
       "      <th>508</th>\n",
       "      <td>Lisa Goes Gaga</td>\n",
       "      <td>4.5</td>\n",
       "    </tr>\n",
       "    <tr>\n",
       "      <th>189</th>\n",
       "      <td>All Singing, All Dancing</td>\n",
       "      <td>5.1</td>\n",
       "    </tr>\n",
       "  </tbody>\n",
       "</table>\n",
       "</div>"
      ],
      "text/plain": [
       "                        title  imdb_rating\n",
       "id                                        \n",
       "508            Lisa Goes Gaga          4.5\n",
       "189  All Singing, All Dancing          5.1"
      ]
     },
     "execution_count": 26,
     "metadata": {},
     "output_type": "execute_result"
    }
   ],
   "source": [
    "simpsons_episodes.sort_values(\"imdb_rating\").head(2)[[\"title\", \"imdb_rating\"]]"
   ]
  },
  {
   "cell_type": "markdown",
   "metadata": {},
   "source": [
    "Osservando l'istogramma, si nota come la distribuzione dei valori si avvicini sufficientemente a quella di una gaussiana, fatto testimoniato anche dalla deviazione standard che ha un valore prossimo a 1 (0,73). Possiamo considerare le recensioni come ben distribuite."
   ]
  },
  {
   "cell_type": "code",
   "execution_count": 27,
   "metadata": {},
   "outputs": [
    {
     "data": {
      "image/png": "[encoded data removed]",
      "text/plain": [
       "<Figure size 432x288 with 1 Axes>"
      ]
     },
     "metadata": {
      "needs_background": "light"
     },
     "output_type": "display_data"
    }
   ],
   "source": [
    "simpsons_episodes[\"imdb_rating\"].plot.hist();"
   ]
  },
  {
   "cell_type": "code",
   "execution_count": 28,
   "metadata": {},
   "outputs": [
    {
     "data": {
      "image/png": "[encoded data removed]",
      "text/plain": [
       "<Figure size 432x288 with 1 Axes>"
      ]
     },
     "metadata": {
      "needs_background": "light"
     },
     "output_type": "display_data"
    }
   ],
   "source": [
    "simpsons_episodes[\"imdb_rating\"].plot.density();"
   ]
  },
  {
   "cell_type": "markdown",
   "metadata": {},
   "source": [
    "Il dataset considera gli episodi de \"I Simpson\" delle prime 28 stagioni, e nell'ultima non tiene in considerazione tutti gli episodi, ma solamente i primi quattro, fatto facilmente verificabile consultando la [pagina di Wikipedia](https://it.wikipedia.org/wiki/Episodi_de_I_Simpson_(ventottesima_stagione)) che riguarda quella stagione."
   ]
  },
  {
   "cell_type": "code",
   "execution_count": 29,
   "metadata": {},
   "outputs": [
    {
     "data": {
      "image/png": "[encoded data removed]",
      "text/plain": [
       "<Figure size 432x288 with 1 Axes>"
      ]
     },
     "metadata": {
      "needs_background": "light"
     },
     "output_type": "display_data"
    }
   ],
   "source": [
    "simpsons_episodes[\"season\"].value_counts().sort_index().plot.bar();"
   ]
  },
  {
   "cell_type": "markdown",
   "metadata": {},
   "source": [
    "Ogni nuovo episodio è andato in onda quasi esclusivamente di domenica, fatta eccezione per un centinaio di episodi, andati in onda di giovedì, e poi in maniera insignificante alcuni altri nuovi episodi sono andati in onda nei restanti giorni della settimana. Questo ci dice che questa possibile feature ha scarsa variabilità e non è utile ternerne conto durante la classificazione"
   ]
  },
  {
   "cell_type": "code",
   "execution_count": 30,
   "metadata": {},
   "outputs": [
    {
     "data": {
      "image/png": "[encoded data removed]",
      "text/plain": [
       "<Figure size 432x288 with 1 Axes>"
      ]
     },
     "metadata": {
      "needs_background": "light"
     },
     "output_type": "display_data"
    }
   ],
   "source": [
    "simpsons_episodes.original_air_date.dt.day_name().value_counts().plot.bar();"
   ]
  },
  {
   "cell_type": "markdown",
   "metadata": {},
   "source": [
    "I nuovi episodi sono andati in onda durante tutto l'anno con all'incirca sempre la stessa frequenza, ad eccezione del periodo esitvo. Questi dati non ci sorprendono però, dato che la stagione televisiva si svolge da settembre a maggio. Quindi anche questo dato non è particolarmente significativo, non indica alcuna particolarità espressa dalla serie tv."
   ]
  },
  {
   "cell_type": "code",
   "execution_count": 31,
   "metadata": {},
   "outputs": [
    {
     "data": {
      "image/png": "[encoded data removed]",
      "text/plain": [
       "<Figure size 432x288 with 1 Axes>"
      ]
     },
     "metadata": {
      "needs_background": "light"
     },
     "output_type": "display_data"
    }
   ],
   "source": [
    "simpsons_episodes.original_air_date.dt.month.value_counts().sort_index().plot.bar();"
   ]
  },
  {
   "cell_type": "markdown",
   "metadata": {},
   "source": [
    "Un'altra particolarità che notiamo è un fatto di cui tutti gli appassionati della serie sono convinti: le prime stagioni sono considerate mediamente più belle di quelle successive. Dal grafico a barre si nota infatti che per le stagioni dalla 2 alla 8 il punteggio medio è pari o superiore a 8 (episodi \"belli\" o \"molto belli\"), mentre per le stagioni successive la media si attesta attorno a 7 (\"nella media\") o meno."
   ]
  },
  {
   "cell_type": "code",
   "execution_count": 32,
   "metadata": {},
   "outputs": [
    {
     "data": {
      "image/png": "[encoded data removed]",
      "text/plain": [
       "<Figure size 432x288 with 1 Axes>"
      ]
     },
     "metadata": {
      "needs_background": "light"
     },
     "output_type": "display_data"
    }
   ],
   "source": [
    "simpsons_episodes.groupby(\"season\").mean().plot.bar();"
   ]
  },
  {
   "cell_type": "markdown",
   "metadata": {},
   "source": [
    "Mediamente, nel copione di ogni episodio vengono inserite 281 battute di cui 234 vengono pronunciate da un attore."
   ]
  },
  {
   "cell_type": "code",
   "execution_count": 33,
   "metadata": {},
   "outputs": [
    {
     "data": {
      "text/plain": [
       "raw_text        280.675532\n",
       "spoken_words    234.289007\n",
       "dtype: float64"
      ]
     },
     "execution_count": 33,
     "metadata": {},
     "output_type": "execute_result"
    }
   ],
   "source": [
    "simpsons_script_lines.groupby(\"episode_id\")[[\"raw_text\", \"spoken_words\"]].count().mean()"
   ]
  },
  {
   "cell_type": "markdown",
   "metadata": {},
   "source": [
    "Come si può osservare, il numero di battute tra tutti i copioni che vengono pronunciate è inferiore (26.000 istanze) a quello delle battute in generale nei copioni. Questo per noi non rappresenta un problema, ciò che invece potrebbe rappresentare un problema sono quelle battute dove non è dato il personaggio che le pronuncia, dato che non può essere sconosciuto. Discorso diverso vale per i luoghi, infatti è possibile che la battuta sia pronunciata in un luogo che si ignora, perchè magari non viene mostrato. Si nota infatti che le battute pronunciate senza personaggio sono pochissime, segno di una mancanza di dati dovuta a degli errori, mentre invece le battute senza un luogo specificato sono molte di più, anche se sempre molto poche in confronto a quelle dell'intero dataset."
   ]
  },
  {
   "cell_type": "code",
   "execution_count": 34,
   "metadata": {},
   "outputs": [
    {
     "data": {
      "text/plain": [
       "raw_text        158301\n",
       "spoken_words    132139\n",
       "dtype: int64"
      ]
     },
     "execution_count": 34,
     "metadata": {},
     "output_type": "execute_result"
    }
   ],
   "source": [
    "simpsons_script_lines[[\"raw_text\", \"spoken_words\"]].count()"
   ]
  },
  {
   "cell_type": "code",
   "execution_count": 35,
   "metadata": {},
   "outputs": [
    {
     "data": {
      "text/html": [
       "<div>\n",
       "<style scoped>\n",
       "    .dataframe tbody tr th:only-of-type {\n",
       "        vertical-align: middle;\n",
       "    }\n",
       "\n",
       "    .dataframe tbody tr th {\n",
       "        vertical-align: top;\n",
       "    }\n",
       "\n",
       "    .dataframe thead th {\n",
       "        text-align: right;\n",
       "    }\n",
       "</style>\n",
       "<table border=\"1\" class=\"dataframe\">\n",
       "  <thead>\n",
       "    <tr style=\"text-align: right;\">\n",
       "      <th></th>\n",
       "      <th>episode_id</th>\n",
       "      <th>number</th>\n",
       "      <th>raw_text</th>\n",
       "      <th>character_id</th>\n",
       "      <th>location_id</th>\n",
       "      <th>spoken_words</th>\n",
       "    </tr>\n",
       "    <tr>\n",
       "      <th>id</th>\n",
       "      <th></th>\n",
       "      <th></th>\n",
       "      <th></th>\n",
       "      <th></th>\n",
       "      <th></th>\n",
       "      <th></th>\n",
       "    </tr>\n",
       "  </thead>\n",
       "  <tbody>\n",
       "    <tr>\n",
       "      <th>4213</th>\n",
       "      <td>14</td>\n",
       "      <td>205</td>\n",
       "      <td>Martin Prince: Who would have thought that pushing a boy into the girls' lavatory could be such ...</td>\n",
       "      <td>&lt;NA&gt;</td>\n",
       "      <td>&lt;NA&gt;</td>\n",
       "      <td>Who would have thought that pushing a boy into the girls' lavatory could be such a thrill? The s...</td>\n",
       "    </tr>\n",
       "    <tr>\n",
       "      <th>4262</th>\n",
       "      <td>14</td>\n",
       "      <td>254</td>\n",
       "      <td>Entire Town: A BEAUTIFUL SIGHT / WE'RE HAPPY TONIGHT/ WALKIN' IN A WINTER WONDERLAND.\" /</td>\n",
       "      <td>&lt;NA&gt;</td>\n",
       "      <td>&lt;NA&gt;</td>\n",
       "      <td>A BEAUTIFUL SIGHT / WE'RE HAPPY TONIGHT/ WALKIN' IN A WINTER WONDERLAND. /</td>\n",
       "    </tr>\n",
       "    <tr>\n",
       "      <th>4266</th>\n",
       "      <td>14</td>\n",
       "      <td>258</td>\n",
       "      <td>Bart Simpson: (READING ALOUD, WITH HEART) Chapter Six: Four Days in Philadelphia. The first Cont...</td>\n",
       "      <td>&lt;NA&gt;</td>\n",
       "      <td>&lt;NA&gt;</td>\n",
       "      <td>Chapter Six: Four Days in Philadelphia. The first Continental Congress faced a difficult job. Co...</td>\n",
       "    </tr>\n",
       "    <tr>\n",
       "      <th>5346</th>\n",
       "      <td>18</td>\n",
       "      <td>200</td>\n",
       "      <td>Tony Bennett: CALLED CAPITAL CITY...</td>\n",
       "      <td>&lt;NA&gt;</td>\n",
       "      <td>&lt;NA&gt;</td>\n",
       "      <td>CALLED CAPITAL CITY...</td>\n",
       "    </tr>\n",
       "    <tr>\n",
       "      <th>5349</th>\n",
       "      <td>18</td>\n",
       "      <td>203</td>\n",
       "      <td>Tony Bennett: IN CAPITAL CITY...</td>\n",
       "      <td>&lt;NA&gt;</td>\n",
       "      <td>&lt;NA&gt;</td>\n",
       "      <td>IN CAPITAL CITY...</td>\n",
       "    </tr>\n",
       "  </tbody>\n",
       "</table>\n",
       "</div>"
      ],
      "text/plain": [
       "      episode_id  number  \\\n",
       "id                         \n",
       "4213          14     205   \n",
       "4262          14     254   \n",
       "4266          14     258   \n",
       "5346          18     200   \n",
       "5349          18     203   \n",
       "\n",
       "                                                                                                 raw_text  \\\n",
       "id                                                                                                          \n",
       "4213  Martin Prince: Who would have thought that pushing a boy into the girls' lavatory could be such ...   \n",
       "4262             Entire Town: A BEAUTIFUL SIGHT / WE'RE HAPPY TONIGHT/ WALKIN' IN A WINTER WONDERLAND.\" /   \n",
       "4266  Bart Simpson: (READING ALOUD, WITH HEART) Chapter Six: Four Days in Philadelphia. The first Cont...   \n",
       "5346                                                                 Tony Bennett: CALLED CAPITAL CITY...   \n",
       "5349                                                                     Tony Bennett: IN CAPITAL CITY...   \n",
       "\n",
       "      character_id  location_id  \\\n",
       "id                                \n",
       "4213          <NA>         <NA>   \n",
       "4262          <NA>         <NA>   \n",
       "4266          <NA>         <NA>   \n",
       "5346          <NA>         <NA>   \n",
       "5349          <NA>         <NA>   \n",
       "\n",
       "                                                                                             spoken_words  \n",
       "id                                                                                                         \n",
       "4213  Who would have thought that pushing a boy into the girls' lavatory could be such a thrill? The s...  \n",
       "4262                           A BEAUTIFUL SIGHT / WE'RE HAPPY TONIGHT/ WALKIN' IN A WINTER WONDERLAND. /  \n",
       "4266  Chapter Six: Four Days in Philadelphia. The first Continental Congress faced a difficult job. Co...  \n",
       "5346                                                                               CALLED CAPITAL CITY...  \n",
       "5349                                                                                   IN CAPITAL CITY...  "
      ]
     },
     "execution_count": 35,
     "metadata": {},
     "output_type": "execute_result"
    }
   ],
   "source": [
    "simpsons_script_lines[~simpsons_script_lines[\"spoken_words\"].isna() & simpsons_script_lines[\"character_id\"].isna()].head()"
   ]
  },
  {
   "cell_type": "code",
   "execution_count": 36,
   "metadata": {},
   "outputs": [
    {
     "data": {
      "text/html": [
       "<div>\n",
       "<style scoped>\n",
       "    .dataframe tbody tr th:only-of-type {\n",
       "        vertical-align: middle;\n",
       "    }\n",
       "\n",
       "    .dataframe tbody tr th {\n",
       "        vertical-align: top;\n",
       "    }\n",
       "\n",
       "    .dataframe thead th {\n",
       "        text-align: right;\n",
       "    }\n",
       "</style>\n",
       "<table border=\"1\" class=\"dataframe\">\n",
       "  <thead>\n",
       "    <tr style=\"text-align: right;\">\n",
       "      <th></th>\n",
       "      <th>episode_id</th>\n",
       "      <th>number</th>\n",
       "      <th>raw_text</th>\n",
       "      <th>character_id</th>\n",
       "      <th>location_id</th>\n",
       "      <th>spoken_words</th>\n",
       "    </tr>\n",
       "    <tr>\n",
       "      <th>id</th>\n",
       "      <th></th>\n",
       "      <th></th>\n",
       "      <th></th>\n",
       "      <th></th>\n",
       "      <th></th>\n",
       "      <th></th>\n",
       "    </tr>\n",
       "  </thead>\n",
       "  <tbody>\n",
       "    <tr>\n",
       "      <th>4213</th>\n",
       "      <td>14</td>\n",
       "      <td>205</td>\n",
       "      <td>Martin Prince: Who would have thought that pushing a boy into the girls' lavatory could be such ...</td>\n",
       "      <td>&lt;NA&gt;</td>\n",
       "      <td>&lt;NA&gt;</td>\n",
       "      <td>Who would have thought that pushing a boy into the girls' lavatory could be such a thrill? The s...</td>\n",
       "    </tr>\n",
       "    <tr>\n",
       "      <th>4262</th>\n",
       "      <td>14</td>\n",
       "      <td>254</td>\n",
       "      <td>Entire Town: A BEAUTIFUL SIGHT / WE'RE HAPPY TONIGHT/ WALKIN' IN A WINTER WONDERLAND.\" /</td>\n",
       "      <td>&lt;NA&gt;</td>\n",
       "      <td>&lt;NA&gt;</td>\n",
       "      <td>A BEAUTIFUL SIGHT / WE'RE HAPPY TONIGHT/ WALKIN' IN A WINTER WONDERLAND. /</td>\n",
       "    </tr>\n",
       "    <tr>\n",
       "      <th>4266</th>\n",
       "      <td>14</td>\n",
       "      <td>258</td>\n",
       "      <td>Bart Simpson: (READING ALOUD, WITH HEART) Chapter Six: Four Days in Philadelphia. The first Cont...</td>\n",
       "      <td>&lt;NA&gt;</td>\n",
       "      <td>&lt;NA&gt;</td>\n",
       "      <td>Chapter Six: Four Days in Philadelphia. The first Continental Congress faced a difficult job. Co...</td>\n",
       "    </tr>\n",
       "    <tr>\n",
       "      <th>4588</th>\n",
       "      <td>16</td>\n",
       "      <td>0</td>\n",
       "      <td>Marge Simpson: (CLEARING HER THROAT) Hello, everyone. (CLEARING HER THROAT) You know, Halloween ...</td>\n",
       "      <td>1</td>\n",
       "      <td>&lt;NA&gt;</td>\n",
       "      <td>Hello, everyone. You know, Halloween is a very strange holiday. Personally, I don't understand i...</td>\n",
       "    </tr>\n",
       "    <tr>\n",
       "      <th>5346</th>\n",
       "      <td>18</td>\n",
       "      <td>200</td>\n",
       "      <td>Tony Bennett: CALLED CAPITAL CITY...</td>\n",
       "      <td>&lt;NA&gt;</td>\n",
       "      <td>&lt;NA&gt;</td>\n",
       "      <td>CALLED CAPITAL CITY...</td>\n",
       "    </tr>\n",
       "  </tbody>\n",
       "</table>\n",
       "</div>"
      ],
      "text/plain": [
       "      episode_id  number  \\\n",
       "id                         \n",
       "4213          14     205   \n",
       "4262          14     254   \n",
       "4266          14     258   \n",
       "4588          16       0   \n",
       "5346          18     200   \n",
       "\n",
       "                                                                                                 raw_text  \\\n",
       "id                                                                                                          \n",
       "4213  Martin Prince: Who would have thought that pushing a boy into the girls' lavatory could be such ...   \n",
       "4262             Entire Town: A BEAUTIFUL SIGHT / WE'RE HAPPY TONIGHT/ WALKIN' IN A WINTER WONDERLAND.\" /   \n",
       "4266  Bart Simpson: (READING ALOUD, WITH HEART) Chapter Six: Four Days in Philadelphia. The first Cont...   \n",
       "4588  Marge Simpson: (CLEARING HER THROAT) Hello, everyone. (CLEARING HER THROAT) You know, Halloween ...   \n",
       "5346                                                                 Tony Bennett: CALLED CAPITAL CITY...   \n",
       "\n",
       "      character_id  location_id  \\\n",
       "id                                \n",
       "4213          <NA>         <NA>   \n",
       "4262          <NA>         <NA>   \n",
       "4266          <NA>         <NA>   \n",
       "4588             1         <NA>   \n",
       "5346          <NA>         <NA>   \n",
       "\n",
       "                                                                                             spoken_words  \n",
       "id                                                                                                         \n",
       "4213  Who would have thought that pushing a boy into the girls' lavatory could be such a thrill? The s...  \n",
       "4262                           A BEAUTIFUL SIGHT / WE'RE HAPPY TONIGHT/ WALKIN' IN A WINTER WONDERLAND. /  \n",
       "4266  Chapter Six: Four Days in Philadelphia. The first Continental Congress faced a difficult job. Co...  \n",
       "4588  Hello, everyone. You know, Halloween is a very strange holiday. Personally, I don't understand i...  \n",
       "5346                                                                               CALLED CAPITAL CITY...  "
      ]
     },
     "execution_count": 36,
     "metadata": {},
     "output_type": "execute_result"
    }
   ],
   "source": [
    "simpsons_script_lines[~simpsons_script_lines[\"spoken_words\"].isna() & simpsons_script_lines[\"location_id\"].isna()].head()"
   ]
  },
  {
   "cell_type": "markdown",
   "metadata": {},
   "source": [
    "È possibile osservare che in media all'interno di ciascun episodio della serie della serie i personaggi che compaiono hanno sei battute a testa, anche se questo dato è fortemente sbilanciato: ad esempio la metà dei personaggi a livello di singolo episodio ha una o due battute al massimo e ci sono personaggi che in un singolo episodio pronunciano fino a 131 battute. Questo significa che pochi personaggi sono veramente rilevanti nella serie tv."
   ]
  },
  {
   "cell_type": "code",
   "execution_count": 37,
   "metadata": {},
   "outputs": [
    {
     "data": {
      "text/html": [
       "<div>\n",
       "<style scoped>\n",
       "    .dataframe tbody tr th:only-of-type {\n",
       "        vertical-align: middle;\n",
       "    }\n",
       "\n",
       "    .dataframe tbody tr th {\n",
       "        vertical-align: top;\n",
       "    }\n",
       "\n",
       "    .dataframe thead th {\n",
       "        text-align: right;\n",
       "    }\n",
       "</style>\n",
       "<table border=\"1\" class=\"dataframe\">\n",
       "  <thead>\n",
       "    <tr style=\"text-align: right;\">\n",
       "      <th></th>\n",
       "      <th>size</th>\n",
       "    </tr>\n",
       "  </thead>\n",
       "  <tbody>\n",
       "    <tr>\n",
       "      <th>count</th>\n",
       "      <td>19995.000000</td>\n",
       "    </tr>\n",
       "    <tr>\n",
       "      <th>mean</th>\n",
       "      <td>6.607702</td>\n",
       "    </tr>\n",
       "    <tr>\n",
       "      <th>std</th>\n",
       "      <td>12.653093</td>\n",
       "    </tr>\n",
       "    <tr>\n",
       "      <th>min</th>\n",
       "      <td>1.000000</td>\n",
       "    </tr>\n",
       "    <tr>\n",
       "      <th>25%</th>\n",
       "      <td>1.000000</td>\n",
       "    </tr>\n",
       "    <tr>\n",
       "      <th>50%</th>\n",
       "      <td>2.000000</td>\n",
       "    </tr>\n",
       "    <tr>\n",
       "      <th>75%</th>\n",
       "      <td>5.000000</td>\n",
       "    </tr>\n",
       "    <tr>\n",
       "      <th>max</th>\n",
       "      <td>131.000000</td>\n",
       "    </tr>\n",
       "  </tbody>\n",
       "</table>\n",
       "</div>"
      ],
      "text/plain": [
       "               size\n",
       "count  19995.000000\n",
       "mean       6.607702\n",
       "std       12.653093\n",
       "min        1.000000\n",
       "25%        1.000000\n",
       "50%        2.000000\n",
       "75%        5.000000\n",
       "max      131.000000"
      ]
     },
     "execution_count": 37,
     "metadata": {},
     "output_type": "execute_result"
    }
   ],
   "source": [
    "lines = pd.DataFrame(simpsons_script_lines.dropna(axis=\"index\", subset=[\"spoken_words\"]) \\\n",
    "                                  .groupby([\"episode_id\", \"character_id\"]) \\\n",
    "                                  .size(), columns=[\"size\"])\n",
    "lines.describe()"
   ]
  },
  {
   "cell_type": "code",
   "execution_count": 38,
   "metadata": {},
   "outputs": [
    {
     "data": {
      "image/png": "[encoded data removed]",
      "text/plain": [
       "<Figure size 432x288 with 1 Axes>"
      ]
     },
     "metadata": {
      "needs_background": "light"
     },
     "output_type": "display_data"
    }
   ],
   "source": [
    "lines.plot.hist(bins=50);"
   ]
  },
  {
   "cell_type": "markdown",
   "metadata": {},
   "source": [
    "Discorso analogo si può fare per le location, in media ciascuna location a livello di singolo episodio compare 13 volte nel copione, però un quarto delle location non compare mai più di tre volte ed esistono location che compaiono fino a 203 volte. Quindi, poche location nella serie sono veramente importanti per caratterizzare un episodio."
   ]
  },
  {
   "cell_type": "code",
   "execution_count": 39,
   "metadata": {},
   "outputs": [
    {
     "data": {
      "text/html": [
       "<div>\n",
       "<style scoped>\n",
       "    .dataframe tbody tr th:only-of-type {\n",
       "        vertical-align: middle;\n",
       "    }\n",
       "\n",
       "    .dataframe tbody tr th {\n",
       "        vertical-align: top;\n",
       "    }\n",
       "\n",
       "    .dataframe thead th {\n",
       "        text-align: right;\n",
       "    }\n",
       "</style>\n",
       "<table border=\"1\" class=\"dataframe\">\n",
       "  <thead>\n",
       "    <tr style=\"text-align: right;\">\n",
       "      <th></th>\n",
       "      <th>size</th>\n",
       "    </tr>\n",
       "  </thead>\n",
       "  <tbody>\n",
       "    <tr>\n",
       "      <th>count</th>\n",
       "      <td>10041.000000</td>\n",
       "    </tr>\n",
       "    <tr>\n",
       "      <th>mean</th>\n",
       "      <td>13.120805</td>\n",
       "    </tr>\n",
       "    <tr>\n",
       "      <th>std</th>\n",
       "      <td>18.007592</td>\n",
       "    </tr>\n",
       "    <tr>\n",
       "      <th>min</th>\n",
       "      <td>1.000000</td>\n",
       "    </tr>\n",
       "    <tr>\n",
       "      <th>25%</th>\n",
       "      <td>3.000000</td>\n",
       "    </tr>\n",
       "    <tr>\n",
       "      <th>50%</th>\n",
       "      <td>7.000000</td>\n",
       "    </tr>\n",
       "    <tr>\n",
       "      <th>75%</th>\n",
       "      <td>15.000000</td>\n",
       "    </tr>\n",
       "    <tr>\n",
       "      <th>max</th>\n",
       "      <td>203.000000</td>\n",
       "    </tr>\n",
       "  </tbody>\n",
       "</table>\n",
       "</div>"
      ],
      "text/plain": [
       "               size\n",
       "count  10041.000000\n",
       "mean      13.120805\n",
       "std       18.007592\n",
       "min        1.000000\n",
       "25%        3.000000\n",
       "50%        7.000000\n",
       "75%       15.000000\n",
       "max      203.000000"
      ]
     },
     "execution_count": 39,
     "metadata": {},
     "output_type": "execute_result"
    }
   ],
   "source": [
    "locations = pd.DataFrame(simpsons_script_lines.dropna(axis=\"index\", subset=[\"spoken_words\"]) \\\n",
    "                                              .groupby([\"episode_id\", \"location_id\"]) \\\n",
    "                                              .size(), columns=[\"size\"])\n",
    "locations.describe()"
   ]
  },
  {
   "cell_type": "code",
   "execution_count": 40,
   "metadata": {},
   "outputs": [
    {
     "data": {
      "image/png": "[encoded data removed]",
      "text/plain": [
       "<Figure size 432x288 with 1 Axes>"
      ]
     },
     "metadata": {
      "needs_background": "light"
     },
     "output_type": "display_data"
    }
   ],
   "source": [
    "locations.plot.hist(bins=50);"
   ]
  },
  {
   "cell_type": "markdown",
   "metadata": {},
   "source": [
    "### Rimozione dei valori mancati e preparazione dei dati"
   ]
  },
  {
   "cell_type": "markdown",
   "metadata": {},
   "source": [
    "Sulla base di quanto detto, possiamo rimuovere ``original_air_date`` e ``season`` dal DataFrame sugli episodi perchè le feature che potremmo estrarre hanno una scarsa variabilità o comunque presentano delle tendenze che vorremmo non influenzassero la nostra classificazione. Inoltre, possiamo rimuovere ``title`` perchè non ci serve più."
   ]
  },
  {
   "cell_type": "code",
   "execution_count": 41,
   "metadata": {},
   "outputs": [
    {
     "data": {
      "text/plain": [
       "(600, 1)"
      ]
     },
     "execution_count": 41,
     "metadata": {},
     "output_type": "execute_result"
    }
   ],
   "source": [
    "simpsons_episodes.drop(columns=[\"original_air_date\", \"title\", \"season\"], inplace=True)\n",
    "simpsons_episodes.shape"
   ]
  },
  {
   "cell_type": "markdown",
   "metadata": {},
   "source": [
    "A questo punto, cerchiamo di sostituire i valori NA di ``character_id`` con quelli corretti quando anche ``spoken_words`` è diverso da NA utilizzando le peculiarità di ``raw_text``. Infatti, generalmente le battute pronunciate nella colonna ``raw_text`` sono precedute dal nome di chi le pronuncia, seguito dai due punti."
   ]
  },
  {
   "cell_type": "code",
   "execution_count": 42,
   "metadata": {},
   "outputs": [],
   "source": [
    "missing = simpsons_script_lines[(~simpsons_script_lines[\"spoken_words\"].isna()) & (simpsons_script_lines[\"character_id\"].isna())]\n",
    "for index, row in missing.iterrows():\n",
    "    name = row[\"raw_text\"].split(\":\")[0]\n",
    "    if name != \"\":\n",
    "        simpsons_script_lines.loc[index, \"character_id\"] = simpsons_characters[simpsons_characters[\"name\"] == name].index"
   ]
  },
  {
   "cell_type": "markdown",
   "metadata": {},
   "source": [
    "Fatto questo, ``raw_text`` non ci serve più e può essere eliminato."
   ]
  },
  {
   "cell_type": "code",
   "execution_count": 43,
   "metadata": {},
   "outputs": [
    {
     "data": {
      "text/html": [
       "<div>\n",
       "<style scoped>\n",
       "    .dataframe tbody tr th:only-of-type {\n",
       "        vertical-align: middle;\n",
       "    }\n",
       "\n",
       "    .dataframe tbody tr th {\n",
       "        vertical-align: top;\n",
       "    }\n",
       "\n",
       "    .dataframe thead th {\n",
       "        text-align: right;\n",
       "    }\n",
       "</style>\n",
       "<table border=\"1\" class=\"dataframe\">\n",
       "  <thead>\n",
       "    <tr style=\"text-align: right;\">\n",
       "      <th></th>\n",
       "      <th>episode_id</th>\n",
       "      <th>number</th>\n",
       "      <th>character_id</th>\n",
       "      <th>location_id</th>\n",
       "      <th>spoken_words</th>\n",
       "    </tr>\n",
       "    <tr>\n",
       "      <th>id</th>\n",
       "      <th></th>\n",
       "      <th></th>\n",
       "      <th></th>\n",
       "      <th></th>\n",
       "      <th></th>\n",
       "    </tr>\n",
       "  </thead>\n",
       "  <tbody>\n",
       "    <tr>\n",
       "      <th>3</th>\n",
       "      <td>1</td>\n",
       "      <td>2</td>\n",
       "      <td>1</td>\n",
       "      <td>2</td>\n",
       "      <td>Ooo, careful, Homer.</td>\n",
       "    </tr>\n",
       "    <tr>\n",
       "      <th>4</th>\n",
       "      <td>1</td>\n",
       "      <td>3</td>\n",
       "      <td>2</td>\n",
       "      <td>2</td>\n",
       "      <td>There's no time to be careful.</td>\n",
       "    </tr>\n",
       "    <tr>\n",
       "      <th>5</th>\n",
       "      <td>1</td>\n",
       "      <td>4</td>\n",
       "      <td>2</td>\n",
       "      <td>2</td>\n",
       "      <td>We're late.</td>\n",
       "    </tr>\n",
       "    <tr>\n",
       "      <th>8</th>\n",
       "      <td>1</td>\n",
       "      <td>7</td>\n",
       "      <td>1</td>\n",
       "      <td>4</td>\n",
       "      <td>Sorry, Excuse us. Pardon me...</td>\n",
       "    </tr>\n",
       "    <tr>\n",
       "      <th>9</th>\n",
       "      <td>1</td>\n",
       "      <td>8</td>\n",
       "      <td>2</td>\n",
       "      <td>4</td>\n",
       "      <td>Hey, Norman. How's it going? So you got dragged down here, too... heh, heh. How ya doing, Fred? ...</td>\n",
       "    </tr>\n",
       "  </tbody>\n",
       "</table>\n",
       "</div>"
      ],
      "text/plain": [
       "    episode_id  number  character_id  location_id  \\\n",
       "id                                                  \n",
       "3            1       2             1            2   \n",
       "4            1       3             2            2   \n",
       "5            1       4             2            2   \n",
       "8            1       7             1            4   \n",
       "9            1       8             2            4   \n",
       "\n",
       "                                                                                           spoken_words  \n",
       "id                                                                                                       \n",
       "3                                                                                  Ooo, careful, Homer.  \n",
       "4                                                                        There's no time to be careful.  \n",
       "5                                                                                           We're late.  \n",
       "8                                                                        Sorry, Excuse us. Pardon me...  \n",
       "9   Hey, Norman. How's it going? So you got dragged down here, too... heh, heh. How ya doing, Fred? ...  "
      ]
     },
     "execution_count": 43,
     "metadata": {},
     "output_type": "execute_result"
    }
   ],
   "source": [
    "simpsons_script_lines.drop(columns=\"raw_text\", inplace=True)\n",
    "simpsons_script_lines.dropna(axis=\"index\", subset=[\"spoken_words\"], inplace=True)\n",
    "simpsons_script_lines.head()"
   ]
  },
  {
   "cell_type": "markdown",
   "metadata": {},
   "source": [
    "### Selezione delle feature rilevanti"
   ]
  },
  {
   "cell_type": "markdown",
   "metadata": {},
   "source": [
    "A questo punto, abbiamo ripulito i nostri DataFrame in modo che potessero essere rielaborati per poter estrarre la variabile da predire e le feature di nostro interesse. Possiamo procedere dunque con l'unione delle singole battute dei copioni per ottenere nuovamente i copioni originali di ciascun episodio e successivamente effettuare un join con il primo DataFrame per associare a ciascun episodio il suo rating su IMDB."
   ]
  },
  {
   "cell_type": "code",
   "execution_count": 44,
   "metadata": {},
   "outputs": [
    {
     "data": {
      "text/html": [
       "<div>\n",
       "<style scoped>\n",
       "    .dataframe tbody tr th:only-of-type {\n",
       "        vertical-align: middle;\n",
       "    }\n",
       "\n",
       "    .dataframe tbody tr th {\n",
       "        vertical-align: top;\n",
       "    }\n",
       "\n",
       "    .dataframe thead th {\n",
       "        text-align: right;\n",
       "    }\n",
       "</style>\n",
       "<table border=\"1\" class=\"dataframe\">\n",
       "  <thead>\n",
       "    <tr style=\"text-align: right;\">\n",
       "      <th></th>\n",
       "      <th>imdb_rating</th>\n",
       "      <th>spoken_words</th>\n",
       "    </tr>\n",
       "    <tr>\n",
       "      <th>id</th>\n",
       "      <th></th>\n",
       "      <th></th>\n",
       "    </tr>\n",
       "  </thead>\n",
       "  <tbody>\n",
       "    <tr>\n",
       "      <th>1</th>\n",
       "      <td>8.2</td>\n",
       "      <td>Ooo, careful, Homer. There's no time to be careful. We're late. Sorry, Excuse us. Pardon me... H...</td>\n",
       "    </tr>\n",
       "    <tr>\n",
       "      <th>2</th>\n",
       "      <td>7.8</td>\n",
       "      <td>Come on, Mom. Yeah, Mom, hurry up. All right... hmmm... How about \"he\"? Two points. Your turn, d...</td>\n",
       "    </tr>\n",
       "    <tr>\n",
       "      <th>3</th>\n",
       "      <td>7.5</td>\n",
       "      <td>Now, class, I don't want this field trip to be a repeat of our infamous visit to the Springfield...</td>\n",
       "    </tr>\n",
       "    <tr>\n",
       "      <th>4</th>\n",
       "      <td>7.8</td>\n",
       "      <td>Oh, yeah? Yeah! Oh, yeah? Yeah! Oh, yeah? Yeah! Oh, yeah? Yeah! Hey! What's the problem here? We...</td>\n",
       "    </tr>\n",
       "    <tr>\n",
       "      <th>5</th>\n",
       "      <td>8.1</td>\n",
       "      <td>Do I smell cupcakes? Oooo, Do I ever! Uh-uh, Homer. Lisa's making these for her teacher. Ah. Say...</td>\n",
       "    </tr>\n",
       "  </tbody>\n",
       "</table>\n",
       "</div>"
      ],
      "text/plain": [
       "    imdb_rating  \\\n",
       "id                \n",
       "1           8.2   \n",
       "2           7.8   \n",
       "3           7.5   \n",
       "4           7.8   \n",
       "5           8.1   \n",
       "\n",
       "                                                                                           spoken_words  \n",
       "id                                                                                                       \n",
       "1   Ooo, careful, Homer. There's no time to be careful. We're late. Sorry, Excuse us. Pardon me... H...  \n",
       "2   Come on, Mom. Yeah, Mom, hurry up. All right... hmmm... How about \"he\"? Two points. Your turn, d...  \n",
       "3   Now, class, I don't want this field trip to be a repeat of our infamous visit to the Springfield...  \n",
       "4   Oh, yeah? Yeah! Oh, yeah? Yeah! Oh, yeah? Yeah! Oh, yeah? Yeah! Hey! What's the problem here? We...  \n",
       "5   Do I smell cupcakes? Oooo, Do I ever! Uh-uh, Homer. Lisa's making these for her teacher. Ah. Say...  "
      ]
     },
     "execution_count": 44,
     "metadata": {},
     "output_type": "execute_result"
    }
   ],
   "source": [
    "scripts = pd.DataFrame()\n",
    "simpsons_script_lines.sort_values([\"episode_id\", \"number\"], inplace=True)\n",
    "scripts[\"spoken_words\"] = simpsons_script_lines.groupby(\"episode_id\")[\"spoken_words\"].apply(' '.join)\n",
    "episodes = simpsons_episodes.join(scripts)\n",
    "episodes = episodes.astype({\n",
    "    \"spoken_words\": \"string\"\n",
    "})\n",
    "episodes.head()"
   ]
  },
  {
   "cell_type": "markdown",
   "metadata": {},
   "source": [
    "Come si può notare, ci sono 597 episodi con rating su IMDB, mentre quelli di cui era presente il copione erano solo 564. Non è possibile effetuare la classificazione se il rating IMDB è assente e non è molto utile tentare di farlo se il copione non è presente e non abbiamo modo di sapere cosa conteneva, perciò, eliminiamo tutte le righe che presentano valori NA, consapevoli che ci rimangono molte istanze da sfruttare."
   ]
  },
  {
   "cell_type": "code",
   "execution_count": 45,
   "metadata": {},
   "outputs": [
    {
     "name": "stdout",
     "output_type": "stream",
     "text": [
      "<class 'pandas.core.frame.DataFrame'>\n",
      "Int64Index: 600 entries, 1 to 600\n",
      "Data columns (total 2 columns):\n",
      " #   Column        Non-Null Count  Dtype  \n",
      "---  ------        --------------  -----  \n",
      " 0   imdb_rating   597 non-null    float64\n",
      " 1   spoken_words  564 non-null    string \n",
      "dtypes: float64(1), string(1)\n",
      "memory usage: 14.1 KB\n"
     ]
    }
   ],
   "source": [
    "episodes.info()"
   ]
  },
  {
   "cell_type": "code",
   "execution_count": 46,
   "metadata": {},
   "outputs": [],
   "source": [
    "episodes.dropna(inplace=True)"
   ]
  },
  {
   "cell_type": "markdown",
   "metadata": {},
   "source": [
    "Cerchiamo quindi di costruire delle altre feature rilevanti che possiamo estrarre da ``simpsons_script_lines``. Possiamo ad esempio associare a ciascun episodio il numero di volte che ciascun personaggio pronuncia una battuta. Poichè i personaggi sono molti, salviamo questi dati in una matrice sparsa e, poichè sappiamo che a livello di singolo episodio un personaggio non pronuncia mai più di 131 battute, possiamo scegliere un tipo di dato più adeguato per salvare questi valori per risparmiare spazio in memoria."
   ]
  },
  {
   "cell_type": "code",
   "execution_count": 47,
   "metadata": {},
   "outputs": [],
   "source": [
    "characters = simpsons_script_lines.drop(columns=[\"number\", \"location_id\", \"spoken_words\"]) \\\n",
    "                                  .dropna() \\\n",
    "                                  .join(simpsons_characters, on=\"character_id\") \\\n",
    "                                  .drop(columns=\"character_id\") \\\n",
    "                                  .groupby([\"episode_id\", \"name\"]) \\\n",
    "                                  .size() \\\n",
    "                                  .unstack() \\\n",
    "                                  .fillna(0) \\\n",
    "                                  .astype(np.int8) \\\n",
    "                                  .reindex(episodes.index)\n",
    "characters_cols = characters.columns\n",
    "characters = csr_matrix(characters)"
   ]
  },
  {
   "cell_type": "markdown",
   "metadata": {},
   "source": [
    "Possiamo ripetere lo stesso procedimento per le location, associando a ciascun episodio il numero di volte che una battuta è pronunciata in una determinata location, per ciascuna location. Poichè le location sono molte, salviamo anche questi dati in una matrice sparsa. Inoltre, sappiamo che a livello di singolo episodio in una data location non sono mai pronunciate più di 203 battute, perciò possiamo scegliere un tipo di dato più adeguato per salvare questi valori e risparmiare così memoria."
   ]
  },
  {
   "cell_type": "code",
   "execution_count": 48,
   "metadata": {},
   "outputs": [],
   "source": [
    "locations = simpsons_script_lines.drop(columns=[\"number\", \"character_id\", \"spoken_words\"]) \\\n",
    "                                 .dropna() \\\n",
    "                                 .join(simpsons_locations, on=\"location_id\") \\\n",
    "                                 .drop(columns=\"location_id\") \\\n",
    "                                 .groupby([\"episode_id\", \"name\"]) \\\n",
    "                                 .size() \\\n",
    "                                 .unstack() \\\n",
    "                                 .fillna(0) \\\n",
    "                                 .astype(np.int8) \\\n",
    "                                 .reindex(episodes.index)\n",
    "locations_cols = locations.columns\n",
    "locations = csr_matrix(locations)"
   ]
  },
  {
   "cell_type": "markdown",
   "metadata": {},
   "source": [
    "Fatto questo, possiamo anche sbarazzarci di ``simpsons_episodes`` e ``simpsons_script_lines``, perchè abbiamo estratto tutto ciò che potevamo."
   ]
  },
  {
   "cell_type": "code",
   "execution_count": 49,
   "metadata": {},
   "outputs": [],
   "source": [
    "del simpsons_episodes\n",
    "del simpsons_script_lines"
   ]
  },
  {
   "cell_type": "markdown",
   "metadata": {},
   "source": [
    "Aggiungiamo quindi la variabile categorica da predire."
   ]
  },
  {
   "cell_type": "code",
   "execution_count": 50,
   "metadata": {},
   "outputs": [
    {
     "data": {
      "text/html": [
       "<div>\n",
       "<style scoped>\n",
       "    .dataframe tbody tr th:only-of-type {\n",
       "        vertical-align: middle;\n",
       "    }\n",
       "\n",
       "    .dataframe tbody tr th {\n",
       "        vertical-align: top;\n",
       "    }\n",
       "\n",
       "    .dataframe thead th {\n",
       "        text-align: right;\n",
       "    }\n",
       "</style>\n",
       "<table border=\"1\" class=\"dataframe\">\n",
       "  <thead>\n",
       "    <tr style=\"text-align: right;\">\n",
       "      <th></th>\n",
       "      <th>spoken_words</th>\n",
       "      <th>label</th>\n",
       "    </tr>\n",
       "    <tr>\n",
       "      <th>id</th>\n",
       "      <th></th>\n",
       "      <th></th>\n",
       "    </tr>\n",
       "  </thead>\n",
       "  <tbody>\n",
       "    <tr>\n",
       "      <th>6</th>\n",
       "      <td>Lisa! Lisa, are you still in there? What's the problem? Did you fall in? Lisa! Sorry, Dad. Women...</td>\n",
       "      <td>good</td>\n",
       "    </tr>\n",
       "    <tr>\n",
       "      <th>7</th>\n",
       "      <td>Rusty old hunk of junk. Howdy, Bart. Hot enough for ya? Shut up, Flanders. Hey dad, how come we ...</td>\n",
       "      <td>good</td>\n",
       "    </tr>\n",
       "    <tr>\n",
       "      <th>8</th>\n",
       "      <td>You know, Bart, when I was your age, I pulled a few boners, but I think you'll find that people ...</td>\n",
       "      <td>good</td>\n",
       "    </tr>\n",
       "    <tr>\n",
       "      <th>9</th>\n",
       "      <td>Whoops! Whoops! Oh, whoops... whoops! This is gonna be the best birthday breakfast Mom ever had....</td>\n",
       "      <td>good</td>\n",
       "    </tr>\n",
       "    <tr>\n",
       "      <th>10</th>\n",
       "      <td>So how was the office birthday party? Oh, it was delightful. The frosting on the cake was this t...</td>\n",
       "      <td>bad</td>\n",
       "    </tr>\n",
       "  </tbody>\n",
       "</table>\n",
       "</div>"
      ],
      "text/plain": [
       "                                                                                           spoken_words  \\\n",
       "id                                                                                                        \n",
       "6   Lisa! Lisa, are you still in there? What's the problem? Did you fall in? Lisa! Sorry, Dad. Women...   \n",
       "7   Rusty old hunk of junk. Howdy, Bart. Hot enough for ya? Shut up, Flanders. Hey dad, how come we ...   \n",
       "8   You know, Bart, when I was your age, I pulled a few boners, but I think you'll find that people ...   \n",
       "9   Whoops! Whoops! Oh, whoops... whoops! This is gonna be the best birthday breakfast Mom ever had....   \n",
       "10  So how was the office birthday party? Oh, it was delightful. The frosting on the cake was this t...   \n",
       "\n",
       "   label  \n",
       "id        \n",
       "6   good  \n",
       "7   good  \n",
       "8   good  \n",
       "9   good  \n",
       "10   bad  "
      ]
     },
     "execution_count": 50,
     "metadata": {},
     "output_type": "execute_result"
    }
   ],
   "source": [
    "episodes[\"label\"] = np.where(episodes[\"imdb_rating\"] >= 7.5, \"good\", \"bad\")\n",
    "episodes.drop(columns=\"imdb_rating\", inplace=True)\n",
    "episodes = episodes.astype({\"label\": \"string\"})\n",
    "episodes.iloc[5:10]"
   ]
  },
  {
   "cell_type": "markdown",
   "metadata": {},
   "source": [
    "Il diagramma a torta ci mostra come le deduzioni fatte sulle distribuzioni dei rating fatte in precedenza si applichino correttamente. Infatti, le due classi sono legermente sbilanciate, si trovano infatti in un rapporto 60-40, verso il \"brutto\". Non ci preoccuperemo perciò di bilanciare le istanze tra le due classi, essendo molto vicine al perfetto bilanciamento, però terremo conto di questa proporzione quando effettueremo il calcolo dell'accuratezza nei modelli classificazione. Infatti, sarà molto più facile produrre un modello corretto se tende a classificare tutti gli episodi come \"brutto\" rispetto ad uno che li classifica tutti come \"bello\"."
   ]
  },
  {
   "cell_type": "code",
   "execution_count": 51,
   "metadata": {},
   "outputs": [
    {
     "data": {
      "text/plain": [
       "bad     325\n",
       "good    239\n",
       "Name: label, dtype: Int64"
      ]
     },
     "execution_count": 51,
     "metadata": {},
     "output_type": "execute_result"
    }
   ],
   "source": [
    "episodes[\"label\"].value_counts()"
   ]
  },
  {
   "cell_type": "code",
   "execution_count": 52,
   "metadata": {},
   "outputs": [
    {
     "data": {
      "image/png": "[encoded data removed]",
      "text/plain": [
       "<Figure size 432x288 with 1 Axes>"
      ]
     },
     "metadata": {},
     "output_type": "display_data"
    }
   ],
   "source": [
    "fig, _ = plt.subplots()\n",
    "plt.pie(episodes[\"label\"].value_counts(), labels=[\"bad\", \"good\"], autopct=\"%1.0f%%\")\n",
    "fig.set_facecolor(\"white\")"
   ]
  },
  {
   "cell_type": "markdown",
   "metadata": {},
   "source": [
    "### Estrazione delle feature testuali"
   ]
  },
  {
   "cell_type": "markdown",
   "metadata": {},
   "source": [
    "A questo punto cerchiamo di estrarre le feature testuali, ovverosia le parole o parti di esse, più rilevanti dai copioni precedentemente ricostruiti. Prima di tutto dobbiamo ottenere i nostri train e validation set sia a partire dai copioni originali sia dalle classi dei rating, poi dobbiamo costruire i *fold* per la *cross-validation*."
   ]
  },
  {
   "cell_type": "code",
   "execution_count": 53,
   "metadata": {},
   "outputs": [],
   "source": [
    "X = episodes[\"spoken_words\"]\n",
    "y = episodes[\"label\"]\n",
    "X_train, X_val, y_train, y_val = train_test_split(X, y, test_size=0.3, random_state=742)\n",
    "skf = StratifiedKFold(n_splits=3, shuffle=True, random_state=742)"
   ]
  },
  {
   "cell_type": "markdown",
   "metadata": {},
   "source": [
    "#### Scelta del tokenizer"
   ]
  },
  {
   "cell_type": "markdown",
   "metadata": {},
   "source": [
    "Per prima cosa cerchiamo di trovare il miglior *tokenizer* da applicare sui copioni. Per questo motivo al momento non ci preoccupiamo dell'indice di importanza delle parole, scegliamo di default il *tf-idf index* che risulta più veloce su questo dataset. Detto questo, analizziamo il \"caso base\" del *vectorizer* e cerchiamo di ridurre via via il numero di feature senza mai compromettere in maniera significativa l'accuratezza del modello preso in esame."
   ]
  },
  {
   "cell_type": "code",
   "execution_count": 54,
   "metadata": {},
   "outputs": [
    {
     "data": {
      "text/plain": [
       "(['00', '000', '007', '07s', '10'],\n",
       " ['_______', 'a647253', 'aa', 'aaaa', 'aaaaa'],\n",
       " ['aaannnd', 'aaannnnd', 'aaanyway', 'aag', 'aagh'],\n",
       " ['abbie', 'abbotan', 'abbots', 'abbreviate', 'abbreviations'],\n",
       " ['éclairios', 'êtes', 'être', 'ĉu', 'ĝi'])"
      ]
     },
     "execution_count": 54,
     "metadata": {},
     "output_type": "execute_result"
    }
   ],
   "source": [
    "vectorizer_base = TfidfVectorizer()\n",
    "vectorizer_base.fit_transform(X_train)\n",
    "features = vectorizer_base.get_feature_names()\n",
    "features[0:5], features[327:332], features[350:355], features[370:375], features[-5:]"
   ]
  },
  {
   "cell_type": "markdown",
   "metadata": {},
   "source": [
    "Senza applicare nulla, otteniamo 32.933 features, ovvero 32.933 parole, molte delle quali osserviamo essere numeri oppure storpiature di parole inserite solo per rendere meglio l'interpretazione delle frasi. Ha perciò senso provare un metodo di *tokenization* differente per osservare se le feature che estrae sono più significative."
   ]
  },
  {
   "cell_type": "code",
   "execution_count": 55,
   "metadata": {},
   "outputs": [
    {
     "data": {
      "text/plain": [
       "32993"
      ]
     },
     "execution_count": 55,
     "metadata": {},
     "output_type": "execute_result"
    }
   ],
   "source": [
    "len(features)"
   ]
  },
  {
   "cell_type": "markdown",
   "metadata": {},
   "source": [
    "Testiamo allora il *tokenizer* del modulo NLTK."
   ]
  },
  {
   "cell_type": "code",
   "execution_count": 56,
   "metadata": {},
   "outputs": [
    {
     "data": {
      "text/plain": [
       "(['!', '#', '$', '%', '&'],\n",
       " [\"'allo\", \"'angry\", \"'appen\", \"'applause\", \"'at\"],\n",
       " ['1977', '1977.', '1979', '1979.', '1980'],\n",
       " ['19:19', '19:19.', '19th', '1:00', '1:30'],\n",
       " ['é', 'éclairios', 'êtes', 'ĉu', 'ĝi'])"
      ]
     },
     "execution_count": 56,
     "metadata": {},
     "output_type": "execute_result"
    }
   ],
   "source": [
    "vectorizer_tokenizer = TfidfVectorizer(tokenizer=nltk.word_tokenize)\n",
    "vectorizer_tokenizer.fit_transform(X_train)\n",
    "features = vectorizer_tokenizer.get_feature_names()\n",
    "features[0:5], features[30:35], features[350:355], features[370:375], features[-5:]"
   ]
  },
  {
   "cell_type": "markdown",
   "metadata": {},
   "source": [
    "L'uso del *tokenizer* di NLTK ha generato all'incirca 5.000 feature in più, anche se notiamo che in questo caso le feature sembrano essere generate con più criterio. Compaiono dei simboli di punteggiatura che prima non avevamo incontrato, che ha senso che vengano considerati in maniera a sè stante, dato che non fanno parte di alcuna parola, e non troviamo più numeri dall'aspetto casuale. Notiamo che sono state aggiunte molte parole apostrofate che il *tokenizer* standard non aveva saputo riconoscere."
   ]
  },
  {
   "cell_type": "code",
   "execution_count": 57,
   "metadata": {},
   "outputs": [
    {
     "data": {
      "text/plain": [
       "37661"
      ]
     },
     "execution_count": 57,
     "metadata": {},
     "output_type": "execute_result"
    }
   ],
   "source": [
    "len(features)"
   ]
  },
  {
   "cell_type": "markdown",
   "metadata": {},
   "source": [
    "Proviamo a questo punto a rimuovere gli accenti e a rimuovere le *stop words*, per cercare di trattenere tutte e sole quelle parole che identificano con chiarezza di cosa si sta parlando, eliminando perciò le parole di contorno. Proviamo inoltre a rimuovere la punteggiatura, ovvero sia tutti quei token che non contengono neanche una lettera o un numero."
   ]
  },
  {
   "cell_type": "code",
   "execution_count": 58,
   "metadata": {},
   "outputs": [],
   "source": [
    "def tokenize_with_nltk(text):\n",
    "    return [token for token in nltk.word_tokenize(text) if re.match(r\"[a-zA-Z0-9]+\", token) is not None]"
   ]
  },
  {
   "cell_type": "code",
   "execution_count": 59,
   "metadata": {},
   "outputs": [],
   "source": [
    "nltk_stoplist = nltk.corpus.stopwords.words(\"english\")\n",
    "stoplist = list(set([token for word in nltk_stoplist for token in tokenize_with_nltk(word)]))"
   ]
  },
  {
   "cell_type": "code",
   "execution_count": 60,
   "metadata": {},
   "outputs": [
    {
     "data": {
      "text/plain": [
       "(['0', '0.', '007', '1', '1,000'],\n",
       " ['10th', '11', '111238,390,17', '1132.', '117th'],\n",
       " ['60', '600', '6000', '605', '6051'],\n",
       " ['69808,243,293', '6:45', '6th', '7', '7-10'],\n",
       " ['zz', 'zz-99', 'zzyzwiski', 'zzzapp', 'zzzzapp'])"
      ]
     },
     "execution_count": 60,
     "metadata": {},
     "output_type": "execute_result"
    }
   ],
   "source": [
    "vectorizer_stopwords = TfidfVectorizer(tokenizer=tokenize_with_nltk, stop_words=stoplist, strip_accents=\"unicode\")\n",
    "vectorizer_stopwords.fit_transform(X_train)\n",
    "features = vectorizer_stopwords.get_feature_names()\n",
    "features[0:5], features[30:35], features[350:355], features[370:375], features[-5:]"
   ]
  },
  {
   "cell_type": "markdown",
   "metadata": {},
   "source": [
    "La rimozione dei token descritti in precedenza non ha giovato particolarmente. Sono state rimosse solamente 400 feature, all'incirca. Evidentemente il metodo usato finora non è stato capace di cogliere tutti quegli elementi che aveva senso rimuovere."
   ]
  },
  {
   "cell_type": "code",
   "execution_count": 61,
   "metadata": {},
   "outputs": [
    {
     "data": {
      "text/plain": [
       "37257"
      ]
     },
     "execution_count": 61,
     "metadata": {},
     "output_type": "execute_result"
    }
   ],
   "source": [
    "len(features)"
   ]
  },
  {
   "cell_type": "markdown",
   "metadata": {},
   "source": [
    "#### Applicazione di meccanismi avanzati: POS tagging, lemmatization, stemming"
   ]
  },
  {
   "cell_type": "markdown",
   "metadata": {},
   "source": [
    "Proviamo a questo punto a complicare la *tokenization* applicandole i meccanismi di *POS tagging*, di lemmatizzazione e di *stemming*, cercando di ridurre ancora il numero delle feature togliendo tutte quelle parole che non sono altro che la variante della stessa dove però cambia la declinazione grammaticale, che non va ad incidere particolarmente sul contenuto generale del discorso."
   ]
  },
  {
   "cell_type": "code",
   "execution_count": 62,
   "metadata": {},
   "outputs": [],
   "source": [
    "def tokenize_with_pos(text):\n",
    "    return nltk.pos_tag(tokenize_with_nltk(text))"
   ]
  },
  {
   "cell_type": "code",
   "execution_count": 63,
   "metadata": {},
   "outputs": [],
   "source": [
    "pos_stoplist = list(set([token for word in nltk_stoplist for token in tokenize_with_pos(word)]))"
   ]
  },
  {
   "cell_type": "code",
   "execution_count": 64,
   "metadata": {},
   "outputs": [],
   "source": [
    "wnl = nltk.stem.WordNetLemmatizer()\n",
    "penn_to_wn = {\"N\": \"n\", \"V\": \"v\", \"J\": \"a\", \"R\": \"r\"}\n",
    "def tokenize_with_lemmatization(text):\n",
    "    return [(wnl.lemmatize(token, penn_to_wn[tag[0]]) if tag[0] in penn_to_wn else token) for token, tag in tokenize_with_pos(text)]"
   ]
  },
  {
   "cell_type": "code",
   "execution_count": 65,
   "metadata": {},
   "outputs": [],
   "source": [
    "lemmatization_stoplist = list(set([token for word in nltk_stoplist for token in tokenize_with_lemmatization(word)]))"
   ]
  },
  {
   "cell_type": "code",
   "execution_count": 66,
   "metadata": {},
   "outputs": [],
   "source": [
    "ps = nltk.stem.PorterStemmer()\n",
    "def tokenize_with_stemming(text):\n",
    "    return [ps.stem(word) for word in tokenize_with_nltk(text)]"
   ]
  },
  {
   "cell_type": "code",
   "execution_count": 67,
   "metadata": {},
   "outputs": [],
   "source": [
    "stemming_stoplist = list(set([token for word in nltk_stoplist for token in tokenize_with_stemming(word)]))"
   ]
  },
  {
   "cell_type": "markdown",
   "metadata": {},
   "source": [
    "Questa volta, avendo a disposizione un range di valori tra cui scegliere, sceglieremo il *tokenizer* effettuando delle regressioni logistiche di prova. Introduciamo  la standardizzazione delle feature visto che il conteggio delle parole è un indice non normalizzato. Notiamo come l'uso del *POS tagging* aumenta il numero delle feature perchè introduce varianti della stessa parola con però associati diversi tag, dato che una stessa parola può ricoprire più ruoli all'interno del discorso. Il risultato è che però l'accuratezza scende, come potevamo aspettarci, anche se non in maniera significativa. La lemmatizzazione invece riesce a ridurre il numero di feature con un aumento dell'accuratezza, ma il metodo migliore si rivela lo stemming. Esso infatti riduce più di tutti gli altri il numero delle feature, facendo di contro salire l'accuratezza il più possibile. Useremo perciò quest'ultimo metodo nel prosieguo dell'eliminazione delle feature non rilevanti."
   ]
  },
  {
   "cell_type": "code",
   "execution_count": 68,
   "metadata": {},
   "outputs": [
    {
     "data": {
      "text/html": [
       "<div>\n",
       "<style scoped>\n",
       "    .dataframe tbody tr th:only-of-type {\n",
       "        vertical-align: middle;\n",
       "    }\n",
       "\n",
       "    .dataframe tbody tr th {\n",
       "        vertical-align: top;\n",
       "    }\n",
       "\n",
       "    .dataframe thead th {\n",
       "        text-align: right;\n",
       "    }\n",
       "</style>\n",
       "<table border=\"1\" class=\"dataframe\">\n",
       "  <thead>\n",
       "    <tr style=\"text-align: right;\">\n",
       "      <th></th>\n",
       "      <th>mean_test_score</th>\n",
       "      <th>std_test_score</th>\n",
       "      <th>number_features</th>\n",
       "    </tr>\n",
       "  </thead>\n",
       "  <tbody>\n",
       "    <tr>\n",
       "      <th>nltk</th>\n",
       "      <td>0.746145</td>\n",
       "      <td>0.020577</td>\n",
       "      <td>30047.000000</td>\n",
       "    </tr>\n",
       "    <tr>\n",
       "      <th>pos</th>\n",
       "      <td>0.690338</td>\n",
       "      <td>0.013318</td>\n",
       "      <td>45446.333333</td>\n",
       "    </tr>\n",
       "    <tr>\n",
       "      <th>lemmatization</th>\n",
       "      <td>0.743562</td>\n",
       "      <td>0.032009</td>\n",
       "      <td>25304.666667</td>\n",
       "    </tr>\n",
       "    <tr>\n",
       "      <th>stemming</th>\n",
       "      <td>0.761335</td>\n",
       "      <td>0.032526</td>\n",
       "      <td>22438.000000</td>\n",
       "    </tr>\n",
       "  </tbody>\n",
       "</table>\n",
       "</div>"
      ],
      "text/plain": [
       "               mean_test_score  std_test_score  number_features\n",
       "nltk                  0.746145        0.020577     30047.000000\n",
       "pos                   0.690338        0.013318     45446.333333\n",
       "lemmatization         0.743562        0.032009     25304.666667\n",
       "stemming              0.761335        0.032526     22438.000000"
      ]
     },
     "execution_count": 68,
     "metadata": {},
     "output_type": "execute_result"
    }
   ],
   "source": [
    "results = []\n",
    "values = [(nltk.word_tokenize, stoplist),\n",
    "          (tokenize_with_pos, pos_stoplist),\n",
    "          (tokenize_with_lemmatization, lemmatization_stoplist),\n",
    "          (tokenize_with_stemming, stemming_stoplist)]\n",
    "for i, value in enumerate(values):\n",
    "    model = Pipeline([\n",
    "        (\"vectorizer\", TfidfVectorizer(tokenizer=value[0], stop_words=value[1], strip_accents=\"unicode\")),\n",
    "        (\"scaler\", StandardScaler(with_mean=False)),\n",
    "        (\"classifier\", LogisticRegression(solver=\"saga\", random_state=742, max_iter=10000))\n",
    "    ])\n",
    "    result = cross_validate(model, X_train, y_train, cv=skf, return_estimator=True, n_jobs=-1)\n",
    "    score = result[\"test_score\"]\n",
    "    features = np.mean(list(map(lambda e: len(e.named_steps[\"vectorizer\"].get_feature_names()), result[\"estimator\"])))\n",
    "    results.append((score.mean(), score.std(), features))\n",
    "pd.DataFrame(results, index=[\"nltk\", \"pos\", \"lemmatization\", \"stemming\"], columns=[\"mean_test_score\", \"std_test_score\", \"number_features\"])"
   ]
  },
  {
   "cell_type": "markdown",
   "metadata": {},
   "source": [
    "#### Ricerca della minimum document frequency, degli ngram, dell'indice di importanza dei termini"
   ]
  },
  {
   "cell_type": "markdown",
   "metadata": {},
   "source": [
    "Proviamo poi ad eliminare le parole che compaiono troppo di rado, così da rimuovere quelle feature che non sono veramente tali, ma che probabilmente sono solo uno scarto del processo di divisione delle parole o che comunque non sono significative perchè sono presenti poche volte in assoluto. Osserviamo che se scegliessimo come ``min_df`` il valore 5, lo score medio sarebbe il più alto in assoluto, ma scegliendo 10 avremmo una perdita in accuratezza solo dell'1,7% con una rimozione ulteriore di circa metà delle feature. Scegliamo perciò come valore per questo parametro 10, riuscendo così a ridurre le feature coinvolte di circa un fattore 8, in media."
   ]
  },
  {
   "cell_type": "code",
   "execution_count": 69,
   "metadata": {},
   "outputs": [
    {
     "data": {
      "text/html": [
       "<div>\n",
       "<style scoped>\n",
       "    .dataframe tbody tr th:only-of-type {\n",
       "        vertical-align: middle;\n",
       "    }\n",
       "\n",
       "    .dataframe tbody tr th {\n",
       "        vertical-align: top;\n",
       "    }\n",
       "\n",
       "    .dataframe thead th {\n",
       "        text-align: right;\n",
       "    }\n",
       "</style>\n",
       "<table border=\"1\" class=\"dataframe\">\n",
       "  <thead>\n",
       "    <tr style=\"text-align: right;\">\n",
       "      <th></th>\n",
       "      <th>mean_test_score</th>\n",
       "      <th>std_test_score</th>\n",
       "      <th>number_features</th>\n",
       "    </tr>\n",
       "  </thead>\n",
       "  <tbody>\n",
       "    <tr>\n",
       "      <th>1</th>\n",
       "      <td>0.761335</td>\n",
       "      <td>0.032526</td>\n",
       "      <td>22438.000000</td>\n",
       "    </tr>\n",
       "    <tr>\n",
       "      <th>5</th>\n",
       "      <td>0.824736</td>\n",
       "      <td>0.041275</td>\n",
       "      <td>4915.666667</td>\n",
       "    </tr>\n",
       "    <tr>\n",
       "      <th>10</th>\n",
       "      <td>0.807059</td>\n",
       "      <td>0.025509</td>\n",
       "      <td>2959.333333</td>\n",
       "    </tr>\n",
       "    <tr>\n",
       "      <th>15</th>\n",
       "      <td>0.814635</td>\n",
       "      <td>0.024138</td>\n",
       "      <td>2135.000000</td>\n",
       "    </tr>\n",
       "  </tbody>\n",
       "</table>\n",
       "</div>"
      ],
      "text/plain": [
       "    mean_test_score  std_test_score  number_features\n",
       "1          0.761335        0.032526     22438.000000\n",
       "5          0.824736        0.041275      4915.666667\n",
       "10         0.807059        0.025509      2959.333333\n",
       "15         0.814635        0.024138      2135.000000"
      ]
     },
     "execution_count": 69,
     "metadata": {},
     "output_type": "execute_result"
    }
   ],
   "source": [
    "results = []\n",
    "values = [1, 5, 10, 15]\n",
    "for i, value in enumerate(values):\n",
    "    model = Pipeline([\n",
    "        (\"vectorizer\", TfidfVectorizer(tokenizer=tokenize_with_stemming, stop_words=stemming_stoplist, strip_accents=\"unicode\", min_df=value)),\n",
    "        (\"scaler\", StandardScaler(with_mean=False)),\n",
    "        (\"classifier\", LogisticRegression(solver=\"saga\", random_state=742, max_iter=10000))\n",
    "    ])\n",
    "    result = cross_validate(model, X_train, y_train, cv=skf, return_estimator=True, n_jobs=-1)\n",
    "    score = result[\"test_score\"]\n",
    "    features = np.mean(list(map(lambda e: len(e.named_steps[\"vectorizer\"].get_feature_names()), result[\"estimator\"])))\n",
    "    results.append((score.mean(), score.std(), features))\n",
    "pd.DataFrame(results, index=values, columns=[\"mean_test_score\", \"std_test_score\", \"number_features\"])"
   ]
  },
  {
   "cell_type": "markdown",
   "metadata": {},
   "source": [
    "Cerchiamo poi di capire se l'utilizzo degli *ngram* permette di migliorare significativamente l'accuratezza del nostro modello oppure no. Come potevamo aspettarci, l'uso di *ngram* aumenta l'accuratezza dello score, perchè aumenta il numero di feature a disposizione. L'uso dei 2-gram e dei 3-gram migliora sensibilmente lo score del modello, perciò li terremo come feature aggiuntive."
   ]
  },
  {
   "cell_type": "code",
   "execution_count": 70,
   "metadata": {},
   "outputs": [
    {
     "data": {
      "text/html": [
       "<div>\n",
       "<style scoped>\n",
       "    .dataframe tbody tr th:only-of-type {\n",
       "        vertical-align: middle;\n",
       "    }\n",
       "\n",
       "    .dataframe tbody tr th {\n",
       "        vertical-align: top;\n",
       "    }\n",
       "\n",
       "    .dataframe thead th {\n",
       "        text-align: right;\n",
       "    }\n",
       "</style>\n",
       "<table border=\"1\" class=\"dataframe\">\n",
       "  <thead>\n",
       "    <tr style=\"text-align: right;\">\n",
       "      <th></th>\n",
       "      <th>mean_test_score</th>\n",
       "      <th>std_test_score</th>\n",
       "      <th>number_features</th>\n",
       "    </tr>\n",
       "  </thead>\n",
       "  <tbody>\n",
       "    <tr>\n",
       "      <th>3</th>\n",
       "      <td>0.837555</td>\n",
       "      <td>0.021943</td>\n",
       "      <td>4411.666667</td>\n",
       "    </tr>\n",
       "    <tr>\n",
       "      <th>2</th>\n",
       "      <td>0.832485</td>\n",
       "      <td>0.012480</td>\n",
       "      <td>4338.333333</td>\n",
       "    </tr>\n",
       "    <tr>\n",
       "      <th>1</th>\n",
       "      <td>0.807059</td>\n",
       "      <td>0.025509</td>\n",
       "      <td>2959.333333</td>\n",
       "    </tr>\n",
       "  </tbody>\n",
       "</table>\n",
       "</div>"
      ],
      "text/plain": [
       "   mean_test_score  std_test_score  number_features\n",
       "3         0.837555        0.021943      4411.666667\n",
       "2         0.832485        0.012480      4338.333333\n",
       "1         0.807059        0.025509      2959.333333"
      ]
     },
     "execution_count": 70,
     "metadata": {},
     "output_type": "execute_result"
    }
   ],
   "source": [
    "results = []\n",
    "values = [(1, 1), (1, 2), (1, 3)]\n",
    "for i, value in enumerate(values):\n",
    "    model = Pipeline([\n",
    "        (\"vectorizer\", TfidfVectorizer(tokenizer=tokenize_with_stemming, stop_words=stemming_stoplist, strip_accents=\"unicode\", min_df=10, ngram_range=value)),\n",
    "        (\"scaler\", StandardScaler(with_mean=False)),\n",
    "        (\"classifier\", LogisticRegression(solver=\"saga\", random_state=742, max_iter=5000))\n",
    "    ])\n",
    "    result = cross_validate(model, X_train, y_train, cv=skf, return_estimator=True, n_jobs=-1)\n",
    "    score = result[\"test_score\"]\n",
    "    features = np.mean(list(map(lambda e: len(e.named_steps[\"vectorizer\"].get_feature_names()), result[\"estimator\"])))\n",
    "    results.append((score.mean(), score.std(), features))\n",
    "pd.DataFrame(results, index=[1, 2, 3], columns=[\"mean_test_score\", \"std_test_score\", \"number_features\"]) \\\n",
    "  .sort_values(\"mean_test_score\", ascending=False)"
   ]
  },
  {
   "cell_type": "markdown",
   "metadata": {},
   "source": [
    "Infine, cerchiamo di capire quale indice di importanza delle parole, se il semplice conteggio o il *tf-idf index*, è il più adatto per l'utilizzo durante la regressione. L'indice *tf-idf* risulta migliore di circa il 2%, staccando decisamente CountVectorizer, perciò continueremo perciò ad utilizzare TfidfVectorizer."
   ]
  },
  {
   "cell_type": "code",
   "execution_count": 71,
   "metadata": {},
   "outputs": [
    {
     "data": {
      "text/html": [
       "<div>\n",
       "<style scoped>\n",
       "    .dataframe tbody tr th:only-of-type {\n",
       "        vertical-align: middle;\n",
       "    }\n",
       "\n",
       "    .dataframe tbody tr th {\n",
       "        vertical-align: top;\n",
       "    }\n",
       "\n",
       "    .dataframe thead th {\n",
       "        text-align: right;\n",
       "    }\n",
       "</style>\n",
       "<table border=\"1\" class=\"dataframe\">\n",
       "  <thead>\n",
       "    <tr style=\"text-align: right;\">\n",
       "      <th></th>\n",
       "      <th>mean_test_score</th>\n",
       "      <th>std_test_score</th>\n",
       "    </tr>\n",
       "    <tr>\n",
       "      <th>vectorizer</th>\n",
       "      <th></th>\n",
       "      <th></th>\n",
       "    </tr>\n",
       "  </thead>\n",
       "  <tbody>\n",
       "    <tr>\n",
       "      <th>CountVectorizer</th>\n",
       "      <td>0.817237</td>\n",
       "      <td>0.011122</td>\n",
       "    </tr>\n",
       "    <tr>\n",
       "      <th>TfidfVectorizer</th>\n",
       "      <td>0.837555</td>\n",
       "      <td>0.021943</td>\n",
       "    </tr>\n",
       "  </tbody>\n",
       "</table>\n",
       "</div>"
      ],
      "text/plain": [
       "                 mean_test_score  std_test_score\n",
       "vectorizer                                      \n",
       "CountVectorizer         0.817237        0.011122\n",
       "TfidfVectorizer         0.837555        0.021943"
      ]
     },
     "execution_count": 71,
     "metadata": {},
     "output_type": "execute_result"
    }
   ],
   "source": [
    "model = Pipeline([\n",
    "    (\"vectorizer\", None),\n",
    "    (\"scaler\", StandardScaler(with_mean=False)),\n",
    "    (\"classifier\", LogisticRegression(solver=\"saga\", random_state=742, max_iter=5000))\n",
    "])\n",
    "grid = {\n",
    "    \"vectorizer\": [TfidfVectorizer(tokenizer=tokenize_with_stemming, stop_words=stemming_stoplist, strip_accents=\"unicode\", min_df=10, ngram_range=(1, 3)),\n",
    "                   CountVectorizer(tokenizer=tokenize_with_stemming, stop_words=stemming_stoplist, strip_accents=\"unicode\", min_df=10, ngram_range=(1, 3))]\n",
    "}\n",
    "gs = GridSearchCV(model, grid, cv=skf)\n",
    "gs.fit(X_train, y_train)\n",
    "results = pd.DataFrame(gs.cv_results_)\n",
    "results[\"vectorizer\"] = [\"TfidfVectorizer\", \"CountVectorizer\"]\n",
    "results[[\"vectorizer\", \"mean_test_score\", \"std_test_score\"]].set_index(\"vectorizer\").sort_values(\"mean_test_score\")"
   ]
  },
  {
   "cell_type": "markdown",
   "metadata": {},
   "source": [
    "### Unione di feature testuali e non"
   ]
  },
  {
   "cell_type": "markdown",
   "metadata": {},
   "source": [
    "Ridotte al minimo le feature testuali, si tratta di unirle con quelle non testuali precedentemente estratte per poter avere tutte le feature necessarie per portare avanti la classificazione. Ci occupiamo allora di ridurre il numero di feature anche per quelle non testuali, visto che dall'analisi dei dati molte sono risultate scarsissimamente popolate. Per prima cosa riduciamo il numero dei personaggi. L'uso di una regolarizzazione L1 più forte rende lo score più alto, ma solo se non è troppo forte. Questo è evidentemente segno del fatto che moltissimi personaggi sono irrilevanti ai fini dell'identificazione della qualità di un episodio. Usiamo perciò il coefficiente che ci dà lo score più alto, anche se questo significa sacrificare molti personaggi."
   ]
  },
  {
   "cell_type": "code",
   "execution_count": 72,
   "metadata": {},
   "outputs": [
    {
     "data": {
      "text/html": [
       "<div>\n",
       "<style scoped>\n",
       "    .dataframe tbody tr th:only-of-type {\n",
       "        vertical-align: middle;\n",
       "    }\n",
       "\n",
       "    .dataframe tbody tr th {\n",
       "        vertical-align: top;\n",
       "    }\n",
       "\n",
       "    .dataframe thead th {\n",
       "        text-align: right;\n",
       "    }\n",
       "</style>\n",
       "<table border=\"1\" class=\"dataframe\">\n",
       "  <thead>\n",
       "    <tr style=\"text-align: right;\">\n",
       "      <th></th>\n",
       "      <th>mean_test_score</th>\n",
       "      <th>std_test_score</th>\n",
       "      <th>number_features</th>\n",
       "    </tr>\n",
       "    <tr>\n",
       "      <th>C</th>\n",
       "      <th></th>\n",
       "      <th></th>\n",
       "      <th></th>\n",
       "    </tr>\n",
       "  </thead>\n",
       "  <tbody>\n",
       "    <tr>\n",
       "      <th>0.10</th>\n",
       "      <td>0.733403</td>\n",
       "      <td>0.031875</td>\n",
       "      <td>134.333333</td>\n",
       "    </tr>\n",
       "    <tr>\n",
       "      <th>5.00</th>\n",
       "      <td>0.720661</td>\n",
       "      <td>0.043197</td>\n",
       "      <td>1907.666667</td>\n",
       "    </tr>\n",
       "    <tr>\n",
       "      <th>7.00</th>\n",
       "      <td>0.718136</td>\n",
       "      <td>0.038728</td>\n",
       "      <td>2140.000000</td>\n",
       "    </tr>\n",
       "    <tr>\n",
       "      <th>10.00</th>\n",
       "      <td>0.718116</td>\n",
       "      <td>0.044412</td>\n",
       "      <td>2453.333333</td>\n",
       "    </tr>\n",
       "    <tr>\n",
       "      <th>1.00</th>\n",
       "      <td>0.707957</td>\n",
       "      <td>0.045905</td>\n",
       "      <td>1070.666667</td>\n",
       "    </tr>\n",
       "    <tr>\n",
       "      <th>0.05</th>\n",
       "      <td>0.652171</td>\n",
       "      <td>0.033029</td>\n",
       "      <td>9.333333</td>\n",
       "    </tr>\n",
       "  </tbody>\n",
       "</table>\n",
       "</div>"
      ],
      "text/plain": [
       "       mean_test_score  std_test_score  number_features\n",
       "C                                                      \n",
       "0.10          0.733403        0.031875       134.333333\n",
       "5.00          0.720661        0.043197      1907.666667\n",
       "7.00          0.718136        0.038728      2140.000000\n",
       "10.00         0.718116        0.044412      2453.333333\n",
       "1.00          0.707957        0.045905      1070.666667\n",
       "0.05          0.652171        0.033029         9.333333"
      ]
     },
     "execution_count": 72,
     "metadata": {},
     "output_type": "execute_result"
    }
   ],
   "source": [
    "characters_train, characters_val, y_train, y_val = train_test_split(characters, episodes[\"label\"], test_size=0.3, random_state=742)\n",
    "results = []\n",
    "values = [1, 5, 7, 10, 0.1, 0.05]\n",
    "for i, C in enumerate(values):\n",
    "    model = Pipeline([\n",
    "        (\"scaler\", StandardScaler(with_mean=False)),\n",
    "        (\"classifier\", LogisticRegression(solver=\"saga\", random_state=742, max_iter=10000, penalty=\"l1\", C=C))\n",
    "    ])\n",
    "    result = cross_validate(model, characters_train, y_train, cv=skf, return_estimator=True, n_jobs=-1)\n",
    "    score = result[\"test_score\"]\n",
    "    features = np.mean(list(map(lambda e: (e.named_steps[\"classifier\"].coef_[0] != 0).sum(), result[\"estimator\"])))\n",
    "    results.append((score.mean(), score.std(), features))\n",
    "pd.DataFrame(results, index=pd.Index(values, name=\"C\"), columns=[\"mean_test_score\", \"std_test_score\", \"number_features\"]) \\\n",
    "  .sort_values(\"mean_test_score\", ascending=False)"
   ]
  },
  {
   "cell_type": "markdown",
   "metadata": {},
   "source": [
    "Osserviamo che tra i personaggi che abbiamo scartato, moltissimi apparivano solo in una puntata e che perciò non sono personaggi ricorrenti, ma semplici comparse di sfondo a cui sono date delle battute ma che non ci dicono chi effettivamente è il protagonista in un dato episodio."
   ]
  },
  {
   "cell_type": "code",
   "execution_count": 73,
   "metadata": {},
   "outputs": [
    {
     "data": {
      "text/plain": [
       "0           \"For Dummies\" Author\n",
       "1    \"Just Stamp the Ticket\" Man\n",
       "2                     \"Mario\" #2\n",
       "3                  \"Shorts\" Bart\n",
       "4                 \"Shorts\" Homer\n",
       "5                  \"Shorts\" Lisa\n",
       "6                 \"Shorts\" Marge\n",
       "7                \"Yeeeessss\" Man\n",
       "8                    \"Yesss\" Man\n",
       "9                \"mad\" Writer #1\n",
       "Name: name, dtype: object"
      ]
     },
     "execution_count": 73,
     "metadata": {},
     "output_type": "execute_result"
    }
   ],
   "source": [
    "model = Pipeline([\n",
    "        (\"scaler\", StandardScaler(with_mean=False)),\n",
    "        (\"classifier\", LogisticRegression(solver=\"saga\", random_state=742, max_iter=10000, penalty=\"l1\", C=0.1))\n",
    "    ])\n",
    "model.fit(characters_train, y_train)\n",
    "pd.Series(characters_cols[model.named_steps[\"classifier\"].coef_[0] == 0]).head(10)"
   ]
  },
  {
   "cell_type": "markdown",
   "metadata": {},
   "source": [
    "Prcediamo quindi alla rimozione dei personaggi irrilevanti."
   ]
  },
  {
   "cell_type": "code",
   "execution_count": 74,
   "metadata": {},
   "outputs": [
    {
     "data": {
      "text/plain": [
       "<564x384 sparse matrix of type '<class 'numpy.int8'>'\n",
       "\twith 4464 stored elements in Compressed Sparse Row format>"
      ]
     },
     "execution_count": 74,
     "metadata": {},
     "output_type": "execute_result"
    }
   ],
   "source": [
    "characters = csr_matrix(pd.DataFrame(characters.toarray(), columns=characters_cols) \\\n",
    "                          .drop(columns=characters_cols[model.named_steps[\"classifier\"].coef_[0] == 0]))\n",
    "characters_cols = characters_cols.drop(characters_cols[model.named_steps[\"classifier\"].coef_[0] == 0])\n",
    "characters"
   ]
  },
  {
   "cell_type": "markdown",
   "metadata": {},
   "source": [
    "Ripetiamo quindi lo stesso procedimento con le locations per eliminare quelle non particolarmente significative. Anche in questo caso, riusciamo a ridurre significativamente le feature da usare, anche se meno rispetto a prima, usando una regolarizzazione un po' meno intensa. In effetti, le location erano comunque molto sparse su varie feature, ma non così tanto come per i personaggi."
   ]
  },
  {
   "cell_type": "code",
   "execution_count": 75,
   "metadata": {},
   "outputs": [
    {
     "data": {
      "text/html": [
       "<div>\n",
       "<style scoped>\n",
       "    .dataframe tbody tr th:only-of-type {\n",
       "        vertical-align: middle;\n",
       "    }\n",
       "\n",
       "    .dataframe tbody tr th {\n",
       "        vertical-align: top;\n",
       "    }\n",
       "\n",
       "    .dataframe thead th {\n",
       "        text-align: right;\n",
       "    }\n",
       "</style>\n",
       "<table border=\"1\" class=\"dataframe\">\n",
       "  <thead>\n",
       "    <tr style=\"text-align: right;\">\n",
       "      <th></th>\n",
       "      <th>mean_test_score</th>\n",
       "      <th>std_test_score</th>\n",
       "      <th>number_features</th>\n",
       "    </tr>\n",
       "    <tr>\n",
       "      <th>C</th>\n",
       "      <th></th>\n",
       "      <th></th>\n",
       "      <th></th>\n",
       "    </tr>\n",
       "  </thead>\n",
       "  <tbody>\n",
       "    <tr>\n",
       "      <th>1.00</th>\n",
       "      <td>0.649684</td>\n",
       "      <td>0.038428</td>\n",
       "      <td>972.666667</td>\n",
       "    </tr>\n",
       "    <tr>\n",
       "      <th>0.50</th>\n",
       "      <td>0.644672</td>\n",
       "      <td>0.040517</td>\n",
       "      <td>886.666667</td>\n",
       "    </tr>\n",
       "    <tr>\n",
       "      <th>0.25</th>\n",
       "      <td>0.637077</td>\n",
       "      <td>0.025611</td>\n",
       "      <td>735.000000</td>\n",
       "    </tr>\n",
       "    <tr>\n",
       "      <th>3.00</th>\n",
       "      <td>0.637019</td>\n",
       "      <td>0.053961</td>\n",
       "      <td>1379.333333</td>\n",
       "    </tr>\n",
       "    <tr>\n",
       "      <th>0.10</th>\n",
       "      <td>0.634571</td>\n",
       "      <td>0.021492</td>\n",
       "      <td>75.333333</td>\n",
       "    </tr>\n",
       "    <tr>\n",
       "      <th>5.00</th>\n",
       "      <td>0.621752</td>\n",
       "      <td>0.051265</td>\n",
       "      <td>1571.333333</td>\n",
       "    </tr>\n",
       "  </tbody>\n",
       "</table>\n",
       "</div>"
      ],
      "text/plain": [
       "      mean_test_score  std_test_score  number_features\n",
       "C                                                     \n",
       "1.00         0.649684        0.038428       972.666667\n",
       "0.50         0.644672        0.040517       886.666667\n",
       "0.25         0.637077        0.025611       735.000000\n",
       "3.00         0.637019        0.053961      1379.333333\n",
       "0.10         0.634571        0.021492        75.333333\n",
       "5.00         0.621752        0.051265      1571.333333"
      ]
     },
     "execution_count": 75,
     "metadata": {},
     "output_type": "execute_result"
    }
   ],
   "source": [
    "locations_train, locations_val, y_train, y_val = train_test_split(locations, episodes[\"label\"], test_size=0.3, random_state=742)\n",
    "results = []\n",
    "values = [1, 3, 5, 0.5, 0.25, 0.1]\n",
    "for i, C in enumerate(values):\n",
    "    model = Pipeline([\n",
    "        (\"scaler\", StandardScaler(with_mean=False)),\n",
    "        (\"classifier\", LogisticRegression(solver=\"saga\", random_state=742, max_iter=50000, penalty=\"l1\", C=C))\n",
    "    ])\n",
    "    result = cross_validate(model, locations_train, y_train, cv=skf, return_estimator=True, n_jobs=-1)\n",
    "    score = result[\"test_score\"]\n",
    "    features = np.mean(list(map(lambda e: (e.named_steps[\"classifier\"].coef_[0] != 0).sum(), result[\"estimator\"])))\n",
    "    results.append((score.mean(), score.std(), features))\n",
    "pd.DataFrame(results, index=pd.Index(values, name=\"C\"), columns=[\"mean_test_score\", \"std_test_score\", \"number_features\"]) \\\n",
    "  .sort_values(\"mean_test_score\", ascending=False)"
   ]
  },
  {
   "cell_type": "markdown",
   "metadata": {},
   "source": [
    "Notiamo anche in queato caso che le feature rimosse sembrano essere quelle di location che compaiono solo in una puntata e che perciò non incidono sull'apprezzamento delle varie puntate in generale."
   ]
  },
  {
   "cell_type": "code",
   "execution_count": 76,
   "metadata": {},
   "outputs": [
    {
     "data": {
      "text/plain": [
       "0    \"ALL THE WRONG REASONS\" MOVIE THEATER\n",
       "1              \"BOOKS FOR DUMMIES\" SECTION\n",
       "2                     \"FAMILY MATTERS\" SET\n",
       "3                          \"GUT CHECK\" SET\n",
       "4                           \"HEADBUTT\" SET\n",
       "5                  \"INCEPTION\"-STYLE BEACH\n",
       "6                      \"IT NEVER ENDS\" SET\n",
       "7                         \"LAUGH IN\" STAGE\n",
       "8                           \"MAD\" BUILDING\n",
       "9                     \"MOON BOUNCE\" CASTLE\n",
       "Name: name, dtype: object"
      ]
     },
     "execution_count": 76,
     "metadata": {},
     "output_type": "execute_result"
    }
   ],
   "source": [
    "model = Pipeline([\n",
    "    (\"scaler\", StandardScaler(with_mean=False)),\n",
    "    (\"classifier\", LogisticRegression(solver=\"saga\", random_state=742, max_iter=10000, penalty=\"l1\", C=1.0))\n",
    "])\n",
    "model.fit(locations_train, y_train)\n",
    "pd.Series(locations_cols[model.named_steps[\"classifier\"].coef_.sum(axis=0) == 0]).head(10)"
   ]
  },
  {
   "cell_type": "markdown",
   "metadata": {},
   "source": [
    "Procediamo quindi come prima ad eliminare tutte quelle feature non usate per la classificazione."
   ]
  },
  {
   "cell_type": "code",
   "execution_count": 77,
   "metadata": {},
   "outputs": [
    {
     "data": {
      "text/plain": [
       "<564x1563 sparse matrix of type '<class 'numpy.int8'>'\n",
       "\twith 5102 stored elements in Compressed Sparse Row format>"
      ]
     },
     "execution_count": 77,
     "metadata": {},
     "output_type": "execute_result"
    }
   ],
   "source": [
    "locations = csr_matrix(pd.DataFrame(locations.toarray(), columns=locations_cols) \\\n",
    "                         .drop(columns=locations_cols[model.named_steps[\"classifier\"].coef_[0] == 0]))\n",
    "locations_cols = locations_cols.drop(locations_cols[model.named_steps[\"classifier\"].coef_[0] == 0])\n",
    "locations"
   ]
  },
  {
   "cell_type": "markdown",
   "metadata": {},
   "source": [
    "Finita questa procedura di estrazione, possiamo procedere alla fusione dei nostri tre set di feature e alla costruzione di training set e validation set. Questo implica, per quanto riguarda i copioni, che dopo aver effettuato il loro split costruiamo anche la matrice documenti-termini su quelli presenti nel training set, su cui ci baseremo per costruire quella del validation set."
   ]
  },
  {
   "cell_type": "code",
   "execution_count": 78,
   "metadata": {},
   "outputs": [],
   "source": [
    "words_train, words_val, y_train, y_val, characters_train, characters_val, locations_train, locations_val \\\n",
    "    = train_test_split(episodes[\"spoken_words\"],\n",
    "                       episodes[\"label\"],\n",
    "                       characters,\n",
    "                       locations,\n",
    "                       test_size=0.3,\n",
    "                       random_state=742)\n",
    "vectorizer = TfidfVectorizer(tokenizer=tokenize_with_stemming, stop_words=stemming_stoplist, strip_accents=\"unicode\", min_df=10, ngram_range=(1, 3))\n",
    "dtm_train = vectorizer.fit_transform(words_train)\n",
    "dtm_val = vectorizer.transform(words_val)\n",
    "X_train = hstack([dtm_train, characters_train, locations_train])\n",
    "X_val = hstack([dtm_val, characters_val, locations_val])\n",
    "index = vectorizer.get_feature_names() + characters_cols.to_list() + locations_cols.to_list()"
   ]
  },
  {
   "cell_type": "markdown",
   "metadata": {},
   "source": [
    "Abbiamo perciò a disposizione circa 8.000 feature sulle quali effettuare la nostra classificazione."
   ]
  },
  {
   "cell_type": "code",
   "execution_count": 79,
   "metadata": {},
   "outputs": [
    {
     "data": {
      "text/plain": [
       "(394, 8476)"
      ]
     },
     "execution_count": 79,
     "metadata": {},
     "output_type": "execute_result"
    }
   ],
   "source": [
    "X_train.shape"
   ]
  },
  {
   "cell_type": "markdown",
   "metadata": {},
   "source": [
    "### Test di modelli di classificazione"
   ]
  },
  {
   "cell_type": "markdown",
   "metadata": {},
   "source": [
    "A questo punto, estratte tutte le feature che abbiamo intenzione di usare, possiamo cercare i modelli che classificano meglio i copioni degli episodi all'interno di ciascuna classe. Per prima cosa definiamo alcune funzioni, come quella per il calcolo dell'intervallo di confidenza, che utilizzeremo per valutare i nostri modelli. In ciascun test faremo attenzione a bilanciare i pesi delle classi. Infatti, pur non essendoci forti sbilanciamenti tra le due, cerchiamo comunque di favorire quei modelli che riescono ad individuare con maggior accuratezza la classe dalla dimensione più piccola."
   ]
  },
  {
   "cell_type": "code",
   "execution_count": 80,
   "metadata": {},
   "outputs": [],
   "source": [
    "def confidence_interval(model, X_val, y_val, confidence_level=0.95):\n",
    "    accuracy = model.score(X_val, y_val)\n",
    "    size = X_val.shape[0]\n",
    "    Z = norm.ppf((1 + confidence_level) / 2)\n",
    "    b = (2 * size * accuracy + Z ** 2) \n",
    "    delta_root = Z * np.sqrt(Z ** 2 + 4 * size * accuracy - 4 * size * accuracy ** 2) \n",
    "    return (b - delta_root) / (2 * (size + Z ** 2)), (b + delta_root) / (2 * (size + Z**2))"
   ]
  },
  {
   "cell_type": "markdown",
   "metadata": {},
   "source": [
    "#### Classificazione tramite Perceptron"
   ]
  },
  {
   "cell_type": "markdown",
   "metadata": {},
   "source": [
    "Iniziamo i nostri test a partire dall'utilizzo di perceptron come metodo per l'individuazione di modelli migliori, il più semplice."
   ]
  },
  {
   "cell_type": "code",
   "execution_count": 81,
   "metadata": {},
   "outputs": [],
   "source": [
    "model_perc = Pipeline([\n",
    "    (\"scaler\", StandardScaler(with_mean=False)),\n",
    "    (\"classifier\", Perceptron(random_state=742, max_iter=10000, n_jobs=-1, class_weight=\"balanced\"))\n",
    "])\n",
    "grid = [{\n",
    "    \"classifier__penalty\": [\"l2\", \"l1\", \"elasticnet\"],\n",
    "    \"classifier__alpha\": np.logspace(-2, 2, 5),\n",
    "    \"classifier__eta0\": [0.1, 0.5, 0.9]\n",
    "}, {\n",
    "    \"classifier__penalty\": [None],\n",
    "    \"classifier__eta0\": [0.1, 0.5, 0.9]\n",
    "}]"
   ]
  },
  {
   "cell_type": "markdown",
   "metadata": {},
   "source": [
    "La sua semplicità si rispecchia nei risultati che otteniamo: nessun tipo di regolarizzazione riesce a migliorare gli score dei modelli testati, che rimangono sempre uguali nonostante la variazione del parametro ``eta0``. Inoltre, i risultati si aggirano attorno all'84,8%, sono perciò decisamente migliorabili."
   ]
  },
  {
   "cell_type": "code",
   "execution_count": 82,
   "metadata": {},
   "outputs": [
    {
     "data": {
      "text/html": [
       "<div>\n",
       "<style scoped>\n",
       "    .dataframe tbody tr th:only-of-type {\n",
       "        vertical-align: middle;\n",
       "    }\n",
       "\n",
       "    .dataframe tbody tr th {\n",
       "        vertical-align: top;\n",
       "    }\n",
       "\n",
       "    .dataframe thead th {\n",
       "        text-align: right;\n",
       "    }\n",
       "</style>\n",
       "<table border=\"1\" class=\"dataframe\">\n",
       "  <thead>\n",
       "    <tr style=\"text-align: right;\">\n",
       "      <th></th>\n",
       "      <th>param_classifier__penalty</th>\n",
       "      <th>param_classifier__alpha</th>\n",
       "      <th>param_classifier__eta0</th>\n",
       "      <th>mean_test_score</th>\n",
       "      <th>std_test_score</th>\n",
       "    </tr>\n",
       "  </thead>\n",
       "  <tbody>\n",
       "    <tr>\n",
       "      <th>47</th>\n",
       "      <td>None</td>\n",
       "      <td>NaN</td>\n",
       "      <td>0.9</td>\n",
       "      <td>0.847695</td>\n",
       "      <td>0.006686</td>\n",
       "    </tr>\n",
       "    <tr>\n",
       "      <th>45</th>\n",
       "      <td>None</td>\n",
       "      <td>NaN</td>\n",
       "      <td>0.1</td>\n",
       "      <td>0.847695</td>\n",
       "      <td>0.006686</td>\n",
       "    </tr>\n",
       "    <tr>\n",
       "      <th>46</th>\n",
       "      <td>None</td>\n",
       "      <td>NaN</td>\n",
       "      <td>0.5</td>\n",
       "      <td>0.847695</td>\n",
       "      <td>0.006686</td>\n",
       "    </tr>\n",
       "    <tr>\n",
       "      <th>0</th>\n",
       "      <td>l2</td>\n",
       "      <td>0.01</td>\n",
       "      <td>0.1</td>\n",
       "      <td>0.822346</td>\n",
       "      <td>0.025104</td>\n",
       "    </tr>\n",
       "    <tr>\n",
       "      <th>2</th>\n",
       "      <td>elasticnet</td>\n",
       "      <td>0.01</td>\n",
       "      <td>0.1</td>\n",
       "      <td>0.822346</td>\n",
       "      <td>0.025104</td>\n",
       "    </tr>\n",
       "    <tr>\n",
       "      <th>5</th>\n",
       "      <td>elasticnet</td>\n",
       "      <td>0.01</td>\n",
       "      <td>0.5</td>\n",
       "      <td>0.786973</td>\n",
       "      <td>0.048481</td>\n",
       "    </tr>\n",
       "    <tr>\n",
       "      <th>3</th>\n",
       "      <td>l2</td>\n",
       "      <td>0.01</td>\n",
       "      <td>0.5</td>\n",
       "      <td>0.786973</td>\n",
       "      <td>0.048481</td>\n",
       "    </tr>\n",
       "    <tr>\n",
       "      <th>11</th>\n",
       "      <td>elasticnet</td>\n",
       "      <td>0.1</td>\n",
       "      <td>0.1</td>\n",
       "      <td>0.707842</td>\n",
       "      <td>0.090954</td>\n",
       "    </tr>\n",
       "    <tr>\n",
       "      <th>9</th>\n",
       "      <td>l2</td>\n",
       "      <td>0.1</td>\n",
       "      <td>0.1</td>\n",
       "      <td>0.707842</td>\n",
       "      <td>0.090954</td>\n",
       "    </tr>\n",
       "    <tr>\n",
       "      <th>1</th>\n",
       "      <td>l1</td>\n",
       "      <td>0.01</td>\n",
       "      <td>0.1</td>\n",
       "      <td>0.695428</td>\n",
       "      <td>0.043643</td>\n",
       "    </tr>\n",
       "  </tbody>\n",
       "</table>\n",
       "</div>"
      ],
      "text/plain": [
       "   param_classifier__penalty param_classifier__alpha param_classifier__eta0  \\\n",
       "47                      None                     NaN                    0.9   \n",
       "45                      None                     NaN                    0.1   \n",
       "46                      None                     NaN                    0.5   \n",
       "0                         l2                    0.01                    0.1   \n",
       "2                 elasticnet                    0.01                    0.1   \n",
       "5                 elasticnet                    0.01                    0.5   \n",
       "3                         l2                    0.01                    0.5   \n",
       "11                elasticnet                     0.1                    0.1   \n",
       "9                         l2                     0.1                    0.1   \n",
       "1                         l1                    0.01                    0.1   \n",
       "\n",
       "    mean_test_score  std_test_score  \n",
       "47         0.847695        0.006686  \n",
       "45         0.847695        0.006686  \n",
       "46         0.847695        0.006686  \n",
       "0          0.822346        0.025104  \n",
       "2          0.822346        0.025104  \n",
       "5          0.786973        0.048481  \n",
       "3          0.786973        0.048481  \n",
       "11         0.707842        0.090954  \n",
       "9          0.707842        0.090954  \n",
       "1          0.695428        0.043643  "
      ]
     },
     "execution_count": 82,
     "metadata": {},
     "output_type": "execute_result"
    }
   ],
   "source": [
    "gs_perc = GridSearchCV(model_perc, grid, cv=skf)\n",
    "gs_perc.fit(X_train, y_train)\n",
    "pd.DataFrame(gs_perc.cv_results_)[[\"param_classifier__penalty\", \"param_classifier__alpha\", \"param_classifier__eta0\", \"mean_test_score\", \"std_test_score\"]] \\\n",
    "  .sort_values(\"mean_test_score\", ascending=False) \\\n",
    "  .head(10)"
   ]
  },
  {
   "cell_type": "markdown",
   "metadata": {},
   "source": [
    "Valutando l'intervallo di confidenza basato sul validation set, vediamo che l'accuratezza può oscillare tra il 67,7% e l'80,6%."
   ]
  },
  {
   "cell_type": "code",
   "execution_count": 83,
   "metadata": {},
   "outputs": [
    {
     "data": {
      "text/plain": [
       "(0.6767504808825887, 0.806448409473252)"
      ]
     },
     "execution_count": 83,
     "metadata": {},
     "output_type": "execute_result"
    }
   ],
   "source": [
    "best_perc = gs_perc.best_estimator_\n",
    "y_pred = best_perc.predict(X_val)\n",
    "confidence_interval(best_perc, X_val, y_val)"
   ]
  },
  {
   "cell_type": "markdown",
   "metadata": {},
   "source": [
    "I valori di *precision* e *recall* ci dicono che il migliore modello individuato tende ad essere più preciso nel distinguere dagli altri gli episodi \"brutti\", rispetto a quanto accade nell'individuare quelli \"belli\", mentre al contrario tende ad essere più capace, messo di fronte agli episodi \"belli\", di capire che sono effettivamente \"belli\", rispetto a quanto capita con quelli \"brutti\"."
   ]
  },
  {
   "cell_type": "code",
   "execution_count": 84,
   "metadata": {},
   "outputs": [
    {
     "data": {
      "text/html": [
       "<div>\n",
       "<style scoped>\n",
       "    .dataframe tbody tr th:only-of-type {\n",
       "        vertical-align: middle;\n",
       "    }\n",
       "\n",
       "    .dataframe tbody tr th {\n",
       "        vertical-align: top;\n",
       "    }\n",
       "\n",
       "    .dataframe thead th {\n",
       "        text-align: right;\n",
       "    }\n",
       "</style>\n",
       "<table border=\"1\" class=\"dataframe\">\n",
       "  <thead>\n",
       "    <tr style=\"text-align: right;\">\n",
       "      <th></th>\n",
       "      <th>bad</th>\n",
       "      <th>good</th>\n",
       "    </tr>\n",
       "  </thead>\n",
       "  <tbody>\n",
       "    <tr>\n",
       "      <th>bad</th>\n",
       "      <td>68</td>\n",
       "      <td>28</td>\n",
       "    </tr>\n",
       "    <tr>\n",
       "      <th>good</th>\n",
       "      <td>15</td>\n",
       "      <td>59</td>\n",
       "    </tr>\n",
       "  </tbody>\n",
       "</table>\n",
       "</div>"
      ],
      "text/plain": [
       "      bad  good\n",
       "bad    68    28\n",
       "good   15    59"
      ]
     },
     "execution_count": 84,
     "metadata": {},
     "output_type": "execute_result"
    }
   ],
   "source": [
    "pd.DataFrame(confusion_matrix(y_val, y_pred), index=best_perc.classes_, columns=best_perc.classes_)"
   ]
  },
  {
   "cell_type": "code",
   "execution_count": 85,
   "metadata": {},
   "outputs": [
    {
     "name": "stdout",
     "output_type": "stream",
     "text": [
      "              precision    recall  f1-score   support\n",
      "\n",
      "         bad       0.82      0.71      0.76        96\n",
      "        good       0.68      0.80      0.73        74\n",
      "\n",
      "    accuracy                           0.75       170\n",
      "   macro avg       0.75      0.75      0.75       170\n",
      "weighted avg       0.76      0.75      0.75       170\n",
      "\n"
     ]
    }
   ],
   "source": [
    "print(classification_report(y_val, y_pred))"
   ]
  },
  {
   "cell_type": "markdown",
   "metadata": {},
   "source": [
    "#### Classificazione tramite regressione logistica"
   ]
  },
  {
   "cell_type": "markdown",
   "metadata": {},
   "source": [
    "Possiamo utilizzare al posto del perceptron un metodo più raffinato come la regressione logistica, in concomitanza con tutti i possibili tipi di regolarizzazione ammissibili, cioè Lasso, Ridge ed Elastic Net. Definiamo innanzitutto il nostro modello."
   ]
  },
  {
   "cell_type": "code",
   "execution_count": 86,
   "metadata": {},
   "outputs": [],
   "source": [
    "model_logreg = Pipeline([\n",
    "    (\"scaler\", StandardScaler(with_mean=False)),\n",
    "    (\"classifier\", LogisticRegression(solver=\"saga\", random_state=742, max_iter=10000, class_weight=\"balanced\"))\n",
    "])"
   ]
  },
  {
   "cell_type": "markdown",
   "metadata": {},
   "source": [
    "Passiamo poi alla ricerca vera e propria. Se consideriamo le singole regolarizzazioni Lasso e Ridge, il risultato migliore si ha in corrispondenza di una regolarizzazione Ridge più intensa ($\\lambda = 0.01$). L'uso di una regolarizzazione sempre molto intensa, ma in concomitanza con la regressione Lasso, fa crollare a picco lo score. Il modello al secondo posto, che ha uno score comparabile con quello al primo, fa uso della regolarizzazione Lasso, ma con un peso molto più basso. Evidentemente limitare la dimensione dei coefficienti ha un effetto decisamente più significativo sulle performance di un ipotetico modello rispetto ad eliminare direttamente le feature inutili."
   ]
  },
  {
   "cell_type": "code",
   "execution_count": 87,
   "metadata": {},
   "outputs": [
    {
     "data": {
      "text/html": [
       "<div>\n",
       "<style scoped>\n",
       "    .dataframe tbody tr th:only-of-type {\n",
       "        vertical-align: middle;\n",
       "    }\n",
       "\n",
       "    .dataframe tbody tr th {\n",
       "        vertical-align: top;\n",
       "    }\n",
       "\n",
       "    .dataframe thead th {\n",
       "        text-align: right;\n",
       "    }\n",
       "</style>\n",
       "<table border=\"1\" class=\"dataframe\">\n",
       "  <thead>\n",
       "    <tr style=\"text-align: right;\">\n",
       "      <th></th>\n",
       "      <th>param_classifier__penalty</th>\n",
       "      <th>param_classifier__C</th>\n",
       "      <th>mean_test_score</th>\n",
       "      <th>std_test_score</th>\n",
       "    </tr>\n",
       "  </thead>\n",
       "  <tbody>\n",
       "    <tr>\n",
       "      <th>1</th>\n",
       "      <td>l2</td>\n",
       "      <td>0.01</td>\n",
       "      <td>0.880716</td>\n",
       "      <td>0.015642</td>\n",
       "    </tr>\n",
       "    <tr>\n",
       "      <th>8</th>\n",
       "      <td>l1</td>\n",
       "      <td>100</td>\n",
       "      <td>0.878152</td>\n",
       "      <td>0.016629</td>\n",
       "    </tr>\n",
       "    <tr>\n",
       "      <th>6</th>\n",
       "      <td>l1</td>\n",
       "      <td>10</td>\n",
       "      <td>0.875646</td>\n",
       "      <td>0.003135</td>\n",
       "    </tr>\n",
       "    <tr>\n",
       "      <th>3</th>\n",
       "      <td>l2</td>\n",
       "      <td>0.1</td>\n",
       "      <td>0.875646</td>\n",
       "      <td>0.018959</td>\n",
       "    </tr>\n",
       "    <tr>\n",
       "      <th>5</th>\n",
       "      <td>l2</td>\n",
       "      <td>1</td>\n",
       "      <td>0.873101</td>\n",
       "      <td>0.015639</td>\n",
       "    </tr>\n",
       "    <tr>\n",
       "      <th>7</th>\n",
       "      <td>l2</td>\n",
       "      <td>10</td>\n",
       "      <td>0.873101</td>\n",
       "      <td>0.015639</td>\n",
       "    </tr>\n",
       "    <tr>\n",
       "      <th>9</th>\n",
       "      <td>l2</td>\n",
       "      <td>100</td>\n",
       "      <td>0.873101</td>\n",
       "      <td>0.015639</td>\n",
       "    </tr>\n",
       "    <tr>\n",
       "      <th>4</th>\n",
       "      <td>l1</td>\n",
       "      <td>1</td>\n",
       "      <td>0.829921</td>\n",
       "      <td>0.009961</td>\n",
       "    </tr>\n",
       "    <tr>\n",
       "      <th>2</th>\n",
       "      <td>l1</td>\n",
       "      <td>0.1</td>\n",
       "      <td>0.761354</td>\n",
       "      <td>0.026484</td>\n",
       "    </tr>\n",
       "    <tr>\n",
       "      <th>0</th>\n",
       "      <td>l1</td>\n",
       "      <td>0.01</td>\n",
       "      <td>0.525657</td>\n",
       "      <td>0.077068</td>\n",
       "    </tr>\n",
       "  </tbody>\n",
       "</table>\n",
       "</div>"
      ],
      "text/plain": [
       "  param_classifier__penalty param_classifier__C  mean_test_score  \\\n",
       "1                        l2                0.01         0.880716   \n",
       "8                        l1                 100         0.878152   \n",
       "6                        l1                  10         0.875646   \n",
       "3                        l2                 0.1         0.875646   \n",
       "5                        l2                   1         0.873101   \n",
       "7                        l2                  10         0.873101   \n",
       "9                        l2                 100         0.873101   \n",
       "4                        l1                   1         0.829921   \n",
       "2                        l1                 0.1         0.761354   \n",
       "0                        l1                0.01         0.525657   \n",
       "\n",
       "   std_test_score  \n",
       "1        0.015642  \n",
       "8        0.016629  \n",
       "6        0.003135  \n",
       "3        0.018959  \n",
       "5        0.015639  \n",
       "7        0.015639  \n",
       "9        0.015639  \n",
       "4        0.009961  \n",
       "2        0.026484  \n",
       "0        0.077068  "
      ]
     },
     "execution_count": 87,
     "metadata": {},
     "output_type": "execute_result"
    }
   ],
   "source": [
    "grid_l1_l2 = {\n",
    "    \"classifier__penalty\": [\"l1\", \"l2\"],\n",
    "    \"classifier__C\": np.logspace(-2, 2, 5)\n",
    "}\n",
    "gs_l1_l2 = GridSearchCV(model_logreg, grid_l1_l2, cv=skf)\n",
    "gs_l1_l2.fit(X_train, y_train)\n",
    "pd.DataFrame(gs_l1_l2.cv_results_)[[\"param_classifier__penalty\", \"param_classifier__C\", \"mean_test_score\", \"std_test_score\"]] \\\n",
    "  .sort_values(\"mean_test_score\", ascending=False)"
   ]
  },
  {
   "cell_type": "markdown",
   "metadata": {},
   "source": [
    "L'uso di regolarizzazione Elastic Net riconferma il risultato già trovato in precedenza, ovverosia che i modelli migliori si hanno quando il peso della regolarizzazione è quasi esclusivamente concentrato sulla regolarizzazione Ridge anzichè Lasso, quindi con un valore di ``l1_ratio`` basso. In questo caso però, il miglior modello estratto si ha in concomitanza con un parametro di regolarizzazione relativamente basso. In ogni caso, il modello con lo score migliore ha uno score identico al secondo tra quelli osservati precedentemente."
   ]
  },
  {
   "cell_type": "code",
   "execution_count": 88,
   "metadata": {},
   "outputs": [
    {
     "data": {
      "text/html": [
       "<div>\n",
       "<style scoped>\n",
       "    .dataframe tbody tr th:only-of-type {\n",
       "        vertical-align: middle;\n",
       "    }\n",
       "\n",
       "    .dataframe tbody tr th {\n",
       "        vertical-align: top;\n",
       "    }\n",
       "\n",
       "    .dataframe thead th {\n",
       "        text-align: right;\n",
       "    }\n",
       "</style>\n",
       "<table border=\"1\" class=\"dataframe\">\n",
       "  <thead>\n",
       "    <tr style=\"text-align: right;\">\n",
       "      <th></th>\n",
       "      <th>param_classifier__C</th>\n",
       "      <th>param_classifier__l1_ratio</th>\n",
       "      <th>mean_test_score</th>\n",
       "      <th>std_test_score</th>\n",
       "    </tr>\n",
       "  </thead>\n",
       "  <tbody>\n",
       "    <tr>\n",
       "      <th>8</th>\n",
       "      <td>10</td>\n",
       "      <td>0.1</td>\n",
       "      <td>0.878152</td>\n",
       "      <td>0.016629</td>\n",
       "    </tr>\n",
       "    <tr>\n",
       "      <th>7</th>\n",
       "      <td>10</td>\n",
       "      <td>0.5</td>\n",
       "      <td>0.873101</td>\n",
       "      <td>0.009444</td>\n",
       "    </tr>\n",
       "    <tr>\n",
       "      <th>6</th>\n",
       "      <td>10</td>\n",
       "      <td>0.9</td>\n",
       "      <td>0.870576</td>\n",
       "      <td>0.005813</td>\n",
       "    </tr>\n",
       "    <tr>\n",
       "      <th>5</th>\n",
       "      <td>1</td>\n",
       "      <td>0.1</td>\n",
       "      <td>0.868031</td>\n",
       "      <td>0.006965</td>\n",
       "    </tr>\n",
       "    <tr>\n",
       "      <th>2</th>\n",
       "      <td>0.1</td>\n",
       "      <td>0.1</td>\n",
       "      <td>0.860417</td>\n",
       "      <td>0.003081</td>\n",
       "    </tr>\n",
       "    <tr>\n",
       "      <th>4</th>\n",
       "      <td>1</td>\n",
       "      <td>0.5</td>\n",
       "      <td>0.857815</td>\n",
       "      <td>0.014830</td>\n",
       "    </tr>\n",
       "    <tr>\n",
       "      <th>3</th>\n",
       "      <td>1</td>\n",
       "      <td>0.9</td>\n",
       "      <td>0.837555</td>\n",
       "      <td>0.003916</td>\n",
       "    </tr>\n",
       "    <tr>\n",
       "      <th>1</th>\n",
       "      <td>0.1</td>\n",
       "      <td>0.5</td>\n",
       "      <td>0.819743</td>\n",
       "      <td>0.014967</td>\n",
       "    </tr>\n",
       "    <tr>\n",
       "      <th>0</th>\n",
       "      <td>0.1</td>\n",
       "      <td>0.9</td>\n",
       "      <td>0.781691</td>\n",
       "      <td>0.018372</td>\n",
       "    </tr>\n",
       "  </tbody>\n",
       "</table>\n",
       "</div>"
      ],
      "text/plain": [
       "  param_classifier__C param_classifier__l1_ratio  mean_test_score  \\\n",
       "8                  10                        0.1         0.878152   \n",
       "7                  10                        0.5         0.873101   \n",
       "6                  10                        0.9         0.870576   \n",
       "5                   1                        0.1         0.868031   \n",
       "2                 0.1                        0.1         0.860417   \n",
       "4                   1                        0.5         0.857815   \n",
       "3                   1                        0.9         0.837555   \n",
       "1                 0.1                        0.5         0.819743   \n",
       "0                 0.1                        0.9         0.781691   \n",
       "\n",
       "   std_test_score  \n",
       "8        0.016629  \n",
       "7        0.009444  \n",
       "6        0.005813  \n",
       "5        0.006965  \n",
       "2        0.003081  \n",
       "4        0.014830  \n",
       "3        0.003916  \n",
       "1        0.014967  \n",
       "0        0.018372  "
      ]
     },
     "execution_count": 88,
     "metadata": {},
     "output_type": "execute_result"
    }
   ],
   "source": [
    "grid_elasticnet = {\n",
    "    \"classifier__penalty\": [\"elasticnet\"],\n",
    "    \"classifier__C\": np.logspace(-1, 1, 3),\n",
    "    \"classifier__l1_ratio\": [0.9, 0.5, 0.1]\n",
    "}\n",
    "gs_elasticnet = GridSearchCV(model_logreg, grid_elasticnet, cv=skf)\n",
    "gs_elasticnet.fit(X_train, y_train)\n",
    "pd.DataFrame(gs_elasticnet.cv_results_)[[\"param_classifier__C\", \"param_classifier__l1_ratio\", \"mean_test_score\", \"std_test_score\"]] \\\n",
    "  .sort_values(\"mean_test_score\", ascending=False) \\\n",
    "  .head(10)"
   ]
  },
  {
   "cell_type": "markdown",
   "metadata": {},
   "source": [
    "Non usare nessuna regolarizzazione non porta ad un risultato interessante, perchè il modello ha sì uno score alto, ma è comunque più basso di quelli che utilizzano la regolarizzazione. Perciò, non prenderemo in considerazione quest'ultimo caso."
   ]
  },
  {
   "cell_type": "code",
   "execution_count": 89,
   "metadata": {},
   "outputs": [
    {
     "data": {
      "text/html": [
       "<div>\n",
       "<style scoped>\n",
       "    .dataframe tbody tr th:only-of-type {\n",
       "        vertical-align: middle;\n",
       "    }\n",
       "\n",
       "    .dataframe tbody tr th {\n",
       "        vertical-align: top;\n",
       "    }\n",
       "\n",
       "    .dataframe thead th {\n",
       "        text-align: right;\n",
       "    }\n",
       "</style>\n",
       "<table border=\"1\" class=\"dataframe\">\n",
       "  <thead>\n",
       "    <tr style=\"text-align: right;\">\n",
       "      <th></th>\n",
       "      <th>mean_test_score</th>\n",
       "      <th>std_test_score</th>\n",
       "    </tr>\n",
       "  </thead>\n",
       "  <tbody>\n",
       "    <tr>\n",
       "      <th>0</th>\n",
       "      <td>0.873101</td>\n",
       "      <td>0.015639</td>\n",
       "    </tr>\n",
       "  </tbody>\n",
       "</table>\n",
       "</div>"
      ],
      "text/plain": [
       "   mean_test_score  std_test_score\n",
       "0         0.873101        0.015639"
      ]
     },
     "execution_count": 89,
     "metadata": {},
     "output_type": "execute_result"
    }
   ],
   "source": [
    "grid_none = {\n",
    "    \"classifier__penalty\": [\"none\"]\n",
    "}\n",
    "gs_none = GridSearchCV(model_logreg, grid_none, cv=skf)\n",
    "gs_none.fit(X_train, y_train)\n",
    "pd.DataFrame(gs_none.cv_results_)[[\"mean_test_score\", \"std_test_score\"]]"
   ]
  },
  {
   "cell_type": "markdown",
   "metadata": {},
   "source": [
    "Osservando l'intervallo di confidenza, vediamo che il valore reale dell'accuratezza oscilla tra il 77,9% e l'88,8%."
   ]
  },
  {
   "cell_type": "code",
   "execution_count": 90,
   "metadata": {},
   "outputs": [
    {
     "data": {
      "text/plain": [
       "(0.7787826856194077, 0.8884919724910392)"
      ]
     },
     "execution_count": 90,
     "metadata": {},
     "output_type": "execute_result"
    }
   ],
   "source": [
    "best_logreg = gs_l1_l2.best_estimator_\n",
    "y_pred = best_logreg.predict(X_val)\n",
    "confidence_interval(best_logreg, X_val, y_val)"
   ]
  },
  {
   "cell_type": "markdown",
   "metadata": {},
   "source": [
    "Dai valori di *precision* e *recall* riusciamo a capire che il migliore modello individuato tramite regressione logstica è superiore a quello individuato tramite perceptron per quanto riguarda un po' tutte le metriche. Peggiora invece, anche se di poco, la situazione per quanto riguarda la *recall* degli episodi \"brutti\", ma questo viene compensato da un valore di *recall* della classe \"bad\" molto più alta. Questo miglioramento complessivo si riflette sull'*f1-score*, che è salito del 9%."
   ]
  },
  {
   "cell_type": "code",
   "execution_count": 91,
   "metadata": {},
   "outputs": [
    {
     "data": {
      "text/html": [
       "<div>\n",
       "<style scoped>\n",
       "    .dataframe tbody tr th:only-of-type {\n",
       "        vertical-align: middle;\n",
       "    }\n",
       "\n",
       "    .dataframe tbody tr th {\n",
       "        vertical-align: top;\n",
       "    }\n",
       "\n",
       "    .dataframe thead th {\n",
       "        text-align: right;\n",
       "    }\n",
       "</style>\n",
       "<table border=\"1\" class=\"dataframe\">\n",
       "  <thead>\n",
       "    <tr style=\"text-align: right;\">\n",
       "      <th></th>\n",
       "      <th>bad</th>\n",
       "      <th>good</th>\n",
       "    </tr>\n",
       "  </thead>\n",
       "  <tbody>\n",
       "    <tr>\n",
       "      <th>bad</th>\n",
       "      <td>86</td>\n",
       "      <td>10</td>\n",
       "    </tr>\n",
       "    <tr>\n",
       "      <th>good</th>\n",
       "      <td>17</td>\n",
       "      <td>57</td>\n",
       "    </tr>\n",
       "  </tbody>\n",
       "</table>\n",
       "</div>"
      ],
      "text/plain": [
       "      bad  good\n",
       "bad    86    10\n",
       "good   17    57"
      ]
     },
     "execution_count": 91,
     "metadata": {},
     "output_type": "execute_result"
    }
   ],
   "source": [
    "pd.DataFrame(confusion_matrix(y_val, y_pred), index=best_logreg.classes_, columns=best_logreg.classes_)"
   ]
  },
  {
   "cell_type": "code",
   "execution_count": 92,
   "metadata": {},
   "outputs": [
    {
     "name": "stdout",
     "output_type": "stream",
     "text": [
      "              precision    recall  f1-score   support\n",
      "\n",
      "         bad       0.83      0.90      0.86        96\n",
      "        good       0.85      0.77      0.81        74\n",
      "\n",
      "    accuracy                           0.84       170\n",
      "   macro avg       0.84      0.83      0.84       170\n",
      "weighted avg       0.84      0.84      0.84       170\n",
      "\n"
     ]
    }
   ],
   "source": [
    "print(classification_report(y_val, y_pred))"
   ]
  },
  {
   "cell_type": "markdown",
   "metadata": {},
   "source": [
    "#### Classificazione mediante Support Vector Machines"
   ]
  },
  {
   "cell_type": "markdown",
   "metadata": {},
   "source": [
    "Utilizziamo le Support Vector Machines per poter utilizzare un metodo che sfrutta il *kernel trick* per permetterci di effettuare la classificazione utilizzando  molte più feature di quelle presenti nel dataset senza la loro effettiva generazione. Notiamo che l'uso di un kernel di tipo sigmoidale è la scelta migliore in combinazione con parametro $\\lambda$ della regolarizzazione Ridge pari a 1. Lo score del miglior modello è addirittura superiore allo score del miglior modello ottenuto tramite regressione logistica."
   ]
  },
  {
   "cell_type": "code",
   "execution_count": 93,
   "metadata": {},
   "outputs": [
    {
     "data": {
      "text/html": [
       "<div>\n",
       "<style scoped>\n",
       "    .dataframe tbody tr th:only-of-type {\n",
       "        vertical-align: middle;\n",
       "    }\n",
       "\n",
       "    .dataframe tbody tr th {\n",
       "        vertical-align: top;\n",
       "    }\n",
       "\n",
       "    .dataframe thead th {\n",
       "        text-align: right;\n",
       "    }\n",
       "</style>\n",
       "<table border=\"1\" class=\"dataframe\">\n",
       "  <thead>\n",
       "    <tr style=\"text-align: right;\">\n",
       "      <th></th>\n",
       "      <th>param_classifier__kernel</th>\n",
       "      <th>param_classifier__C</th>\n",
       "      <th>param_classifier__degree</th>\n",
       "      <th>mean_test_score</th>\n",
       "      <th>std_test_score</th>\n",
       "    </tr>\n",
       "  </thead>\n",
       "  <tbody>\n",
       "    <tr>\n",
       "      <th>7</th>\n",
       "      <td>sigmoid</td>\n",
       "      <td>1</td>\n",
       "      <td>NaN</td>\n",
       "      <td>0.890913</td>\n",
       "      <td>0.018694</td>\n",
       "    </tr>\n",
       "    <tr>\n",
       "      <th>10</th>\n",
       "      <td>sigmoid</td>\n",
       "      <td>10</td>\n",
       "      <td>NaN</td>\n",
       "      <td>0.888330</td>\n",
       "      <td>0.009452</td>\n",
       "    </tr>\n",
       "    <tr>\n",
       "      <th>13</th>\n",
       "      <td>sigmoid</td>\n",
       "      <td>100</td>\n",
       "      <td>NaN</td>\n",
       "      <td>0.888330</td>\n",
       "      <td>0.009452</td>\n",
       "    </tr>\n",
       "    <tr>\n",
       "      <th>2</th>\n",
       "      <td>linear</td>\n",
       "      <td>0.01</td>\n",
       "      <td>NaN</td>\n",
       "      <td>0.878171</td>\n",
       "      <td>0.018703</td>\n",
       "    </tr>\n",
       "    <tr>\n",
       "      <th>5</th>\n",
       "      <td>linear</td>\n",
       "      <td>0.1</td>\n",
       "      <td>NaN</td>\n",
       "      <td>0.878171</td>\n",
       "      <td>0.018703</td>\n",
       "    </tr>\n",
       "    <tr>\n",
       "      <th>8</th>\n",
       "      <td>linear</td>\n",
       "      <td>1</td>\n",
       "      <td>NaN</td>\n",
       "      <td>0.878171</td>\n",
       "      <td>0.018703</td>\n",
       "    </tr>\n",
       "    <tr>\n",
       "      <th>11</th>\n",
       "      <td>linear</td>\n",
       "      <td>10</td>\n",
       "      <td>NaN</td>\n",
       "      <td>0.878171</td>\n",
       "      <td>0.018703</td>\n",
       "    </tr>\n",
       "    <tr>\n",
       "      <th>14</th>\n",
       "      <td>linear</td>\n",
       "      <td>100</td>\n",
       "      <td>NaN</td>\n",
       "      <td>0.878171</td>\n",
       "      <td>0.018703</td>\n",
       "    </tr>\n",
       "    <tr>\n",
       "      <th>6</th>\n",
       "      <td>rbf</td>\n",
       "      <td>1</td>\n",
       "      <td>NaN</td>\n",
       "      <td>0.809604</td>\n",
       "      <td>0.013012</td>\n",
       "    </tr>\n",
       "    <tr>\n",
       "      <th>12</th>\n",
       "      <td>rbf</td>\n",
       "      <td>100</td>\n",
       "      <td>NaN</td>\n",
       "      <td>0.774231</td>\n",
       "      <td>0.043465</td>\n",
       "    </tr>\n",
       "  </tbody>\n",
       "</table>\n",
       "</div>"
      ],
      "text/plain": [
       "   param_classifier__kernel param_classifier__C param_classifier__degree  \\\n",
       "7                   sigmoid                   1                      NaN   \n",
       "10                  sigmoid                  10                      NaN   \n",
       "13                  sigmoid                 100                      NaN   \n",
       "2                    linear                0.01                      NaN   \n",
       "5                    linear                 0.1                      NaN   \n",
       "8                    linear                   1                      NaN   \n",
       "11                   linear                  10                      NaN   \n",
       "14                   linear                 100                      NaN   \n",
       "6                       rbf                   1                      NaN   \n",
       "12                      rbf                 100                      NaN   \n",
       "\n",
       "    mean_test_score  std_test_score  \n",
       "7          0.890913        0.018694  \n",
       "10         0.888330        0.009452  \n",
       "13         0.888330        0.009452  \n",
       "2          0.878171        0.018703  \n",
       "5          0.878171        0.018703  \n",
       "8          0.878171        0.018703  \n",
       "11         0.878171        0.018703  \n",
       "14         0.878171        0.018703  \n",
       "6          0.809604        0.013012  \n",
       "12         0.774231        0.043465  "
      ]
     },
     "execution_count": 93,
     "metadata": {},
     "output_type": "execute_result"
    }
   ],
   "source": [
    "model_svm = Pipeline([\n",
    "    (\"scaler\", StandardScaler(with_mean=False)),\n",
    "    (\"classifier\", SVC(random_state=742, class_weight=\"balanced\"))\n",
    "])\n",
    "grid_svm = [{\n",
    "    \"classifier__kernel\": [\"rbf\", \"sigmoid\", \"linear\"],\n",
    "    \"classifier__C\": np.logspace(-2, 2, 5)\n",
    "}, {\n",
    "    \"classifier__kernel\": [\"poly\"],\n",
    "    \"classifier__degree\": [2, 3],\n",
    "    \"classifier__C\": np.logspace(-2, 2, 5)\n",
    "}]\n",
    "gs_svm = GridSearchCV(model_svm, grid_svm, cv=skf)\n",
    "gs_svm.fit(X_train, y_train)\n",
    "pd.DataFrame(gs_svm.cv_results_)[[\"param_classifier__kernel\", \"param_classifier__C\", \"param_classifier__degree\", \"mean_test_score\", \"std_test_score\"]] \\\n",
    "  .sort_values(\"mean_test_score\", ascending=False) \\\n",
    "  .head(10)"
   ]
  },
  {
   "cell_type": "markdown",
   "metadata": {},
   "source": [
    "Infatti, l'intervallo di confidenza è molto simile a quello del miglior modello ottenuto tramite regressione logistica, è infatti compreso tra il 77,2% e l'88,3%."
   ]
  },
  {
   "cell_type": "code",
   "execution_count": 94,
   "metadata": {},
   "outputs": [
    {
     "data": {
      "text/plain": [
       "(0.7722520572638996, 0.8835178653618844)"
      ]
     },
     "execution_count": 94,
     "metadata": {},
     "output_type": "execute_result"
    }
   ],
   "source": [
    "best_svm = gs_svm.best_estimator_\n",
    "y_pred = best_svm.predict(X_val)\n",
    "confidence_interval(best_svm, X_val, y_val)"
   ]
  },
  {
   "cell_type": "markdown",
   "metadata": {},
   "source": [
    "La matrice di confusione ci dice che l'*f1-score* identico a quello del miglior modello di regressione logistica è dovuto ad una maggiore precisione nell'individuare gli episodi \"brutti\", ma anche ad una minor precisione nell'individuare quelli \"brutti\". Questo fa sì che la *recall* per gli episodi \"brutti\" sia decisamente inferiore, mentre quella per gli episodi \"belli\" decisamente superiore, come ci testimoniano le metriche calcolate."
   ]
  },
  {
   "cell_type": "code",
   "execution_count": 95,
   "metadata": {},
   "outputs": [
    {
     "data": {
      "text/html": [
       "<div>\n",
       "<style scoped>\n",
       "    .dataframe tbody tr th:only-of-type {\n",
       "        vertical-align: middle;\n",
       "    }\n",
       "\n",
       "    .dataframe tbody tr th {\n",
       "        vertical-align: top;\n",
       "    }\n",
       "\n",
       "    .dataframe thead th {\n",
       "        text-align: right;\n",
       "    }\n",
       "</style>\n",
       "<table border=\"1\" class=\"dataframe\">\n",
       "  <thead>\n",
       "    <tr style=\"text-align: right;\">\n",
       "      <th></th>\n",
       "      <th>bad</th>\n",
       "      <th>good</th>\n",
       "    </tr>\n",
       "  </thead>\n",
       "  <tbody>\n",
       "    <tr>\n",
       "      <th>bad</th>\n",
       "      <td>79</td>\n",
       "      <td>17</td>\n",
       "    </tr>\n",
       "    <tr>\n",
       "      <th>good</th>\n",
       "      <td>11</td>\n",
       "      <td>63</td>\n",
       "    </tr>\n",
       "  </tbody>\n",
       "</table>\n",
       "</div>"
      ],
      "text/plain": [
       "      bad  good\n",
       "bad    79    17\n",
       "good   11    63"
      ]
     },
     "execution_count": 95,
     "metadata": {},
     "output_type": "execute_result"
    }
   ],
   "source": [
    "pd.DataFrame(confusion_matrix(y_val, y_pred), index=best_svm.classes_, columns=best_svm.classes_)"
   ]
  },
  {
   "cell_type": "code",
   "execution_count": 96,
   "metadata": {},
   "outputs": [
    {
     "name": "stdout",
     "output_type": "stream",
     "text": [
      "              precision    recall  f1-score   support\n",
      "\n",
      "         bad       0.88      0.82      0.85        96\n",
      "        good       0.79      0.85      0.82        74\n",
      "\n",
      "    accuracy                           0.84       170\n",
      "   macro avg       0.83      0.84      0.83       170\n",
      "weighted avg       0.84      0.84      0.84       170\n",
      "\n"
     ]
    }
   ],
   "source": [
    "print(classification_report(y_val, y_pred))"
   ]
  },
  {
   "cell_type": "markdown",
   "metadata": {},
   "source": [
    "#### Classificazione tramite XGBoost"
   ]
  },
  {
   "cell_type": "markdown",
   "metadata": {},
   "source": [
    "Proviamo ad utilizzare anche XGBoost per vedere se è capace di darci risultati più interessanti. Per prima cosa lo testiamo senza applicare alcuna regolarizzazione per vedere quali iperparametri propri del classificatore sembrano essere migliori, poi vedremo se, applicando una regolarizzazione, il risultato è ancora migliorabile oppure no. I primi risultati non sono incoraggianti, lo score medio del modello migliore è addirittura inferiore di circa il 12% rispetto a quello dei migliori modelli considerati in precedenza. In particolare, il valore massimo dello score si ha in corrispondenza di un learning rate relativamente piccolo e di una profondità degli alberi realtivamente alta."
   ]
  },
  {
   "cell_type": "code",
   "execution_count": 97,
   "metadata": {},
   "outputs": [
    {
     "data": {
      "text/html": [
       "<div>\n",
       "<style scoped>\n",
       "    .dataframe tbody tr th:only-of-type {\n",
       "        vertical-align: middle;\n",
       "    }\n",
       "\n",
       "    .dataframe tbody tr th {\n",
       "        vertical-align: top;\n",
       "    }\n",
       "\n",
       "    .dataframe thead th {\n",
       "        text-align: right;\n",
       "    }\n",
       "</style>\n",
       "<table border=\"1\" class=\"dataframe\">\n",
       "  <thead>\n",
       "    <tr style=\"text-align: right;\">\n",
       "      <th></th>\n",
       "      <th>param_classifier__learning_rate</th>\n",
       "      <th>param_classifier__max_depth</th>\n",
       "      <th>mean_test_score</th>\n",
       "      <th>std_test_score</th>\n",
       "    </tr>\n",
       "  </thead>\n",
       "  <tbody>\n",
       "    <tr>\n",
       "      <th>4</th>\n",
       "      <td>0.1</td>\n",
       "      <td>10</td>\n",
       "      <td>0.766405</td>\n",
       "      <td>0.026638</td>\n",
       "    </tr>\n",
       "    <tr>\n",
       "      <th>5</th>\n",
       "      <td>0.1</td>\n",
       "      <td>15</td>\n",
       "      <td>0.766405</td>\n",
       "      <td>0.026638</td>\n",
       "    </tr>\n",
       "    <tr>\n",
       "      <th>3</th>\n",
       "      <td>0.1</td>\n",
       "      <td>5</td>\n",
       "      <td>0.766385</td>\n",
       "      <td>0.032637</td>\n",
       "    </tr>\n",
       "    <tr>\n",
       "      <th>0</th>\n",
       "      <td>0.01</td>\n",
       "      <td>5</td>\n",
       "      <td>0.741036</td>\n",
       "      <td>0.023260</td>\n",
       "    </tr>\n",
       "    <tr>\n",
       "      <th>6</th>\n",
       "      <td>1</td>\n",
       "      <td>5</td>\n",
       "      <td>0.738511</td>\n",
       "      <td>0.019842</td>\n",
       "    </tr>\n",
       "    <tr>\n",
       "      <th>7</th>\n",
       "      <td>1</td>\n",
       "      <td>10</td>\n",
       "      <td>0.733480</td>\n",
       "      <td>0.007051</td>\n",
       "    </tr>\n",
       "    <tr>\n",
       "      <th>8</th>\n",
       "      <td>1</td>\n",
       "      <td>15</td>\n",
       "      <td>0.733480</td>\n",
       "      <td>0.007051</td>\n",
       "    </tr>\n",
       "    <tr>\n",
       "      <th>1</th>\n",
       "      <td>0.01</td>\n",
       "      <td>10</td>\n",
       "      <td>0.725827</td>\n",
       "      <td>0.017375</td>\n",
       "    </tr>\n",
       "    <tr>\n",
       "      <th>2</th>\n",
       "      <td>0.01</td>\n",
       "      <td>15</td>\n",
       "      <td>0.725827</td>\n",
       "      <td>0.017375</td>\n",
       "    </tr>\n",
       "    <tr>\n",
       "      <th>9</th>\n",
       "      <td>10</td>\n",
       "      <td>5</td>\n",
       "      <td>0.581213</td>\n",
       "      <td>0.001499</td>\n",
       "    </tr>\n",
       "  </tbody>\n",
       "</table>\n",
       "</div>"
      ],
      "text/plain": [
       "  param_classifier__learning_rate param_classifier__max_depth  \\\n",
       "4                             0.1                          10   \n",
       "5                             0.1                          15   \n",
       "3                             0.1                           5   \n",
       "0                            0.01                           5   \n",
       "6                               1                           5   \n",
       "7                               1                          10   \n",
       "8                               1                          15   \n",
       "1                            0.01                          10   \n",
       "2                            0.01                          15   \n",
       "9                              10                           5   \n",
       "\n",
       "   mean_test_score  std_test_score  \n",
       "4         0.766405        0.026638  \n",
       "5         0.766405        0.026638  \n",
       "3         0.766385        0.032637  \n",
       "0         0.741036        0.023260  \n",
       "6         0.738511        0.019842  \n",
       "7         0.733480        0.007051  \n",
       "8         0.733480        0.007051  \n",
       "1         0.725827        0.017375  \n",
       "2         0.725827        0.017375  \n",
       "9         0.581213        0.001499  "
      ]
     },
     "execution_count": 97,
     "metadata": {},
     "output_type": "execute_result"
    }
   ],
   "source": [
    "model = Pipeline([\n",
    "    (\"scaler\", StandardScaler(with_mean=False)),\n",
    "    (\"classifier\", XGBClassifier(objective=\"binary:logistic\", random_state=742, n_jobs=4))\n",
    "])\n",
    "grid = [{\n",
    "    \"classifier__learning_rate\": np.logspace(-2, 2, 5).tolist(),\n",
    "    \"classifier__max_depth\": [5, 10, 15]\n",
    "}]\n",
    "gs = GridSearchCV(model, grid, cv=skf)\n",
    "gs.fit(X_train, y_train)\n",
    "pd.DataFrame(gs.cv_results_)[[\"param_classifier__learning_rate\", \"param_classifier__max_depth\", \"mean_test_score\", \"std_test_score\"]] \\\n",
    "  .sort_values(\"mean_test_score\", ascending=False) \\\n",
    "  .head(10)"
   ]
  },
  {
   "cell_type": "markdown",
   "metadata": {},
   "source": [
    "L'uso dei parametri individuati al passo precedente per costruire un modello su cui testare i parametri di regolarizzazione non ci fa ottenere un risultato migliore. Lo score infattti migliora solo dell'1% circa."
   ]
  },
  {
   "cell_type": "code",
   "execution_count": 98,
   "metadata": {},
   "outputs": [
    {
     "data": {
      "text/html": [
       "<div>\n",
       "<style scoped>\n",
       "    .dataframe tbody tr th:only-of-type {\n",
       "        vertical-align: middle;\n",
       "    }\n",
       "\n",
       "    .dataframe tbody tr th {\n",
       "        vertical-align: top;\n",
       "    }\n",
       "\n",
       "    .dataframe thead th {\n",
       "        text-align: right;\n",
       "    }\n",
       "</style>\n",
       "<table border=\"1\" class=\"dataframe\">\n",
       "  <thead>\n",
       "    <tr style=\"text-align: right;\">\n",
       "      <th></th>\n",
       "      <th>param_classifier__reg_alpha</th>\n",
       "      <th>param_classifier__reg_lambda</th>\n",
       "      <th>mean_test_score</th>\n",
       "      <th>std_test_score</th>\n",
       "    </tr>\n",
       "  </thead>\n",
       "  <tbody>\n",
       "    <tr>\n",
       "      <th>0</th>\n",
       "      <td>0.01</td>\n",
       "      <td>0.01</td>\n",
       "      <td>0.773922</td>\n",
       "      <td>0.054978</td>\n",
       "    </tr>\n",
       "    <tr>\n",
       "      <th>7</th>\n",
       "      <td>0.1</td>\n",
       "      <td>1</td>\n",
       "      <td>0.766308</td>\n",
       "      <td>0.055004</td>\n",
       "    </tr>\n",
       "    <tr>\n",
       "      <th>6</th>\n",
       "      <td>0.1</td>\n",
       "      <td>0.1</td>\n",
       "      <td>0.761315</td>\n",
       "      <td>0.029497</td>\n",
       "    </tr>\n",
       "    <tr>\n",
       "      <th>10</th>\n",
       "      <td>1</td>\n",
       "      <td>0.01</td>\n",
       "      <td>0.758809</td>\n",
       "      <td>0.020790</td>\n",
       "    </tr>\n",
       "    <tr>\n",
       "      <th>5</th>\n",
       "      <td>0.1</td>\n",
       "      <td>0.01</td>\n",
       "      <td>0.753720</td>\n",
       "      <td>0.024354</td>\n",
       "    </tr>\n",
       "    <tr>\n",
       "      <th>2</th>\n",
       "      <td>0.01</td>\n",
       "      <td>1</td>\n",
       "      <td>0.753701</td>\n",
       "      <td>0.030175</td>\n",
       "    </tr>\n",
       "    <tr>\n",
       "      <th>3</th>\n",
       "      <td>0.01</td>\n",
       "      <td>10</td>\n",
       "      <td>0.753701</td>\n",
       "      <td>0.030175</td>\n",
       "    </tr>\n",
       "    <tr>\n",
       "      <th>1</th>\n",
       "      <td>0.01</td>\n",
       "      <td>0.1</td>\n",
       "      <td>0.753643</td>\n",
       "      <td>0.045742</td>\n",
       "    </tr>\n",
       "    <tr>\n",
       "      <th>13</th>\n",
       "      <td>1</td>\n",
       "      <td>10</td>\n",
       "      <td>0.746106</td>\n",
       "      <td>0.024381</td>\n",
       "    </tr>\n",
       "    <tr>\n",
       "      <th>19</th>\n",
       "      <td>10</td>\n",
       "      <td>100</td>\n",
       "      <td>0.743581</td>\n",
       "      <td>0.030011</td>\n",
       "    </tr>\n",
       "  </tbody>\n",
       "</table>\n",
       "</div>"
      ],
      "text/plain": [
       "   param_classifier__reg_alpha param_classifier__reg_lambda  mean_test_score  \\\n",
       "0                         0.01                         0.01         0.773922   \n",
       "7                          0.1                            1         0.766308   \n",
       "6                          0.1                          0.1         0.761315   \n",
       "10                           1                         0.01         0.758809   \n",
       "5                          0.1                         0.01         0.753720   \n",
       "2                         0.01                            1         0.753701   \n",
       "3                         0.01                           10         0.753701   \n",
       "1                         0.01                          0.1         0.753643   \n",
       "13                           1                           10         0.746106   \n",
       "19                          10                          100         0.743581   \n",
       "\n",
       "    std_test_score  \n",
       "0         0.054978  \n",
       "7         0.055004  \n",
       "6         0.029497  \n",
       "10        0.020790  \n",
       "5         0.024354  \n",
       "2         0.030175  \n",
       "3         0.030175  \n",
       "1         0.045742  \n",
       "13        0.024381  \n",
       "19        0.030011  "
      ]
     },
     "execution_count": 98,
     "metadata": {},
     "output_type": "execute_result"
    }
   ],
   "source": [
    "model_xgb = Pipeline([\n",
    "    (\"scaler\", StandardScaler(with_mean=False)),\n",
    "    (\"classifier\", XGBClassifier(objective=\"binary:logistic\", learning_rate=0.1, max_depth=10, random_state=742, n_jobs=4))\n",
    "])\n",
    "grid_xgb = {\n",
    "    \"classifier__reg_alpha\": np.logspace(-2, 2, 5),\n",
    "    \"classifier__reg_lambda\": np.logspace(-2, 2, 5),\n",
    "}\n",
    "gs_xgb = GridSearchCV(model_xgb, grid_xgb, cv=skf)\n",
    "gs_xgb.fit(X_train, y_train)\n",
    "pd.DataFrame(gs_xgb.cv_results_)[[\"param_classifier__reg_alpha\", \"param_classifier__reg_lambda\", \"mean_test_score\", \"std_test_score\"]] \\\n",
    "  .sort_values(\"mean_test_score\", ascending=False) \\\n",
    "  .head(10)"
   ]
  },
  {
   "cell_type": "markdown",
   "metadata": {},
   "source": [
    "L'intervallo di confidenza calcolato sul validation set però ci rivela che l'accuratezza è molto simile a quella del miglior modello ottenuto tramite regressione logistica."
   ]
  },
  {
   "cell_type": "code",
   "execution_count": 99,
   "metadata": {},
   "outputs": [
    {
     "data": {
      "text/plain": [
       "(0.7787826856194077, 0.8884919724910392)"
      ]
     },
     "execution_count": 99,
     "metadata": {},
     "output_type": "execute_result"
    }
   ],
   "source": [
    "best_xgb = gs_xgb.best_estimator_\n",
    "y_pred = best_xgb.predict(X_val)\n",
    "confidence_interval(best_xgb, X_val, y_val)"
   ]
  },
  {
   "cell_type": "markdown",
   "metadata": {},
   "source": [
    "Notiamo infatti che ha una *precision* leggermente più alta del miglior modello ottenuto con regressione logistica per quanto riguarda gli episodi \"belli\", mentre quella per gli episodi \"brutti\" è rimasta invariata. La *recall* della classe \"bad\" è leggermente più alta che nel caso della regressione logistica, mentre quella della classe \"good\" è leggermente più bassa. Complessivamente, l'*f1-score* rimane invariato."
   ]
  },
  {
   "cell_type": "code",
   "execution_count": 100,
   "metadata": {},
   "outputs": [
    {
     "data": {
      "text/html": [
       "<div>\n",
       "<style scoped>\n",
       "    .dataframe tbody tr th:only-of-type {\n",
       "        vertical-align: middle;\n",
       "    }\n",
       "\n",
       "    .dataframe tbody tr th {\n",
       "        vertical-align: top;\n",
       "    }\n",
       "\n",
       "    .dataframe thead th {\n",
       "        text-align: right;\n",
       "    }\n",
       "</style>\n",
       "<table border=\"1\" class=\"dataframe\">\n",
       "  <thead>\n",
       "    <tr style=\"text-align: right;\">\n",
       "      <th></th>\n",
       "      <th>bad</th>\n",
       "      <th>good</th>\n",
       "    </tr>\n",
       "  </thead>\n",
       "  <tbody>\n",
       "    <tr>\n",
       "      <th>bad</th>\n",
       "      <td>87</td>\n",
       "      <td>9</td>\n",
       "    </tr>\n",
       "    <tr>\n",
       "      <th>good</th>\n",
       "      <td>18</td>\n",
       "      <td>56</td>\n",
       "    </tr>\n",
       "  </tbody>\n",
       "</table>\n",
       "</div>"
      ],
      "text/plain": [
       "      bad  good\n",
       "bad    87     9\n",
       "good   18    56"
      ]
     },
     "execution_count": 100,
     "metadata": {},
     "output_type": "execute_result"
    }
   ],
   "source": [
    "pd.DataFrame(confusion_matrix(y_val, y_pred), index=best_xgb.classes_, columns=best_xgb.classes_)"
   ]
  },
  {
   "cell_type": "code",
   "execution_count": 101,
   "metadata": {},
   "outputs": [
    {
     "name": "stdout",
     "output_type": "stream",
     "text": [
      "              precision    recall  f1-score   support\n",
      "\n",
      "         bad       0.83      0.91      0.87        96\n",
      "        good       0.86      0.76      0.81        74\n",
      "\n",
      "    accuracy                           0.84       170\n",
      "   macro avg       0.85      0.83      0.84       170\n",
      "weighted avg       0.84      0.84      0.84       170\n",
      "\n"
     ]
    }
   ],
   "source": [
    "print(classification_report(y_val, y_pred))"
   ]
  },
  {
   "cell_type": "markdown",
   "metadata": {},
   "source": [
    "#### Classificazione mediante Random Forest"
   ]
  },
  {
   "cell_type": "markdown",
   "metadata": {},
   "source": [
    "Utilizziamo come ultimo metodo quello basato su Random Forest, per vedere se, estraendo delle regole di partizione delle istanze dal nostro set di dati, è capace di ottenere dei risultati migliori rispetto ai metodi già utilizzati. Osserviamo che i risultati migliori non si hanno necessariamente in corrispondenza di un maggior numero di alberi, ma con una profondità degli stessi maggiore. Inoltre, tutti i migliori modelli hanno un numero di elementi da raggiungere per effettuare lo split molto alto. I risultati non sono però soddisfacenti, migliori rispetto a quelli ottenuti con XGBoost, ma sempre inferiori a quelli con tutti gli altri metodi."
   ]
  },
  {
   "cell_type": "code",
   "execution_count": 102,
   "metadata": {},
   "outputs": [
    {
     "data": {
      "text/html": [
       "<div>\n",
       "<style scoped>\n",
       "    .dataframe tbody tr th:only-of-type {\n",
       "        vertical-align: middle;\n",
       "    }\n",
       "\n",
       "    .dataframe tbody tr th {\n",
       "        vertical-align: top;\n",
       "    }\n",
       "\n",
       "    .dataframe thead th {\n",
       "        text-align: right;\n",
       "    }\n",
       "</style>\n",
       "<table border=\"1\" class=\"dataframe\">\n",
       "  <thead>\n",
       "    <tr style=\"text-align: right;\">\n",
       "      <th></th>\n",
       "      <th>param_classifier__n_estimators</th>\n",
       "      <th>param_classifier__max_depth</th>\n",
       "      <th>param_classifier__min_samples_leaf</th>\n",
       "      <th>param_classifier__min_samples_split</th>\n",
       "      <th>mean_test_score</th>\n",
       "      <th>std_test_score</th>\n",
       "    </tr>\n",
       "  </thead>\n",
       "  <tbody>\n",
       "    <tr>\n",
       "      <th>96</th>\n",
       "      <td>100</td>\n",
       "      <td>10</td>\n",
       "      <td>2</td>\n",
       "      <td>10</td>\n",
       "      <td>0.819763</td>\n",
       "      <td>0.013397</td>\n",
       "    </tr>\n",
       "    <tr>\n",
       "      <th>106</th>\n",
       "      <td>200</td>\n",
       "      <td>10</td>\n",
       "      <td>4</td>\n",
       "      <td>10</td>\n",
       "      <td>0.804515</td>\n",
       "      <td>0.019520</td>\n",
       "    </tr>\n",
       "    <tr>\n",
       "      <th>79</th>\n",
       "      <td>200</td>\n",
       "      <td>8</td>\n",
       "      <td>4</td>\n",
       "      <td>10</td>\n",
       "      <td>0.804476</td>\n",
       "      <td>0.026505</td>\n",
       "    </tr>\n",
       "    <tr>\n",
       "      <th>34</th>\n",
       "      <td>200</td>\n",
       "      <td>4</td>\n",
       "      <td>1</td>\n",
       "      <td>10</td>\n",
       "      <td>0.801989</td>\n",
       "      <td>0.016926</td>\n",
       "    </tr>\n",
       "    <tr>\n",
       "      <th>97</th>\n",
       "      <td>200</td>\n",
       "      <td>10</td>\n",
       "      <td>2</td>\n",
       "      <td>10</td>\n",
       "      <td>0.799464</td>\n",
       "      <td>0.014747</td>\n",
       "    </tr>\n",
       "    <tr>\n",
       "      <th>54</th>\n",
       "      <td>100</td>\n",
       "      <td>8</td>\n",
       "      <td>1</td>\n",
       "      <td>3</td>\n",
       "      <td>0.799445</td>\n",
       "      <td>0.013611</td>\n",
       "    </tr>\n",
       "    <tr>\n",
       "      <th>103</th>\n",
       "      <td>200</td>\n",
       "      <td>10</td>\n",
       "      <td>4</td>\n",
       "      <td>5</td>\n",
       "      <td>0.799445</td>\n",
       "      <td>0.013611</td>\n",
       "    </tr>\n",
       "    <tr>\n",
       "      <th>100</th>\n",
       "      <td>200</td>\n",
       "      <td>10</td>\n",
       "      <td>4</td>\n",
       "      <td>3</td>\n",
       "      <td>0.799445</td>\n",
       "      <td>0.013611</td>\n",
       "    </tr>\n",
       "    <tr>\n",
       "      <th>57</th>\n",
       "      <td>100</td>\n",
       "      <td>8</td>\n",
       "      <td>1</td>\n",
       "      <td>5</td>\n",
       "      <td>0.796939</td>\n",
       "      <td>0.007576</td>\n",
       "    </tr>\n",
       "    <tr>\n",
       "      <th>76</th>\n",
       "      <td>200</td>\n",
       "      <td>8</td>\n",
       "      <td>4</td>\n",
       "      <td>5</td>\n",
       "      <td>0.796900</td>\n",
       "      <td>0.015048</td>\n",
       "    </tr>\n",
       "  </tbody>\n",
       "</table>\n",
       "</div>"
      ],
      "text/plain": [
       "    param_classifier__n_estimators param_classifier__max_depth  \\\n",
       "96                             100                          10   \n",
       "106                            200                          10   \n",
       "79                             200                           8   \n",
       "34                             200                           4   \n",
       "97                             200                          10   \n",
       "54                             100                           8   \n",
       "103                            200                          10   \n",
       "100                            200                          10   \n",
       "57                             100                           8   \n",
       "76                             200                           8   \n",
       "\n",
       "    param_classifier__min_samples_leaf param_classifier__min_samples_split  \\\n",
       "96                                   2                                  10   \n",
       "106                                  4                                  10   \n",
       "79                                   4                                  10   \n",
       "34                                   1                                  10   \n",
       "97                                   2                                  10   \n",
       "54                                   1                                   3   \n",
       "103                                  4                                   5   \n",
       "100                                  4                                   3   \n",
       "57                                   1                                   5   \n",
       "76                                   4                                   5   \n",
       "\n",
       "     mean_test_score  std_test_score  \n",
       "96          0.819763        0.013397  \n",
       "106         0.804515        0.019520  \n",
       "79          0.804476        0.026505  \n",
       "34          0.801989        0.016926  \n",
       "97          0.799464        0.014747  \n",
       "54          0.799445        0.013611  \n",
       "103         0.799445        0.013611  \n",
       "100         0.799445        0.013611  \n",
       "57          0.796939        0.007576  \n",
       "76          0.796900        0.015048  "
      ]
     },
     "execution_count": 102,
     "metadata": {},
     "output_type": "execute_result"
    }
   ],
   "source": [
    "model_rnd = Pipeline([\n",
    "    (\"scaler\", StandardScaler(with_mean=False)),\n",
    "    (\"classifier\", RandomForestClassifier(n_jobs=-1, random_state=742, class_weight=\"balanced\"))\n",
    "])\n",
    "grid_rnd = {\n",
    "    \"classifier__n_estimators\": [100, 200, 500],\n",
    "    \"classifier__max_depth\": [2, 4, 8, 10],\n",
    "    \"classifier__min_samples_leaf\": [1, 2, 4],\n",
    "    \"classifier__min_samples_split\": [3, 5, 10]\n",
    "}\n",
    "gs_rnd = GridSearchCV(model_rnd, grid_rnd, cv=skf)\n",
    "gs_rnd.fit(X_train, y_train)\n",
    "pd.DataFrame(gs_rnd.cv_results_)[[\"param_classifier__n_estimators\", \"param_classifier__max_depth\", \"param_classifier__min_samples_leaf\", \"param_classifier__min_samples_split\", \"mean_test_score\", \"std_test_score\"]] \\\n",
    "  .sort_values(\"mean_test_score\", ascending=False) \\\n",
    "  .head(10)"
   ]
  },
  {
   "cell_type": "markdown",
   "metadata": {},
   "source": [
    "L'intervallo di accuratezza mostra un miglioramento rispetto a quello di perceptron, essendo spostato rispetto a quest'ultimo leggermente verso destra, ma rimane più spostato verso sinistra rispetto a tutti gli altri."
   ]
  },
  {
   "cell_type": "code",
   "execution_count": 103,
   "metadata": {},
   "outputs": [
    {
     "data": {
      "text/plain": [
       "(0.7463603813080039, 0.8633905993791287)"
      ]
     },
     "execution_count": 103,
     "metadata": {},
     "output_type": "execute_result"
    }
   ],
   "source": [
    "best_rnd = gs_rnd.best_estimator_\n",
    "y_pred = best_rnd.predict(X_val)\n",
    "confidence_interval(best_rnd, X_val, y_val)"
   ]
  },
  {
   "cell_type": "markdown",
   "metadata": {},
   "source": [
    "Il miglior modello individuato è capace di distinguere tra gli altri gli episodi con valutazione \"brutto\" con una *precision* che è più bassa di tutti gli altri modelli, mentre quella degli episodi con valutazione \"bello\" è più alta rispetto a tutti gli altri modelli. La *recall* per la classe \"bad\" è molto alta, mentre invece quella della classe \"good\" cola a picco, trascinando con sè il valore di *f1-score*."
   ]
  },
  {
   "cell_type": "code",
   "execution_count": 104,
   "metadata": {},
   "outputs": [
    {
     "data": {
      "text/html": [
       "<div>\n",
       "<style scoped>\n",
       "    .dataframe tbody tr th:only-of-type {\n",
       "        vertical-align: middle;\n",
       "    }\n",
       "\n",
       "    .dataframe tbody tr th {\n",
       "        vertical-align: top;\n",
       "    }\n",
       "\n",
       "    .dataframe thead th {\n",
       "        text-align: right;\n",
       "    }\n",
       "</style>\n",
       "<table border=\"1\" class=\"dataframe\">\n",
       "  <thead>\n",
       "    <tr style=\"text-align: right;\">\n",
       "      <th></th>\n",
       "      <th>bad</th>\n",
       "      <th>good</th>\n",
       "    </tr>\n",
       "  </thead>\n",
       "  <tbody>\n",
       "    <tr>\n",
       "      <th>bad</th>\n",
       "      <td>89</td>\n",
       "      <td>7</td>\n",
       "    </tr>\n",
       "    <tr>\n",
       "      <th>good</th>\n",
       "      <td>25</td>\n",
       "      <td>49</td>\n",
       "    </tr>\n",
       "  </tbody>\n",
       "</table>\n",
       "</div>"
      ],
      "text/plain": [
       "      bad  good\n",
       "bad    89     7\n",
       "good   25    49"
      ]
     },
     "execution_count": 104,
     "metadata": {},
     "output_type": "execute_result"
    }
   ],
   "source": [
    "pd.DataFrame(confusion_matrix(y_val, y_pred), index=best_rnd.classes_, columns=best_rnd.classes_)"
   ]
  },
  {
   "cell_type": "code",
   "execution_count": 105,
   "metadata": {},
   "outputs": [
    {
     "name": "stdout",
     "output_type": "stream",
     "text": [
      "              precision    recall  f1-score   support\n",
      "\n",
      "         bad       0.78      0.93      0.85        96\n",
      "        good       0.88      0.66      0.75        74\n",
      "\n",
      "    accuracy                           0.81       170\n",
      "   macro avg       0.83      0.79      0.80       170\n",
      "weighted avg       0.82      0.81      0.81       170\n",
      "\n"
     ]
    }
   ],
   "source": [
    "print(classification_report(y_val, y_pred))"
   ]
  },
  {
   "cell_type": "markdown",
   "metadata": {},
   "source": [
    "### Confronto tra modelli"
   ]
  },
  {
   "cell_type": "markdown",
   "metadata": {},
   "source": [
    "Per poter confrontare più accuratamente i modelli definiamo prima la funzione capace di calcolare se la differenza di accuratezza tra due modelli è statisticamente significativa, che ci restituirà gli estremi dell'intervallo di variazione, oltre ad un booleano che ci dice se effettivamente la differenza tra le due accuratezze è statisticamente significativa."
   ]
  },
  {
   "cell_type": "code",
   "execution_count": 106,
   "metadata": {},
   "outputs": [],
   "source": [
    "def models_difference_interval(accuracy1, accuracy2, X_size, confidence_level=0.99):\n",
    "    abs_diff = abs(accuracy1 - accuracy2)\n",
    "    radius = norm.ppf((1 + confidence_level) / 2) * np.sqrt((accuracy1 * (1 - accuracy1) + accuracy2 * (1 - accuracy2)) / X_size)\n",
    "    min_int = abs_diff - radius\n",
    "    max_int = abs_diff + radius\n",
    "    return min_int, max_int, min_int > 0"
   ]
  },
  {
   "cell_type": "markdown",
   "metadata": {},
   "source": [
    "Poi defininiamo un modello \"dummy\", ovverosia un modello che effettui le sue predizioni senza alcun tipo di conoscenza sulle regole interne al dataset che permettono di associare un'istanza alla sua classe, facendo perciò le sue predizioni in maniera casuale. In realtà, per fare in modo che il nostro modello di benchmark abbia un'accuratezza maggiore, in modo da mettere maggiormente alla prova i modelli precedentemente estratti, non effettuerà la classificazione in maniera completamente casuale, ma  assegnerà tutte le istanze alla classe più frequente nel dataset. Questo perchè sappiamo esistere un leggero sbilanciamento tra le istanze delle due classi e perciò tutti i modelli che sono più propensi ad assegnare le istanze alla classe più frequente piuttosto che all'altra, avranno automaticamente un certo vantaggio sugli altri modelli."
   ]
  },
  {
   "cell_type": "code",
   "execution_count": 107,
   "metadata": {},
   "outputs": [
    {
     "data": {
      "text/plain": [
       "0.5647058823529412"
      ]
     },
     "execution_count": 107,
     "metadata": {},
     "output_type": "execute_result"
    }
   ],
   "source": [
    "dummy = Pipeline([\n",
    "    (\"scaler\", StandardScaler(with_mean=False)),\n",
    "    (\"classifier\", DummyClassifier(strategy=\"most_frequent\", random_state=742))\n",
    "])\n",
    "dummy.fit(X_train, y_train)\n",
    "dummy.score(X_val, y_val)"
   ]
  },
  {
   "cell_type": "markdown",
   "metadata": {},
   "source": [
    "Osserviamo che tutti i migliori modelli estratti mediante i metodi utilizzati in precedenza sono significativamente migliori a livello statistico del modello di benchmark con un livello di confidenza del 99%, segno che hanno effetivamente appreso qualcosa dal dataset. Designamo come modello migliore perciò quello ottenuto mediante regressione logistica, che è quello dei due con accuratezza più alta. Anche se quest'ultima non è statisticamente più significativa di quella dei migliori modelli ottenuti con XGBoost, Random Forest o Support Vector Machines, il modello è stato comunque capace meglio degli altri tre di bilanciare *precision* e *recall* delle due classi."
   ]
  },
  {
   "cell_type": "code",
   "execution_count": 108,
   "metadata": {},
   "outputs": [
    {
     "data": {
      "text/html": [
       "<div>\n",
       "<style scoped>\n",
       "    .dataframe tbody tr th:only-of-type {\n",
       "        vertical-align: middle;\n",
       "    }\n",
       "\n",
       "    .dataframe tbody tr th {\n",
       "        vertical-align: top;\n",
       "    }\n",
       "\n",
       "    .dataframe thead th {\n",
       "        text-align: right;\n",
       "    }\n",
       "</style>\n",
       "<table border=\"1\" class=\"dataframe\">\n",
       "  <thead>\n",
       "    <tr style=\"text-align: right;\">\n",
       "      <th></th>\n",
       "      <th>accuracy</th>\n",
       "      <th>lower_bound_interval_dummy</th>\n",
       "      <th>upper_bound_interval_dummy</th>\n",
       "      <th>statistically_significative_dummy</th>\n",
       "      <th>lower_bound_interval_best</th>\n",
       "      <th>upper_bound_interval_best</th>\n",
       "      <th>statistically_significative_best</th>\n",
       "    </tr>\n",
       "    <tr>\n",
       "      <th>model</th>\n",
       "      <th></th>\n",
       "      <th></th>\n",
       "      <th></th>\n",
       "      <th></th>\n",
       "      <th></th>\n",
       "      <th></th>\n",
       "      <th></th>\n",
       "    </tr>\n",
       "  </thead>\n",
       "  <tbody>\n",
       "    <tr>\n",
       "      <th>Dummy</th>\n",
       "      <td>0.564706</td>\n",
       "      <td>-0.138519</td>\n",
       "      <td>0.138519</td>\n",
       "      <td>False</td>\n",
       "      <td>0.183877</td>\n",
       "      <td>0.369064</td>\n",
       "      <td>True</td>\n",
       "    </tr>\n",
       "    <tr>\n",
       "      <th>Perceptron</th>\n",
       "      <td>0.747059</td>\n",
       "      <td>0.052089</td>\n",
       "      <td>0.312617</td>\n",
       "      <td>True</td>\n",
       "      <td>0.008743</td>\n",
       "      <td>0.179492</td>\n",
       "      <td>True</td>\n",
       "    </tr>\n",
       "    <tr>\n",
       "      <th>Random Forest</th>\n",
       "      <td>0.811765</td>\n",
       "      <td>0.122329</td>\n",
       "      <td>0.371789</td>\n",
       "      <td>True</td>\n",
       "      <td>-0.051035</td>\n",
       "      <td>0.109859</td>\n",
       "      <td>False</td>\n",
       "    </tr>\n",
       "    <tr>\n",
       "      <th>Support Vector Machines</th>\n",
       "      <td>0.835294</td>\n",
       "      <td>0.148264</td>\n",
       "      <td>0.392913</td>\n",
       "      <td>True</td>\n",
       "      <td>-0.072397</td>\n",
       "      <td>0.084162</td>\n",
       "      <td>False</td>\n",
       "    </tr>\n",
       "    <tr>\n",
       "      <th>Logistic Regression</th>\n",
       "      <td>0.841176</td>\n",
       "      <td>0.154783</td>\n",
       "      <td>0.398159</td>\n",
       "      <td>True</td>\n",
       "      <td>-0.077703</td>\n",
       "      <td>0.077703</td>\n",
       "      <td>False</td>\n",
       "    </tr>\n",
       "    <tr>\n",
       "      <th>XGBoost</th>\n",
       "      <td>0.841176</td>\n",
       "      <td>0.154783</td>\n",
       "      <td>0.398159</td>\n",
       "      <td>True</td>\n",
       "      <td>-0.077703</td>\n",
       "      <td>0.077703</td>\n",
       "      <td>False</td>\n",
       "    </tr>\n",
       "  </tbody>\n",
       "</table>\n",
       "</div>"
      ],
      "text/plain": [
       "                         accuracy  lower_bound_interval_dummy  \\\n",
       "model                                                           \n",
       "Dummy                    0.564706                   -0.138519   \n",
       "Perceptron               0.747059                    0.052089   \n",
       "Random Forest            0.811765                    0.122329   \n",
       "Support Vector Machines  0.835294                    0.148264   \n",
       "Logistic Regression      0.841176                    0.154783   \n",
       "XGBoost                  0.841176                    0.154783   \n",
       "\n",
       "                         upper_bound_interval_dummy  \\\n",
       "model                                                 \n",
       "Dummy                                      0.138519   \n",
       "Perceptron                                 0.312617   \n",
       "Random Forest                              0.371789   \n",
       "Support Vector Machines                    0.392913   \n",
       "Logistic Regression                        0.398159   \n",
       "XGBoost                                    0.398159   \n",
       "\n",
       "                         statistically_significative_dummy  \\\n",
       "model                                                        \n",
       "Dummy                                                False   \n",
       "Perceptron                                            True   \n",
       "Random Forest                                         True   \n",
       "Support Vector Machines                               True   \n",
       "Logistic Regression                                   True   \n",
       "XGBoost                                               True   \n",
       "\n",
       "                         lower_bound_interval_best  upper_bound_interval_best  \\\n",
       "model                                                                           \n",
       "Dummy                                     0.183877                   0.369064   \n",
       "Perceptron                                0.008743                   0.179492   \n",
       "Random Forest                            -0.051035                   0.109859   \n",
       "Support Vector Machines                  -0.072397                   0.084162   \n",
       "Logistic Regression                      -0.077703                   0.077703   \n",
       "XGBoost                                  -0.077703                   0.077703   \n",
       "\n",
       "                         statistically_significative_best  \n",
       "model                                                      \n",
       "Dummy                                                True  \n",
       "Perceptron                                           True  \n",
       "Random Forest                                       False  \n",
       "Support Vector Machines                             False  \n",
       "Logistic Regression                                 False  \n",
       "XGBoost                                             False  "
      ]
     },
     "execution_count": 108,
     "metadata": {},
     "output_type": "execute_result"
    }
   ],
   "source": [
    "models = [dummy, best_perc, best_logreg, best_svm, best_xgb, best_rnd]\n",
    "scores = list(map(lambda model: model.score(X_val, y_val), models))\n",
    "data = []\n",
    "dummy_accuracy = dummy.score(X_val, y_val)\n",
    "best_accuracy = max(scores)\n",
    "for model in models:\n",
    "    accuracy = model.score(X_val, y_val)\n",
    "    min_int_dummy, max_int_dummy, significative_dummy = models_difference_interval(accuracy, dummy_accuracy, X_val.shape[0])\n",
    "    min_int_best, max_int_best, significative_best = models_difference_interval(accuracy, best_accuracy, X_val.shape[0], 0.95)\n",
    "    data.append((accuracy, min_int_dummy, max_int_dummy, significative_dummy, min_int_best, max_int_best, significative_best))\n",
    "pd.DataFrame(data,\n",
    "             index=pd.Index([\"Dummy\", \"Perceptron\", \"Logistic Regression\", \"Support Vector Machines\", \"XGBoost\", \"Random Forest\"], name=\"model\"),\n",
    "             columns=[\"accuracy\", \"lower_bound_interval_dummy\", \"upper_bound_interval_dummy\", \"statistically_significative_dummy\", \"lower_bound_interval_best\", \"upper_bound_interval_best\", \"statistically_significative_best\"]) \\\n",
    "  .sort_values(\"accuracy\")"
   ]
  },
  {
   "cell_type": "markdown",
   "metadata": {},
   "source": [
    "### Interpretazione della conoscenza"
   ]
  },
  {
   "cell_type": "markdown",
   "metadata": {},
   "source": [
    "Scelto il modello migliore, osserviamo perciò quali sono le feature che sono per esso più incisive per la scelta dell'una o dell'altra classe. Le feature che maggiormente portano un episodio ad essere considerato \"bello\" sembrano essere le esclamazioni (\"ah\", \"hmm\", \"oh\", \"huh\", \"hey\", \"uh huh\") e le loro varianti, le risate (\"heh heh heh\"), ma anche altre parole come \"minute\", \"sir\", \"come\", \"everybody\" ed \"hello\". Tutto sommato, queste informazioni sono in linea con quanto ci aspettavamo: gli episodi migliori della serie sono quelli dove vengono trasmesse più emozioni e il pubblico si sente più coinvolto."
   ]
  },
  {
   "cell_type": "code",
   "execution_count": 109,
   "metadata": {},
   "outputs": [
    {
     "data": {
      "text/plain": [
       "ah                0.034467\n",
       "heh               0.032724\n",
       "etc               0.030716\n",
       "hmmm              0.029666\n",
       "heh heh           0.029116\n",
       "oh                0.028722\n",
       "ohh               0.025645\n",
       "hey wait          0.025180\n",
       "Maude Flanders    0.025160\n",
       "minut             0.024720\n",
       "sir               0.024362\n",
       "hey               0.024027\n",
       "huh               0.023988\n",
       "heh heh heh       0.023742\n",
       "come              0.023456\n",
       "uh huh            0.023438\n",
       "ahh               0.023336\n",
       "everybodi         0.022798\n",
       "Miss Hoover       0.022102\n",
       "hello             0.021954\n",
       "dtype: float64"
      ]
     },
     "execution_count": 109,
     "metadata": {},
     "output_type": "execute_result"
    }
   ],
   "source": [
    "coefs = pd.Series(best_logreg.named_steps[\"classifier\"].coef_[0], index).sort_values(ascending=False)\n",
    "coefs.head(20)"
   ]
  },
  {
   "cell_type": "markdown",
   "metadata": {},
   "source": [
    "Se consideriamo solo gli 1-gram che rendono più probabile che l'episodio abbia un buon rating, vediamo come questa teoria è confermata, trovando oltre alle già citate parole anche \"ewww\". Troviamo però anche due cognomi, \"mcclure\", appartenente al personaggio di Troy McClure, e \"simpson\"."
   ]
  },
  {
   "cell_type": "code",
   "execution_count": 110,
   "metadata": {},
   "outputs": [
    {
     "data": {
      "text/plain": [
       "ah           0.034467\n",
       "heh          0.032724\n",
       "etc          0.030716\n",
       "hmmm         0.029666\n",
       "oh           0.028722\n",
       "ohh          0.025645\n",
       "minut        0.024720\n",
       "sir          0.024362\n",
       "hey          0.024027\n",
       "huh          0.023988\n",
       "come         0.023456\n",
       "ahh          0.023336\n",
       "everybodi    0.022798\n",
       "hello        0.021954\n",
       "ooooh        0.021757\n",
       "ewww         0.021706\n",
       "mcclure      0.021094\n",
       "uh-huh       0.021083\n",
       "simpson      0.021045\n",
       "hmm          0.020582\n",
       "dtype: float64"
      ]
     },
     "execution_count": 110,
     "metadata": {},
     "output_type": "execute_result"
    }
   ],
   "source": [
    "coefs[~coefs.index.str.contains(r\"[A-Z ]\")].head(20)"
   ]
  },
  {
   "cell_type": "markdown",
   "metadata": {},
   "source": [
    "Al contrario, le feature che portano un episodio ad essere considerato \"brutto\" sembrano essere parole che contengono giudizi o in generale aggettivi come \"great\", \"huge\", \"awesome\", \"final\", \"sweet\", ma anche parole di uso comune come \"everyone\", \"back\", \"made\", \"use\", \"move\", \"welcome\"... Forse il loro uso in maniera sovrabbondante potrebbe far perdere di significato l'episodio. Troviamo inoltre quella che sembra essere una parola che Marge usa spesso per apostrofare Homer, \"homie\", nonchè il nome di un personaggio, ovvero \"lenny\"."
   ]
  },
  {
   "cell_type": "code",
   "execution_count": 111,
   "metadata": {},
   "outputs": [
    {
     "data": {
      "text/plain": [
       "lenni           -0.018631\n",
       "na              -0.019044\n",
       "huge            -0.019112\n",
       "oh god          -0.019215\n",
       "great           -0.019457\n",
       "back            -0.019477\n",
       "everyon         -0.019611\n",
       "made            -0.019913\n",
       "Springfield     -0.020288\n",
       "Carl Carlson    -0.020388\n",
       "make            -0.020888\n",
       "use             -0.021535\n",
       "move            -0.022276\n",
       "Lenny Leonard   -0.023877\n",
       "final           -0.024303\n",
       "awesom          -0.024430\n",
       "homi            -0.024815\n",
       "welcom          -0.026008\n",
       "sweeti          -0.026392\n",
       "till            -0.028860\n",
       "dtype: float64"
      ]
     },
     "execution_count": 111,
     "metadata": {},
     "output_type": "execute_result"
    }
   ],
   "source": [
    "coefs.tail(20)"
   ]
  },
  {
   "cell_type": "markdown",
   "metadata": {},
   "source": [
    "Se consideriamo solo gli 1-gram, oltre alle già discusse parole, troviamo anche \"disco\", \"god\", \"never\" e \"bully\". Evidentemente gli episodi dove si parla di temi religiosi o di bullismo non sono stati molto apprezzati. La parola \"disco\" fa probabilmente anch'essa riferimento al nome di un personaggio, \"Disco Stu\"."
   ]
  },
  {
   "cell_type": "code",
   "execution_count": 112,
   "metadata": {},
   "outputs": [
    {
     "data": {
      "text/plain": [
       "bulli     -0.017704\n",
       "disco     -0.017892\n",
       "god       -0.018175\n",
       "never     -0.018369\n",
       "lenni     -0.018631\n",
       "na        -0.019044\n",
       "huge      -0.019112\n",
       "great     -0.019457\n",
       "back      -0.019477\n",
       "everyon   -0.019611\n",
       "made      -0.019913\n",
       "make      -0.020888\n",
       "use       -0.021535\n",
       "move      -0.022276\n",
       "final     -0.024303\n",
       "awesom    -0.024430\n",
       "homi      -0.024815\n",
       "welcom    -0.026008\n",
       "sweeti    -0.026392\n",
       "till      -0.028860\n",
       "dtype: float64"
      ]
     },
     "execution_count": 112,
     "metadata": {},
     "output_type": "execute_result"
    }
   ],
   "source": [
    "coefs[~coefs.index.str.contains(r\"[A-Z ]\")].tail(20)"
   ]
  },
  {
   "cell_type": "markdown",
   "metadata": {},
   "source": [
    "Se ci concentriamo esclusivamente sui personaggi osserviamo che tra quelli che più portano una puntata ad essere apprezzata sono i già visti \"Maude Flanders\" e la \"signorina Hoover\", ma anche la \"signora della mensa\", il \"signor Smithers\", gli anziani e \"Jasper\", uno degli ospiti della casa di riposo di Springfield."
   ]
  },
  {
   "cell_type": "code",
   "execution_count": 113,
   "metadata": {},
   "outputs": [
    {
     "data": {
      "text/plain": [
       "name\n",
       "Maude Flanders     0.025160\n",
       "Miss Hoover        0.022102\n",
       "Lunchlady Doris    0.020281\n",
       "Lewis Clark        0.019196\n",
       "Waylon Smithers    0.019190\n",
       "Singers            0.017886\n",
       "Old People         0.016665\n",
       "Chuck              0.015853\n",
       "Jasper Beardly     0.015104\n",
       "JANEY              0.014704\n",
       "dtype: float64"
      ]
     },
     "execution_count": 113,
     "metadata": {},
     "output_type": "execute_result"
    }
   ],
   "source": [
    "best_characters = coefs[characters_cols].sort_values(ascending=False)\n",
    "best_characters.head(10)"
   ]
  },
  {
   "cell_type": "markdown",
   "metadata": {},
   "source": [
    "Tra i personaggi che invece abbassano il gradimento di una puntata troviamo il \"ricco texano\", la businesswoman \"Lindsey Naegle\", \"Brandine\", cioè la moglie di Cletus il bifolco, nonchè \"Cletus il bifolco\" stesso. Quello che hanno in comune questi personaggi è di essere tutti inerentemente repubblicani, rappresentando la parte più conservatrice degli Stati Uniti. La serie, di chiaro stampo democratico, satirizza molto questi personaggi e questo potrebbe non essere gradito al pubblico fortemente repubblicano della rete televisiva. Tra gli altri personaggi a sorpresa troviamo \"Secco\", la madre di Nelson, l'\"adolescente dalla voce stridula\", ma anche \"Disco Stu\" e \"Lenny\" e \"Carl\", i nomi dei quali li avevamo già incontrati in precedenza, come personaggi o come 1-gram dei loro nomi."
   ]
  },
  {
   "cell_type": "code",
   "execution_count": 114,
   "metadata": {},
   "outputs": [
    {
     "data": {
      "text/plain": [
       "name\n",
       "DOLPH                 -0.012477\n",
       "The Rich Texan        -0.013465\n",
       "Mrs. Muntz            -0.014650\n",
       "Lindsay Naegle        -0.014871\n",
       "Brandine Del Roy      -0.015295\n",
       "Disco Stu             -0.016245\n",
       "Squeaky-Voiced Teen   -0.016470\n",
       "Cletus Spuckler       -0.017380\n",
       "Carl Carlson          -0.020388\n",
       "Lenny Leonard         -0.023877\n",
       "dtype: float64"
      ]
     },
     "execution_count": 114,
     "metadata": {},
     "output_type": "execute_result"
    }
   ],
   "source": [
    "best_characters.tail(10)"
   ]
  },
  {
   "cell_type": "markdown",
   "metadata": {},
   "source": [
    "Tra i luoghi in cui si svolgono le puntate dei Simpson che più portano ad alzare il gradimento di una puntata ci sono le stanze di casa Simpson, le stanze della scuola elementare di Springfield, ma anche altri luoghi meno riconoscibili come le vie della città o le automobili. I primi due luoghi, casa Simpson e la scuola elementare, sono i luoghi dove chiaramente si svolgono il maggior numero di scene degli episodi, i luoghi più ricorrenti, perchè è dove i personaggi passano maggiormente il loro tempo. Evidentemente quando non è chiaro il luogo in cui si svolge l'azione nel dataset è stato semplicemente etichettato come \"Somewhere\" e così lì si svolgono molte scene della serie tv e questo porta il suo coefficiente ad essere alto."
   ]
  },
  {
   "cell_type": "code",
   "execution_count": 115,
   "metadata": {},
   "outputs": [
    {
     "data": {
      "text/plain": [
       "name\n",
       "Somewhere                                   0.019343\n",
       "Simpson Kitchen                             0.015701\n",
       "Simpson Dining Room                         0.015625\n",
       "Miss Hoover's Classroom                     0.014054\n",
       "Street                                      0.013217\n",
       "Downtown Street                             0.012969\n",
       "Main Street                                 0.012756\n",
       "PARADE GROUNDS                              0.012410\n",
       "Selma's Car                                 0.012400\n",
       "Springfield Elementary School Auditorium    0.012330\n",
       "dtype: float64"
      ]
     },
     "execution_count": 115,
     "metadata": {},
     "output_type": "execute_result"
    }
   ],
   "source": [
    "best_locations = coefs[locations_cols].sort_values(ascending=False)\n",
    "best_locations.head(10)"
   ]
  },
  {
   "cell_type": "markdown",
   "metadata": {},
   "source": [
    "Tra i luoghi che invece portano il pubblico a dire che un episodio è \"brutto\" troviamo invece molti più luoghi di contorno come un generico \"negozio\", la spiaggia, le automobili di Homer e di Marge, il tribunale, il garage di casa Simpson, la via dove abitano i Simpson, \"Evergreen Terrace\", lo stadio, la città di Springfield in generale, che avevamo già incontrato. Evidentemente in questi luoghi si svolgono scene più irrilevanti ai fini della trama o comunque sono luoghi dove più spesso si svolgono scene non interessanti per il pubblico."
   ]
  },
  {
   "cell_type": "code",
   "execution_count": 116,
   "metadata": {},
   "outputs": [
    {
     "data": {
      "text/plain": [
       "name\n",
       "Store               -0.011815\n",
       "Marge's Car         -0.011896\n",
       "Beach               -0.012011\n",
       "Homer's Car         -0.012339\n",
       "Announcer's Booth   -0.012750\n",
       "Court               -0.012867\n",
       "Simpson Garage      -0.014189\n",
       "Evergreen Terrace   -0.015063\n",
       "STADIUM             -0.015708\n",
       "Springfield         -0.020288\n",
       "dtype: float64"
      ]
     },
     "execution_count": 116,
     "metadata": {},
     "output_type": "execute_result"
    }
   ],
   "source": [
    "best_locations.tail(10)"
   ]
  },
  {
   "cell_type": "markdown",
   "metadata": {},
   "source": [
    "Notiamo come l'intercetta del nostro modello sia una valore molto piccolo, approssimabile con 0. Questo significa che il nostro modello non conferisce a priori un bonus o un malus ad un episodio prima di classificarlo e perciò entrambe le valutazioni, \"bello\" o \"brutto\", hanno la stessa probabilità di essere assegnate ad un episodio a partire dalle parole conenute nel copione di quest'ultimo, dai personaggi e dalle location che compaiono."
   ]
  },
  {
   "cell_type": "code",
   "execution_count": 117,
   "metadata": {},
   "outputs": [
    {
     "data": {
      "text/plain": [
       "9.356339858905328e-06"
      ]
     },
     "execution_count": 117,
     "metadata": {},
     "output_type": "execute_result"
    }
   ],
   "source": [
    "best_logreg.named_steps[\"classifier\"].intercept_[0]"
   ]
  },
  {
   "cell_type": "markdown",
   "metadata": {},
   "source": [
    "### Test di reti neurali"
   ]
  },
  {
   "cell_type": "markdown",
   "metadata": {},
   "source": [
    "#### Classificazione tramite multi-layer perceptron"
   ]
  },
  {
   "cell_type": "markdown",
   "metadata": {},
   "source": [
    "Proviamo quindi un approccio con una maggior numero di feature, ma dove le feature sono autonomamente apprese dal metodo stesso, quindi utilizzando una rete neurale. Perdiamo chiaramente la possibilità di interpretare il nostro modello. Prima di tutto testiamo quella che scikit-learn ci fornisce di base, ovverosia il multi-layer perceptron. Lo score medio con i parametri scelti non è troppo distante da quello degli altri modelli valutati precedentemente."
   ]
  },
  {
   "cell_type": "code",
   "execution_count": 118,
   "metadata": {},
   "outputs": [
    {
     "data": {
      "text/html": [
       "<div>\n",
       "<style scoped>\n",
       "    .dataframe tbody tr th:only-of-type {\n",
       "        vertical-align: middle;\n",
       "    }\n",
       "\n",
       "    .dataframe tbody tr th {\n",
       "        vertical-align: top;\n",
       "    }\n",
       "\n",
       "    .dataframe thead th {\n",
       "        text-align: right;\n",
       "    }\n",
       "</style>\n",
       "<table border=\"1\" class=\"dataframe\">\n",
       "  <thead>\n",
       "    <tr style=\"text-align: right;\">\n",
       "      <th></th>\n",
       "      <th>mean_test_score</th>\n",
       "      <th>std_test_score</th>\n",
       "    </tr>\n",
       "  </thead>\n",
       "  <tbody>\n",
       "    <tr>\n",
       "      <th>0</th>\n",
       "      <td>0.852957</td>\n",
       "      <td>0.046017</td>\n",
       "    </tr>\n",
       "  </tbody>\n",
       "</table>\n",
       "</div>"
      ],
      "text/plain": [
       "   mean_test_score  std_test_score\n",
       "0         0.852957        0.046017"
      ]
     },
     "execution_count": 118,
     "metadata": {},
     "output_type": "execute_result"
    }
   ],
   "source": [
    "mlp = Pipeline([\n",
    "    (\"scaler\", StandardScaler(with_mean=False)),\n",
    "    (\"classifier\", MLPClassifier(shuffle=True, hidden_layer_sizes=(500, 20), batch_size=10, random_state=742))\n",
    "])\n",
    "gs = GridSearchCV(mlp, {}, cv=skf, n_jobs=-1)\n",
    "gs.fit(X_train, y_train)\n",
    "pd.DataFrame(gs.cv_results_)[[\"mean_test_score\", \"std_test_score\"]]"
   ]
  },
  {
   "cell_type": "markdown",
   "metadata": {},
   "source": [
    "Anche l'accuratezza non è male, ha un valore comparabile con quella del miglior metodo ottenuto con Random Forest, però non è chiaramente capace di superare il miglior modello in assoluto che siamo riusciti ad individuare."
   ]
  },
  {
   "cell_type": "code",
   "execution_count": 119,
   "metadata": {},
   "outputs": [
    {
     "data": {
      "text/plain": [
       "0.8176470588235294"
      ]
     },
     "execution_count": 119,
     "metadata": {},
     "output_type": "execute_result"
    }
   ],
   "source": [
    "gs.score(X_val, y_val)"
   ]
  },
  {
   "cell_type": "markdown",
   "metadata": {},
   "source": [
    "#### Classificazione mediante reti neurali convoluzionali"
   ]
  },
  {
   "cell_type": "markdown",
   "metadata": {},
   "source": [
    "In seconda battuta proviamo a costruire una rete neurale più complessa con l'aiuto di Keras e TensorFlow, vedendo se un approccio che sfrutta una rete neurale convoluzionale è capace di ottenere dei risultati migliori. Inseriamo un primo livello di reshape per ottenere una matrice 2D da ciascuna istanza, applichiamo la convoluzione, poi linearizziamo gli output per farli passare attraverso due strati simili a quelli inseriti nel multi-layer perceptron. Su uno applichiamo la regolarizzazione come per il modello migliore trovato in precedenza e prima del secondo applichiamo uno strato di \"dropout\"."
   ]
  },
  {
   "cell_type": "code",
   "execution_count": 120,
   "metadata": {},
   "outputs": [
    {
     "name": "stdout",
     "output_type": "stream",
     "text": [
      "Model: \"sequential_1\"\n",
      "_________________________________________________________________\n",
      "Layer (type)                 Output Shape              Param #   \n",
      "=================================================================\n",
      "reshape_1 (Reshape)          (None, 163, 52)           0         \n",
      "_________________________________________________________________\n",
      "conv1d_1 (Conv1D)            (None, 154, 500)          260500    \n",
      "_________________________________________________________________\n",
      "dense_1 (Dense)              (None, 154, 500)          250500    \n",
      "_________________________________________________________________\n",
      "flatten_1 (Flatten)          (None, 77000)             0         \n",
      "_________________________________________________________________\n",
      "dropout_1 (Dropout)          (None, 77000)             0         \n",
      "_________________________________________________________________\n",
      "dense_2 (Dense)              (None, 20)                1540020   \n",
      "_________________________________________________________________\n",
      "dense_3 (Dense)              (None, 2)                 42        \n",
      "=================================================================\n",
      "Total params: 2,051,062\n",
      "Trainable params: 2,051,062\n",
      "Non-trainable params: 0\n",
      "_________________________________________________________________\n"
     ]
    }
   ],
   "source": [
    "nn = Sequential([\n",
    "    Reshape((163, 52), input_shape=(X_train.shape[1],)),\n",
    "    Conv1D(500, 10, activation=\"relu\"),\n",
    "    Dense(500, activation=\"relu\", kernel_regularizer=l2(100)),\n",
    "    Flatten(),\n",
    "    Dropout(0.1, seed=742),\n",
    "    Dense(20, activation=\"relu\"),\n",
    "    Dense(2, activation=\"softmax\")\n",
    "])\n",
    "nn.summary()"
   ]
  },
  {
   "cell_type": "markdown",
   "metadata": {},
   "source": [
    "Codifichiamo le classi da predire per ciascuna istanza in formato \"one-hot encoding\", compiliamo il modello facendoci restituire anche la metrica di accuratezza e poi effettuiamo il fitting."
   ]
  },
  {
   "cell_type": "code",
   "execution_count": 121,
   "metadata": {},
   "outputs": [
    {
     "name": "stdout",
     "output_type": "stream",
     "text": [
      "Epoch 1/10\n",
      "394/394 [==============================] - 3s 8ms/step - loss: 25074.2167 - accuracy: 0.6117\n",
      "Epoch 2/10\n",
      "394/394 [==============================] - 3s 8ms/step - loss: 3066.9455 - accuracy: 0.8173\n",
      "Epoch 3/10\n",
      "394/394 [==============================] - 3s 8ms/step - loss: 197.9233 - accuracy: 0.7766\n",
      "Epoch 4/10\n",
      "394/394 [==============================] - 3s 9ms/step - loss: 6.2784 - accuracy: 0.6269\n",
      "Epoch 5/10\n",
      "394/394 [==============================] - 3s 9ms/step - loss: 0.7516 - accuracy: 0.5888\n",
      "Epoch 6/10\n",
      "394/394 [==============================] - 3s 9ms/step - loss: 0.7016 - accuracy: 0.6396\n",
      "Epoch 7/10\n",
      "394/394 [==============================] - 3s 9ms/step - loss: 0.6805 - accuracy: 0.6904\n",
      "Epoch 8/10\n",
      "394/394 [==============================] - 3s 9ms/step - loss: 0.6698 - accuracy: 0.7132\n",
      "Epoch 9/10\n",
      "394/394 [==============================] - 3s 9ms/step - loss: 0.6325 - accuracy: 0.7919\n",
      "Epoch 10/10\n",
      "394/394 [==============================] - 4s 10ms/step - loss: 0.5473 - accuracy: 0.8528\n"
     ]
    }
   ],
   "source": [
    "y_enc_train = to_categorical(np.where(y_train == \"good\", 1, 0))\n",
    "y_enc_val = to_categorical(np.where(y_val == \"good\", 1, 0))\n",
    "nn.compile(loss=\"categorical_crossentropy\", optimizer=\"adam\", metrics=[\"accuracy\"])\n",
    "fit_history = nn.fit(X_train.toarray(), y_enc_train, epochs=10, batch_size=10);"
   ]
  },
  {
   "cell_type": "markdown",
   "metadata": {},
   "source": [
    "Infine valutiamo il modello sul validation set, la *categorical cross-entropy* non sembra essere particolarmente alta, ma nemmeno troppo bassa, mentre l'accuratezza, anche se sempre migliore di quella del modello benchmark, è la più bassa tra tutte quelle dei modelli valutati, anche più bassa dei modelli ottenuti da perceptron, il più scarso tra i metodi che usano statistical learning, e dei modelli ottenuti da multi-layer perceptron, l'altra rete neurale che abbiamo addestrato."
   ]
  },
  {
   "cell_type": "code",
   "execution_count": 122,
   "metadata": {},
   "outputs": [
    {
     "name": "stdout",
     "output_type": "stream",
     "text": [
      "170/170 [==============================] - 1s 3ms/step\n"
     ]
    },
    {
     "data": {
      "text/plain": [
       "[0.7129575715345495, 0.7117646932601929]"
      ]
     },
     "execution_count": 122,
     "metadata": {},
     "output_type": "execute_result"
    }
   ],
   "source": [
    "nn.evaluate(X_val.toarray(), y_enc_val, batch_size=10)"
   ]
  }
 ],
 "metadata": {
  "kernelspec": {
   "display_name": "DataIntensive",
   "language": "python",
   "name": "dataintensive"
  },
  "language_info": {
   "codemirror_mode": {
    "name": "ipython",
    "version": 3
   },
   "file_extension": ".py",
   "mimetype": "text/x-python",
   "name": "python",
   "nbconvert_exporter": "python",
   "pygments_lexer": "ipython3",
   "version": "3.8.3"
  }
 },
 "nbformat": 4,
 "nbformat_minor": 4
}
