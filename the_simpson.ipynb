{
 "cells": [
  {
   "cell_type": "markdown",
   "metadata": {},
   "source": [
    "# Un'analisi predittiva sulla serie tv più amata del mondo - I Simpson\n",
    "## Esame di Programmazione di Applicazioni Data Intensive\n",
    "#### Laurea in Ingegneria e Scienze Informatiche - A.A. 2019/2020\n",
    "#### Matteo Castellucci - matteo.castellucci3@studio.unibo.it"
   ]
  },
  {
   "cell_type": "markdown",
   "metadata": {},
   "source": [
    "### Descrizione del problema e della variabile da predire"
   ]
  },
  {
   "cell_type": "markdown",
   "metadata": {},
   "source": [
    "Si vogliono analizzare le caratteristiche degli episodi della serie tv \"I Simpson\" (in originale \"The Simpsons\") con il fine di predire quanto più accuratamente possibile il [*rating* su IMDB](https://www.imdb.com/title/tt0096697/) di ciascun episodio. Immaginiamo perciò che tutti gli episodi non siano ancora andati in onda, in modo tale che gli spettatori non abbiano ancora potuto farsene un'opinione, ma che siano già stati prodotti e ne sia stata programmata la trasmissione, in modo tale da sapere in anticipo il contenuto di ciascuno di essi e la data in cui saranno trasmessi.\n",
    "\n",
    "Poichè il valore assoluto del *rating* di per sè è per noi poco significativo, essendo legato alle esperienze personali degli spettatori, cercheremo di predire una variabile categorica ottenuta da esso che ci dica se l'episodio complessivamente è ritenuto \"bello\" oppure \"brutto\" dal pubblico.\n",
    "Scegliamo le classi secondo la seguente logica:\n",
    "- **Bello**: rating superiore a 7,5 incluso\n",
    "- **Brutto**: rating inferiore a 7,5 escluso  \n",
    "\n",
    "Dovremo perciò affrontare un problema di classificazione binaria."
   ]
  },
  {
   "cell_type": "markdown",
   "metadata": {},
   "source": [
    "### Importazione delle librerie e impostazione delle opzioni"
   ]
  },
  {
   "cell_type": "markdown",
   "metadata": {},
   "source": [
    "Per prima cosa ci preoccupiamo di importare tutte le librerie, le funzioni e gli oggetti che utilizzeremo. Inoltre, scarichiamo tutti i componenti della libreria \"NLTK\" che ci serviranno e impostiamo tutte le proprietà delle librerie a noi utili, in modo da non doverlo fare più avanti. Sopprimiamo inoltre i *warning* inutili."
   ]
  },
  {
   "cell_type": "code",
   "execution_count": 1,
   "metadata": {},
   "outputs": [
    {
     "name": "stderr",
     "output_type": "stream",
     "text": [
      "Using TensorFlow backend.\n",
      "[nltk_data] Downloading package punkt to /home/matteo/nltk_data...\n",
      "[nltk_data]   Unzipping tokenizers/punkt.zip.\n",
      "[nltk_data] Downloading package stopwords to /home/matteo/nltk_data...\n",
      "[nltk_data]   Unzipping corpora/stopwords.zip.\n",
      "[nltk_data] Downloading package averaged_perceptron_tagger to\n",
      "[nltk_data]     /home/matteo/nltk_data...\n",
      "[nltk_data]   Unzipping taggers/averaged_perceptron_tagger.zip.\n",
      "[nltk_data] Downloading package wordnet to /home/matteo/nltk_data...\n",
      "[nltk_data]   Unzipping corpora/wordnet.zip.\n"
     ]
    },
    {
     "data": {
      "text/plain": [
       "True"
      ]
     },
     "execution_count": 1,
     "metadata": {},
     "output_type": "execute_result"
    }
   ],
   "source": [
    "%matplotlib inline\n",
    "import os.path\n",
    "import re\n",
    "import numpy as np\n",
    "import pandas as pd\n",
    "import matplotlib.pyplot as plt\n",
    "import nltk\n",
    "\n",
    "from sklearn.feature_extraction.text import CountVectorizer, TfidfVectorizer\n",
    "from sklearn.model_selection import train_test_split, cross_validate, StratifiedKFold, GridSearchCV\n",
    "from sklearn.linear_model import LogisticRegression, Perceptron\n",
    "from sklearn.neural_network import MLPClassifier\n",
    "from sklearn.ensemble import RandomForestClassifier\n",
    "from sklearn.pipeline import Pipeline\n",
    "from sklearn.preprocessing import StandardScaler\n",
    "from sklearn.metrics import confusion_matrix, classification_report\n",
    "from sklearn.svm import SVC\n",
    "from sklearn.dummy import DummyClassifier\n",
    "from scipy.stats import norm\n",
    "from scipy.sparse import csr_matrix, hstack\n",
    "from xgboost import XGBClassifier\n",
    "import tensorflow as tf\n",
    "import keras\n",
    "from keras.models import Sequential\n",
    "from keras.utils import to_categorical\n",
    "from keras.layers import Dense, Conv1D, Flatten, Dropout, Reshape\n",
    "from keras.regularizers import l2\n",
    "import warnings\n",
    "\n",
    "warnings.filterwarnings(\"ignore\", category=UserWarning)\n",
    "pd.options.display.max_colwidth = 100\n",
    "nltk.download(\"punkt\")\n",
    "nltk.download(\"stopwords\")\n",
    "nltk.download(\"averaged_perceptron_tagger\")\n",
    "nltk.download(\"wordnet\")"
   ]
  },
  {
   "cell_type": "markdown",
   "metadata": {},
   "source": [
    "### Importazione del dataset"
   ]
  },
  {
   "cell_type": "markdown",
   "metadata": {},
   "source": [
    "Verranno utilizzati i *dataset* contenuti nel post \"The Simpsons by the data\" originariamente pubblicati da William Kukierski e, data la loro cancellazione dal sito \"Kaggle\", aggiunti nuovamente da Prashant Banerjee. Mi sono riservato di applicare alcune modifiche al dataset originale per renderlo importabile tramite la libreria \"Pandas\", visto che presentava alcuni errori di formattazione. Detto questo, lo scarichiamo e lo importiamo."
   ]
  },
  {
   "cell_type": "code",
   "execution_count": 2,
   "metadata": {},
   "outputs": [],
   "source": [
    "zip_filename = \"the_simpsons.zip\"\n",
    "if not os.path.exists(\"the_simpsons.zip\"):\n",
    "    from urllib.request import urlretrieve\n",
    "    urlretrieve(\"https://drive.google.com/uc?export=download&id=1M4xsnaYl5KfsQ9Wx7wQ9Jc5oBdeCPcTx\", zip_filename)\n",
    "    from zipfile import ZipFile\n",
    "    with ZipFile(zip_filename) as file:\n",
    "        file.extractall()"
   ]
  },
  {
   "cell_type": "markdown",
   "metadata": {},
   "source": [
    "### Comprensione dei dati"
   ]
  },
  {
   "cell_type": "markdown",
   "metadata": {},
   "source": [
    "Osserviamo per prima cosa i personaggi. Notiamo che ogni riga ha già un suo identificatore dato dalla colonna ``id`` e che, oltre a questa colonna, nel file sono presenti altre tre *feature*:\n",
    "\n",
    "- ``name``: il nome del personaggio\n",
    "- ``normalized_name``: il nome del personaggio costituito da soli caratteri alfabetici minuscoli\n",
    "- ``gender``: il genere sessuale del personaggio"
   ]
  },
  {
   "cell_type": "code",
   "execution_count": 3,
   "metadata": {},
   "outputs": [
    {
     "data": {
      "text/html": [
       "<div>\n",
       "<style scoped>\n",
       "    .dataframe tbody tr th:only-of-type {\n",
       "        vertical-align: middle;\n",
       "    }\n",
       "\n",
       "    .dataframe tbody tr th {\n",
       "        vertical-align: top;\n",
       "    }\n",
       "\n",
       "    .dataframe thead th {\n",
       "        text-align: right;\n",
       "    }\n",
       "</style>\n",
       "<table border=\"1\" class=\"dataframe\">\n",
       "  <thead>\n",
       "    <tr style=\"text-align: right;\">\n",
       "      <th></th>\n",
       "      <th>name</th>\n",
       "      <th>normalized_name</th>\n",
       "      <th>gender</th>\n",
       "    </tr>\n",
       "    <tr>\n",
       "      <th>id</th>\n",
       "      <th></th>\n",
       "      <th></th>\n",
       "      <th></th>\n",
       "    </tr>\n",
       "  </thead>\n",
       "  <tbody>\n",
       "    <tr>\n",
       "      <th>6</th>\n",
       "      <td>Dewey Largo</td>\n",
       "      <td>dewey largo</td>\n",
       "      <td>m</td>\n",
       "    </tr>\n",
       "    <tr>\n",
       "      <th>7</th>\n",
       "      <td>Children</td>\n",
       "      <td>children</td>\n",
       "      <td>NaN</td>\n",
       "    </tr>\n",
       "    <tr>\n",
       "      <th>8</th>\n",
       "      <td>Bart Simpson</td>\n",
       "      <td>bart simpson</td>\n",
       "      <td>m</td>\n",
       "    </tr>\n",
       "    <tr>\n",
       "      <th>9</th>\n",
       "      <td>Lisa Simpson</td>\n",
       "      <td>lisa simpson</td>\n",
       "      <td>f</td>\n",
       "    </tr>\n",
       "    <tr>\n",
       "      <th>10</th>\n",
       "      <td>Patty Bouvier</td>\n",
       "      <td>patty bouvier</td>\n",
       "      <td>f</td>\n",
       "    </tr>\n",
       "    <tr>\n",
       "      <th>11</th>\n",
       "      <td>Ned Flanders</td>\n",
       "      <td>ned flanders</td>\n",
       "      <td>m</td>\n",
       "    </tr>\n",
       "    <tr>\n",
       "      <th>12</th>\n",
       "      <td>Mechanical Santa</td>\n",
       "      <td>mechanical santa</td>\n",
       "      <td>NaN</td>\n",
       "    </tr>\n",
       "    <tr>\n",
       "      <th>13</th>\n",
       "      <td>Tattoo Man</td>\n",
       "      <td>tattoo man</td>\n",
       "      <td>NaN</td>\n",
       "    </tr>\n",
       "    <tr>\n",
       "      <th>14</th>\n",
       "      <td>Waylon Smithers</td>\n",
       "      <td>waylon smithers</td>\n",
       "      <td>m</td>\n",
       "    </tr>\n",
       "    <tr>\n",
       "      <th>15</th>\n",
       "      <td>C. Montgomery Burns</td>\n",
       "      <td>c montgomery burns</td>\n",
       "      <td>m</td>\n",
       "    </tr>\n",
       "  </tbody>\n",
       "</table>\n",
       "</div>"
      ],
      "text/plain": [
       "                   name     normalized_name gender\n",
       "id                                                \n",
       "6           Dewey Largo         dewey largo      m\n",
       "7              Children            children    NaN\n",
       "8          Bart Simpson        bart simpson      m\n",
       "9          Lisa Simpson        lisa simpson      f\n",
       "10        Patty Bouvier       patty bouvier      f\n",
       "11         Ned Flanders        ned flanders      m\n",
       "12     Mechanical Santa    mechanical santa    NaN\n",
       "13           Tattoo Man          tattoo man    NaN\n",
       "14      Waylon Smithers     waylon smithers      m\n",
       "15  C. Montgomery Burns  c montgomery burns      m"
      ]
     },
     "execution_count": 3,
     "metadata": {},
     "output_type": "execute_result"
    }
   ],
   "source": [
    "simpsons_characters = pd.read_csv(\"simpsons_characters.csv\", index_col=\"id\").sort_values(\"id\")\n",
    "simpsons_characters.iloc[5:15]"
   ]
  },
  {
   "cell_type": "markdown",
   "metadata": {},
   "source": [
    "Come si può notare, la stragrande maggioranza dei personaggi non ha genere - perchè è sconosciuto o perché il personaggio è un insieme di persone - e perciò non è per noi un elemento particolarmente significativo. Questo DataFrame verrà perciò utilizzato solo per identificare il nome dei personaggi, in quanto non riporta altro che tutti i possibili nomi di personaggi contenuti nei copioni dei vari episodi, essendo presenti solo nomi unici."
   ]
  },
  {
   "cell_type": "code",
   "execution_count": 4,
   "metadata": {},
   "outputs": [
    {
     "data": {
      "text/html": [
       "<div>\n",
       "<style scoped>\n",
       "    .dataframe tbody tr th:only-of-type {\n",
       "        vertical-align: middle;\n",
       "    }\n",
       "\n",
       "    .dataframe tbody tr th {\n",
       "        vertical-align: top;\n",
       "    }\n",
       "\n",
       "    .dataframe thead th {\n",
       "        text-align: right;\n",
       "    }\n",
       "</style>\n",
       "<table border=\"1\" class=\"dataframe\">\n",
       "  <thead>\n",
       "    <tr style=\"text-align: right;\">\n",
       "      <th></th>\n",
       "      <th>name</th>\n",
       "      <th>normalized_name</th>\n",
       "      <th>gender</th>\n",
       "    </tr>\n",
       "  </thead>\n",
       "  <tbody>\n",
       "    <tr>\n",
       "      <th>count</th>\n",
       "      <td>6722</td>\n",
       "      <td>6722</td>\n",
       "      <td>323</td>\n",
       "    </tr>\n",
       "    <tr>\n",
       "      <th>unique</th>\n",
       "      <td>6722</td>\n",
       "      <td>6722</td>\n",
       "      <td>2</td>\n",
       "    </tr>\n",
       "  </tbody>\n",
       "</table>\n",
       "</div>"
      ],
      "text/plain": [
       "        name normalized_name gender\n",
       "count   6722            6722    323\n",
       "unique  6722            6722      2"
      ]
     },
     "execution_count": 4,
     "metadata": {},
     "output_type": "execute_result"
    }
   ],
   "source": [
    "simpsons_characters.describe().loc[[\"count\", \"unique\"]]"
   ]
  },
  {
   "cell_type": "markdown",
   "metadata": {},
   "source": [
    "Possiamo perciò già provvedere alla rimozione delle colonne non necessarie."
   ]
  },
  {
   "cell_type": "code",
   "execution_count": 5,
   "metadata": {},
   "outputs": [
    {
     "data": {
      "text/html": [
       "<div>\n",
       "<style scoped>\n",
       "    .dataframe tbody tr th:only-of-type {\n",
       "        vertical-align: middle;\n",
       "    }\n",
       "\n",
       "    .dataframe tbody tr th {\n",
       "        vertical-align: top;\n",
       "    }\n",
       "\n",
       "    .dataframe thead th {\n",
       "        text-align: right;\n",
       "    }\n",
       "</style>\n",
       "<table border=\"1\" class=\"dataframe\">\n",
       "  <thead>\n",
       "    <tr style=\"text-align: right;\">\n",
       "      <th></th>\n",
       "      <th>name</th>\n",
       "    </tr>\n",
       "    <tr>\n",
       "      <th>id</th>\n",
       "      <th></th>\n",
       "    </tr>\n",
       "  </thead>\n",
       "  <tbody>\n",
       "    <tr>\n",
       "      <th>1</th>\n",
       "      <td>Marge Simpson</td>\n",
       "    </tr>\n",
       "    <tr>\n",
       "      <th>2</th>\n",
       "      <td>Homer Simpson</td>\n",
       "    </tr>\n",
       "    <tr>\n",
       "      <th>3</th>\n",
       "      <td>Seymour Skinner</td>\n",
       "    </tr>\n",
       "    <tr>\n",
       "      <th>4</th>\n",
       "      <td>JANEY</td>\n",
       "    </tr>\n",
       "    <tr>\n",
       "      <th>5</th>\n",
       "      <td>Todd Flanders</td>\n",
       "    </tr>\n",
       "  </tbody>\n",
       "</table>\n",
       "</div>"
      ],
      "text/plain": [
       "               name\n",
       "id                 \n",
       "1     Marge Simpson\n",
       "2     Homer Simpson\n",
       "3   Seymour Skinner\n",
       "4             JANEY\n",
       "5     Todd Flanders"
      ]
     },
     "execution_count": 5,
     "metadata": {},
     "output_type": "execute_result"
    }
   ],
   "source": [
    "simpsons_characters.drop(columns=[\"normalized_name\", \"gender\"], inplace=True)\n",
    "simpsons_characters.head()"
   ]
  },
  {
   "cell_type": "markdown",
   "metadata": {},
   "source": [
    "Questo, come vedremo anche per gli altri, è un *dataset* molto pesante in memoria perchè contiene un numero molto alto di istanze (6722 per la precisione). Per questo, modifichiamo il tipo delle sue colonne in modo da ottimizzare al massimo l'uso della memoria sfruttando i tipi di Pandas. In questo modo, riusciamo a ridurre lo spazio occupato di quasi 5 volte."
   ]
  },
  {
   "cell_type": "code",
   "execution_count": 6,
   "metadata": {},
   "outputs": [
    {
     "name": "stdout",
     "output_type": "stream",
     "text": [
      "<class 'pandas.core.frame.DataFrame'>\n",
      "Int64Index: 6722 entries, 1 to 6749\n",
      "Data columns (total 1 columns):\n",
      " #   Column  Non-Null Count  Dtype \n",
      "---  ------  --------------  ----- \n",
      " 0   name    6722 non-null   object\n",
      "dtypes: object(1)\n",
      "memory usage: 506.4 KB\n"
     ]
    }
   ],
   "source": [
    "simpsons_characters.info(memory_usage=\"deep\")"
   ]
  },
  {
   "cell_type": "code",
   "execution_count": 7,
   "metadata": {},
   "outputs": [
    {
     "name": "stdout",
     "output_type": "stream",
     "text": [
      "<class 'pandas.core.frame.DataFrame'>\n",
      "Int64Index: 6722 entries, 1 to 6749\n",
      "Data columns (total 1 columns):\n",
      " #   Column  Non-Null Count  Dtype \n",
      "---  ------  --------------  ----- \n",
      " 0   name    6722 non-null   string\n",
      "dtypes: string(1)\n",
      "memory usage: 105.0 KB\n"
     ]
    }
   ],
   "source": [
    "simpsons_characters = simpsons_characters.astype({\n",
    "    \"name\": \"string\",\n",
    "})\n",
    "simpsons_characters.info(memory_usage=\"deep\")"
   ]
  },
  {
   "cell_type": "markdown",
   "metadata": {},
   "source": [
    "Osservando le location notiamo un pattern simile a quello già visto per i personaggi: abbiamo una colonna ``id`` che rappresenta l'identificatore della *location*, mentre le *feature* vere e proprie sono:\n",
    "\n",
    "- ``name``: il nome della *location*\n",
    "- ``normalized_name``: il nome della *location* fatto di soli caratteri alfabetici in minuscolo"
   ]
  },
  {
   "cell_type": "code",
   "execution_count": 8,
   "metadata": {},
   "outputs": [
    {
     "data": {
      "text/html": [
       "<div>\n",
       "<style scoped>\n",
       "    .dataframe tbody tr th:only-of-type {\n",
       "        vertical-align: middle;\n",
       "    }\n",
       "\n",
       "    .dataframe tbody tr th {\n",
       "        vertical-align: top;\n",
       "    }\n",
       "\n",
       "    .dataframe thead th {\n",
       "        text-align: right;\n",
       "    }\n",
       "</style>\n",
       "<table border=\"1\" class=\"dataframe\">\n",
       "  <thead>\n",
       "    <tr style=\"text-align: right;\">\n",
       "      <th></th>\n",
       "      <th>name</th>\n",
       "      <th>normalized_name</th>\n",
       "    </tr>\n",
       "    <tr>\n",
       "      <th>id</th>\n",
       "      <th></th>\n",
       "      <th></th>\n",
       "    </tr>\n",
       "  </thead>\n",
       "  <tbody>\n",
       "    <tr>\n",
       "      <th>1</th>\n",
       "      <td>Street</td>\n",
       "      <td>street</td>\n",
       "    </tr>\n",
       "    <tr>\n",
       "      <th>2</th>\n",
       "      <td>Car</td>\n",
       "      <td>car</td>\n",
       "    </tr>\n",
       "    <tr>\n",
       "      <th>3</th>\n",
       "      <td>Springfield Elementary School</td>\n",
       "      <td>springfield elementary school</td>\n",
       "    </tr>\n",
       "    <tr>\n",
       "      <th>4</th>\n",
       "      <td>Auditorium</td>\n",
       "      <td>auditorium</td>\n",
       "    </tr>\n",
       "    <tr>\n",
       "      <th>5</th>\n",
       "      <td>Simpson Home</td>\n",
       "      <td>simpson home</td>\n",
       "    </tr>\n",
       "  </tbody>\n",
       "</table>\n",
       "</div>"
      ],
      "text/plain": [
       "                             name                normalized_name\n",
       "id                                                              \n",
       "1                          Street                         street\n",
       "2                             Car                            car\n",
       "3   Springfield Elementary School  springfield elementary school\n",
       "4                      Auditorium                     auditorium\n",
       "5                    Simpson Home                   simpson home"
      ]
     },
     "execution_count": 8,
     "metadata": {},
     "output_type": "execute_result"
    }
   ],
   "source": [
    "simpsons_locations = pd.read_csv(\"simpsons_locations.csv\", index_col=\"id\").sort_values(\"id\")\n",
    "simpsons_locations.head()"
   ]
  },
  {
   "cell_type": "markdown",
   "metadata": {},
   "source": [
    "Anche in questo caso, il \"DataFrame\" è solamente utile per identificare il nome dei vari luoghi in cui gli episodi si svolgono, contenendo i luoghi che compaiono nei copioni dei vari episodi un'unica volta."
   ]
  },
  {
   "cell_type": "code",
   "execution_count": 9,
   "metadata": {},
   "outputs": [
    {
     "data": {
      "text/html": [
       "<div>\n",
       "<style scoped>\n",
       "    .dataframe tbody tr th:only-of-type {\n",
       "        vertical-align: middle;\n",
       "    }\n",
       "\n",
       "    .dataframe tbody tr th {\n",
       "        vertical-align: top;\n",
       "    }\n",
       "\n",
       "    .dataframe thead th {\n",
       "        text-align: right;\n",
       "    }\n",
       "</style>\n",
       "<table border=\"1\" class=\"dataframe\">\n",
       "  <thead>\n",
       "    <tr style=\"text-align: right;\">\n",
       "      <th></th>\n",
       "      <th>name</th>\n",
       "      <th>normalized_name</th>\n",
       "    </tr>\n",
       "  </thead>\n",
       "  <tbody>\n",
       "    <tr>\n",
       "      <th>count</th>\n",
       "      <td>4459</td>\n",
       "      <td>4459</td>\n",
       "    </tr>\n",
       "    <tr>\n",
       "      <th>unique</th>\n",
       "      <td>4459</td>\n",
       "      <td>4459</td>\n",
       "    </tr>\n",
       "  </tbody>\n",
       "</table>\n",
       "</div>"
      ],
      "text/plain": [
       "        name normalized_name\n",
       "count   4459            4459\n",
       "unique  4459            4459"
      ]
     },
     "execution_count": 9,
     "metadata": {},
     "output_type": "execute_result"
    }
   ],
   "source": [
    "simpsons_locations.describe().loc[[\"count\", \"unique\"]]"
   ]
  },
  {
   "cell_type": "markdown",
   "metadata": {},
   "source": [
    "Possiamo perciò rimuovere ``normalized_name``, non essendoci di alcuna utilità."
   ]
  },
  {
   "cell_type": "code",
   "execution_count": 10,
   "metadata": {},
   "outputs": [
    {
     "data": {
      "text/html": [
       "<div>\n",
       "<style scoped>\n",
       "    .dataframe tbody tr th:only-of-type {\n",
       "        vertical-align: middle;\n",
       "    }\n",
       "\n",
       "    .dataframe tbody tr th {\n",
       "        vertical-align: top;\n",
       "    }\n",
       "\n",
       "    .dataframe thead th {\n",
       "        text-align: right;\n",
       "    }\n",
       "</style>\n",
       "<table border=\"1\" class=\"dataframe\">\n",
       "  <thead>\n",
       "    <tr style=\"text-align: right;\">\n",
       "      <th></th>\n",
       "      <th>name</th>\n",
       "    </tr>\n",
       "    <tr>\n",
       "      <th>id</th>\n",
       "      <th></th>\n",
       "    </tr>\n",
       "  </thead>\n",
       "  <tbody>\n",
       "    <tr>\n",
       "      <th>1</th>\n",
       "      <td>Street</td>\n",
       "    </tr>\n",
       "    <tr>\n",
       "      <th>2</th>\n",
       "      <td>Car</td>\n",
       "    </tr>\n",
       "    <tr>\n",
       "      <th>3</th>\n",
       "      <td>Springfield Elementary School</td>\n",
       "    </tr>\n",
       "    <tr>\n",
       "      <th>4</th>\n",
       "      <td>Auditorium</td>\n",
       "    </tr>\n",
       "    <tr>\n",
       "      <th>5</th>\n",
       "      <td>Simpson Home</td>\n",
       "    </tr>\n",
       "  </tbody>\n",
       "</table>\n",
       "</div>"
      ],
      "text/plain": [
       "                             name\n",
       "id                               \n",
       "1                          Street\n",
       "2                             Car\n",
       "3   Springfield Elementary School\n",
       "4                      Auditorium\n",
       "5                    Simpson Home"
      ]
     },
     "execution_count": 10,
     "metadata": {},
     "output_type": "execute_result"
    }
   ],
   "source": [
    "simpsons_locations.drop(columns=\"normalized_name\", inplace=True)\n",
    "simpsons_locations.head()"
   ]
  },
  {
   "cell_type": "markdown",
   "metadata": {},
   "source": [
    "In questo caso l'uso di memoria incide di meno rispetto al dataset precedente. Decidiamo però lo stesso di scegliere i tipi adeguati per le colonne del DataFrame, anche solo per coerenza con il caso precedente, e otteniamo anche in questo caso una diminuzione nell'uso di memoria di un fattore 5."
   ]
  },
  {
   "cell_type": "code",
   "execution_count": 11,
   "metadata": {},
   "outputs": [
    {
     "name": "stdout",
     "output_type": "stream",
     "text": [
      "<class 'pandas.core.frame.DataFrame'>\n",
      "Int64Index: 4459 entries, 1 to 4459\n",
      "Data columns (total 1 columns):\n",
      " #   Column  Non-Null Count  Dtype \n",
      "---  ------  --------------  ----- \n",
      " 0   name    4459 non-null   object\n",
      "dtypes: object(1)\n",
      "memory usage: 356.8 KB\n"
     ]
    }
   ],
   "source": [
    "simpsons_locations.info(memory_usage=\"deep\")"
   ]
  },
  {
   "cell_type": "code",
   "execution_count": 12,
   "metadata": {},
   "outputs": [
    {
     "name": "stdout",
     "output_type": "stream",
     "text": [
      "<class 'pandas.core.frame.DataFrame'>\n",
      "Int64Index: 4459 entries, 1 to 4459\n",
      "Data columns (total 1 columns):\n",
      " #   Column  Non-Null Count  Dtype \n",
      "---  ------  --------------  ----- \n",
      " 0   name    4459 non-null   string\n",
      "dtypes: string(1)\n",
      "memory usage: 69.7 KB\n"
     ]
    }
   ],
   "source": [
    "simpsons_locations = simpsons_locations.astype({\n",
    "    \"name\": \"string\",\n",
    "})\n",
    "simpsons_locations.info(memory_usage=\"deep\")"
   ]
  },
  {
   "cell_type": "markdown",
   "metadata": {},
   "source": [
    "Il terzo dataset invece è quello che contiene i dati relativi ai singoli episodi. In esso troviamo un identificatore per ciascun episodio contraddistinto dal nome ``id``, come nei precedenti dataset, mentre le altre sue feature sono:\n",
    "\n",
    "- ``image_url``: l'URL del *frame* che rappresenta l'episodio\n",
    "- ``imdb_rating``: il *rating* che l'episodio ha su IMDB\n",
    "- ``imdb_votes``: il numero di voti che hanno contribuito al *rating* su IMDB\n",
    "- ``number_in_season``: il numero dell'episodio all'interno della stagione\n",
    "- ``number_in_series``: il numero dell'episodio all'interno dell'intera serie\n",
    "- ``original_air_date``: la data della prima trasmissione dell'episodio\n",
    "- ``original_air_year``: l'anno della prima trasmissione dell'episodio\n",
    "- ``production_code``: il codice di produzione dell'episodio\n",
    "- ``season``: il numero della stagione dell'episodio\n",
    "- ``title``: il titolo dell'episodio\n",
    "- ``us_viewers_in_millions``: il numero di spettatori negli Stati Uniti per quell'episodio in milioni\n",
    "- ``video_url``: l'URL per vedere l'episodio sul sito del canale televisivo \"Fox\"\n",
    "- ``views``: il numero di visualizzazioni dell'episodio sul sito del canale televisivo \"Fox\""
   ]
  },
  {
   "cell_type": "code",
   "execution_count": 13,
   "metadata": {},
   "outputs": [
    {
     "data": {
      "text/html": [
       "<div>\n",
       "<style scoped>\n",
       "    .dataframe tbody tr th:only-of-type {\n",
       "        vertical-align: middle;\n",
       "    }\n",
       "\n",
       "    .dataframe tbody tr th {\n",
       "        vertical-align: top;\n",
       "    }\n",
       "\n",
       "    .dataframe thead th {\n",
       "        text-align: right;\n",
       "    }\n",
       "</style>\n",
       "<table border=\"1\" class=\"dataframe\">\n",
       "  <thead>\n",
       "    <tr style=\"text-align: right;\">\n",
       "      <th></th>\n",
       "      <th>image_url</th>\n",
       "      <th>imdb_rating</th>\n",
       "      <th>imdb_votes</th>\n",
       "      <th>number_in_season</th>\n",
       "      <th>number_in_series</th>\n",
       "      <th>original_air_date</th>\n",
       "      <th>original_air_year</th>\n",
       "      <th>production_code</th>\n",
       "      <th>season</th>\n",
       "      <th>title</th>\n",
       "      <th>us_viewers_in_millions</th>\n",
       "      <th>video_url</th>\n",
       "      <th>views</th>\n",
       "    </tr>\n",
       "    <tr>\n",
       "      <th>id</th>\n",
       "      <th></th>\n",
       "      <th></th>\n",
       "      <th></th>\n",
       "      <th></th>\n",
       "      <th></th>\n",
       "      <th></th>\n",
       "      <th></th>\n",
       "      <th></th>\n",
       "      <th></th>\n",
       "      <th></th>\n",
       "      <th></th>\n",
       "      <th></th>\n",
       "      <th></th>\n",
       "    </tr>\n",
       "  </thead>\n",
       "  <tbody>\n",
       "    <tr>\n",
       "      <th>1</th>\n",
       "      <td>http://static-media.fxx.com/img/FX_Networks_-_FXX/617/479/Simpsons_01_08.jpg</td>\n",
       "      <td>8.2</td>\n",
       "      <td>3734.0</td>\n",
       "      <td>1</td>\n",
       "      <td>1</td>\n",
       "      <td>1989-12-17</td>\n",
       "      <td>1989</td>\n",
       "      <td>7G08</td>\n",
       "      <td>1</td>\n",
       "      <td>Simpsons Roasting on an Open Fire</td>\n",
       "      <td>26.7</td>\n",
       "      <td>http://www.simpsonsworld.com/video/273376835817</td>\n",
       "      <td>171408.0</td>\n",
       "    </tr>\n",
       "    <tr>\n",
       "      <th>2</th>\n",
       "      <td>http://static-media.fxx.com/img/FX_Networks_-_FXX/265/167/Simpsons_01_02.jpg</td>\n",
       "      <td>7.8</td>\n",
       "      <td>1973.0</td>\n",
       "      <td>2</td>\n",
       "      <td>2</td>\n",
       "      <td>1990-01-14</td>\n",
       "      <td>1990</td>\n",
       "      <td>7G02</td>\n",
       "      <td>1</td>\n",
       "      <td>Bart the Genius</td>\n",
       "      <td>24.5</td>\n",
       "      <td>http://www.simpsonsworld.com/video/283744835990</td>\n",
       "      <td>91423.0</td>\n",
       "    </tr>\n",
       "    <tr>\n",
       "      <th>3</th>\n",
       "      <td>http://static-media.fxx.com/img/FX_Networks_-_FXX/621/883/Simpsons_01_03.jpg</td>\n",
       "      <td>7.5</td>\n",
       "      <td>1709.0</td>\n",
       "      <td>3</td>\n",
       "      <td>3</td>\n",
       "      <td>1990-01-21</td>\n",
       "      <td>1990</td>\n",
       "      <td>7G03</td>\n",
       "      <td>1</td>\n",
       "      <td>Homer's Odyssey</td>\n",
       "      <td>27.5</td>\n",
       "      <td>http://www.simpsonsworld.com/video/273381443699</td>\n",
       "      <td>78072.0</td>\n",
       "    </tr>\n",
       "    <tr>\n",
       "      <th>4</th>\n",
       "      <td>http://static-media.fxx.com/img/FX_Networks_-_FXX/632/119/Simpsons_01_04__343617.jpg</td>\n",
       "      <td>7.8</td>\n",
       "      <td>1701.0</td>\n",
       "      <td>4</td>\n",
       "      <td>4</td>\n",
       "      <td>1990-01-28</td>\n",
       "      <td>1990</td>\n",
       "      <td>7G04</td>\n",
       "      <td>1</td>\n",
       "      <td>There's No Disgrace Like Home</td>\n",
       "      <td>20.2</td>\n",
       "      <td>http://www.simpsonsworld.com/video/273392195780</td>\n",
       "      <td>67378.0</td>\n",
       "    </tr>\n",
       "    <tr>\n",
       "      <th>5</th>\n",
       "      <td>http://static-media.fxx.com/img/FX_Networks_-_FXX/274/735/Simpsons_01_05.jpg</td>\n",
       "      <td>8.1</td>\n",
       "      <td>1732.0</td>\n",
       "      <td>5</td>\n",
       "      <td>5</td>\n",
       "      <td>1990-02-04</td>\n",
       "      <td>1990</td>\n",
       "      <td>7G05</td>\n",
       "      <td>1</td>\n",
       "      <td>Bart the General</td>\n",
       "      <td>27.1</td>\n",
       "      <td>http://www.simpsonsworld.com/video/300934723994</td>\n",
       "      <td>63129.0</td>\n",
       "    </tr>\n",
       "  </tbody>\n",
       "</table>\n",
       "</div>"
      ],
      "text/plain": [
       "                                                                               image_url  \\\n",
       "id                                                                                         \n",
       "1           http://static-media.fxx.com/img/FX_Networks_-_FXX/617/479/Simpsons_01_08.jpg   \n",
       "2           http://static-media.fxx.com/img/FX_Networks_-_FXX/265/167/Simpsons_01_02.jpg   \n",
       "3           http://static-media.fxx.com/img/FX_Networks_-_FXX/621/883/Simpsons_01_03.jpg   \n",
       "4   http://static-media.fxx.com/img/FX_Networks_-_FXX/632/119/Simpsons_01_04__343617.jpg   \n",
       "5           http://static-media.fxx.com/img/FX_Networks_-_FXX/274/735/Simpsons_01_05.jpg   \n",
       "\n",
       "    imdb_rating  imdb_votes  number_in_season  number_in_series  \\\n",
       "id                                                                \n",
       "1           8.2      3734.0                 1                 1   \n",
       "2           7.8      1973.0                 2                 2   \n",
       "3           7.5      1709.0                 3                 3   \n",
       "4           7.8      1701.0                 4                 4   \n",
       "5           8.1      1732.0                 5                 5   \n",
       "\n",
       "   original_air_date  original_air_year production_code  season  \\\n",
       "id                                                                \n",
       "1         1989-12-17               1989            7G08       1   \n",
       "2         1990-01-14               1990            7G02       1   \n",
       "3         1990-01-21               1990            7G03       1   \n",
       "4         1990-01-28               1990            7G04       1   \n",
       "5         1990-02-04               1990            7G05       1   \n",
       "\n",
       "                                title  us_viewers_in_millions  \\\n",
       "id                                                              \n",
       "1   Simpsons Roasting on an Open Fire                    26.7   \n",
       "2                     Bart the Genius                    24.5   \n",
       "3                     Homer's Odyssey                    27.5   \n",
       "4       There's No Disgrace Like Home                    20.2   \n",
       "5                    Bart the General                    27.1   \n",
       "\n",
       "                                          video_url     views  \n",
       "id                                                             \n",
       "1   http://www.simpsonsworld.com/video/273376835817  171408.0  \n",
       "2   http://www.simpsonsworld.com/video/283744835990   91423.0  \n",
       "3   http://www.simpsonsworld.com/video/273381443699   78072.0  \n",
       "4   http://www.simpsonsworld.com/video/273392195780   67378.0  \n",
       "5   http://www.simpsonsworld.com/video/300934723994   63129.0  "
      ]
     },
     "execution_count": 13,
     "metadata": {},
     "output_type": "execute_result"
    }
   ],
   "source": [
    "simpsons_episodes = pd.read_csv(\"simpsons_episodes.csv\", index_col=\"id\").sort_values(\"id\")\n",
    "simpsons_episodes.head()"
   ]
  },
  {
   "cell_type": "markdown",
   "metadata": {},
   "source": [
    "Colonne come ``image_url`` e ``video_url`` non sono di alcuna utilità, così come gli identificatori alternativi per l'episodio - ovvero ``number_in_season``, ``number_in_series``, ``production_code`` - essendoci già un identificatore. Le feature ``imdb_votes``, ``us_viewers_in_millions`` e ``views`` non sono note in anticipo per come abbiamo descritto il problema e ``original_air_year`` è una feature duplicata. Per tutte queste ragioni, le colonne descritte verranno eliminate dal DataFrame."
   ]
  },
  {
   "cell_type": "code",
   "execution_count": 14,
   "metadata": {},
   "outputs": [
    {
     "data": {
      "text/html": [
       "<div>\n",
       "<style scoped>\n",
       "    .dataframe tbody tr th:only-of-type {\n",
       "        vertical-align: middle;\n",
       "    }\n",
       "\n",
       "    .dataframe tbody tr th {\n",
       "        vertical-align: top;\n",
       "    }\n",
       "\n",
       "    .dataframe thead th {\n",
       "        text-align: right;\n",
       "    }\n",
       "</style>\n",
       "<table border=\"1\" class=\"dataframe\">\n",
       "  <thead>\n",
       "    <tr style=\"text-align: right;\">\n",
       "      <th></th>\n",
       "      <th>imdb_rating</th>\n",
       "      <th>original_air_date</th>\n",
       "      <th>season</th>\n",
       "      <th>title</th>\n",
       "    </tr>\n",
       "    <tr>\n",
       "      <th>id</th>\n",
       "      <th></th>\n",
       "      <th></th>\n",
       "      <th></th>\n",
       "      <th></th>\n",
       "    </tr>\n",
       "  </thead>\n",
       "  <tbody>\n",
       "    <tr>\n",
       "      <th>1</th>\n",
       "      <td>8.2</td>\n",
       "      <td>1989-12-17</td>\n",
       "      <td>1</td>\n",
       "      <td>Simpsons Roasting on an Open Fire</td>\n",
       "    </tr>\n",
       "    <tr>\n",
       "      <th>2</th>\n",
       "      <td>7.8</td>\n",
       "      <td>1990-01-14</td>\n",
       "      <td>1</td>\n",
       "      <td>Bart the Genius</td>\n",
       "    </tr>\n",
       "    <tr>\n",
       "      <th>3</th>\n",
       "      <td>7.5</td>\n",
       "      <td>1990-01-21</td>\n",
       "      <td>1</td>\n",
       "      <td>Homer's Odyssey</td>\n",
       "    </tr>\n",
       "    <tr>\n",
       "      <th>4</th>\n",
       "      <td>7.8</td>\n",
       "      <td>1990-01-28</td>\n",
       "      <td>1</td>\n",
       "      <td>There's No Disgrace Like Home</td>\n",
       "    </tr>\n",
       "    <tr>\n",
       "      <th>5</th>\n",
       "      <td>8.1</td>\n",
       "      <td>1990-02-04</td>\n",
       "      <td>1</td>\n",
       "      <td>Bart the General</td>\n",
       "    </tr>\n",
       "  </tbody>\n",
       "</table>\n",
       "</div>"
      ],
      "text/plain": [
       "    imdb_rating original_air_date  season                              title\n",
       "id                                                                          \n",
       "1           8.2        1989-12-17       1  Simpsons Roasting on an Open Fire\n",
       "2           7.8        1990-01-14       1                    Bart the Genius\n",
       "3           7.5        1990-01-21       1                    Homer's Odyssey\n",
       "4           7.8        1990-01-28       1      There's No Disgrace Like Home\n",
       "5           8.1        1990-02-04       1                   Bart the General"
      ]
     },
     "execution_count": 14,
     "metadata": {},
     "output_type": "execute_result"
    }
   ],
   "source": [
    "simpsons_episodes.drop(columns=simpsons_episodes.columns.difference([\"imdb_rating\", \"original_air_date\", \"season\", \"title\"]), inplace=True)\n",
    "simpsons_episodes.head()"
   ]
  },
  {
   "cell_type": "markdown",
   "metadata": {},
   "source": [
    "In questo caso l'uso di memoria è insignificante, ma per poter essere compatibile con i precedenti dataset dobbiamo trasformarlo utilizzando i tipi di dato adeguati, che inevitabilmente ci fa risparmiare non poca memoria, ben più dei tre quarti dell'originale."
   ]
  },
  {
   "cell_type": "code",
   "execution_count": 15,
   "metadata": {},
   "outputs": [
    {
     "name": "stdout",
     "output_type": "stream",
     "text": [
      "<class 'pandas.core.frame.DataFrame'>\n",
      "Int64Index: 600 entries, 1 to 600\n",
      "Data columns (total 4 columns):\n",
      " #   Column             Non-Null Count  Dtype  \n",
      "---  ------             --------------  -----  \n",
      " 0   imdb_rating        597 non-null    float64\n",
      " 1   original_air_date  600 non-null    object \n",
      " 2   season             600 non-null    int64  \n",
      " 3   title              600 non-null    object \n",
      "dtypes: float64(1), int64(1), object(2)\n",
      "memory usage: 99.0 KB\n"
     ]
    }
   ],
   "source": [
    "simpsons_episodes.info(memory_usage=\"deep\")"
   ]
  },
  {
   "cell_type": "code",
   "execution_count": 16,
   "metadata": {},
   "outputs": [
    {
     "name": "stdout",
     "output_type": "stream",
     "text": [
      "<class 'pandas.core.frame.DataFrame'>\n",
      "Int64Index: 600 entries, 1 to 600\n",
      "Data columns (total 4 columns):\n",
      " #   Column             Non-Null Count  Dtype         \n",
      "---  ------             --------------  -----         \n",
      " 0   imdb_rating        597 non-null    float64       \n",
      " 1   original_air_date  600 non-null    datetime64[ns]\n",
      " 2   season             600 non-null    int64         \n",
      " 3   title              600 non-null    string        \n",
      "dtypes: datetime64[ns](1), float64(1), int64(1), string(1)\n",
      "memory usage: 23.4 KB\n"
     ]
    }
   ],
   "source": [
    "simpsons_episodes = simpsons_episodes.astype({\n",
    "    \"title\": \"string\"\n",
    "})\n",
    "simpsons_episodes[\"original_air_date\"] = pd.to_datetime(simpsons_episodes[\"original_air_date\"])\n",
    "simpsons_episodes.info(memory_usage=\"deep\")"
   ]
  },
  {
   "cell_type": "markdown",
   "metadata": {},
   "source": [
    "Nell'ultimo dataset sono invece contenute tutte le battute dei copioni dei vari episodi. Oltre alla colonna ``id`` che fa da identificatore, già vista nei precedenti DataFrame, troviamo:\n",
    "- ``episode_id``: l'identificatore dell'episodio, utile per effettuare join con il DataFrame che contiene gli episodi\n",
    "- ``number``: il numero della battuta all'interno del copione dell'episodio\n",
    "- ``raw_text``: il testo della battuta così com'è stato trovato nel copione\n",
    "- ``timestamp_in_ms``: il *timestamp* dell'istante in cui la battuta viene pronunciata all'interno dell'episodio\n",
    "- ``speaking_line``: se la battuta viene pronunciata da qualcuno o semplicemente sono appunti di sceneggiatura\n",
    "- ``character_id``: l'identificatore del personaggio che pronuncia la battuta\n",
    "- ``location_id``: l'identificatore della location in cui viene pronunciata la battuta\n",
    "- ``raw_character_text``: il nome del personaggio che pronuncia la battuta\n",
    "- ``raw_location_text``: il nome della location in cui la battuta viene pronunciata\n",
    "- ``spoken_words``: il testo della battuta con rimossi i suggerimenti di interpretazione e il nome di chi la pronuncia\n",
    "- ``normalized_text``: come ``spoken_words`` ma sono stati rimossi tutti i caratteri non alfabetici e quelli rimasti sono stati convertiti in minuscolo\n",
    "- ``word_count``: il conteggio delle parole pronunciate nella battuta"
   ]
  },
  {
   "cell_type": "code",
   "execution_count": 17,
   "metadata": {},
   "outputs": [
    {
     "data": {
      "text/html": [
       "<div>\n",
       "<style scoped>\n",
       "    .dataframe tbody tr th:only-of-type {\n",
       "        vertical-align: middle;\n",
       "    }\n",
       "\n",
       "    .dataframe tbody tr th {\n",
       "        vertical-align: top;\n",
       "    }\n",
       "\n",
       "    .dataframe thead th {\n",
       "        text-align: right;\n",
       "    }\n",
       "</style>\n",
       "<table border=\"1\" class=\"dataframe\">\n",
       "  <thead>\n",
       "    <tr style=\"text-align: right;\">\n",
       "      <th></th>\n",
       "      <th>episode_id</th>\n",
       "      <th>number</th>\n",
       "      <th>raw_text</th>\n",
       "      <th>timestamp_in_ms</th>\n",
       "      <th>speaking_line</th>\n",
       "      <th>character_id</th>\n",
       "      <th>location_id</th>\n",
       "      <th>raw_character_text</th>\n",
       "      <th>raw_location_text</th>\n",
       "      <th>spoken_words</th>\n",
       "      <th>normalized_text</th>\n",
       "      <th>word_count</th>\n",
       "    </tr>\n",
       "    <tr>\n",
       "      <th>id</th>\n",
       "      <th></th>\n",
       "      <th></th>\n",
       "      <th></th>\n",
       "      <th></th>\n",
       "      <th></th>\n",
       "      <th></th>\n",
       "      <th></th>\n",
       "      <th></th>\n",
       "      <th></th>\n",
       "      <th></th>\n",
       "      <th></th>\n",
       "      <th></th>\n",
       "    </tr>\n",
       "  </thead>\n",
       "  <tbody>\n",
       "    <tr>\n",
       "      <th>6</th>\n",
       "      <td>1</td>\n",
       "      <td>5</td>\n",
       "      <td>(Springfield Elementary School: Ext. springfield elementary school - establishing - night)</td>\n",
       "      <td>24000.0</td>\n",
       "      <td>False</td>\n",
       "      <td>NaN</td>\n",
       "      <td>3.0</td>\n",
       "      <td>NaN</td>\n",
       "      <td>Springfield Elementary School</td>\n",
       "      <td>NaN</td>\n",
       "      <td>NaN</td>\n",
       "      <td>NaN</td>\n",
       "    </tr>\n",
       "    <tr>\n",
       "      <th>7</th>\n",
       "      <td>1</td>\n",
       "      <td>6</td>\n",
       "      <td>(Auditorium: int. auditorium - night)</td>\n",
       "      <td>24000.0</td>\n",
       "      <td>False</td>\n",
       "      <td>NaN</td>\n",
       "      <td>4.0</td>\n",
       "      <td>NaN</td>\n",
       "      <td>Auditorium</td>\n",
       "      <td>NaN</td>\n",
       "      <td>NaN</td>\n",
       "      <td>NaN</td>\n",
       "    </tr>\n",
       "    <tr>\n",
       "      <th>8</th>\n",
       "      <td>1</td>\n",
       "      <td>7</td>\n",
       "      <td>Marge Simpson: (HUSHED VOICE) Sorry, Excuse us. Pardon me...</td>\n",
       "      <td>24000.0</td>\n",
       "      <td>True</td>\n",
       "      <td>1.0</td>\n",
       "      <td>4.0</td>\n",
       "      <td>Marge Simpson</td>\n",
       "      <td>Auditorium</td>\n",
       "      <td>Sorry, Excuse us. Pardon me...</td>\n",
       "      <td>sorry excuse us pardon me</td>\n",
       "      <td>5.0</td>\n",
       "    </tr>\n",
       "    <tr>\n",
       "      <th>9</th>\n",
       "      <td>1</td>\n",
       "      <td>8</td>\n",
       "      <td>Homer Simpson: (SIMULTANEOUSLY) Hey, Norman. How's it going? So you got dragged down here, too.....</td>\n",
       "      <td>26000.0</td>\n",
       "      <td>True</td>\n",
       "      <td>2.0</td>\n",
       "      <td>4.0</td>\n",
       "      <td>Homer Simpson</td>\n",
       "      <td>Auditorium</td>\n",
       "      <td>Hey, Norman. How's it going? So you got dragged down here, too... heh, heh. How ya doing, Fred? ...</td>\n",
       "      <td>hey norman hows it going so you got dragged down here too heh heh how ya doing fred excuse me fred</td>\n",
       "      <td>21.0</td>\n",
       "    </tr>\n",
       "    <tr>\n",
       "      <th>10</th>\n",
       "      <td>1</td>\n",
       "      <td>9</td>\n",
       "      <td>Homer Simpson: Pardon my galoshes. (CHUCKLES)</td>\n",
       "      <td>34000.0</td>\n",
       "      <td>True</td>\n",
       "      <td>2.0</td>\n",
       "      <td>4.0</td>\n",
       "      <td>Homer Simpson</td>\n",
       "      <td>Auditorium</td>\n",
       "      <td>Pardon my galoshes.</td>\n",
       "      <td>pardon my galoshes</td>\n",
       "      <td>3.0</td>\n",
       "    </tr>\n",
       "  </tbody>\n",
       "</table>\n",
       "</div>"
      ],
      "text/plain": [
       "    episode_id  number  \\\n",
       "id                       \n",
       "6            1       5   \n",
       "7            1       6   \n",
       "8            1       7   \n",
       "9            1       8   \n",
       "10           1       9   \n",
       "\n",
       "                                                                                               raw_text  \\\n",
       "id                                                                                                        \n",
       "6            (Springfield Elementary School: Ext. springfield elementary school - establishing - night)   \n",
       "7                                                                 (Auditorium: int. auditorium - night)   \n",
       "8                                          Marge Simpson: (HUSHED VOICE) Sorry, Excuse us. Pardon me...   \n",
       "9   Homer Simpson: (SIMULTANEOUSLY) Hey, Norman. How's it going? So you got dragged down here, too.....   \n",
       "10                                                        Homer Simpson: Pardon my galoshes. (CHUCKLES)   \n",
       "\n",
       "    timestamp_in_ms  speaking_line  character_id  location_id  \\\n",
       "id                                                              \n",
       "6           24000.0          False           NaN          3.0   \n",
       "7           24000.0          False           NaN          4.0   \n",
       "8           24000.0           True           1.0          4.0   \n",
       "9           26000.0           True           2.0          4.0   \n",
       "10          34000.0           True           2.0          4.0   \n",
       "\n",
       "   raw_character_text              raw_location_text  \\\n",
       "id                                                     \n",
       "6                 NaN  Springfield Elementary School   \n",
       "7                 NaN                     Auditorium   \n",
       "8       Marge Simpson                     Auditorium   \n",
       "9       Homer Simpson                     Auditorium   \n",
       "10      Homer Simpson                     Auditorium   \n",
       "\n",
       "                                                                                           spoken_words  \\\n",
       "id                                                                                                        \n",
       "6                                                                                                   NaN   \n",
       "7                                                                                                   NaN   \n",
       "8                                                                        Sorry, Excuse us. Pardon me...   \n",
       "9   Hey, Norman. How's it going? So you got dragged down here, too... heh, heh. How ya doing, Fred? ...   \n",
       "10                                                                                  Pardon my galoshes.   \n",
       "\n",
       "                                                                                       normalized_text  \\\n",
       "id                                                                                                       \n",
       "6                                                                                                  NaN   \n",
       "7                                                                                                  NaN   \n",
       "8                                                                            sorry excuse us pardon me   \n",
       "9   hey norman hows it going so you got dragged down here too heh heh how ya doing fred excuse me fred   \n",
       "10                                                                                  pardon my galoshes   \n",
       "\n",
       "    word_count  \n",
       "id              \n",
       "6          NaN  \n",
       "7          NaN  \n",
       "8          5.0  \n",
       "9         21.0  \n",
       "10         3.0  "
      ]
     },
     "execution_count": 17,
     "metadata": {},
     "output_type": "execute_result"
    }
   ],
   "source": [
    "simpsons_script_lines = pd.read_csv(\"simpsons_script_lines.csv\", index_col=\"id\").sort_values(\"id\")\n",
    "simpsons_script_lines.iloc[5:10]"
   ]
  },
  {
   "cell_type": "markdown",
   "metadata": {},
   "source": [
    "La colonna ``raw_text``, benchè possa sembrare utile, in realtà può essere eliminata, perchè sono le colonne successive a mantenere i suoi dati utili in una forma più leggibile. L'unico caso in cui sembrerebbero perdersi delle informazioni si ha quando la battuta non è pronunciata ed indica un cambio di location o lo specifico momento del giorno in cui si svolge la scena. Il luogo che può contenere però è presente nelle feature ``location_id`` e ``raw_location_text`` delle battute seguenti, mentre il momento del giorno non è un'informazione particolarmente significativa e possiamo anche rinunciarvi. Inoltre, ``spoken_words`` è migliore di ``raw_text`` anche perchè non presenta i suggerimenti di interpretazione, che non servono per far capire che cosa sta succedendo durante quella battuta, e perchè chi pronuncia la battuta è già indicato dalle colonne ``character_id`` e ``raw_character_text``. Tratterremo ``raw_text`` solo per il momento perchè ci servirà per l'elaborazione dei dati succssiva, ma poi ce ne sbarazzeremo. La feature ``speaking_line`` non è necessaria da trattenere poichè tutte le righe che hanno la colonna ``spoken_words`` diversa da NA hanno anche ``speaking_line`` posto a True, rendendolo un attributo derivato al pari di ``normalized_text``, ``word_count``, ``raw_character_text`` e ``raw_location_text``. Possiamo perciò eliminare tutte queste colonne tranquillamente. La feature ``timestamp_in_ms`` non ci dà alcuna informazione utile e perciò rimuoviamo anche questa."
   ]
  },
  {
   "cell_type": "code",
   "execution_count": 18,
   "metadata": {},
   "outputs": [
    {
     "data": {
      "text/plain": [
       "0"
      ]
     },
     "execution_count": 18,
     "metadata": {},
     "output_type": "execute_result"
    }
   ],
   "source": [
    "simpsons_script_lines[(simpsons_script_lines[\"speaking_line\"] == True) & (simpsons_script_lines[\"spoken_words\"].isna())].size"
   ]
  },
  {
   "cell_type": "code",
   "execution_count": 19,
   "metadata": {},
   "outputs": [
    {
     "data": {
      "text/html": [
       "<div>\n",
       "<style scoped>\n",
       "    .dataframe tbody tr th:only-of-type {\n",
       "        vertical-align: middle;\n",
       "    }\n",
       "\n",
       "    .dataframe tbody tr th {\n",
       "        vertical-align: top;\n",
       "    }\n",
       "\n",
       "    .dataframe thead th {\n",
       "        text-align: right;\n",
       "    }\n",
       "</style>\n",
       "<table border=\"1\" class=\"dataframe\">\n",
       "  <thead>\n",
       "    <tr style=\"text-align: right;\">\n",
       "      <th></th>\n",
       "      <th>episode_id</th>\n",
       "      <th>number</th>\n",
       "      <th>raw_text</th>\n",
       "      <th>character_id</th>\n",
       "      <th>location_id</th>\n",
       "      <th>spoken_words</th>\n",
       "    </tr>\n",
       "    <tr>\n",
       "      <th>id</th>\n",
       "      <th></th>\n",
       "      <th></th>\n",
       "      <th></th>\n",
       "      <th></th>\n",
       "      <th></th>\n",
       "      <th></th>\n",
       "    </tr>\n",
       "  </thead>\n",
       "  <tbody>\n",
       "    <tr>\n",
       "      <th>1</th>\n",
       "      <td>1</td>\n",
       "      <td>0</td>\n",
       "      <td>(Street: ext. street - establishing - night)</td>\n",
       "      <td>NaN</td>\n",
       "      <td>1.0</td>\n",
       "      <td>NaN</td>\n",
       "    </tr>\n",
       "    <tr>\n",
       "      <th>2</th>\n",
       "      <td>1</td>\n",
       "      <td>1</td>\n",
       "      <td>(Car: int. car - night)</td>\n",
       "      <td>NaN</td>\n",
       "      <td>2.0</td>\n",
       "      <td>NaN</td>\n",
       "    </tr>\n",
       "    <tr>\n",
       "      <th>3</th>\n",
       "      <td>1</td>\n",
       "      <td>2</td>\n",
       "      <td>Marge Simpson: Ooo, careful, Homer.</td>\n",
       "      <td>1.0</td>\n",
       "      <td>2.0</td>\n",
       "      <td>Ooo, careful, Homer.</td>\n",
       "    </tr>\n",
       "    <tr>\n",
       "      <th>4</th>\n",
       "      <td>1</td>\n",
       "      <td>3</td>\n",
       "      <td>Homer Simpson: There's no time to be careful.</td>\n",
       "      <td>2.0</td>\n",
       "      <td>2.0</td>\n",
       "      <td>There's no time to be careful.</td>\n",
       "    </tr>\n",
       "    <tr>\n",
       "      <th>5</th>\n",
       "      <td>1</td>\n",
       "      <td>4</td>\n",
       "      <td>Homer Simpson: We're late.</td>\n",
       "      <td>2.0</td>\n",
       "      <td>2.0</td>\n",
       "      <td>We're late.</td>\n",
       "    </tr>\n",
       "  </tbody>\n",
       "</table>\n",
       "</div>"
      ],
      "text/plain": [
       "    episode_id  number                                       raw_text  \\\n",
       "id                                                                      \n",
       "1            1       0   (Street: ext. street - establishing - night)   \n",
       "2            1       1                        (Car: int. car - night)   \n",
       "3            1       2            Marge Simpson: Ooo, careful, Homer.   \n",
       "4            1       3  Homer Simpson: There's no time to be careful.   \n",
       "5            1       4                     Homer Simpson: We're late.   \n",
       "\n",
       "    character_id  location_id                    spoken_words  \n",
       "id                                                             \n",
       "1            NaN          1.0                             NaN  \n",
       "2            NaN          2.0                             NaN  \n",
       "3            1.0          2.0            Ooo, careful, Homer.  \n",
       "4            2.0          2.0  There's no time to be careful.  \n",
       "5            2.0          2.0                     We're late.  "
      ]
     },
     "execution_count": 19,
     "metadata": {},
     "output_type": "execute_result"
    }
   ],
   "source": [
    "simpsons_script_lines.drop(columns=simpsons_script_lines.columns.difference([\"episode_id\", \"number\", \"raw_text\", \"character_id\", \"location_id\", \"spoken_words\"]), inplace=True)\n",
    "simpsons_script_lines.head()"
   ]
  },
  {
   "cell_type": "markdown",
   "metadata": {},
   "source": [
    "Per quest'ultimo DataFrame l'uso della memoria è importantissimo, dato che occupa circa 40 MiB. Anche in questo caso ci affidiamo all'uso dei tipi di dato di Pandas per migliorare l'uso della memoria, che però viene ridotto solo di 13 MiB."
   ]
  },
  {
   "cell_type": "code",
   "execution_count": 20,
   "metadata": {},
   "outputs": [
    {
     "name": "stdout",
     "output_type": "stream",
     "text": [
      "<class 'pandas.core.frame.DataFrame'>\n",
      "Int64Index: 158301 entries, 1 to 158315\n",
      "Data columns (total 6 columns):\n",
      " #   Column        Non-Null Count   Dtype  \n",
      "---  ------        --------------   -----  \n",
      " 0   episode_id    158301 non-null  int64  \n",
      " 1   number        158301 non-null  int64  \n",
      " 2   raw_text      158301 non-null  object \n",
      " 3   character_id  140760 non-null  float64\n",
      " 4   location_id   157878 non-null  float64\n",
      " 5   spoken_words  132139 non-null  object \n",
      "dtypes: float64(2), int64(2), object(2)\n",
      "memory usage: 39.7 MB\n"
     ]
    }
   ],
   "source": [
    "simpsons_script_lines.info(memory_usage=\"deep\")"
   ]
  },
  {
   "cell_type": "code",
   "execution_count": 21,
   "metadata": {},
   "outputs": [
    {
     "data": {
      "text/html": [
       "<div>\n",
       "<style scoped>\n",
       "    .dataframe tbody tr th:only-of-type {\n",
       "        vertical-align: middle;\n",
       "    }\n",
       "\n",
       "    .dataframe tbody tr th {\n",
       "        vertical-align: top;\n",
       "    }\n",
       "\n",
       "    .dataframe thead th {\n",
       "        text-align: right;\n",
       "    }\n",
       "</style>\n",
       "<table border=\"1\" class=\"dataframe\">\n",
       "  <thead>\n",
       "    <tr style=\"text-align: right;\">\n",
       "      <th></th>\n",
       "      <th>episode_id</th>\n",
       "      <th>number</th>\n",
       "      <th>raw_text</th>\n",
       "      <th>character_id</th>\n",
       "      <th>location_id</th>\n",
       "      <th>spoken_words</th>\n",
       "    </tr>\n",
       "    <tr>\n",
       "      <th>id</th>\n",
       "      <th></th>\n",
       "      <th></th>\n",
       "      <th></th>\n",
       "      <th></th>\n",
       "      <th></th>\n",
       "      <th></th>\n",
       "    </tr>\n",
       "  </thead>\n",
       "  <tbody>\n",
       "    <tr>\n",
       "      <th>1</th>\n",
       "      <td>1</td>\n",
       "      <td>0</td>\n",
       "      <td>(Street: ext. street - establishing - night)</td>\n",
       "      <td>&lt;NA&gt;</td>\n",
       "      <td>1</td>\n",
       "      <td>&lt;NA&gt;</td>\n",
       "    </tr>\n",
       "    <tr>\n",
       "      <th>2</th>\n",
       "      <td>1</td>\n",
       "      <td>1</td>\n",
       "      <td>(Car: int. car - night)</td>\n",
       "      <td>&lt;NA&gt;</td>\n",
       "      <td>2</td>\n",
       "      <td>&lt;NA&gt;</td>\n",
       "    </tr>\n",
       "    <tr>\n",
       "      <th>3</th>\n",
       "      <td>1</td>\n",
       "      <td>2</td>\n",
       "      <td>Marge Simpson: Ooo, careful, Homer.</td>\n",
       "      <td>1</td>\n",
       "      <td>2</td>\n",
       "      <td>Ooo, careful, Homer.</td>\n",
       "    </tr>\n",
       "    <tr>\n",
       "      <th>4</th>\n",
       "      <td>1</td>\n",
       "      <td>3</td>\n",
       "      <td>Homer Simpson: There's no time to be careful.</td>\n",
       "      <td>2</td>\n",
       "      <td>2</td>\n",
       "      <td>There's no time to be careful.</td>\n",
       "    </tr>\n",
       "    <tr>\n",
       "      <th>5</th>\n",
       "      <td>1</td>\n",
       "      <td>4</td>\n",
       "      <td>Homer Simpson: We're late.</td>\n",
       "      <td>2</td>\n",
       "      <td>2</td>\n",
       "      <td>We're late.</td>\n",
       "    </tr>\n",
       "  </tbody>\n",
       "</table>\n",
       "</div>"
      ],
      "text/plain": [
       "    episode_id  number                                       raw_text  \\\n",
       "id                                                                      \n",
       "1            1       0   (Street: ext. street - establishing - night)   \n",
       "2            1       1                        (Car: int. car - night)   \n",
       "3            1       2            Marge Simpson: Ooo, careful, Homer.   \n",
       "4            1       3  Homer Simpson: There's no time to be careful.   \n",
       "5            1       4                     Homer Simpson: We're late.   \n",
       "\n",
       "    character_id  location_id                    spoken_words  \n",
       "id                                                             \n",
       "1           <NA>            1                            <NA>  \n",
       "2           <NA>            2                            <NA>  \n",
       "3              1            2            Ooo, careful, Homer.  \n",
       "4              2            2  There's no time to be careful.  \n",
       "5              2            2                     We're late.  "
      ]
     },
     "execution_count": 21,
     "metadata": {},
     "output_type": "execute_result"
    }
   ],
   "source": [
    "simpsons_script_lines = simpsons_script_lines.astype({\n",
    "    \"character_id\": pd.Int64Dtype(),\n",
    "    \"location_id\": pd.Int64Dtype(),\n",
    "    \"spoken_words\": \"string\"\n",
    "})\n",
    "simpsons_script_lines.head()"
   ]
  },
  {
   "cell_type": "code",
   "execution_count": 22,
   "metadata": {},
   "outputs": [
    {
     "name": "stdout",
     "output_type": "stream",
     "text": [
      "<class 'pandas.core.frame.DataFrame'>\n",
      "Int64Index: 158301 entries, 1 to 158315\n",
      "Data columns (total 6 columns):\n",
      " #   Column        Non-Null Count   Dtype \n",
      "---  ------        --------------   ----- \n",
      " 0   episode_id    158301 non-null  int64 \n",
      " 1   number        158301 non-null  int64 \n",
      " 2   raw_text      158301 non-null  object\n",
      " 3   character_id  140760 non-null  Int64 \n",
      " 4   location_id   157878 non-null  Int64 \n",
      " 5   spoken_words  132139 non-null  string\n",
      "dtypes: Int64(2), int64(2), object(1), string(1)\n",
      "memory usage: 26.5 MB\n"
     ]
    }
   ],
   "source": [
    "simpsons_script_lines.info(memory_usage=\"deep\")"
   ]
  },
  {
   "cell_type": "markdown",
   "metadata": {},
   "source": [
    "### Analisi dei dati"
   ]
  },
  {
   "cell_type": "markdown",
   "metadata": {},
   "source": [
    "Gli episodi contenuti nel dataset sono 600, ma solo i primi 597 hanno un rating su IMDB. Questo è segno del fatto che quando questi dati sono stati raccolti quegli episodi erano ancora molto recenti e non c'erano sufficienti valutazioni per estrarre un rating."
   ]
  },
  {
   "cell_type": "code",
   "execution_count": 23,
   "metadata": {},
   "outputs": [
    {
     "data": {
      "text/html": [
       "<div>\n",
       "<style scoped>\n",
       "    .dataframe tbody tr th:only-of-type {\n",
       "        vertical-align: middle;\n",
       "    }\n",
       "\n",
       "    .dataframe tbody tr th {\n",
       "        vertical-align: top;\n",
       "    }\n",
       "\n",
       "    .dataframe thead th {\n",
       "        text-align: right;\n",
       "    }\n",
       "</style>\n",
       "<table border=\"1\" class=\"dataframe\">\n",
       "  <thead>\n",
       "    <tr style=\"text-align: right;\">\n",
       "      <th></th>\n",
       "      <th>imdb_rating</th>\n",
       "      <th>season</th>\n",
       "    </tr>\n",
       "  </thead>\n",
       "  <tbody>\n",
       "    <tr>\n",
       "      <th>count</th>\n",
       "      <td>597.000000</td>\n",
       "      <td>600.000000</td>\n",
       "    </tr>\n",
       "    <tr>\n",
       "      <th>mean</th>\n",
       "      <td>7.386097</td>\n",
       "      <td>14.100000</td>\n",
       "    </tr>\n",
       "    <tr>\n",
       "      <th>std</th>\n",
       "      <td>0.732439</td>\n",
       "      <td>7.755444</td>\n",
       "    </tr>\n",
       "    <tr>\n",
       "      <th>min</th>\n",
       "      <td>4.500000</td>\n",
       "      <td>1.000000</td>\n",
       "    </tr>\n",
       "    <tr>\n",
       "      <th>25%</th>\n",
       "      <td>6.900000</td>\n",
       "      <td>7.000000</td>\n",
       "    </tr>\n",
       "    <tr>\n",
       "      <th>50%</th>\n",
       "      <td>7.300000</td>\n",
       "      <td>14.000000</td>\n",
       "    </tr>\n",
       "    <tr>\n",
       "      <th>75%</th>\n",
       "      <td>8.000000</td>\n",
       "      <td>21.000000</td>\n",
       "    </tr>\n",
       "    <tr>\n",
       "      <th>max</th>\n",
       "      <td>9.200000</td>\n",
       "      <td>28.000000</td>\n",
       "    </tr>\n",
       "  </tbody>\n",
       "</table>\n",
       "</div>"
      ],
      "text/plain": [
       "       imdb_rating      season\n",
       "count   597.000000  600.000000\n",
       "mean      7.386097   14.100000\n",
       "std       0.732439    7.755444\n",
       "min       4.500000    1.000000\n",
       "25%       6.900000    7.000000\n",
       "50%       7.300000   14.000000\n",
       "75%       8.000000   21.000000\n",
       "max       9.200000   28.000000"
      ]
     },
     "execution_count": 23,
     "metadata": {},
     "output_type": "execute_result"
    }
   ],
   "source": [
    "simpsons_episodes.describe()"
   ]
  },
  {
   "cell_type": "code",
   "execution_count": 24,
   "metadata": {},
   "outputs": [
    {
     "data": {
      "text/plain": [
       "True"
      ]
     },
     "execution_count": 24,
     "metadata": {},
     "output_type": "execute_result"
    }
   ],
   "source": [
    "simpsons_episodes[simpsons_episodes[\"imdb_rating\"].isna()].equals(simpsons_episodes.tail(3))"
   ]
  },
  {
   "cell_type": "markdown",
   "metadata": {},
   "source": [
    "Sui 597 episodi, in media le recensioni li hanno considerati nella media, cioè tra il \"bello\" e il \"brutto\", con un valore però che tende maggiormente verso il \"brutto\", usando la terminologia delle classi che abbiamo definito all'inizio. Questo vuol dire che il valore di separazione tra i *rating* inclusi nelle due classi è corretto, nell'ottica di avere due classi all'incirca bilanciate. La mediana non si discosta molto dal valore medio, segno che le recensioni sono state molto equilibrate, senza troppi giudizi estremi, come ci conferma anche il grafico \"boxplot\". Esistono però due episodi, considerati i peggiori della serie, che sono *outliers* rispetto alla distribuzione di tutti i voti."
   ]
  },
  {
   "cell_type": "code",
   "execution_count": 25,
   "metadata": {},
   "outputs": [
    {
     "data": {
      "image/png": "[encoded data removed]",
      "text/plain": [
       "<Figure size 432x288 with 1 Axes>"
      ]
     },
     "metadata": {
      "needs_background": "light"
     },
     "output_type": "display_data"
    }
   ],
   "source": [
    "plt.boxplot(simpsons_episodes[\"imdb_rating\"].dropna(), showmeans=True, labels=[\"ratings\"]);"
   ]
  },
  {
   "cell_type": "code",
   "execution_count": 26,
   "metadata": {},
   "outputs": [
    {
     "data": {
      "text/html": [
       "<div>\n",
       "<style scoped>\n",
       "    .dataframe tbody tr th:only-of-type {\n",
       "        vertical-align: middle;\n",
       "    }\n",
       "\n",
       "    .dataframe tbody tr th {\n",
       "        vertical-align: top;\n",
       "    }\n",
       "\n",
       "    .dataframe thead th {\n",
       "        text-align: right;\n",
       "    }\n",
       "</style>\n",
       "<table border=\"1\" class=\"dataframe\">\n",
       "  <thead>\n",
       "    <tr style=\"text-align: right;\">\n",
       "      <th></th>\n",
       "      <th>title</th>\n",
       "      <th>imdb_rating</th>\n",
       "    </tr>\n",
       "    <tr>\n",
       "      <th>id</th>\n",
       "      <th></th>\n",
       "      <th></th>\n",
       "    </tr>\n",
       "  </thead>\n",
       "  <tbody>\n",
       "    <tr>\n",
       "      <th>508</th>\n",
       "      <td>Lisa Goes Gaga</td>\n",
       "      <td>4.5</td>\n",
       "    </tr>\n",
       "    <tr>\n",
       "      <th>189</th>\n",
       "      <td>All Singing, All Dancing</td>\n",
       "      <td>5.1</td>\n",
       "    </tr>\n",
       "  </tbody>\n",
       "</table>\n",
       "</div>"
      ],
      "text/plain": [
       "                        title  imdb_rating\n",
       "id                                        \n",
       "508            Lisa Goes Gaga          4.5\n",
       "189  All Singing, All Dancing          5.1"
      ]
     },
     "execution_count": 26,
     "metadata": {},
     "output_type": "execute_result"
    }
   ],
   "source": [
    "simpsons_episodes.sort_values(\"imdb_rating\").head(2)[[\"title\", \"imdb_rating\"]]"
   ]
  },
  {
   "cell_type": "markdown",
   "metadata": {},
   "source": [
    "Osservando l'istogramma, si nota come la distribuzione dei valori si avvicini sufficientemente a quella di una gaussiana, fatto testimoniato anche dalla deviazione standard che ha un valore prossimo a 1 (0,73). Possiamo perciò considerare le recensioni come sufficientemente ben distribuite."
   ]
  },
  {
   "cell_type": "code",
   "execution_count": 27,
   "metadata": {},
   "outputs": [
    {
     "data": {
      "image/png": "[encoded data removed]",
      "text/plain": [
       "<Figure size 432x288 with 1 Axes>"
      ]
     },
     "metadata": {
      "needs_background": "light"
     },
     "output_type": "display_data"
    }
   ],
   "source": [
    "simpsons_episodes[\"imdb_rating\"].plot.hist();"
   ]
  },
  {
   "cell_type": "code",
   "execution_count": 28,
   "metadata": {},
   "outputs": [
    {
     "data": {
      "image/png": "[encoded data removed]",
      "text/plain": [
       "<Figure size 432x288 with 1 Axes>"
      ]
     },
     "metadata": {
      "needs_background": "light"
     },
     "output_type": "display_data"
    }
   ],
   "source": [
    "simpsons_episodes[\"imdb_rating\"].plot.density();"
   ]
  },
  {
   "cell_type": "markdown",
   "metadata": {},
   "source": [
    "Il dataset considera gli episodi de \"I Simpson\" delle prime 28 stagioni, e nell'ultima non tiene in considerazione tutti gli episodi, ma solamente i primi quattro. È facile osservare come la [ventottesima stagione](https://it.wikipedia.org/wiki/Episodi_de_I_Simpson_(ventottesima_stagione)) abbia infatti ben più di quattro episodi."
   ]
  },
  {
   "cell_type": "code",
   "execution_count": 29,
   "metadata": {},
   "outputs": [
    {
     "data": {
      "image/png": "[encoded data removed]",
      "text/plain": [
       "<Figure size 432x288 with 1 Axes>"
      ]
     },
     "metadata": {
      "needs_background": "light"
     },
     "output_type": "display_data"
    }
   ],
   "source": [
    "simpsons_episodes[\"season\"].value_counts().sort_index().plot.bar();"
   ]
  },
  {
   "cell_type": "markdown",
   "metadata": {},
   "source": [
    "Ogni nuovo episodio è andato in onda esclusivamente di domenica, fatta eccezione per un centinaio di episodi, andati in onda di giovedì, e di un numero insignificante alcuni altri nuovi episodi che sono andati in onda nei restanti giorni della settimana. Questo ci dice che questa possibile feature ha scarsa variabilità e non è utile ternerne conto durante la classificazione."
   ]
  },
  {
   "cell_type": "code",
   "execution_count": 30,
   "metadata": {},
   "outputs": [
    {
     "data": {
      "image/png": "[encoded data removed]",
      "text/plain": [
       "<Figure size 432x288 with 1 Axes>"
      ]
     },
     "metadata": {
      "needs_background": "light"
     },
     "output_type": "display_data"
    }
   ],
   "source": [
    "simpsons_episodes.original_air_date.dt.day_name().value_counts().plot.bar();"
   ]
  },
  {
   "cell_type": "markdown",
   "metadata": {},
   "source": [
    "I nuovi episodi sono andati in onda durante tutto l'anno con all'incirca sempre la stessa frequenza, ad eccezione del periodo esitvo. Questi dati non ci sorprendono però, dato che la stagione televisiva si svolge da settembre a maggio. Quindi anche questo dato non è particolarmente significativo per la classificazione."
   ]
  },
  {
   "cell_type": "code",
   "execution_count": 31,
   "metadata": {},
   "outputs": [
    {
     "data": {
      "image/png": "[encoded data removed]",
      "text/plain": [
       "<Figure size 432x288 with 1 Axes>"
      ]
     },
     "metadata": {
      "needs_background": "light"
     },
     "output_type": "display_data"
    }
   ],
   "source": [
    "simpsons_episodes.original_air_date.dt.month.value_counts().sort_index().plot.bar();"
   ]
  },
  {
   "cell_type": "markdown",
   "metadata": {},
   "source": [
    "Un'altra particolarità che notiamo è un fatto di cui tutti gli appassionati della serie sono convinti: le prime stagioni sono considerate mediamente più belle di quelle successive. Dal grafico a barre si nota infatti che per le prime 10 stagioni il punteggio medio è pari o superiore a 7,5 (cioè in media gli episodi sono considerati \"belli\"), mentre per le stagioni successive la media dei punteggi scende decisamente."
   ]
  },
  {
   "cell_type": "code",
   "execution_count": 32,
   "metadata": {},
   "outputs": [
    {
     "data": {
      "image/png": "[encoded data removed]",
      "text/plain": [
       "<Figure size 432x288 with 1 Axes>"
      ]
     },
     "metadata": {
      "needs_background": "light"
     },
     "output_type": "display_data"
    }
   ],
   "source": [
    "simpsons_episodes.groupby(\"season\").mean().plot.bar();"
   ]
  },
  {
   "cell_type": "markdown",
   "metadata": {},
   "source": [
    "Mediamente, nel copione di ogni episodio vengono inserite 281 battute di cui 234 vengono pronunciate da un personaggio."
   ]
  },
  {
   "cell_type": "code",
   "execution_count": 33,
   "metadata": {},
   "outputs": [
    {
     "data": {
      "text/plain": [
       "raw_text        280.675532\n",
       "spoken_words    234.289007\n",
       "dtype: float64"
      ]
     },
     "execution_count": 33,
     "metadata": {},
     "output_type": "execute_result"
    }
   ],
   "source": [
    "simpsons_script_lines.groupby(\"episode_id\")[[\"raw_text\", \"spoken_words\"]].count().mean()"
   ]
  },
  {
   "cell_type": "markdown",
   "metadata": {},
   "source": [
    "Come si può osservare, il numero di battute tra tutti i copioni che vengono pronunciate è inferiore di 26.000 istanze a quello delle battute in generale nei copioni. Questo per noi non rappresenta un problema, il calo non è significativo, ciò che invece potrebbe rappresentare un problema sono quelle battute che vengono pronunciate dove però non è dato il personaggio che le pronuncia, visto che non può essere sconosciuto. Discorso diverso vale per i luoghi, infatti è possibile che la battuta sia pronunciata in un luogo che nel copione si ignora, perchè magari non viene mostrato. Si nota infatti che le battute pronunciate senza il corrispettivo personaggio sono pochissime, segno di una mancanza di dati dovuta a degli errori, mentre invece le battute senza un luogo specificato sono molte di più, anche se sempre molto poche in confronto a quelle dell'intero *dataset*."
   ]
  },
  {
   "cell_type": "code",
   "execution_count": 34,
   "metadata": {},
   "outputs": [
    {
     "data": {
      "text/plain": [
       "raw_text        158301\n",
       "spoken_words    132139\n",
       "dtype: int64"
      ]
     },
     "execution_count": 34,
     "metadata": {},
     "output_type": "execute_result"
    }
   ],
   "source": [
    "simpsons_script_lines[[\"raw_text\", \"spoken_words\"]].count()"
   ]
  },
  {
   "cell_type": "code",
   "execution_count": 35,
   "metadata": {},
   "outputs": [
    {
     "data": {
      "text/html": [
       "<div>\n",
       "<style scoped>\n",
       "    .dataframe tbody tr th:only-of-type {\n",
       "        vertical-align: middle;\n",
       "    }\n",
       "\n",
       "    .dataframe tbody tr th {\n",
       "        vertical-align: top;\n",
       "    }\n",
       "\n",
       "    .dataframe thead th {\n",
       "        text-align: right;\n",
       "    }\n",
       "</style>\n",
       "<table border=\"1\" class=\"dataframe\">\n",
       "  <thead>\n",
       "    <tr style=\"text-align: right;\">\n",
       "      <th></th>\n",
       "      <th>episode_id</th>\n",
       "      <th>number</th>\n",
       "      <th>raw_text</th>\n",
       "      <th>character_id</th>\n",
       "      <th>location_id</th>\n",
       "      <th>spoken_words</th>\n",
       "    </tr>\n",
       "    <tr>\n",
       "      <th>id</th>\n",
       "      <th></th>\n",
       "      <th></th>\n",
       "      <th></th>\n",
       "      <th></th>\n",
       "      <th></th>\n",
       "      <th></th>\n",
       "    </tr>\n",
       "  </thead>\n",
       "  <tbody>\n",
       "    <tr>\n",
       "      <th>4213</th>\n",
       "      <td>14</td>\n",
       "      <td>205</td>\n",
       "      <td>Martin Prince: Who would have thought that pushing a boy into the girls' lavatory could be such ...</td>\n",
       "      <td>&lt;NA&gt;</td>\n",
       "      <td>&lt;NA&gt;</td>\n",
       "      <td>Who would have thought that pushing a boy into the girls' lavatory could be such a thrill? The s...</td>\n",
       "    </tr>\n",
       "    <tr>\n",
       "      <th>4262</th>\n",
       "      <td>14</td>\n",
       "      <td>254</td>\n",
       "      <td>Entire Town: A BEAUTIFUL SIGHT / WE'RE HAPPY TONIGHT/ WALKIN' IN A WINTER WONDERLAND.\" /</td>\n",
       "      <td>&lt;NA&gt;</td>\n",
       "      <td>&lt;NA&gt;</td>\n",
       "      <td>A BEAUTIFUL SIGHT / WE'RE HAPPY TONIGHT/ WALKIN' IN A WINTER WONDERLAND. /</td>\n",
       "    </tr>\n",
       "    <tr>\n",
       "      <th>4266</th>\n",
       "      <td>14</td>\n",
       "      <td>258</td>\n",
       "      <td>Bart Simpson: (READING ALOUD, WITH HEART) Chapter Six: Four Days in Philadelphia. The first Cont...</td>\n",
       "      <td>&lt;NA&gt;</td>\n",
       "      <td>&lt;NA&gt;</td>\n",
       "      <td>Chapter Six: Four Days in Philadelphia. The first Continental Congress faced a difficult job. Co...</td>\n",
       "    </tr>\n",
       "    <tr>\n",
       "      <th>5346</th>\n",
       "      <td>18</td>\n",
       "      <td>200</td>\n",
       "      <td>Tony Bennett: CALLED CAPITAL CITY...</td>\n",
       "      <td>&lt;NA&gt;</td>\n",
       "      <td>&lt;NA&gt;</td>\n",
       "      <td>CALLED CAPITAL CITY...</td>\n",
       "    </tr>\n",
       "    <tr>\n",
       "      <th>5349</th>\n",
       "      <td>18</td>\n",
       "      <td>203</td>\n",
       "      <td>Tony Bennett: IN CAPITAL CITY...</td>\n",
       "      <td>&lt;NA&gt;</td>\n",
       "      <td>&lt;NA&gt;</td>\n",
       "      <td>IN CAPITAL CITY...</td>\n",
       "    </tr>\n",
       "  </tbody>\n",
       "</table>\n",
       "</div>"
      ],
      "text/plain": [
       "      episode_id  number  \\\n",
       "id                         \n",
       "4213          14     205   \n",
       "4262          14     254   \n",
       "4266          14     258   \n",
       "5346          18     200   \n",
       "5349          18     203   \n",
       "\n",
       "                                                                                                 raw_text  \\\n",
       "id                                                                                                          \n",
       "4213  Martin Prince: Who would have thought that pushing a boy into the girls' lavatory could be such ...   \n",
       "4262             Entire Town: A BEAUTIFUL SIGHT / WE'RE HAPPY TONIGHT/ WALKIN' IN A WINTER WONDERLAND.\" /   \n",
       "4266  Bart Simpson: (READING ALOUD, WITH HEART) Chapter Six: Four Days in Philadelphia. The first Cont...   \n",
       "5346                                                                 Tony Bennett: CALLED CAPITAL CITY...   \n",
       "5349                                                                     Tony Bennett: IN CAPITAL CITY...   \n",
       "\n",
       "      character_id  location_id  \\\n",
       "id                                \n",
       "4213          <NA>         <NA>   \n",
       "4262          <NA>         <NA>   \n",
       "4266          <NA>         <NA>   \n",
       "5346          <NA>         <NA>   \n",
       "5349          <NA>         <NA>   \n",
       "\n",
       "                                                                                             spoken_words  \n",
       "id                                                                                                         \n",
       "4213  Who would have thought that pushing a boy into the girls' lavatory could be such a thrill? The s...  \n",
       "4262                           A BEAUTIFUL SIGHT / WE'RE HAPPY TONIGHT/ WALKIN' IN A WINTER WONDERLAND. /  \n",
       "4266  Chapter Six: Four Days in Philadelphia. The first Continental Congress faced a difficult job. Co...  \n",
       "5346                                                                               CALLED CAPITAL CITY...  \n",
       "5349                                                                                   IN CAPITAL CITY...  "
      ]
     },
     "execution_count": 35,
     "metadata": {},
     "output_type": "execute_result"
    }
   ],
   "source": [
    "simpsons_script_lines[~simpsons_script_lines[\"spoken_words\"].isna() & simpsons_script_lines[\"character_id\"].isna()].head()"
   ]
  },
  {
   "cell_type": "code",
   "execution_count": 36,
   "metadata": {},
   "outputs": [
    {
     "data": {
      "text/html": [
       "<div>\n",
       "<style scoped>\n",
       "    .dataframe tbody tr th:only-of-type {\n",
       "        vertical-align: middle;\n",
       "    }\n",
       "\n",
       "    .dataframe tbody tr th {\n",
       "        vertical-align: top;\n",
       "    }\n",
       "\n",
       "    .dataframe thead th {\n",
       "        text-align: right;\n",
       "    }\n",
       "</style>\n",
       "<table border=\"1\" class=\"dataframe\">\n",
       "  <thead>\n",
       "    <tr style=\"text-align: right;\">\n",
       "      <th></th>\n",
       "      <th>episode_id</th>\n",
       "      <th>number</th>\n",
       "      <th>raw_text</th>\n",
       "      <th>character_id</th>\n",
       "      <th>location_id</th>\n",
       "      <th>spoken_words</th>\n",
       "    </tr>\n",
       "    <tr>\n",
       "      <th>id</th>\n",
       "      <th></th>\n",
       "      <th></th>\n",
       "      <th></th>\n",
       "      <th></th>\n",
       "      <th></th>\n",
       "      <th></th>\n",
       "    </tr>\n",
       "  </thead>\n",
       "  <tbody>\n",
       "    <tr>\n",
       "      <th>4213</th>\n",
       "      <td>14</td>\n",
       "      <td>205</td>\n",
       "      <td>Martin Prince: Who would have thought that pushing a boy into the girls' lavatory could be such ...</td>\n",
       "      <td>&lt;NA&gt;</td>\n",
       "      <td>&lt;NA&gt;</td>\n",
       "      <td>Who would have thought that pushing a boy into the girls' lavatory could be such a thrill? The s...</td>\n",
       "    </tr>\n",
       "    <tr>\n",
       "      <th>4262</th>\n",
       "      <td>14</td>\n",
       "      <td>254</td>\n",
       "      <td>Entire Town: A BEAUTIFUL SIGHT / WE'RE HAPPY TONIGHT/ WALKIN' IN A WINTER WONDERLAND.\" /</td>\n",
       "      <td>&lt;NA&gt;</td>\n",
       "      <td>&lt;NA&gt;</td>\n",
       "      <td>A BEAUTIFUL SIGHT / WE'RE HAPPY TONIGHT/ WALKIN' IN A WINTER WONDERLAND. /</td>\n",
       "    </tr>\n",
       "    <tr>\n",
       "      <th>4266</th>\n",
       "      <td>14</td>\n",
       "      <td>258</td>\n",
       "      <td>Bart Simpson: (READING ALOUD, WITH HEART) Chapter Six: Four Days in Philadelphia. The first Cont...</td>\n",
       "      <td>&lt;NA&gt;</td>\n",
       "      <td>&lt;NA&gt;</td>\n",
       "      <td>Chapter Six: Four Days in Philadelphia. The first Continental Congress faced a difficult job. Co...</td>\n",
       "    </tr>\n",
       "    <tr>\n",
       "      <th>4588</th>\n",
       "      <td>16</td>\n",
       "      <td>0</td>\n",
       "      <td>Marge Simpson: (CLEARING HER THROAT) Hello, everyone. (CLEARING HER THROAT) You know, Halloween ...</td>\n",
       "      <td>1</td>\n",
       "      <td>&lt;NA&gt;</td>\n",
       "      <td>Hello, everyone. You know, Halloween is a very strange holiday. Personally, I don't understand i...</td>\n",
       "    </tr>\n",
       "    <tr>\n",
       "      <th>5346</th>\n",
       "      <td>18</td>\n",
       "      <td>200</td>\n",
       "      <td>Tony Bennett: CALLED CAPITAL CITY...</td>\n",
       "      <td>&lt;NA&gt;</td>\n",
       "      <td>&lt;NA&gt;</td>\n",
       "      <td>CALLED CAPITAL CITY...</td>\n",
       "    </tr>\n",
       "  </tbody>\n",
       "</table>\n",
       "</div>"
      ],
      "text/plain": [
       "      episode_id  number  \\\n",
       "id                         \n",
       "4213          14     205   \n",
       "4262          14     254   \n",
       "4266          14     258   \n",
       "4588          16       0   \n",
       "5346          18     200   \n",
       "\n",
       "                                                                                                 raw_text  \\\n",
       "id                                                                                                          \n",
       "4213  Martin Prince: Who would have thought that pushing a boy into the girls' lavatory could be such ...   \n",
       "4262             Entire Town: A BEAUTIFUL SIGHT / WE'RE HAPPY TONIGHT/ WALKIN' IN A WINTER WONDERLAND.\" /   \n",
       "4266  Bart Simpson: (READING ALOUD, WITH HEART) Chapter Six: Four Days in Philadelphia. The first Cont...   \n",
       "4588  Marge Simpson: (CLEARING HER THROAT) Hello, everyone. (CLEARING HER THROAT) You know, Halloween ...   \n",
       "5346                                                                 Tony Bennett: CALLED CAPITAL CITY...   \n",
       "\n",
       "      character_id  location_id  \\\n",
       "id                                \n",
       "4213          <NA>         <NA>   \n",
       "4262          <NA>         <NA>   \n",
       "4266          <NA>         <NA>   \n",
       "4588             1         <NA>   \n",
       "5346          <NA>         <NA>   \n",
       "\n",
       "                                                                                             spoken_words  \n",
       "id                                                                                                         \n",
       "4213  Who would have thought that pushing a boy into the girls' lavatory could be such a thrill? The s...  \n",
       "4262                           A BEAUTIFUL SIGHT / WE'RE HAPPY TONIGHT/ WALKIN' IN A WINTER WONDERLAND. /  \n",
       "4266  Chapter Six: Four Days in Philadelphia. The first Continental Congress faced a difficult job. Co...  \n",
       "4588  Hello, everyone. You know, Halloween is a very strange holiday. Personally, I don't understand i...  \n",
       "5346                                                                               CALLED CAPITAL CITY...  "
      ]
     },
     "execution_count": 36,
     "metadata": {},
     "output_type": "execute_result"
    }
   ],
   "source": [
    "simpsons_script_lines[~simpsons_script_lines[\"spoken_words\"].isna() & simpsons_script_lines[\"location_id\"].isna()].head()"
   ]
  },
  {
   "cell_type": "markdown",
   "metadata": {},
   "source": [
    "È possibile osservare che in media all'interno di ciascun episodio della serie della serie i personaggi che compaiono hanno 7 battute a testa, anche se questo dato è fortemente sbilanciato: ad esempio la metà dei personaggi a livello di singolo episodio ha una o due battute al massimo e ci sono invece personaggi che in un singolo episodio pronunciano fino a 131 battute. Questo significa che pochi personaggi sono veramente rilevanti nella serie tv."
   ]
  },
  {
   "cell_type": "code",
   "execution_count": 37,
   "metadata": {},
   "outputs": [
    {
     "data": {
      "text/html": [
       "<div>\n",
       "<style scoped>\n",
       "    .dataframe tbody tr th:only-of-type {\n",
       "        vertical-align: middle;\n",
       "    }\n",
       "\n",
       "    .dataframe tbody tr th {\n",
       "        vertical-align: top;\n",
       "    }\n",
       "\n",
       "    .dataframe thead th {\n",
       "        text-align: right;\n",
       "    }\n",
       "</style>\n",
       "<table border=\"1\" class=\"dataframe\">\n",
       "  <thead>\n",
       "    <tr style=\"text-align: right;\">\n",
       "      <th></th>\n",
       "      <th>size</th>\n",
       "    </tr>\n",
       "  </thead>\n",
       "  <tbody>\n",
       "    <tr>\n",
       "      <th>count</th>\n",
       "      <td>19995.000000</td>\n",
       "    </tr>\n",
       "    <tr>\n",
       "      <th>mean</th>\n",
       "      <td>6.607702</td>\n",
       "    </tr>\n",
       "    <tr>\n",
       "      <th>std</th>\n",
       "      <td>12.653093</td>\n",
       "    </tr>\n",
       "    <tr>\n",
       "      <th>min</th>\n",
       "      <td>1.000000</td>\n",
       "    </tr>\n",
       "    <tr>\n",
       "      <th>25%</th>\n",
       "      <td>1.000000</td>\n",
       "    </tr>\n",
       "    <tr>\n",
       "      <th>50%</th>\n",
       "      <td>2.000000</td>\n",
       "    </tr>\n",
       "    <tr>\n",
       "      <th>75%</th>\n",
       "      <td>5.000000</td>\n",
       "    </tr>\n",
       "    <tr>\n",
       "      <th>max</th>\n",
       "      <td>131.000000</td>\n",
       "    </tr>\n",
       "  </tbody>\n",
       "</table>\n",
       "</div>"
      ],
      "text/plain": [
       "               size\n",
       "count  19995.000000\n",
       "mean       6.607702\n",
       "std       12.653093\n",
       "min        1.000000\n",
       "25%        1.000000\n",
       "50%        2.000000\n",
       "75%        5.000000\n",
       "max      131.000000"
      ]
     },
     "execution_count": 37,
     "metadata": {},
     "output_type": "execute_result"
    }
   ],
   "source": [
    "lines = pd.DataFrame(simpsons_script_lines.dropna(axis=\"index\", subset=[\"spoken_words\"]) \\\n",
    "                                          .groupby([\"episode_id\", \"character_id\"]) \\\n",
    "                                          .size(),\n",
    "                     columns=[\"size\"])\n",
    "lines.describe()"
   ]
  },
  {
   "cell_type": "code",
   "execution_count": 38,
   "metadata": {},
   "outputs": [
    {
     "data": {
      "image/png": "[encoded data removed]",
      "text/plain": [
       "<Figure size 432x288 with 1 Axes>"
      ]
     },
     "metadata": {
      "needs_background": "light"
     },
     "output_type": "display_data"
    }
   ],
   "source": [
    "lines.plot.hist(bins=50);"
   ]
  },
  {
   "cell_type": "markdown",
   "metadata": {},
   "source": [
    "Discorso analogo si può fare per le location. In media in ciascuna location a livello di singolo episodio si pronunciano 13 battute nel copione, però un quarto delle location non compare mai più di tre volte ed esistono location che compaiono fino a 203 volte nelle battute del copione. Quindi, poche location nella serie sono veramente importanti per caratterizzare un episodio."
   ]
  },
  {
   "cell_type": "code",
   "execution_count": 39,
   "metadata": {},
   "outputs": [
    {
     "data": {
      "text/html": [
       "<div>\n",
       "<style scoped>\n",
       "    .dataframe tbody tr th:only-of-type {\n",
       "        vertical-align: middle;\n",
       "    }\n",
       "\n",
       "    .dataframe tbody tr th {\n",
       "        vertical-align: top;\n",
       "    }\n",
       "\n",
       "    .dataframe thead th {\n",
       "        text-align: right;\n",
       "    }\n",
       "</style>\n",
       "<table border=\"1\" class=\"dataframe\">\n",
       "  <thead>\n",
       "    <tr style=\"text-align: right;\">\n",
       "      <th></th>\n",
       "      <th>size</th>\n",
       "    </tr>\n",
       "  </thead>\n",
       "  <tbody>\n",
       "    <tr>\n",
       "      <th>count</th>\n",
       "      <td>10041.000000</td>\n",
       "    </tr>\n",
       "    <tr>\n",
       "      <th>mean</th>\n",
       "      <td>13.120805</td>\n",
       "    </tr>\n",
       "    <tr>\n",
       "      <th>std</th>\n",
       "      <td>18.007592</td>\n",
       "    </tr>\n",
       "    <tr>\n",
       "      <th>min</th>\n",
       "      <td>1.000000</td>\n",
       "    </tr>\n",
       "    <tr>\n",
       "      <th>25%</th>\n",
       "      <td>3.000000</td>\n",
       "    </tr>\n",
       "    <tr>\n",
       "      <th>50%</th>\n",
       "      <td>7.000000</td>\n",
       "    </tr>\n",
       "    <tr>\n",
       "      <th>75%</th>\n",
       "      <td>15.000000</td>\n",
       "    </tr>\n",
       "    <tr>\n",
       "      <th>max</th>\n",
       "      <td>203.000000</td>\n",
       "    </tr>\n",
       "  </tbody>\n",
       "</table>\n",
       "</div>"
      ],
      "text/plain": [
       "               size\n",
       "count  10041.000000\n",
       "mean      13.120805\n",
       "std       18.007592\n",
       "min        1.000000\n",
       "25%        3.000000\n",
       "50%        7.000000\n",
       "75%       15.000000\n",
       "max      203.000000"
      ]
     },
     "execution_count": 39,
     "metadata": {},
     "output_type": "execute_result"
    }
   ],
   "source": [
    "locations = pd.DataFrame(simpsons_script_lines.dropna(axis=\"index\", subset=[\"spoken_words\"]) \\\n",
    "                                              .groupby([\"episode_id\", \"location_id\"]) \\\n",
    "                                              .size(), columns=[\"size\"])\n",
    "locations.describe()"
   ]
  },
  {
   "cell_type": "code",
   "execution_count": 40,
   "metadata": {},
   "outputs": [
    {
     "data": {
      "image/png": "[encoded data removed]",
      "text/plain": [
       "<Figure size 432x288 with 1 Axes>"
      ]
     },
     "metadata": {
      "needs_background": "light"
     },
     "output_type": "display_data"
    }
   ],
   "source": [
    "locations.plot.hist(bins=50);"
   ]
  },
  {
   "cell_type": "markdown",
   "metadata": {},
   "source": [
    "### Rimozione dei valori mancanti e preparazione dei dati"
   ]
  },
  {
   "cell_type": "markdown",
   "metadata": {},
   "source": [
    "Sulla base di quanto detto, possiamo rimuovere ``original_air_date`` e ``season`` dal DataFrame degli episodi perchè le feature che potremmo estrarre hanno una scarsa variabilità o comunque presentano delle tendenze che vorremmo non influenzassero la nostra classificazione. Inoltre, possiamo rimuovere ``title`` perchè non ci serve più."
   ]
  },
  {
   "cell_type": "code",
   "execution_count": 41,
   "metadata": {},
   "outputs": [
    {
     "data": {
      "text/html": [
       "<div>\n",
       "<style scoped>\n",
       "    .dataframe tbody tr th:only-of-type {\n",
       "        vertical-align: middle;\n",
       "    }\n",
       "\n",
       "    .dataframe tbody tr th {\n",
       "        vertical-align: top;\n",
       "    }\n",
       "\n",
       "    .dataframe thead th {\n",
       "        text-align: right;\n",
       "    }\n",
       "</style>\n",
       "<table border=\"1\" class=\"dataframe\">\n",
       "  <thead>\n",
       "    <tr style=\"text-align: right;\">\n",
       "      <th></th>\n",
       "      <th>imdb_rating</th>\n",
       "    </tr>\n",
       "    <tr>\n",
       "      <th>id</th>\n",
       "      <th></th>\n",
       "    </tr>\n",
       "  </thead>\n",
       "  <tbody>\n",
       "    <tr>\n",
       "      <th>1</th>\n",
       "      <td>8.2</td>\n",
       "    </tr>\n",
       "    <tr>\n",
       "      <th>2</th>\n",
       "      <td>7.8</td>\n",
       "    </tr>\n",
       "    <tr>\n",
       "      <th>3</th>\n",
       "      <td>7.5</td>\n",
       "    </tr>\n",
       "    <tr>\n",
       "      <th>4</th>\n",
       "      <td>7.8</td>\n",
       "    </tr>\n",
       "    <tr>\n",
       "      <th>5</th>\n",
       "      <td>8.1</td>\n",
       "    </tr>\n",
       "  </tbody>\n",
       "</table>\n",
       "</div>"
      ],
      "text/plain": [
       "    imdb_rating\n",
       "id             \n",
       "1           8.2\n",
       "2           7.8\n",
       "3           7.5\n",
       "4           7.8\n",
       "5           8.1"
      ]
     },
     "execution_count": 41,
     "metadata": {},
     "output_type": "execute_result"
    }
   ],
   "source": [
    "simpsons_episodes.drop(columns=[\"original_air_date\", \"title\", \"season\"], inplace=True)\n",
    "simpsons_episodes.head()"
   ]
  },
  {
   "cell_type": "markdown",
   "metadata": {},
   "source": [
    "A questo punto, cerchiamo di sostituire i valori NA di ``character_id`` con quelli corretti quando anche ``spoken_words`` è diverso da NA utilizzando le peculiarità di ``raw_text``. Infatti, generalmente le battute pronunciate nella colonna ``raw_text`` sono precedute dal nome di chi le pronuncia, seguito dai due punti."
   ]
  },
  {
   "cell_type": "code",
   "execution_count": 42,
   "metadata": {},
   "outputs": [],
   "source": [
    "missing = simpsons_script_lines[(~simpsons_script_lines[\"spoken_words\"].isna()) & (simpsons_script_lines[\"character_id\"].isna())]\n",
    "for index, row in missing.iterrows():\n",
    "    name = row[\"raw_text\"].split(\":\")[0]\n",
    "    if name != \"\":\n",
    "        simpsons_script_lines.loc[index, \"character_id\"] = simpsons_characters[simpsons_characters[\"name\"] == name].index"
   ]
  },
  {
   "cell_type": "markdown",
   "metadata": {},
   "source": [
    "Fatto questo, ``raw_text`` non ci serve più e può essere eliminato."
   ]
  },
  {
   "cell_type": "code",
   "execution_count": 43,
   "metadata": {},
   "outputs": [
    {
     "data": {
      "text/html": [
       "<div>\n",
       "<style scoped>\n",
       "    .dataframe tbody tr th:only-of-type {\n",
       "        vertical-align: middle;\n",
       "    }\n",
       "\n",
       "    .dataframe tbody tr th {\n",
       "        vertical-align: top;\n",
       "    }\n",
       "\n",
       "    .dataframe thead th {\n",
       "        text-align: right;\n",
       "    }\n",
       "</style>\n",
       "<table border=\"1\" class=\"dataframe\">\n",
       "  <thead>\n",
       "    <tr style=\"text-align: right;\">\n",
       "      <th></th>\n",
       "      <th>episode_id</th>\n",
       "      <th>number</th>\n",
       "      <th>character_id</th>\n",
       "      <th>location_id</th>\n",
       "      <th>spoken_words</th>\n",
       "    </tr>\n",
       "    <tr>\n",
       "      <th>id</th>\n",
       "      <th></th>\n",
       "      <th></th>\n",
       "      <th></th>\n",
       "      <th></th>\n",
       "      <th></th>\n",
       "    </tr>\n",
       "  </thead>\n",
       "  <tbody>\n",
       "    <tr>\n",
       "      <th>3</th>\n",
       "      <td>1</td>\n",
       "      <td>2</td>\n",
       "      <td>1</td>\n",
       "      <td>2</td>\n",
       "      <td>Ooo, careful, Homer.</td>\n",
       "    </tr>\n",
       "    <tr>\n",
       "      <th>4</th>\n",
       "      <td>1</td>\n",
       "      <td>3</td>\n",
       "      <td>2</td>\n",
       "      <td>2</td>\n",
       "      <td>There's no time to be careful.</td>\n",
       "    </tr>\n",
       "    <tr>\n",
       "      <th>5</th>\n",
       "      <td>1</td>\n",
       "      <td>4</td>\n",
       "      <td>2</td>\n",
       "      <td>2</td>\n",
       "      <td>We're late.</td>\n",
       "    </tr>\n",
       "    <tr>\n",
       "      <th>8</th>\n",
       "      <td>1</td>\n",
       "      <td>7</td>\n",
       "      <td>1</td>\n",
       "      <td>4</td>\n",
       "      <td>Sorry, Excuse us. Pardon me...</td>\n",
       "    </tr>\n",
       "    <tr>\n",
       "      <th>9</th>\n",
       "      <td>1</td>\n",
       "      <td>8</td>\n",
       "      <td>2</td>\n",
       "      <td>4</td>\n",
       "      <td>Hey, Norman. How's it going? So you got dragged down here, too... heh, heh. How ya doing, Fred? ...</td>\n",
       "    </tr>\n",
       "  </tbody>\n",
       "</table>\n",
       "</div>"
      ],
      "text/plain": [
       "    episode_id  number  character_id  location_id  \\\n",
       "id                                                  \n",
       "3            1       2             1            2   \n",
       "4            1       3             2            2   \n",
       "5            1       4             2            2   \n",
       "8            1       7             1            4   \n",
       "9            1       8             2            4   \n",
       "\n",
       "                                                                                           spoken_words  \n",
       "id                                                                                                       \n",
       "3                                                                                  Ooo, careful, Homer.  \n",
       "4                                                                        There's no time to be careful.  \n",
       "5                                                                                           We're late.  \n",
       "8                                                                        Sorry, Excuse us. Pardon me...  \n",
       "9   Hey, Norman. How's it going? So you got dragged down here, too... heh, heh. How ya doing, Fred? ...  "
      ]
     },
     "execution_count": 43,
     "metadata": {},
     "output_type": "execute_result"
    }
   ],
   "source": [
    "simpsons_script_lines.drop(columns=\"raw_text\", inplace=True)\n",
    "simpsons_script_lines.dropna(axis=\"index\", subset=[\"spoken_words\"], inplace=True)\n",
    "simpsons_script_lines.head()"
   ]
  },
  {
   "cell_type": "markdown",
   "metadata": {},
   "source": [
    "### Selezione delle feature rilevanti"
   ]
  },
  {
   "cell_type": "markdown",
   "metadata": {},
   "source": [
    "A questo punto, abbiamo ripulito i nostri DataFrame in modo da poterli rielaborare per estrarre la variabile da predire e le feature di nostro interesse. Possiamo procedere dunque con l'unione delle singole battute per ottenere nuovamente i copioni originali di ciascun episodio e successivamente effettuare un *join* tra il DataFrame così ottenuto e quello contenente le informazioni per ciascun episodio così da associare a ciascun copione il suo *rating* su IMDB."
   ]
  },
  {
   "cell_type": "code",
   "execution_count": 44,
   "metadata": {},
   "outputs": [
    {
     "data": {
      "text/html": [
       "<div>\n",
       "<style scoped>\n",
       "    .dataframe tbody tr th:only-of-type {\n",
       "        vertical-align: middle;\n",
       "    }\n",
       "\n",
       "    .dataframe tbody tr th {\n",
       "        vertical-align: top;\n",
       "    }\n",
       "\n",
       "    .dataframe thead th {\n",
       "        text-align: right;\n",
       "    }\n",
       "</style>\n",
       "<table border=\"1\" class=\"dataframe\">\n",
       "  <thead>\n",
       "    <tr style=\"text-align: right;\">\n",
       "      <th></th>\n",
       "      <th>imdb_rating</th>\n",
       "      <th>spoken_words</th>\n",
       "    </tr>\n",
       "    <tr>\n",
       "      <th>id</th>\n",
       "      <th></th>\n",
       "      <th></th>\n",
       "    </tr>\n",
       "  </thead>\n",
       "  <tbody>\n",
       "    <tr>\n",
       "      <th>1</th>\n",
       "      <td>8.2</td>\n",
       "      <td>Ooo, careful, Homer. There's no time to be careful. We're late. Sorry, Excuse us. Pardon me... H...</td>\n",
       "    </tr>\n",
       "    <tr>\n",
       "      <th>2</th>\n",
       "      <td>7.8</td>\n",
       "      <td>Come on, Mom. Yeah, Mom, hurry up. All right... hmmm... How about \"he\"? Two points. Your turn, d...</td>\n",
       "    </tr>\n",
       "    <tr>\n",
       "      <th>3</th>\n",
       "      <td>7.5</td>\n",
       "      <td>Now, class, I don't want this field trip to be a repeat of our infamous visit to the Springfield...</td>\n",
       "    </tr>\n",
       "    <tr>\n",
       "      <th>4</th>\n",
       "      <td>7.8</td>\n",
       "      <td>Oh, yeah? Yeah! Oh, yeah? Yeah! Oh, yeah? Yeah! Oh, yeah? Yeah! Hey! What's the problem here? We...</td>\n",
       "    </tr>\n",
       "    <tr>\n",
       "      <th>5</th>\n",
       "      <td>8.1</td>\n",
       "      <td>Do I smell cupcakes? Oooo, Do I ever! Uh-uh, Homer. Lisa's making these for her teacher. Ah. Say...</td>\n",
       "    </tr>\n",
       "  </tbody>\n",
       "</table>\n",
       "</div>"
      ],
      "text/plain": [
       "    imdb_rating  \\\n",
       "id                \n",
       "1           8.2   \n",
       "2           7.8   \n",
       "3           7.5   \n",
       "4           7.8   \n",
       "5           8.1   \n",
       "\n",
       "                                                                                           spoken_words  \n",
       "id                                                                                                       \n",
       "1   Ooo, careful, Homer. There's no time to be careful. We're late. Sorry, Excuse us. Pardon me... H...  \n",
       "2   Come on, Mom. Yeah, Mom, hurry up. All right... hmmm... How about \"he\"? Two points. Your turn, d...  \n",
       "3   Now, class, I don't want this field trip to be a repeat of our infamous visit to the Springfield...  \n",
       "4   Oh, yeah? Yeah! Oh, yeah? Yeah! Oh, yeah? Yeah! Oh, yeah? Yeah! Hey! What's the problem here? We...  \n",
       "5   Do I smell cupcakes? Oooo, Do I ever! Uh-uh, Homer. Lisa's making these for her teacher. Ah. Say...  "
      ]
     },
     "execution_count": 44,
     "metadata": {},
     "output_type": "execute_result"
    }
   ],
   "source": [
    "scripts = pd.DataFrame()\n",
    "simpsons_script_lines.sort_values([\"episode_id\", \"number\"], inplace=True)\n",
    "scripts[\"spoken_words\"] = simpsons_script_lines.groupby(\"episode_id\")[\"spoken_words\"].apply(' '.join)\n",
    "episodes = simpsons_episodes.join(scripts)\n",
    "episodes = episodes.astype({\n",
    "    \"spoken_words\": \"string\"\n",
    "})\n",
    "episodes.head()"
   ]
  },
  {
   "cell_type": "markdown",
   "metadata": {},
   "source": [
    "Come si può notare, ci sono 597 episodi con *rating* su IMDB, mentre quelli di cui abbiamo il copione sono solo 564. Non è possibile effetuare la classificazione se il *rating* IMDB è assente e non è molto utile tentare di farlo se il copione non è presente e non abbiamo modo di sapere cosa conteneva. Eliminiamo dunque tutte le righe che presentano valori NA, consapevoli che ci rimangono comunque molte istanze da sfruttare."
   ]
  },
  {
   "cell_type": "code",
   "execution_count": 45,
   "metadata": {},
   "outputs": [
    {
     "name": "stdout",
     "output_type": "stream",
     "text": [
      "<class 'pandas.core.frame.DataFrame'>\n",
      "Int64Index: 600 entries, 1 to 600\n",
      "Data columns (total 2 columns):\n",
      " #   Column        Non-Null Count  Dtype  \n",
      "---  ------        --------------  -----  \n",
      " 0   imdb_rating   597 non-null    float64\n",
      " 1   spoken_words  564 non-null    string \n",
      "dtypes: float64(1), string(1)\n",
      "memory usage: 14.1 KB\n"
     ]
    }
   ],
   "source": [
    "episodes.info()"
   ]
  },
  {
   "cell_type": "code",
   "execution_count": 46,
   "metadata": {},
   "outputs": [],
   "source": [
    "episodes.dropna(inplace=True)"
   ]
  },
  {
   "cell_type": "markdown",
   "metadata": {},
   "source": [
    "Cerchiamo quindi di costruire altre feature rilevanti che possiamo estrarre da ``simpsons_script_lines``. Possiamo ad esempio associare a ciascun episodio il numero di volte che ciascun personaggio pronuncia una battuta. Poichè i personaggi sono molti, salviamo questi dati in una matrice sparsa e, poichè sappiamo che a livello di singolo episodio un personaggio non pronuncia mai più di 131 battute, possiamo scegliere un tipo di dato più adeguato per salvare questi valori per risparmiare spazio in memoria."
   ]
  },
  {
   "cell_type": "code",
   "execution_count": 47,
   "metadata": {},
   "outputs": [],
   "source": [
    "characters = simpsons_script_lines.drop(columns=[\"number\", \"location_id\", \"spoken_words\"]) \\\n",
    "                                  .dropna() \\\n",
    "                                  .join(simpsons_characters, on=\"character_id\") \\\n",
    "                                  .drop(columns=\"character_id\") \\\n",
    "                                  .groupby([\"episode_id\", \"name\"]) \\\n",
    "                                  .size() \\\n",
    "                                  .unstack() \\\n",
    "                                  .fillna(0) \\\n",
    "                                  .astype(np.uint8) \\\n",
    "                                  .reindex(episodes.index)\n",
    "characters_cols = characters.columns\n",
    "characters = csr_matrix(characters)"
   ]
  },
  {
   "cell_type": "markdown",
   "metadata": {},
   "source": [
    "Possiamo ripetere lo stesso procedimento per le location, associando a ciascun episodio il numero di volte che una battuta è pronunciata in una determinata location, per ciascuna location. Poichè le location sono molte, salviamo anche questi dati in una matrice sparsa. Inoltre, sappiamo che a livello di singolo episodio in una data location non sono mai pronunciate più di 203 battute, perciò possiamo scegliere un tipo di dato più adeguato per salvare questi valori e risparmiare così memoria."
   ]
  },
  {
   "cell_type": "code",
   "execution_count": 48,
   "metadata": {},
   "outputs": [],
   "source": [
    "locations = simpsons_script_lines.drop(columns=[\"number\", \"character_id\", \"spoken_words\"]) \\\n",
    "                                 .dropna() \\\n",
    "                                 .join(simpsons_locations, on=\"location_id\") \\\n",
    "                                 .drop(columns=\"location_id\") \\\n",
    "                                 .groupby([\"episode_id\", \"name\"]) \\\n",
    "                                 .size() \\\n",
    "                                 .unstack() \\\n",
    "                                 .fillna(0) \\\n",
    "                                 .astype(np.uint8) \\\n",
    "                                 .reindex(episodes.index)\n",
    "locations_cols = locations.columns\n",
    "locations = csr_matrix(locations)"
   ]
  },
  {
   "cell_type": "markdown",
   "metadata": {},
   "source": [
    "Fatto questo, possiamo anche sbarazzarci di ``simpsons_episodes`` e ``simpsons_script_lines``, perchè abbiamo estratto tutto ciò che potevamo."
   ]
  },
  {
   "cell_type": "code",
   "execution_count": 49,
   "metadata": {},
   "outputs": [],
   "source": [
    "del simpsons_episodes\n",
    "del simpsons_script_lines"
   ]
  },
  {
   "cell_type": "markdown",
   "metadata": {},
   "source": [
    "Aggiungiamo quindi la variabile categorica da predire ed eliminiamo la feature del *rating* originale."
   ]
  },
  {
   "cell_type": "code",
   "execution_count": 50,
   "metadata": {},
   "outputs": [
    {
     "data": {
      "text/html": [
       "<div>\n",
       "<style scoped>\n",
       "    .dataframe tbody tr th:only-of-type {\n",
       "        vertical-align: middle;\n",
       "    }\n",
       "\n",
       "    .dataframe tbody tr th {\n",
       "        vertical-align: top;\n",
       "    }\n",
       "\n",
       "    .dataframe thead th {\n",
       "        text-align: right;\n",
       "    }\n",
       "</style>\n",
       "<table border=\"1\" class=\"dataframe\">\n",
       "  <thead>\n",
       "    <tr style=\"text-align: right;\">\n",
       "      <th></th>\n",
       "      <th>spoken_words</th>\n",
       "      <th>label</th>\n",
       "    </tr>\n",
       "    <tr>\n",
       "      <th>id</th>\n",
       "      <th></th>\n",
       "      <th></th>\n",
       "    </tr>\n",
       "  </thead>\n",
       "  <tbody>\n",
       "    <tr>\n",
       "      <th>6</th>\n",
       "      <td>Lisa! Lisa, are you still in there? What's the problem? Did you fall in? Lisa! Sorry, Dad. Women...</td>\n",
       "      <td>good</td>\n",
       "    </tr>\n",
       "    <tr>\n",
       "      <th>7</th>\n",
       "      <td>Rusty old hunk of junk. Howdy, Bart. Hot enough for ya? Shut up, Flanders. Hey dad, how come we ...</td>\n",
       "      <td>good</td>\n",
       "    </tr>\n",
       "    <tr>\n",
       "      <th>8</th>\n",
       "      <td>You know, Bart, when I was your age, I pulled a few boners, but I think you'll find that people ...</td>\n",
       "      <td>good</td>\n",
       "    </tr>\n",
       "    <tr>\n",
       "      <th>9</th>\n",
       "      <td>Whoops! Whoops! Oh, whoops... whoops! This is gonna be the best birthday breakfast Mom ever had....</td>\n",
       "      <td>good</td>\n",
       "    </tr>\n",
       "    <tr>\n",
       "      <th>10</th>\n",
       "      <td>So how was the office birthday party? Oh, it was delightful. The frosting on the cake was this t...</td>\n",
       "      <td>bad</td>\n",
       "    </tr>\n",
       "  </tbody>\n",
       "</table>\n",
       "</div>"
      ],
      "text/plain": [
       "                                                                                           spoken_words  \\\n",
       "id                                                                                                        \n",
       "6   Lisa! Lisa, are you still in there? What's the problem? Did you fall in? Lisa! Sorry, Dad. Women...   \n",
       "7   Rusty old hunk of junk. Howdy, Bart. Hot enough for ya? Shut up, Flanders. Hey dad, how come we ...   \n",
       "8   You know, Bart, when I was your age, I pulled a few boners, but I think you'll find that people ...   \n",
       "9   Whoops! Whoops! Oh, whoops... whoops! This is gonna be the best birthday breakfast Mom ever had....   \n",
       "10  So how was the office birthday party? Oh, it was delightful. The frosting on the cake was this t...   \n",
       "\n",
       "   label  \n",
       "id        \n",
       "6   good  \n",
       "7   good  \n",
       "8   good  \n",
       "9   good  \n",
       "10   bad  "
      ]
     },
     "execution_count": 50,
     "metadata": {},
     "output_type": "execute_result"
    }
   ],
   "source": [
    "episodes[\"label\"] = np.where(episodes[\"imdb_rating\"] >= 7.5, \"good\", \"bad\")\n",
    "episodes.drop(columns=\"imdb_rating\", inplace=True)\n",
    "episodes = episodes.astype({\"label\": \"string\"})\n",
    "episodes.iloc[5:10]"
   ]
  },
  {
   "cell_type": "markdown",
   "metadata": {},
   "source": [
    "Il diagramma a torta ci mostra come le deduzioni sulle distribuzioni dei *rating* fatte in precedenza siano corrette. Infatti, le due classi sono legermente sbilanciate - si trovano in un rapporto 60-40 - verso il \"brutto\". Non ci preoccuperemo perciò di bilanciare il numero di istanze tra le due classi, essendo molto vicine al perfetto bilanciamento, però terremo conto di questa proporzione quando effettueremo il calcolo dell'accuratezza nei modelli classificazione. Infatti, sarà molto più facile che un modello sia più corretto se tende a classificare molti episodi come \"brutto\" rispetto ad uno che li classifica invece come \"bello\"."
   ]
  },
  {
   "cell_type": "code",
   "execution_count": 51,
   "metadata": {},
   "outputs": [
    {
     "data": {
      "text/plain": [
       "bad     325\n",
       "good    239\n",
       "Name: label, dtype: Int64"
      ]
     },
     "execution_count": 51,
     "metadata": {},
     "output_type": "execute_result"
    }
   ],
   "source": [
    "episodes[\"label\"].value_counts()"
   ]
  },
  {
   "cell_type": "code",
   "execution_count": 52,
   "metadata": {},
   "outputs": [
    {
     "data": {
      "image/png": "[encoded data removed]",
      "text/plain": [
       "<Figure size 432x288 with 1 Axes>"
      ]
     },
     "metadata": {},
     "output_type": "display_data"
    }
   ],
   "source": [
    "fig, _ = plt.subplots()\n",
    "plt.pie(episodes[\"label\"].value_counts(), labels=[\"bad\", \"good\"], autopct=\"%1.0f%%\")\n",
    "fig.set_facecolor(\"white\")"
   ]
  },
  {
   "cell_type": "markdown",
   "metadata": {},
   "source": [
    "### Estrazione delle feature testuali"
   ]
  },
  {
   "cell_type": "markdown",
   "metadata": {},
   "source": [
    "A questo punto cerchiamo di estrarre le feature testuali, ovverosia le parole o quelle parti di esse, che sono più rilevanti dai copioni precedentemente ricostruiti. Prima di tutto dobbiamo ottenere i nostri train e validation set usando sia i copioni originali sia i valori di *rating*, successivamente dobbiamo costruire i *fold* per la *cross-validation*."
   ]
  },
  {
   "cell_type": "code",
   "execution_count": 53,
   "metadata": {},
   "outputs": [],
   "source": [
    "X = episodes[\"spoken_words\"]\n",
    "y = episodes[\"label\"]\n",
    "X_train, X_val, y_train, y_val = train_test_split(X, y, test_size=0.3, random_state=742)\n",
    "skf = StratifiedKFold(n_splits=3, shuffle=True, random_state=742)"
   ]
  },
  {
   "cell_type": "markdown",
   "metadata": {},
   "source": [
    "#### Scelta del tokenizer"
   ]
  },
  {
   "cell_type": "markdown",
   "metadata": {},
   "source": [
    "Per prima cosa cerchiamo di trovare il miglior *tokenizer* da applicare sui copioni. Per questo motivo al momento non ci preoccupiamo dell'indice di importanza delle parole, scegliamo il *tf-idf index* perchè il suo calcolo risulta più veloce su questo *dataset*. Detto questo, analizziamo il \"caso base\" del *vectorizer* e cerchiamo di ridurre via via il numero di feature senza mai compromettere in maniera significativa l'accuratezza del modello preso in esame."
   ]
  },
  {
   "cell_type": "code",
   "execution_count": 54,
   "metadata": {},
   "outputs": [
    {
     "data": {
      "text/plain": [
       "(['00', '000', '007', '07s', '10'],\n",
       " ['_______', 'a647253', 'aa', 'aaaa', 'aaaaa'],\n",
       " ['aaannnd', 'aaannnnd', 'aaanyway', 'aag', 'aagh'],\n",
       " ['abbie', 'abbotan', 'abbots', 'abbreviate', 'abbreviations'],\n",
       " ['éclairios', 'êtes', 'être', 'ĉu', 'ĝi'])"
      ]
     },
     "execution_count": 54,
     "metadata": {},
     "output_type": "execute_result"
    }
   ],
   "source": [
    "vectorizer_base = TfidfVectorizer()\n",
    "vectorizer_base.fit_transform(X_train)\n",
    "features = vectorizer_base.get_feature_names()\n",
    "features[0:5], features[327:332], features[350:355], features[370:375], features[-5:]"
   ]
  },
  {
   "cell_type": "markdown",
   "metadata": {},
   "source": [
    "Senza applicare nessuna variante, otteniamo 32.933 features, ovvero 32.933 parole, molte delle quali osserviamo essere numeri oppure storpiature di parole inserite solo per rendere meglio l'interpretazione delle frasi. Ha perciò senso provare un metodo di *tokenization* differente per osservare se le feature che estrae sono più significative."
   ]
  },
  {
   "cell_type": "code",
   "execution_count": 55,
   "metadata": {},
   "outputs": [
    {
     "data": {
      "text/plain": [
       "32993"
      ]
     },
     "execution_count": 55,
     "metadata": {},
     "output_type": "execute_result"
    }
   ],
   "source": [
    "len(features)"
   ]
  },
  {
   "cell_type": "markdown",
   "metadata": {},
   "source": [
    "Testiamo allora il *tokenizer* del modulo \"NLTK\"."
   ]
  },
  {
   "cell_type": "code",
   "execution_count": 56,
   "metadata": {},
   "outputs": [
    {
     "data": {
      "text/plain": [
       "(['!', '#', '$', '%', '&'],\n",
       " [\"'allo\", \"'angry\", \"'appen\", \"'applause\", \"'at\"],\n",
       " ['1977', '1977.', '1979', '1979.', '1980'],\n",
       " ['19:19', '19:19.', '19th', '1:00', '1:30'],\n",
       " ['é', 'éclairios', 'êtes', 'ĉu', 'ĝi'])"
      ]
     },
     "execution_count": 56,
     "metadata": {},
     "output_type": "execute_result"
    }
   ],
   "source": [
    "vectorizer_tokenizer = TfidfVectorizer(tokenizer=nltk.word_tokenize)\n",
    "vectorizer_tokenizer.fit_transform(X_train)\n",
    "features = vectorizer_tokenizer.get_feature_names()\n",
    "features[0:5], features[30:35], features[350:355], features[370:375], features[-5:]"
   ]
  },
  {
   "cell_type": "markdown",
   "metadata": {},
   "source": [
    "L'uso del *tokenizer* di NLTK ha generato all'incirca 5.000 feature in più, anche se notiamo che in questo caso sembrano essere create con più criterio. Compaiono dei simboli di punteggiatura che prima non avevamo incontrato, che ha senso che vengano considerati in maniera a sè stante, dato che non fanno parte di alcuna parola, e non troviamo più numeri dall'aspetto casuale. Notiamo che sono state aggiunte molte parole apostrofate che il *tokenizer* standard non aveva saputo riconoscere."
   ]
  },
  {
   "cell_type": "code",
   "execution_count": 57,
   "metadata": {},
   "outputs": [
    {
     "data": {
      "text/plain": [
       "37661"
      ]
     },
     "execution_count": 57,
     "metadata": {},
     "output_type": "execute_result"
    }
   ],
   "source": [
    "len(features)"
   ]
  },
  {
   "cell_type": "markdown",
   "metadata": {},
   "source": [
    "Proviamo a questo punto a rimuovere gli accenti e le *stop words*, per cercare di trattenere tutte e sole quelle parole che identificano con chiarezza di cosa si sta parlando, eliminando perciò le parole di contorno. Proviamo inoltre a rimuovere la punteggiatura, ovvero sia tutti quei token che non contengono neanche una lettera o un numero."
   ]
  },
  {
   "cell_type": "code",
   "execution_count": 58,
   "metadata": {},
   "outputs": [],
   "source": [
    "def tokenize_with_nltk(text):\n",
    "    return [token for token in nltk.word_tokenize(text) if re.match(r\"[a-zA-Z0-9]+\", token) is not None]"
   ]
  },
  {
   "cell_type": "code",
   "execution_count": 59,
   "metadata": {},
   "outputs": [],
   "source": [
    "nltk_stoplist = nltk.corpus.stopwords.words(\"english\")\n",
    "stoplist = list(set([token for word in nltk_stoplist for token in tokenize_with_nltk(word)]))"
   ]
  },
  {
   "cell_type": "code",
   "execution_count": 60,
   "metadata": {},
   "outputs": [
    {
     "data": {
      "text/plain": [
       "(['0', '0.', '007', '1', '1,000'],\n",
       " ['10th', '11', '111238,390,17', '1132.', '117th'],\n",
       " ['60', '600', '6000', '605', '6051'],\n",
       " ['69808,243,293', '6:45', '6th', '7', '7-10'],\n",
       " ['zz', 'zz-99', 'zzyzwiski', 'zzzapp', 'zzzzapp'])"
      ]
     },
     "execution_count": 60,
     "metadata": {},
     "output_type": "execute_result"
    }
   ],
   "source": [
    "vectorizer_stopwords = TfidfVectorizer(tokenizer=tokenize_with_nltk, stop_words=stoplist, strip_accents=\"unicode\")\n",
    "vectorizer_stopwords.fit_transform(X_train)\n",
    "features = vectorizer_stopwords.get_feature_names()\n",
    "features[0:5], features[30:35], features[350:355], features[370:375], features[-5:]"
   ]
  },
  {
   "cell_type": "markdown",
   "metadata": {},
   "source": [
    "La rimozione dei *token* descritti in precedenza non ha giovato particolarmente. Sono state rimosse solamente 400 feature, all'incirca. Evidentemente il metodo usato finora non è stato capace di cogliere tutti quegli elementi che aveva senso rimuovere."
   ]
  },
  {
   "cell_type": "code",
   "execution_count": 61,
   "metadata": {},
   "outputs": [
    {
     "data": {
      "text/plain": [
       "37257"
      ]
     },
     "execution_count": 61,
     "metadata": {},
     "output_type": "execute_result"
    }
   ],
   "source": [
    "len(features)"
   ]
  },
  {
   "cell_type": "markdown",
   "metadata": {},
   "source": [
    "#### Applicazione di meccanismi avanzati: POS tagging, lemmatization, stemming"
   ]
  },
  {
   "cell_type": "markdown",
   "metadata": {},
   "source": [
    "Proviamo a questo punto a complicare la *tokenization* applicandole i meccanismi di *POS tagging*, di lemmatizzazione e di *stemming*. Cerchiamo perciò di ridurre ancora il numero delle feature togliendo anche tutte quelle parole che non sono altro che la variante della stessa dove però tra di esse cambia la declinazione o il tipo dell'elemento grammaticale, caratteristiche che non vanno ad incidere particolarmente sul contenuto generale del discorso."
   ]
  },
  {
   "cell_type": "code",
   "execution_count": 62,
   "metadata": {},
   "outputs": [],
   "source": [
    "def tokenize_with_pos(text):\n",
    "    return nltk.pos_tag(tokenize_with_nltk(text))"
   ]
  },
  {
   "cell_type": "code",
   "execution_count": 63,
   "metadata": {},
   "outputs": [],
   "source": [
    "pos_stoplist = list(set([token for word in nltk_stoplist for token in tokenize_with_pos(word)]))"
   ]
  },
  {
   "cell_type": "code",
   "execution_count": 64,
   "metadata": {},
   "outputs": [],
   "source": [
    "wnl = nltk.stem.WordNetLemmatizer()\n",
    "penn_to_wn = {\"N\": \"n\", \"V\": \"v\", \"J\": \"a\", \"R\": \"r\"}\n",
    "def tokenize_with_lemmatization(text):\n",
    "    return [(wnl.lemmatize(token, penn_to_wn[tag[0]]) if tag[0] in penn_to_wn else token) for token, tag in tokenize_with_pos(text)]"
   ]
  },
  {
   "cell_type": "code",
   "execution_count": 65,
   "metadata": {},
   "outputs": [],
   "source": [
    "lemmatization_stoplist = list(set([token for word in nltk_stoplist for token in tokenize_with_lemmatization(word)]))"
   ]
  },
  {
   "cell_type": "code",
   "execution_count": 66,
   "metadata": {},
   "outputs": [],
   "source": [
    "ps = nltk.stem.PorterStemmer()\n",
    "def tokenize_with_stemming(text):\n",
    "    return [ps.stem(word) for word in tokenize_with_nltk(text)]"
   ]
  },
  {
   "cell_type": "code",
   "execution_count": 67,
   "metadata": {},
   "outputs": [],
   "source": [
    "stemming_stoplist = list(set([token for word in nltk_stoplist for token in tokenize_with_stemming(word)]))"
   ]
  },
  {
   "cell_type": "markdown",
   "metadata": {},
   "source": [
    "Questa volta, avendo a disposizione un insieme di valori tra cui scegliere, il *tokenizer* migliore sarà determinato effettuando delle regressioni logistiche di prova, che usano anche la standardizzazione delle feature. Notiamo come l'uso del *POS tagging* aumenta il numero delle feature perchè introduce varianti della stessa parola con però associati diversi tag, dato che una stessa parola può ricoprire più ruoli all'interno del discorso. Il risultato è che l'accuratezza scende, come potevamo aspettarci, anche se non in maniera significativa. La lemmatizzazione invece riesce a ridurre il numero di feature con un aumento dell'accuratezza, ma il metodo migliore si rivela lo *stemming*. Esso infatti riduce più di tutti gli altri il numero delle feature, avendo però l'accuratezza più alta. Useremo perciò quest'ultimo metodo nel prosieguo dell'eliminazione delle feature non rilevanti."
   ]
  },
  {
   "cell_type": "code",
   "execution_count": 68,
   "metadata": {},
   "outputs": [
    {
     "data": {
      "text/html": [
       "<div>\n",
       "<style scoped>\n",
       "    .dataframe tbody tr th:only-of-type {\n",
       "        vertical-align: middle;\n",
       "    }\n",
       "\n",
       "    .dataframe tbody tr th {\n",
       "        vertical-align: top;\n",
       "    }\n",
       "\n",
       "    .dataframe thead th {\n",
       "        text-align: right;\n",
       "    }\n",
       "</style>\n",
       "<table border=\"1\" class=\"dataframe\">\n",
       "  <thead>\n",
       "    <tr style=\"text-align: right;\">\n",
       "      <th></th>\n",
       "      <th>mean_test_score</th>\n",
       "      <th>std_test_score</th>\n",
       "      <th>number_features</th>\n",
       "    </tr>\n",
       "  </thead>\n",
       "  <tbody>\n",
       "    <tr>\n",
       "      <th>nltk</th>\n",
       "      <td>0.733441</td>\n",
       "      <td>0.017348</td>\n",
       "      <td>29885.666667</td>\n",
       "    </tr>\n",
       "    <tr>\n",
       "      <th>pos</th>\n",
       "      <td>0.690338</td>\n",
       "      <td>0.013318</td>\n",
       "      <td>45446.333333</td>\n",
       "    </tr>\n",
       "    <tr>\n",
       "      <th>lemmatization</th>\n",
       "      <td>0.743562</td>\n",
       "      <td>0.032009</td>\n",
       "      <td>25304.666667</td>\n",
       "    </tr>\n",
       "    <tr>\n",
       "      <th>stemming</th>\n",
       "      <td>0.761335</td>\n",
       "      <td>0.032526</td>\n",
       "      <td>22438.000000</td>\n",
       "    </tr>\n",
       "  </tbody>\n",
       "</table>\n",
       "</div>"
      ],
      "text/plain": [
       "               mean_test_score  std_test_score  number_features\n",
       "nltk                  0.733441        0.017348     29885.666667\n",
       "pos                   0.690338        0.013318     45446.333333\n",
       "lemmatization         0.743562        0.032009     25304.666667\n",
       "stemming              0.761335        0.032526     22438.000000"
      ]
     },
     "execution_count": 68,
     "metadata": {},
     "output_type": "execute_result"
    }
   ],
   "source": [
    "results = []\n",
    "values = [(tokenize_with_nltk, stoplist),\n",
    "          (tokenize_with_pos, pos_stoplist),\n",
    "          (tokenize_with_lemmatization, lemmatization_stoplist),\n",
    "          (tokenize_with_stemming, stemming_stoplist)]\n",
    "for i, value in enumerate(values):\n",
    "    model = Pipeline([\n",
    "        (\"vectorizer\", TfidfVectorizer(tokenizer=value[0], stop_words=value[1], strip_accents=\"unicode\")),\n",
    "        (\"scaler\", StandardScaler(with_mean=False)),\n",
    "        (\"classifier\", LogisticRegression(solver=\"saga\", random_state=742, max_iter=10000))\n",
    "    ])\n",
    "    result = cross_validate(model, X_train, y_train, cv=skf, return_estimator=True, n_jobs=-1)\n",
    "    score = result[\"test_score\"]\n",
    "    features = np.mean(list(map(lambda e: len(e.named_steps[\"vectorizer\"].get_feature_names()), result[\"estimator\"])))\n",
    "    results.append((score.mean(), score.std(), features))\n",
    "pd.DataFrame(results, index=[\"nltk\", \"pos\", \"lemmatization\", \"stemming\"], columns=[\"mean_test_score\", \"std_test_score\", \"number_features\"])"
   ]
  },
  {
   "cell_type": "markdown",
   "metadata": {},
   "source": [
    "#### Ricerca della minimum document frequency, degli ngram, dell'indice di importanza dei termini"
   ]
  },
  {
   "cell_type": "markdown",
   "metadata": {},
   "source": [
    "Proviamo poi ad eliminare le parole che compaiono troppo di rado, così da rimuovere quelle feature che non sono veramente tali, ma che probabilmente sono solo uno scarto del processo di *tokenization* o che comunque non sono significative perchè sono presenti poche volte in assoluto. Osserviamo che se scegliessimo come ``min_df`` il valore 5, lo score medio sarebbe il più alto in assoluto con una riduzione delle *feature* di circa un fattore 4, ma con il valore 10 avremmo un calo di solo l'1,7% dello *score* rispetto al caso precedente, ma ridurremmo di un fattore 7 le *feature* utilizzate. Scegliamo perciò quest'ultimo come valore per il parametro."
   ]
  },
  {
   "cell_type": "code",
   "execution_count": 69,
   "metadata": {},
   "outputs": [
    {
     "data": {
      "text/html": [
       "<div>\n",
       "<style scoped>\n",
       "    .dataframe tbody tr th:only-of-type {\n",
       "        vertical-align: middle;\n",
       "    }\n",
       "\n",
       "    .dataframe tbody tr th {\n",
       "        vertical-align: top;\n",
       "    }\n",
       "\n",
       "    .dataframe thead th {\n",
       "        text-align: right;\n",
       "    }\n",
       "</style>\n",
       "<table border=\"1\" class=\"dataframe\">\n",
       "  <thead>\n",
       "    <tr style=\"text-align: right;\">\n",
       "      <th></th>\n",
       "      <th>mean_test_score</th>\n",
       "      <th>std_test_score</th>\n",
       "      <th>number_features</th>\n",
       "    </tr>\n",
       "  </thead>\n",
       "  <tbody>\n",
       "    <tr>\n",
       "      <th>1</th>\n",
       "      <td>0.761335</td>\n",
       "      <td>0.032526</td>\n",
       "      <td>22438.000000</td>\n",
       "    </tr>\n",
       "    <tr>\n",
       "      <th>5</th>\n",
       "      <td>0.824736</td>\n",
       "      <td>0.041275</td>\n",
       "      <td>4915.666667</td>\n",
       "    </tr>\n",
       "    <tr>\n",
       "      <th>10</th>\n",
       "      <td>0.807059</td>\n",
       "      <td>0.025509</td>\n",
       "      <td>2959.333333</td>\n",
       "    </tr>\n",
       "    <tr>\n",
       "      <th>15</th>\n",
       "      <td>0.814635</td>\n",
       "      <td>0.024138</td>\n",
       "      <td>2135.000000</td>\n",
       "    </tr>\n",
       "  </tbody>\n",
       "</table>\n",
       "</div>"
      ],
      "text/plain": [
       "    mean_test_score  std_test_score  number_features\n",
       "1          0.761335        0.032526     22438.000000\n",
       "5          0.824736        0.041275      4915.666667\n",
       "10         0.807059        0.025509      2959.333333\n",
       "15         0.814635        0.024138      2135.000000"
      ]
     },
     "execution_count": 69,
     "metadata": {},
     "output_type": "execute_result"
    }
   ],
   "source": [
    "results = []\n",
    "values = [1, 5, 10, 15]\n",
    "for i, value in enumerate(values):\n",
    "    model = Pipeline([\n",
    "        (\"vectorizer\", TfidfVectorizer(tokenizer=tokenize_with_stemming, stop_words=stemming_stoplist, strip_accents=\"unicode\", min_df=value)),\n",
    "        (\"scaler\", StandardScaler(with_mean=False)),\n",
    "        (\"classifier\", LogisticRegression(solver=\"saga\", random_state=742, max_iter=10000))\n",
    "    ])\n",
    "    result = cross_validate(model, X_train, y_train, cv=skf, return_estimator=True, n_jobs=-1)\n",
    "    score = result[\"test_score\"]\n",
    "    features = np.mean(list(map(lambda e: len(e.named_steps[\"vectorizer\"].get_feature_names()), result[\"estimator\"])))\n",
    "    results.append((score.mean(), score.std(), features))\n",
    "pd.DataFrame(results, index=values, columns=[\"mean_test_score\", \"std_test_score\", \"number_features\"])"
   ]
  },
  {
   "cell_type": "markdown",
   "metadata": {},
   "source": [
    "Cerchiamo poi di capire se l'utilizzo degli \"ngram\" permette di migliorare significativamente l'accuratezza del nostro modello oppure no. Come potevamo aspettarci, l'uso degli \"ngram\" riesce ad aumentare lo *score*, grazie all'aumento delle *feature* nell'operazione di classificazione. Dato che l'aumento è significativo, di circa il 3% se usiamo sia i \"3-gram\" che i \"2-gram\", decidiamo di utilizzarli da ora in poi."
   ]
  },
  {
   "cell_type": "code",
   "execution_count": 70,
   "metadata": {},
   "outputs": [
    {
     "data": {
      "text/html": [
       "<div>\n",
       "<style scoped>\n",
       "    .dataframe tbody tr th:only-of-type {\n",
       "        vertical-align: middle;\n",
       "    }\n",
       "\n",
       "    .dataframe tbody tr th {\n",
       "        vertical-align: top;\n",
       "    }\n",
       "\n",
       "    .dataframe thead th {\n",
       "        text-align: right;\n",
       "    }\n",
       "</style>\n",
       "<table border=\"1\" class=\"dataframe\">\n",
       "  <thead>\n",
       "    <tr style=\"text-align: right;\">\n",
       "      <th></th>\n",
       "      <th>mean_test_score</th>\n",
       "      <th>std_test_score</th>\n",
       "      <th>number_features</th>\n",
       "    </tr>\n",
       "  </thead>\n",
       "  <tbody>\n",
       "    <tr>\n",
       "      <th>3</th>\n",
       "      <td>0.837555</td>\n",
       "      <td>0.021943</td>\n",
       "      <td>4411.666667</td>\n",
       "    </tr>\n",
       "    <tr>\n",
       "      <th>2</th>\n",
       "      <td>0.832485</td>\n",
       "      <td>0.012480</td>\n",
       "      <td>4338.333333</td>\n",
       "    </tr>\n",
       "    <tr>\n",
       "      <th>1</th>\n",
       "      <td>0.807059</td>\n",
       "      <td>0.025509</td>\n",
       "      <td>2959.333333</td>\n",
       "    </tr>\n",
       "  </tbody>\n",
       "</table>\n",
       "</div>"
      ],
      "text/plain": [
       "   mean_test_score  std_test_score  number_features\n",
       "3         0.837555        0.021943      4411.666667\n",
       "2         0.832485        0.012480      4338.333333\n",
       "1         0.807059        0.025509      2959.333333"
      ]
     },
     "execution_count": 70,
     "metadata": {},
     "output_type": "execute_result"
    }
   ],
   "source": [
    "results = []\n",
    "values = [(1, 1), (1, 2), (1, 3)]\n",
    "for i, value in enumerate(values):\n",
    "    model = Pipeline([\n",
    "        (\"vectorizer\", TfidfVectorizer(tokenizer=tokenize_with_stemming, stop_words=stemming_stoplist, strip_accents=\"unicode\", min_df=10, ngram_range=value)),\n",
    "        (\"scaler\", StandardScaler(with_mean=False)),\n",
    "        (\"classifier\", LogisticRegression(solver=\"saga\", random_state=742, max_iter=5000))\n",
    "    ])\n",
    "    result = cross_validate(model, X_train, y_train, cv=skf, return_estimator=True, n_jobs=-1)\n",
    "    score = result[\"test_score\"]\n",
    "    features = np.mean(list(map(lambda e: len(e.named_steps[\"vectorizer\"].get_feature_names()), result[\"estimator\"])))\n",
    "    results.append((score.mean(), score.std(), features))\n",
    "pd.DataFrame(results, index=[1, 2, 3], columns=[\"mean_test_score\", \"std_test_score\", \"number_features\"]) \\\n",
    "  .sort_values(\"mean_test_score\", ascending=False)"
   ]
  },
  {
   "cell_type": "markdown",
   "metadata": {},
   "source": [
    "Infine, cerchiamo di capire quale indice di importanza delle parole, se il semplice conteggio delle stesse o il *tf-idf index*, è il più adatto per l'utilizzo durante la regressione. L'indice *tf-idf* risulta migliore di circa il 2%, perciò continueremo perciò ad utilizzare \"TfidfVectorizer\" per la costruzione della nostra matrice documenti-termini."
   ]
  },
  {
   "cell_type": "code",
   "execution_count": 71,
   "metadata": {},
   "outputs": [
    {
     "data": {
      "text/html": [
       "<div>\n",
       "<style scoped>\n",
       "    .dataframe tbody tr th:only-of-type {\n",
       "        vertical-align: middle;\n",
       "    }\n",
       "\n",
       "    .dataframe tbody tr th {\n",
       "        vertical-align: top;\n",
       "    }\n",
       "\n",
       "    .dataframe thead th {\n",
       "        text-align: right;\n",
       "    }\n",
       "</style>\n",
       "<table border=\"1\" class=\"dataframe\">\n",
       "  <thead>\n",
       "    <tr style=\"text-align: right;\">\n",
       "      <th></th>\n",
       "      <th>mean_test_score</th>\n",
       "      <th>std_test_score</th>\n",
       "    </tr>\n",
       "    <tr>\n",
       "      <th>vectorizer</th>\n",
       "      <th></th>\n",
       "      <th></th>\n",
       "    </tr>\n",
       "  </thead>\n",
       "  <tbody>\n",
       "    <tr>\n",
       "      <th>CountVectorizer</th>\n",
       "      <td>0.817237</td>\n",
       "      <td>0.011122</td>\n",
       "    </tr>\n",
       "    <tr>\n",
       "      <th>TfidfVectorizer</th>\n",
       "      <td>0.837555</td>\n",
       "      <td>0.021943</td>\n",
       "    </tr>\n",
       "  </tbody>\n",
       "</table>\n",
       "</div>"
      ],
      "text/plain": [
       "                 mean_test_score  std_test_score\n",
       "vectorizer                                      \n",
       "CountVectorizer         0.817237        0.011122\n",
       "TfidfVectorizer         0.837555        0.021943"
      ]
     },
     "execution_count": 71,
     "metadata": {},
     "output_type": "execute_result"
    }
   ],
   "source": [
    "model = Pipeline([\n",
    "    (\"vectorizer\", None),\n",
    "    (\"scaler\", StandardScaler(with_mean=False)),\n",
    "    (\"classifier\", LogisticRegression(solver=\"saga\", random_state=742, max_iter=5000))\n",
    "])\n",
    "grid = {\n",
    "    \"vectorizer\": [TfidfVectorizer(tokenizer=tokenize_with_stemming, stop_words=stemming_stoplist, strip_accents=\"unicode\", min_df=10, ngram_range=(1, 3)),\n",
    "                   CountVectorizer(tokenizer=tokenize_with_stemming, stop_words=stemming_stoplist, strip_accents=\"unicode\", min_df=10, ngram_range=(1, 3))]\n",
    "}\n",
    "gs = GridSearchCV(model, grid, cv=skf)\n",
    "gs.fit(X_train, y_train)\n",
    "results = pd.DataFrame(gs.cv_results_)\n",
    "results[\"vectorizer\"] = [\"TfidfVectorizer\", \"CountVectorizer\"]\n",
    "results[[\"vectorizer\", \"mean_test_score\", \"std_test_score\"]].set_index(\"vectorizer\").sort_values(\"mean_test_score\")"
   ]
  },
  {
   "cell_type": "markdown",
   "metadata": {},
   "source": [
    "### Unione di feature testuali e non"
   ]
  },
  {
   "cell_type": "markdown",
   "metadata": {},
   "source": [
    "Ridotte al minimo le feature testuali, si tratta di unirle con quelle non testuali precedentemente estratte per poter eseguire la classificazione. Ci occupiamo allora di ridurre anche il numero di feature non testuali, visto che dall'analisi dei dati molte sono risultate scarsissimamente popolate. Per prima cosa riduciamo il numero dei personaggi tramite l'uso di regolarizzazione \"Lasso\". L'uso di una regolarizzazione \"L1\" più forte rende lo score più alto, ma solo se non è troppo forte. Questo è evidentemente segno del fatto che moltissimi personaggi sono irrilevanti ai fini dell'identificazione della qualità di un episodio. Usiamo perciò il coefficiente che ci dà lo score più alto, anche se questo significa sacrificare molti personaggi."
   ]
  },
  {
   "cell_type": "code",
   "execution_count": 72,
   "metadata": {},
   "outputs": [
    {
     "data": {
      "text/html": [
       "<div>\n",
       "<style scoped>\n",
       "    .dataframe tbody tr th:only-of-type {\n",
       "        vertical-align: middle;\n",
       "    }\n",
       "\n",
       "    .dataframe tbody tr th {\n",
       "        vertical-align: top;\n",
       "    }\n",
       "\n",
       "    .dataframe thead th {\n",
       "        text-align: right;\n",
       "    }\n",
       "</style>\n",
       "<table border=\"1\" class=\"dataframe\">\n",
       "  <thead>\n",
       "    <tr style=\"text-align: right;\">\n",
       "      <th></th>\n",
       "      <th>mean_test_score</th>\n",
       "      <th>std_test_score</th>\n",
       "      <th>number_features</th>\n",
       "    </tr>\n",
       "    <tr>\n",
       "      <th>C</th>\n",
       "      <th></th>\n",
       "      <th></th>\n",
       "      <th></th>\n",
       "    </tr>\n",
       "  </thead>\n",
       "  <tbody>\n",
       "    <tr>\n",
       "      <th>0.10</th>\n",
       "      <td>0.733403</td>\n",
       "      <td>0.031875</td>\n",
       "      <td>134.333333</td>\n",
       "    </tr>\n",
       "    <tr>\n",
       "      <th>5.00</th>\n",
       "      <td>0.720661</td>\n",
       "      <td>0.043197</td>\n",
       "      <td>1907.666667</td>\n",
       "    </tr>\n",
       "    <tr>\n",
       "      <th>7.00</th>\n",
       "      <td>0.718136</td>\n",
       "      <td>0.038728</td>\n",
       "      <td>2140.000000</td>\n",
       "    </tr>\n",
       "    <tr>\n",
       "      <th>10.00</th>\n",
       "      <td>0.718116</td>\n",
       "      <td>0.044412</td>\n",
       "      <td>2453.333333</td>\n",
       "    </tr>\n",
       "    <tr>\n",
       "      <th>1.00</th>\n",
       "      <td>0.707957</td>\n",
       "      <td>0.045905</td>\n",
       "      <td>1070.666667</td>\n",
       "    </tr>\n",
       "    <tr>\n",
       "      <th>0.05</th>\n",
       "      <td>0.652171</td>\n",
       "      <td>0.033029</td>\n",
       "      <td>9.333333</td>\n",
       "    </tr>\n",
       "  </tbody>\n",
       "</table>\n",
       "</div>"
      ],
      "text/plain": [
       "       mean_test_score  std_test_score  number_features\n",
       "C                                                      \n",
       "0.10          0.733403        0.031875       134.333333\n",
       "5.00          0.720661        0.043197      1907.666667\n",
       "7.00          0.718136        0.038728      2140.000000\n",
       "10.00         0.718116        0.044412      2453.333333\n",
       "1.00          0.707957        0.045905      1070.666667\n",
       "0.05          0.652171        0.033029         9.333333"
      ]
     },
     "execution_count": 72,
     "metadata": {},
     "output_type": "execute_result"
    }
   ],
   "source": [
    "characters_train, characters_val, y_train, y_val = train_test_split(characters, episodes[\"label\"], test_size=0.3, random_state=742)\n",
    "results = []\n",
    "values = [1, 5, 7, 10, 0.1, 0.05]\n",
    "for i, C in enumerate(values):\n",
    "    model = Pipeline([\n",
    "        (\"scaler\", StandardScaler(with_mean=False)),\n",
    "        (\"classifier\", LogisticRegression(solver=\"saga\", random_state=742, max_iter=10000, penalty=\"l1\", C=C))\n",
    "    ])\n",
    "    result = cross_validate(model, characters_train, y_train, cv=skf, return_estimator=True, n_jobs=-1)\n",
    "    score = result[\"test_score\"]\n",
    "    features = np.mean(list(map(lambda e: (e.named_steps[\"classifier\"].coef_[0] != 0).sum(), result[\"estimator\"])))\n",
    "    results.append((score.mean(), score.std(), features))\n",
    "pd.DataFrame(results, index=pd.Index(values, name=\"C\"), columns=[\"mean_test_score\", \"std_test_score\", \"number_features\"]) \\\n",
    "  .sort_values(\"mean_test_score\", ascending=False)"
   ]
  },
  {
   "cell_type": "markdown",
   "metadata": {},
   "source": [
    "Osserviamo che tra i personaggi che abbiamo scartato, moltissimi apparivano solo in una puntata e perciò non erano personaggi ricorrenti, ma semplici comparse a cui erano date delle battute e che non danno quindi alcun contributo nel capire di cosa parla un episodio."
   ]
  },
  {
   "cell_type": "code",
   "execution_count": 73,
   "metadata": {},
   "outputs": [
    {
     "data": {
      "text/plain": [
       "0           \"For Dummies\" Author\n",
       "1    \"Just Stamp the Ticket\" Man\n",
       "2                     \"Mario\" #2\n",
       "3                  \"Shorts\" Bart\n",
       "4                 \"Shorts\" Homer\n",
       "5                  \"Shorts\" Lisa\n",
       "6                 \"Shorts\" Marge\n",
       "7                \"Yeeeessss\" Man\n",
       "8                    \"Yesss\" Man\n",
       "9                \"mad\" Writer #1\n",
       "Name: name, dtype: object"
      ]
     },
     "execution_count": 73,
     "metadata": {},
     "output_type": "execute_result"
    }
   ],
   "source": [
    "model = Pipeline([\n",
    "        (\"scaler\", StandardScaler(with_mean=False)),\n",
    "        (\"classifier\", LogisticRegression(solver=\"saga\", random_state=742, max_iter=10000, penalty=\"l1\", C=0.1))\n",
    "    ])\n",
    "model.fit(characters_train, y_train)\n",
    "pd.Series(characters_cols[model.named_steps[\"classifier\"].coef_[0] == 0]).head(10)"
   ]
  },
  {
   "cell_type": "markdown",
   "metadata": {},
   "source": [
    "Procediamo quindi alla rimozione dei personaggi irrilevanti, ovvero tutti quelli che si trovano in corrispondenza di *feature* il cui coefficiente è 0, cioè non danno alcun contributo al risultato della classificazione."
   ]
  },
  {
   "cell_type": "code",
   "execution_count": 74,
   "metadata": {},
   "outputs": [
    {
     "data": {
      "text/plain": [
       "<564x384 sparse matrix of type '<class 'numpy.uint8'>'\n",
       "\twith 4464 stored elements in Compressed Sparse Row format>"
      ]
     },
     "execution_count": 74,
     "metadata": {},
     "output_type": "execute_result"
    }
   ],
   "source": [
    "characters = csr_matrix(pd.DataFrame(characters.toarray(), columns=characters_cols) \\\n",
    "                          .drop(columns=characters_cols[model.named_steps[\"classifier\"].coef_[0] == 0]))\n",
    "characters_cols = characters_cols.drop(characters_cols[model.named_steps[\"classifier\"].coef_[0] == 0])\n",
    "characters"
   ]
  },
  {
   "cell_type": "markdown",
   "metadata": {},
   "source": [
    "Ripetiamo quindi lo stesso procedimento con le *location* per eliminare quelle non particolarmente significative. Anche in questo caso, riusciamo a ridurre significativamente le feature da usare, anche se meno rispetto al caso precedente, usando una regolarizzazione un po' meno intensa. In effetti, le location erano molto sparse su varie feature, ma non così tanto come per i personaggi."
   ]
  },
  {
   "cell_type": "code",
   "execution_count": 75,
   "metadata": {},
   "outputs": [
    {
     "data": {
      "text/html": [
       "<div>\n",
       "<style scoped>\n",
       "    .dataframe tbody tr th:only-of-type {\n",
       "        vertical-align: middle;\n",
       "    }\n",
       "\n",
       "    .dataframe tbody tr th {\n",
       "        vertical-align: top;\n",
       "    }\n",
       "\n",
       "    .dataframe thead th {\n",
       "        text-align: right;\n",
       "    }\n",
       "</style>\n",
       "<table border=\"1\" class=\"dataframe\">\n",
       "  <thead>\n",
       "    <tr style=\"text-align: right;\">\n",
       "      <th></th>\n",
       "      <th>mean_test_score</th>\n",
       "      <th>std_test_score</th>\n",
       "      <th>number_features</th>\n",
       "    </tr>\n",
       "    <tr>\n",
       "      <th>C</th>\n",
       "      <th></th>\n",
       "      <th></th>\n",
       "      <th></th>\n",
       "    </tr>\n",
       "  </thead>\n",
       "  <tbody>\n",
       "    <tr>\n",
       "      <th>0.50</th>\n",
       "      <td>0.654773</td>\n",
       "      <td>0.020793</td>\n",
       "      <td>890.666667</td>\n",
       "    </tr>\n",
       "    <tr>\n",
       "      <th>1.00</th>\n",
       "      <td>0.654715</td>\n",
       "      <td>0.038914</td>\n",
       "      <td>1019.333333</td>\n",
       "    </tr>\n",
       "    <tr>\n",
       "      <th>0.10</th>\n",
       "      <td>0.639660</td>\n",
       "      <td>0.044496</td>\n",
       "      <td>80.000000</td>\n",
       "    </tr>\n",
       "    <tr>\n",
       "      <th>0.25</th>\n",
       "      <td>0.637038</td>\n",
       "      <td>0.007916</td>\n",
       "      <td>728.333333</td>\n",
       "    </tr>\n",
       "    <tr>\n",
       "      <th>3.00</th>\n",
       "      <td>0.636980</td>\n",
       "      <td>0.051243</td>\n",
       "      <td>1376.000000</td>\n",
       "    </tr>\n",
       "    <tr>\n",
       "      <th>5.00</th>\n",
       "      <td>0.609049</td>\n",
       "      <td>0.052857</td>\n",
       "      <td>1581.666667</td>\n",
       "    </tr>\n",
       "  </tbody>\n",
       "</table>\n",
       "</div>"
      ],
      "text/plain": [
       "      mean_test_score  std_test_score  number_features\n",
       "C                                                     \n",
       "0.50         0.654773        0.020793       890.666667\n",
       "1.00         0.654715        0.038914      1019.333333\n",
       "0.10         0.639660        0.044496        80.000000\n",
       "0.25         0.637038        0.007916       728.333333\n",
       "3.00         0.636980        0.051243      1376.000000\n",
       "5.00         0.609049        0.052857      1581.666667"
      ]
     },
     "execution_count": 75,
     "metadata": {},
     "output_type": "execute_result"
    }
   ],
   "source": [
    "locations_train, locations_val, y_train, y_val = train_test_split(locations, episodes[\"label\"], test_size=0.3, random_state=742)\n",
    "results = []\n",
    "values = [1, 3, 5, 0.5, 0.25, 0.1]\n",
    "for i, C in enumerate(values):\n",
    "    model = Pipeline([\n",
    "        (\"scaler\", StandardScaler(with_mean=False)),\n",
    "        (\"classifier\", LogisticRegression(solver=\"saga\", random_state=742, max_iter=50000, penalty=\"l1\", C=C))\n",
    "    ])\n",
    "    result = cross_validate(model, locations_train, y_train, cv=skf, return_estimator=True, n_jobs=-1)\n",
    "    score = result[\"test_score\"]\n",
    "    features = np.mean(list(map(lambda e: (e.named_steps[\"classifier\"].coef_[0] != 0).sum(), result[\"estimator\"])))\n",
    "    results.append((score.mean(), score.std(), features))\n",
    "pd.DataFrame(results, index=pd.Index(values, name=\"C\"), columns=[\"mean_test_score\", \"std_test_score\", \"number_features\"]) \\\n",
    "  .sort_values(\"mean_test_score\", ascending=False)"
   ]
  },
  {
   "cell_type": "markdown",
   "metadata": {},
   "source": [
    "Anche in questo caso le *feature* che vogliamo rimuovere sembrano essere quelle legate a *location* che compaiono solo in una puntata e che perciò non incidono sull'apprezzamento delle varie puntate in generale."
   ]
  },
  {
   "cell_type": "code",
   "execution_count": 76,
   "metadata": {},
   "outputs": [
    {
     "data": {
      "text/plain": [
       "0    \"ALL THE WRONG REASONS\" MOVIE THEATER\n",
       "1              \"BOOKS FOR DUMMIES\" SECTION\n",
       "2                          \"GUT CHECK\" SET\n",
       "3                           \"HEADBUTT\" SET\n",
       "4                  \"INCEPTION\"-STYLE BEACH\n",
       "5                      \"IT NEVER ENDS\" SET\n",
       "6                         \"LAUGH IN\" STAGE\n",
       "7                           \"MAD\" BUILDING\n",
       "8                     \"MOON BOUNCE\" CASTLE\n",
       "9                             \"WALT'S\" CAR\n",
       "Name: name, dtype: object"
      ]
     },
     "execution_count": 76,
     "metadata": {},
     "output_type": "execute_result"
    }
   ],
   "source": [
    "model = Pipeline([\n",
    "    (\"scaler\", StandardScaler(with_mean=False)),\n",
    "    (\"classifier\", LogisticRegression(solver=\"saga\", random_state=742, max_iter=10000, penalty=\"l1\", C=1.0))\n",
    "])\n",
    "model.fit(locations_train, y_train)\n",
    "pd.Series(locations_cols[model.named_steps[\"classifier\"].coef_.sum(axis=0) == 0]).head(10)"
   ]
  },
  {
   "cell_type": "markdown",
   "metadata": {},
   "source": [
    "Procediamo quindi come prima ad eliminare tutte quelle *location* non usate durante la classificazione."
   ]
  },
  {
   "cell_type": "code",
   "execution_count": 77,
   "metadata": {},
   "outputs": [
    {
     "data": {
      "text/plain": [
       "<564x1476 sparse matrix of type '<class 'numpy.uint8'>'\n",
       "\twith 4654 stored elements in Compressed Sparse Row format>"
      ]
     },
     "execution_count": 77,
     "metadata": {},
     "output_type": "execute_result"
    }
   ],
   "source": [
    "locations = csr_matrix(pd.DataFrame(locations.toarray(), columns=locations_cols) \\\n",
    "                         .drop(columns=locations_cols[model.named_steps[\"classifier\"].coef_[0] == 0]))\n",
    "locations_cols = locations_cols.drop(locations_cols[model.named_steps[\"classifier\"].coef_[0] == 0])\n",
    "locations"
   ]
  },
  {
   "cell_type": "markdown",
   "metadata": {},
   "source": [
    "Finita questa procedura di estrazione, possiamo procedere alla fusione dei nostri tre *set* di *feature* e alla costruzione di *training set* e *validation set* finali. Questo implica, per quanto riguarda i copioni, che dopo aver effettuato il loro *split* costruiamo anche la matrice documenti-termini su quelli presenti nel *training set* e poi ci basiamo su questa per costruire quella del validation set."
   ]
  },
  {
   "cell_type": "code",
   "execution_count": 78,
   "metadata": {},
   "outputs": [],
   "source": [
    "words_train, words_val, y_train, y_val, characters_train, characters_val, locations_train, locations_val \\\n",
    "    = train_test_split(episodes[\"spoken_words\"],\n",
    "                       episodes[\"label\"],\n",
    "                       characters,\n",
    "                       locations,\n",
    "                       test_size=0.3,\n",
    "                       random_state=742)\n",
    "vectorizer = TfidfVectorizer(tokenizer=tokenize_with_stemming, stop_words=stemming_stoplist, strip_accents=\"unicode\", min_df=10, ngram_range=(1, 3))\n",
    "dtm_train = vectorizer.fit_transform(words_train)\n",
    "dtm_val = vectorizer.transform(words_val)\n",
    "X_train = hstack([dtm_train, characters_train, locations_train])\n",
    "X_val = hstack([dtm_val, characters_val, locations_val])\n",
    "index = vectorizer.get_feature_names() + characters_cols.to_list() + locations_cols.to_list()"
   ]
  },
  {
   "cell_type": "markdown",
   "metadata": {},
   "source": [
    "Abbiamo perciò a disposizione circa 8.000 feature sulle quali effettuare la nostra classificazione."
   ]
  },
  {
   "cell_type": "code",
   "execution_count": 79,
   "metadata": {},
   "outputs": [
    {
     "data": {
      "text/plain": [
       "8389"
      ]
     },
     "execution_count": 79,
     "metadata": {},
     "output_type": "execute_result"
    }
   ],
   "source": [
    "X_train.shape[1]"
   ]
  },
  {
   "cell_type": "markdown",
   "metadata": {},
   "source": [
    "### Test di modelli di classificazione"
   ]
  },
  {
   "cell_type": "markdown",
   "metadata": {},
   "source": [
    "A questo punto, ottenute tutte le *feature* che abbiamo intenzione di usare, possiamo cercare i modelli che classificano meglio i copioni degli episodi all'interno di ciascuna classe. Per prima cosa definiamo alcune funzioni, come quella per il calcolo dell'intervallo di confidenza, che utilizzeremo per valutare i nostri modelli. In ciascun test faremo inoltre attenzione a bilanciare i pesi delle classi. Infatti, pur non essendoci forti sbilanciamenti tra le due, cerchiamo comunque di favorire quei modelli che riescono ad individuare con maggior accuratezza la classe dalla dimensione più piccola. Nei modelli seguenti non è stato considerato l'uso di *feature* polinomiali perchè avrebbe portato ad un esplosione del loro numero anche con grado basso. Le feature sarebbero diventate infatti circa 30 milioni solamente usando un grado 2."
   ]
  },
  {
   "cell_type": "code",
   "execution_count": 80,
   "metadata": {},
   "outputs": [],
   "source": [
    "def confidence_interval(model, X_val, y_val, confidence_level=0.95):\n",
    "    accuracy = model.score(X_val, y_val)\n",
    "    size = X_val.shape[0]\n",
    "    Z = norm.ppf((1 + confidence_level) / 2)\n",
    "    b = (2 * size * accuracy + Z ** 2) \n",
    "    delta_root = Z * np.sqrt(Z ** 2 + 4 * size * accuracy - 4 * size * accuracy ** 2) \n",
    "    return (b - delta_root) / (2 * (size + Z ** 2)), (b + delta_root) / (2 * (size + Z**2))"
   ]
  },
  {
   "cell_type": "markdown",
   "metadata": {},
   "source": [
    "#### Classificazione tramite Perceptron"
   ]
  },
  {
   "cell_type": "markdown",
   "metadata": {},
   "source": [
    "Iniziamo i nostri test a partire dall'utilizzo di \"Perceptron\" come metodo per l'individuazione dei modelli migliori, il più semplice."
   ]
  },
  {
   "cell_type": "code",
   "execution_count": 81,
   "metadata": {},
   "outputs": [],
   "source": [
    "model_perc = Pipeline([\n",
    "    (\"scaler\", StandardScaler(with_mean=False)),\n",
    "    (\"classifier\", Perceptron(random_state=742, max_iter=10000, n_jobs=-1, class_weight=\"balanced\"))\n",
    "])\n",
    "grid = [{\n",
    "    \"classifier__penalty\": [\"l2\", \"l1\", \"elasticnet\"],\n",
    "    \"classifier__alpha\": np.logspace(-2, 2, 5),\n",
    "    \"classifier__eta0\": [0.1, 0.5, 0.9]\n",
    "}, {\n",
    "    \"classifier__penalty\": [None],\n",
    "    \"classifier__eta0\": [0.1, 0.5, 0.9]\n",
    "}]"
   ]
  },
  {
   "cell_type": "markdown",
   "metadata": {},
   "source": [
    "La sua semplicità si riflette nei risultati che otteniamo: nessun tipo di regolarizzazione riesce a migliorare gli score dei modelli testati, che rimangono sempre uguali nonostante la variazione del parametro ``eta0``. Inoltre, i risultati si aggirano attorno all'83,3%, sono perciò decisamente migliorabili."
   ]
  },
  {
   "cell_type": "code",
   "execution_count": 82,
   "metadata": {},
   "outputs": [
    {
     "data": {
      "text/html": [
       "<div>\n",
       "<style scoped>\n",
       "    .dataframe tbody tr th:only-of-type {\n",
       "        vertical-align: middle;\n",
       "    }\n",
       "\n",
       "    .dataframe tbody tr th {\n",
       "        vertical-align: top;\n",
       "    }\n",
       "\n",
       "    .dataframe thead th {\n",
       "        text-align: right;\n",
       "    }\n",
       "</style>\n",
       "<table border=\"1\" class=\"dataframe\">\n",
       "  <thead>\n",
       "    <tr style=\"text-align: right;\">\n",
       "      <th></th>\n",
       "      <th>param_classifier__penalty</th>\n",
       "      <th>param_classifier__alpha</th>\n",
       "      <th>param_classifier__eta0</th>\n",
       "      <th>mean_test_score</th>\n",
       "      <th>std_test_score</th>\n",
       "    </tr>\n",
       "  </thead>\n",
       "  <tbody>\n",
       "    <tr>\n",
       "      <th>47</th>\n",
       "      <td>None</td>\n",
       "      <td>NaN</td>\n",
       "      <td>0.9</td>\n",
       "      <td>0.832504</td>\n",
       "      <td>0.022330</td>\n",
       "    </tr>\n",
       "    <tr>\n",
       "      <th>46</th>\n",
       "      <td>None</td>\n",
       "      <td>NaN</td>\n",
       "      <td>0.5</td>\n",
       "      <td>0.832504</td>\n",
       "      <td>0.022330</td>\n",
       "    </tr>\n",
       "    <tr>\n",
       "      <th>45</th>\n",
       "      <td>None</td>\n",
       "      <td>NaN</td>\n",
       "      <td>0.1</td>\n",
       "      <td>0.832504</td>\n",
       "      <td>0.022330</td>\n",
       "    </tr>\n",
       "    <tr>\n",
       "      <th>1</th>\n",
       "      <td>l1</td>\n",
       "      <td>0.01</td>\n",
       "      <td>0.1</td>\n",
       "      <td>0.758925</td>\n",
       "      <td>0.012077</td>\n",
       "    </tr>\n",
       "    <tr>\n",
       "      <th>4</th>\n",
       "      <td>l1</td>\n",
       "      <td>0.01</td>\n",
       "      <td>0.5</td>\n",
       "      <td>0.758925</td>\n",
       "      <td>0.012077</td>\n",
       "    </tr>\n",
       "    <tr>\n",
       "      <th>7</th>\n",
       "      <td>l1</td>\n",
       "      <td>0.01</td>\n",
       "      <td>0.9</td>\n",
       "      <td>0.758925</td>\n",
       "      <td>0.012077</td>\n",
       "    </tr>\n",
       "    <tr>\n",
       "      <th>6</th>\n",
       "      <td>l2</td>\n",
       "      <td>0.01</td>\n",
       "      <td>0.9</td>\n",
       "      <td>0.746183</td>\n",
       "      <td>0.053047</td>\n",
       "    </tr>\n",
       "    <tr>\n",
       "      <th>8</th>\n",
       "      <td>elasticnet</td>\n",
       "      <td>0.01</td>\n",
       "      <td>0.9</td>\n",
       "      <td>0.746183</td>\n",
       "      <td>0.053047</td>\n",
       "    </tr>\n",
       "    <tr>\n",
       "      <th>3</th>\n",
       "      <td>l2</td>\n",
       "      <td>0.01</td>\n",
       "      <td>0.5</td>\n",
       "      <td>0.738646</td>\n",
       "      <td>0.028769</td>\n",
       "    </tr>\n",
       "    <tr>\n",
       "      <th>5</th>\n",
       "      <td>elasticnet</td>\n",
       "      <td>0.01</td>\n",
       "      <td>0.5</td>\n",
       "      <td>0.738646</td>\n",
       "      <td>0.028769</td>\n",
       "    </tr>\n",
       "  </tbody>\n",
       "</table>\n",
       "</div>"
      ],
      "text/plain": [
       "   param_classifier__penalty param_classifier__alpha param_classifier__eta0  \\\n",
       "47                      None                     NaN                    0.9   \n",
       "46                      None                     NaN                    0.5   \n",
       "45                      None                     NaN                    0.1   \n",
       "1                         l1                    0.01                    0.1   \n",
       "4                         l1                    0.01                    0.5   \n",
       "7                         l1                    0.01                    0.9   \n",
       "6                         l2                    0.01                    0.9   \n",
       "8                 elasticnet                    0.01                    0.9   \n",
       "3                         l2                    0.01                    0.5   \n",
       "5                 elasticnet                    0.01                    0.5   \n",
       "\n",
       "    mean_test_score  std_test_score  \n",
       "47         0.832504        0.022330  \n",
       "46         0.832504        0.022330  \n",
       "45         0.832504        0.022330  \n",
       "1          0.758925        0.012077  \n",
       "4          0.758925        0.012077  \n",
       "7          0.758925        0.012077  \n",
       "6          0.746183        0.053047  \n",
       "8          0.746183        0.053047  \n",
       "3          0.738646        0.028769  \n",
       "5          0.738646        0.028769  "
      ]
     },
     "execution_count": 82,
     "metadata": {},
     "output_type": "execute_result"
    }
   ],
   "source": [
    "gs_perc = GridSearchCV(model_perc, grid, cv=skf)\n",
    "gs_perc.fit(X_train, y_train)\n",
    "pd.DataFrame(gs_perc.cv_results_)[[\"param_classifier__penalty\", \"param_classifier__alpha\", \"param_classifier__eta0\", \"mean_test_score\", \"std_test_score\"]] \\\n",
    "  .sort_values(\"mean_test_score\", ascending=False) \\\n",
    "  .head(10)"
   ]
  },
  {
   "cell_type": "markdown",
   "metadata": {},
   "source": [
    "Valutando l'intervallo di confidenza basato sul validation set, vediamo che l'accuratezza può oscillare tra il 63,3% e il 76,9%."
   ]
  },
  {
   "cell_type": "code",
   "execution_count": 83,
   "metadata": {},
   "outputs": [
    {
     "data": {
      "text/plain": [
       "(0.6334475950632291, 0.7692181468999717)"
      ]
     },
     "execution_count": 83,
     "metadata": {},
     "output_type": "execute_result"
    }
   ],
   "source": [
    "best_perc = gs_perc.best_estimator_\n",
    "y_pred = best_perc.predict(X_val)\n",
    "confidence_interval(best_perc, X_val, y_val)"
   ]
  },
  {
   "cell_type": "markdown",
   "metadata": {},
   "source": [
    "I valori di *precision* e *recall* ci dicono che il migliore modello individuato tende ad essere più preciso nel distinguere dagli altri gli episodi \"brutti\", rispetto a quanto accade nell'individuare quelli \"belli\", mentre al contrario tende ad essere più capace, messo di fronte agli episodi \"belli\", di capire che sono effettivamente \"belli\", rispetto a quanto capita con quelli \"brutti\"."
   ]
  },
  {
   "cell_type": "code",
   "execution_count": 84,
   "metadata": {},
   "outputs": [
    {
     "data": {
      "text/html": [
       "<div>\n",
       "<style scoped>\n",
       "    .dataframe tbody tr th:only-of-type {\n",
       "        vertical-align: middle;\n",
       "    }\n",
       "\n",
       "    .dataframe tbody tr th {\n",
       "        vertical-align: top;\n",
       "    }\n",
       "\n",
       "    .dataframe thead th {\n",
       "        text-align: right;\n",
       "    }\n",
       "</style>\n",
       "<table border=\"1\" class=\"dataframe\">\n",
       "  <thead>\n",
       "    <tr style=\"text-align: right;\">\n",
       "      <th></th>\n",
       "      <th>bad</th>\n",
       "      <th>good</th>\n",
       "    </tr>\n",
       "  </thead>\n",
       "  <tbody>\n",
       "    <tr>\n",
       "      <th>bad</th>\n",
       "      <td>57</td>\n",
       "      <td>39</td>\n",
       "    </tr>\n",
       "    <tr>\n",
       "      <th>good</th>\n",
       "      <td>11</td>\n",
       "      <td>63</td>\n",
       "    </tr>\n",
       "  </tbody>\n",
       "</table>\n",
       "</div>"
      ],
      "text/plain": [
       "      bad  good\n",
       "bad    57    39\n",
       "good   11    63"
      ]
     },
     "execution_count": 84,
     "metadata": {},
     "output_type": "execute_result"
    }
   ],
   "source": [
    "pd.DataFrame(confusion_matrix(y_val, y_pred), index=best_perc.classes_, columns=best_perc.classes_)"
   ]
  },
  {
   "cell_type": "code",
   "execution_count": 85,
   "metadata": {},
   "outputs": [
    {
     "name": "stdout",
     "output_type": "stream",
     "text": [
      "              precision    recall  f1-score   support\n",
      "\n",
      "         bad       0.84      0.59      0.70        96\n",
      "        good       0.62      0.85      0.72        74\n",
      "\n",
      "    accuracy                           0.71       170\n",
      "   macro avg       0.73      0.72      0.71       170\n",
      "weighted avg       0.74      0.71      0.70       170\n",
      "\n"
     ]
    }
   ],
   "source": [
    "print(classification_report(y_val, y_pred))"
   ]
  },
  {
   "cell_type": "markdown",
   "metadata": {},
   "source": [
    "#### Classificazione tramite regressione logistica"
   ]
  },
  {
   "cell_type": "markdown",
   "metadata": {},
   "source": [
    "Possiamo utilizzare al posto di \"Perceptron\" un metodo come la regressione logistica, in concomitanza con tutti i possibili tipi di regolarizzazione ammissibili, cioè \"Lasso\", \"Ridge\" ed \"Elastic Net\". Definiamo quindi il nostro modello generale."
   ]
  },
  {
   "cell_type": "code",
   "execution_count": 86,
   "metadata": {},
   "outputs": [],
   "source": [
    "model_logreg = Pipeline([\n",
    "    (\"scaler\", StandardScaler(with_mean=False)),\n",
    "    (\"classifier\", LogisticRegression(solver=\"saga\", random_state=742, max_iter=10000, class_weight=\"balanced\"))\n",
    "])"
   ]
  },
  {
   "cell_type": "markdown",
   "metadata": {},
   "source": [
    "Passiamo poi alla ricerca vera e propria. Se consideriamo le singole regolarizzazioni \"Lasso\" e \"Ridge\", il risultato migliore si ha in corrispondenza di una regolarizzazione \"Ridge\" più intensa. L'uso di una regolarizzazione sempre molto intensa, ma in concomitanza con il tipo \"Lasso\", fa crollare a picco lo score. Il primo modello che ha uno score comparabile con quello del migliore, ma fa uso della regolarizzazione \"Lasso\", ha infatti un peso della stessa molto più basso. Evidentemente limitare la dimensione dei coefficienti ha un effetto decisamente più significativo sulle performance di un ipotetico modello rispetto ad eliminare direttamente le feature inutili."
   ]
  },
  {
   "cell_type": "code",
   "execution_count": 87,
   "metadata": {},
   "outputs": [
    {
     "data": {
      "text/html": [
       "<div>\n",
       "<style scoped>\n",
       "    .dataframe tbody tr th:only-of-type {\n",
       "        vertical-align: middle;\n",
       "    }\n",
       "\n",
       "    .dataframe tbody tr th {\n",
       "        vertical-align: top;\n",
       "    }\n",
       "\n",
       "    .dataframe thead th {\n",
       "        text-align: right;\n",
       "    }\n",
       "</style>\n",
       "<table border=\"1\" class=\"dataframe\">\n",
       "  <thead>\n",
       "    <tr style=\"text-align: right;\">\n",
       "      <th></th>\n",
       "      <th>param_classifier__penalty</th>\n",
       "      <th>param_classifier__C</th>\n",
       "      <th>mean_test_score</th>\n",
       "      <th>std_test_score</th>\n",
       "    </tr>\n",
       "  </thead>\n",
       "  <tbody>\n",
       "    <tr>\n",
       "      <th>1</th>\n",
       "      <td>l2</td>\n",
       "      <td>0.01</td>\n",
       "      <td>0.880716</td>\n",
       "      <td>0.015642</td>\n",
       "    </tr>\n",
       "    <tr>\n",
       "      <th>3</th>\n",
       "      <td>l2</td>\n",
       "      <td>0.1</td>\n",
       "      <td>0.880716</td>\n",
       "      <td>0.015642</td>\n",
       "    </tr>\n",
       "    <tr>\n",
       "      <th>8</th>\n",
       "      <td>l1</td>\n",
       "      <td>100</td>\n",
       "      <td>0.880716</td>\n",
       "      <td>0.009448</td>\n",
       "    </tr>\n",
       "    <tr>\n",
       "      <th>5</th>\n",
       "      <td>l2</td>\n",
       "      <td>1</td>\n",
       "      <td>0.878171</td>\n",
       "      <td>0.012473</td>\n",
       "    </tr>\n",
       "    <tr>\n",
       "      <th>7</th>\n",
       "      <td>l2</td>\n",
       "      <td>10</td>\n",
       "      <td>0.878171</td>\n",
       "      <td>0.012473</td>\n",
       "    </tr>\n",
       "    <tr>\n",
       "      <th>9</th>\n",
       "      <td>l2</td>\n",
       "      <td>100</td>\n",
       "      <td>0.878171</td>\n",
       "      <td>0.012473</td>\n",
       "    </tr>\n",
       "    <tr>\n",
       "      <th>6</th>\n",
       "      <td>l1</td>\n",
       "      <td>10</td>\n",
       "      <td>0.875607</td>\n",
       "      <td>0.014603</td>\n",
       "    </tr>\n",
       "    <tr>\n",
       "      <th>4</th>\n",
       "      <td>l1</td>\n",
       "      <td>1</td>\n",
       "      <td>0.842625</td>\n",
       "      <td>0.007485</td>\n",
       "    </tr>\n",
       "    <tr>\n",
       "      <th>2</th>\n",
       "      <td>l1</td>\n",
       "      <td>0.1</td>\n",
       "      <td>0.784255</td>\n",
       "      <td>0.004035</td>\n",
       "    </tr>\n",
       "    <tr>\n",
       "      <th>0</th>\n",
       "      <td>l1</td>\n",
       "      <td>0.01</td>\n",
       "      <td>0.525657</td>\n",
       "      <td>0.077068</td>\n",
       "    </tr>\n",
       "  </tbody>\n",
       "</table>\n",
       "</div>"
      ],
      "text/plain": [
       "  param_classifier__penalty param_classifier__C  mean_test_score  \\\n",
       "1                        l2                0.01         0.880716   \n",
       "3                        l2                 0.1         0.880716   \n",
       "8                        l1                 100         0.880716   \n",
       "5                        l2                   1         0.878171   \n",
       "7                        l2                  10         0.878171   \n",
       "9                        l2                 100         0.878171   \n",
       "6                        l1                  10         0.875607   \n",
       "4                        l1                   1         0.842625   \n",
       "2                        l1                 0.1         0.784255   \n",
       "0                        l1                0.01         0.525657   \n",
       "\n",
       "   std_test_score  \n",
       "1        0.015642  \n",
       "3        0.015642  \n",
       "8        0.009448  \n",
       "5        0.012473  \n",
       "7        0.012473  \n",
       "9        0.012473  \n",
       "6        0.014603  \n",
       "4        0.007485  \n",
       "2        0.004035  \n",
       "0        0.077068  "
      ]
     },
     "execution_count": 87,
     "metadata": {},
     "output_type": "execute_result"
    }
   ],
   "source": [
    "grid_l1_l2 = {\n",
    "    \"classifier__penalty\": [\"l1\", \"l2\"],\n",
    "    \"classifier__C\": np.logspace(-2, 2, 5)\n",
    "}\n",
    "gs_l1_l2 = GridSearchCV(model_logreg, grid_l1_l2, cv=skf)\n",
    "gs_l1_l2.fit(X_train, y_train)\n",
    "pd.DataFrame(gs_l1_l2.cv_results_)[[\"param_classifier__penalty\", \"param_classifier__C\", \"mean_test_score\", \"std_test_score\"]] \\\n",
    "  .sort_values(\"mean_test_score\", ascending=False)"
   ]
  },
  {
   "cell_type": "markdown",
   "metadata": {},
   "source": [
    "L'uso della regolarizzazione \"Elastic Net\" riconferma il risultato già trovato in precedenza, ovverosia che i modelli migliori si hanno quando il peso della regolarizzazione è quasi esclusivamente concentrato sul tipo \"Ridge\" anzichè sul tipo \"Lasso\", quindi quelli che presentano un valore di ``l1_ratio`` basso. In questo caso però, il miglior modello estratto si ha in concomitanza con un parametro di regolarizzazione relativamente basso. In ogni caso, il modello con lo *score* migliore lo ha identico ai migliori modelli osservati precedentemente."
   ]
  },
  {
   "cell_type": "code",
   "execution_count": 88,
   "metadata": {},
   "outputs": [
    {
     "data": {
      "text/html": [
       "<div>\n",
       "<style scoped>\n",
       "    .dataframe tbody tr th:only-of-type {\n",
       "        vertical-align: middle;\n",
       "    }\n",
       "\n",
       "    .dataframe tbody tr th {\n",
       "        vertical-align: top;\n",
       "    }\n",
       "\n",
       "    .dataframe thead th {\n",
       "        text-align: right;\n",
       "    }\n",
       "</style>\n",
       "<table border=\"1\" class=\"dataframe\">\n",
       "  <thead>\n",
       "    <tr style=\"text-align: right;\">\n",
       "      <th></th>\n",
       "      <th>param_classifier__C</th>\n",
       "      <th>param_classifier__l1_ratio</th>\n",
       "      <th>mean_test_score</th>\n",
       "      <th>std_test_score</th>\n",
       "    </tr>\n",
       "  </thead>\n",
       "  <tbody>\n",
       "    <tr>\n",
       "      <th>8</th>\n",
       "      <td>10</td>\n",
       "      <td>0.1</td>\n",
       "      <td>0.880716</td>\n",
       "      <td>0.009448</td>\n",
       "    </tr>\n",
       "    <tr>\n",
       "      <th>7</th>\n",
       "      <td>10</td>\n",
       "      <td>0.5</td>\n",
       "      <td>0.875646</td>\n",
       "      <td>0.006977</td>\n",
       "    </tr>\n",
       "    <tr>\n",
       "      <th>5</th>\n",
       "      <td>1</td>\n",
       "      <td>0.1</td>\n",
       "      <td>0.870576</td>\n",
       "      <td>0.005813</td>\n",
       "    </tr>\n",
       "    <tr>\n",
       "      <th>2</th>\n",
       "      <td>0.1</td>\n",
       "      <td>0.1</td>\n",
       "      <td>0.868031</td>\n",
       "      <td>0.003108</td>\n",
       "    </tr>\n",
       "    <tr>\n",
       "      <th>6</th>\n",
       "      <td>10</td>\n",
       "      <td>0.9</td>\n",
       "      <td>0.868031</td>\n",
       "      <td>0.012847</td>\n",
       "    </tr>\n",
       "    <tr>\n",
       "      <th>4</th>\n",
       "      <td>1</td>\n",
       "      <td>0.5</td>\n",
       "      <td>0.860359</td>\n",
       "      <td>0.013398</td>\n",
       "    </tr>\n",
       "    <tr>\n",
       "      <th>3</th>\n",
       "      <td>1</td>\n",
       "      <td>0.9</td>\n",
       "      <td>0.847695</td>\n",
       "      <td>0.006686</td>\n",
       "    </tr>\n",
       "    <tr>\n",
       "      <th>1</th>\n",
       "      <td>0.1</td>\n",
       "      <td>0.5</td>\n",
       "      <td>0.822288</td>\n",
       "      <td>0.013531</td>\n",
       "    </tr>\n",
       "    <tr>\n",
       "      <th>0</th>\n",
       "      <td>0.1</td>\n",
       "      <td>0.9</td>\n",
       "      <td>0.789344</td>\n",
       "      <td>0.003284</td>\n",
       "    </tr>\n",
       "  </tbody>\n",
       "</table>\n",
       "</div>"
      ],
      "text/plain": [
       "  param_classifier__C param_classifier__l1_ratio  mean_test_score  \\\n",
       "8                  10                        0.1         0.880716   \n",
       "7                  10                        0.5         0.875646   \n",
       "5                   1                        0.1         0.870576   \n",
       "2                 0.1                        0.1         0.868031   \n",
       "6                  10                        0.9         0.868031   \n",
       "4                   1                        0.5         0.860359   \n",
       "3                   1                        0.9         0.847695   \n",
       "1                 0.1                        0.5         0.822288   \n",
       "0                 0.1                        0.9         0.789344   \n",
       "\n",
       "   std_test_score  \n",
       "8        0.009448  \n",
       "7        0.006977  \n",
       "5        0.005813  \n",
       "2        0.003108  \n",
       "6        0.012847  \n",
       "4        0.013398  \n",
       "3        0.006686  \n",
       "1        0.013531  \n",
       "0        0.003284  "
      ]
     },
     "execution_count": 88,
     "metadata": {},
     "output_type": "execute_result"
    }
   ],
   "source": [
    "grid_elasticnet = {\n",
    "    \"classifier__penalty\": [\"elasticnet\"],\n",
    "    \"classifier__C\": np.logspace(-1, 1, 3),\n",
    "    \"classifier__l1_ratio\": [0.9, 0.5, 0.1]\n",
    "}\n",
    "gs_elasticnet = GridSearchCV(model_logreg, grid_elasticnet, cv=skf)\n",
    "gs_elasticnet.fit(X_train, y_train)\n",
    "pd.DataFrame(gs_elasticnet.cv_results_)[[\"param_classifier__C\", \"param_classifier__l1_ratio\", \"mean_test_score\", \"std_test_score\"]] \\\n",
    "  .sort_values(\"mean_test_score\", ascending=False) \\\n",
    "  .head(10)"
   ]
  },
  {
   "cell_type": "markdown",
   "metadata": {},
   "source": [
    "Non usare nessuna regolarizzazione non porta ad un risultato interessante, perchè il modello ha sì uno score alto, ma è comunque più basso di quelli che utilizzano la regolarizzazione. Perciò, non prenderemo in considerazione quest'ultimo caso."
   ]
  },
  {
   "cell_type": "code",
   "execution_count": 89,
   "metadata": {},
   "outputs": [
    {
     "data": {
      "text/html": [
       "<div>\n",
       "<style scoped>\n",
       "    .dataframe tbody tr th:only-of-type {\n",
       "        vertical-align: middle;\n",
       "    }\n",
       "\n",
       "    .dataframe tbody tr th {\n",
       "        vertical-align: top;\n",
       "    }\n",
       "\n",
       "    .dataframe thead th {\n",
       "        text-align: right;\n",
       "    }\n",
       "</style>\n",
       "<table border=\"1\" class=\"dataframe\">\n",
       "  <thead>\n",
       "    <tr style=\"text-align: right;\">\n",
       "      <th></th>\n",
       "      <th>mean_test_score</th>\n",
       "      <th>std_test_score</th>\n",
       "    </tr>\n",
       "  </thead>\n",
       "  <tbody>\n",
       "    <tr>\n",
       "      <th>0</th>\n",
       "      <td>0.878171</td>\n",
       "      <td>0.012473</td>\n",
       "    </tr>\n",
       "  </tbody>\n",
       "</table>\n",
       "</div>"
      ],
      "text/plain": [
       "   mean_test_score  std_test_score\n",
       "0         0.878171        0.012473"
      ]
     },
     "execution_count": 89,
     "metadata": {},
     "output_type": "execute_result"
    }
   ],
   "source": [
    "grid_none = {\n",
    "    \"classifier__penalty\": [\"none\"]\n",
    "}\n",
    "gs_none = GridSearchCV(model_logreg, grid_none, cv=skf)\n",
    "gs_none.fit(X_train, y_train)\n",
    "pd.DataFrame(gs_none.cv_results_)[[\"mean_test_score\", \"std_test_score\"]]"
   ]
  },
  {
   "cell_type": "markdown",
   "metadata": {},
   "source": [
    "Osservando l'intervallo di confidenza, vediamo che il valore reale dell'accuratezza del modello migliore, cioè quello che usa la sola regolarizzazione \"L2\", oscilla tra il 77,2% e l'88,4%."
   ]
  },
  {
   "cell_type": "code",
   "execution_count": 90,
   "metadata": {},
   "outputs": [
    {
     "data": {
      "text/plain": [
       "(0.7722520572638996, 0.8835178653618844)"
      ]
     },
     "execution_count": 90,
     "metadata": {},
     "output_type": "execute_result"
    }
   ],
   "source": [
    "best_logreg = gs_l1_l2.best_estimator_\n",
    "y_pred = best_logreg.predict(X_val)\n",
    "confidence_interval(best_logreg, X_val, y_val)"
   ]
  },
  {
   "cell_type": "markdown",
   "metadata": {},
   "source": [
    "Dai valori di *precision* e *recall* riusciamo a capire che il migliore modello individuato tramite regressione logstica è superiore a quello individuato tramite \"Perceptron\" per quanto riguarda quasi tutte le metriche. Peggiora, anche se di poco, la *precision* degli episodi \"brutti\", ma questo viene compensato da un valore di *recall* della classe \"bad\" molto più alto. Discorso simile vale per la classe \"good\" dove la *precision* è salita di più del 20% mentre la *recall* è scesa del 9%. Questo miglioramento complessivo si riflette sull'*f1-score* di entrambe le classi, che fa salire decisamente l'accuratezza."
   ]
  },
  {
   "cell_type": "code",
   "execution_count": 91,
   "metadata": {},
   "outputs": [
    {
     "data": {
      "text/html": [
       "<div>\n",
       "<style scoped>\n",
       "    .dataframe tbody tr th:only-of-type {\n",
       "        vertical-align: middle;\n",
       "    }\n",
       "\n",
       "    .dataframe tbody tr th {\n",
       "        vertical-align: top;\n",
       "    }\n",
       "\n",
       "    .dataframe thead th {\n",
       "        text-align: right;\n",
       "    }\n",
       "</style>\n",
       "<table border=\"1\" class=\"dataframe\">\n",
       "  <thead>\n",
       "    <tr style=\"text-align: right;\">\n",
       "      <th></th>\n",
       "      <th>bad</th>\n",
       "      <th>good</th>\n",
       "    </tr>\n",
       "  </thead>\n",
       "  <tbody>\n",
       "    <tr>\n",
       "      <th>bad</th>\n",
       "      <td>86</td>\n",
       "      <td>10</td>\n",
       "    </tr>\n",
       "    <tr>\n",
       "      <th>good</th>\n",
       "      <td>18</td>\n",
       "      <td>56</td>\n",
       "    </tr>\n",
       "  </tbody>\n",
       "</table>\n",
       "</div>"
      ],
      "text/plain": [
       "      bad  good\n",
       "bad    86    10\n",
       "good   18    56"
      ]
     },
     "execution_count": 91,
     "metadata": {},
     "output_type": "execute_result"
    }
   ],
   "source": [
    "pd.DataFrame(confusion_matrix(y_val, y_pred), index=best_logreg.classes_, columns=best_logreg.classes_)"
   ]
  },
  {
   "cell_type": "code",
   "execution_count": 92,
   "metadata": {},
   "outputs": [
    {
     "name": "stdout",
     "output_type": "stream",
     "text": [
      "              precision    recall  f1-score   support\n",
      "\n",
      "         bad       0.83      0.90      0.86        96\n",
      "        good       0.85      0.76      0.80        74\n",
      "\n",
      "    accuracy                           0.84       170\n",
      "   macro avg       0.84      0.83      0.83       170\n",
      "weighted avg       0.84      0.84      0.83       170\n",
      "\n"
     ]
    }
   ],
   "source": [
    "print(classification_report(y_val, y_pred))"
   ]
  },
  {
   "cell_type": "markdown",
   "metadata": {},
   "source": [
    "#### Classificazione mediante Support Vector Machines"
   ]
  },
  {
   "cell_type": "markdown",
   "metadata": {},
   "source": [
    "Utilizziamo le Support Vector Machines per poter sfruttare un metodo che usa il *kernel trick* per effettuare la classificazione, utilizzando così molte più *feature* di quelle presenti nel *dataset*, senza però la loro effettiva generazione. Notiamo che l'uso di un kernel di tipo sigmoidale è la scelta migliore, in combinazione con il parametro della regolarizzazione \"Ridge\" pari a 1. Lo score del miglior modello è addirittura superiore allo score del miglior modello ottenuto tramite regressione logistica."
   ]
  },
  {
   "cell_type": "code",
   "execution_count": 93,
   "metadata": {},
   "outputs": [
    {
     "data": {
      "text/html": [
       "<div>\n",
       "<style scoped>\n",
       "    .dataframe tbody tr th:only-of-type {\n",
       "        vertical-align: middle;\n",
       "    }\n",
       "\n",
       "    .dataframe tbody tr th {\n",
       "        vertical-align: top;\n",
       "    }\n",
       "\n",
       "    .dataframe thead th {\n",
       "        text-align: right;\n",
       "    }\n",
       "</style>\n",
       "<table border=\"1\" class=\"dataframe\">\n",
       "  <thead>\n",
       "    <tr style=\"text-align: right;\">\n",
       "      <th></th>\n",
       "      <th>param_classifier__kernel</th>\n",
       "      <th>param_classifier__C</th>\n",
       "      <th>param_classifier__degree</th>\n",
       "      <th>mean_test_score</th>\n",
       "      <th>std_test_score</th>\n",
       "    </tr>\n",
       "  </thead>\n",
       "  <tbody>\n",
       "    <tr>\n",
       "      <th>7</th>\n",
       "      <td>sigmoid</td>\n",
       "      <td>1</td>\n",
       "      <td>NaN</td>\n",
       "      <td>0.888388</td>\n",
       "      <td>0.021487</td>\n",
       "    </tr>\n",
       "    <tr>\n",
       "      <th>10</th>\n",
       "      <td>sigmoid</td>\n",
       "      <td>10</td>\n",
       "      <td>NaN</td>\n",
       "      <td>0.885805</td>\n",
       "      <td>0.010584</td>\n",
       "    </tr>\n",
       "    <tr>\n",
       "      <th>13</th>\n",
       "      <td>sigmoid</td>\n",
       "      <td>100</td>\n",
       "      <td>NaN</td>\n",
       "      <td>0.885805</td>\n",
       "      <td>0.010584</td>\n",
       "    </tr>\n",
       "    <tr>\n",
       "      <th>2</th>\n",
       "      <td>linear</td>\n",
       "      <td>0.01</td>\n",
       "      <td>NaN</td>\n",
       "      <td>0.875665</td>\n",
       "      <td>0.017752</td>\n",
       "    </tr>\n",
       "    <tr>\n",
       "      <th>5</th>\n",
       "      <td>linear</td>\n",
       "      <td>0.1</td>\n",
       "      <td>NaN</td>\n",
       "      <td>0.875665</td>\n",
       "      <td>0.017752</td>\n",
       "    </tr>\n",
       "    <tr>\n",
       "      <th>8</th>\n",
       "      <td>linear</td>\n",
       "      <td>1</td>\n",
       "      <td>NaN</td>\n",
       "      <td>0.875665</td>\n",
       "      <td>0.017752</td>\n",
       "    </tr>\n",
       "    <tr>\n",
       "      <th>11</th>\n",
       "      <td>linear</td>\n",
       "      <td>10</td>\n",
       "      <td>NaN</td>\n",
       "      <td>0.875665</td>\n",
       "      <td>0.017752</td>\n",
       "    </tr>\n",
       "    <tr>\n",
       "      <th>14</th>\n",
       "      <td>linear</td>\n",
       "      <td>100</td>\n",
       "      <td>NaN</td>\n",
       "      <td>0.875665</td>\n",
       "      <td>0.017752</td>\n",
       "    </tr>\n",
       "    <tr>\n",
       "      <th>6</th>\n",
       "      <td>rbf</td>\n",
       "      <td>1</td>\n",
       "      <td>NaN</td>\n",
       "      <td>0.781826</td>\n",
       "      <td>0.041802</td>\n",
       "    </tr>\n",
       "    <tr>\n",
       "      <th>12</th>\n",
       "      <td>rbf</td>\n",
       "      <td>100</td>\n",
       "      <td>NaN</td>\n",
       "      <td>0.766597</td>\n",
       "      <td>0.041766</td>\n",
       "    </tr>\n",
       "  </tbody>\n",
       "</table>\n",
       "</div>"
      ],
      "text/plain": [
       "   param_classifier__kernel param_classifier__C param_classifier__degree  \\\n",
       "7                   sigmoid                   1                      NaN   \n",
       "10                  sigmoid                  10                      NaN   \n",
       "13                  sigmoid                 100                      NaN   \n",
       "2                    linear                0.01                      NaN   \n",
       "5                    linear                 0.1                      NaN   \n",
       "8                    linear                   1                      NaN   \n",
       "11                   linear                  10                      NaN   \n",
       "14                   linear                 100                      NaN   \n",
       "6                       rbf                   1                      NaN   \n",
       "12                      rbf                 100                      NaN   \n",
       "\n",
       "    mean_test_score  std_test_score  \n",
       "7          0.888388        0.021487  \n",
       "10         0.885805        0.010584  \n",
       "13         0.885805        0.010584  \n",
       "2          0.875665        0.017752  \n",
       "5          0.875665        0.017752  \n",
       "8          0.875665        0.017752  \n",
       "11         0.875665        0.017752  \n",
       "14         0.875665        0.017752  \n",
       "6          0.781826        0.041802  \n",
       "12         0.766597        0.041766  "
      ]
     },
     "execution_count": 93,
     "metadata": {},
     "output_type": "execute_result"
    }
   ],
   "source": [
    "model_svm = Pipeline([\n",
    "    (\"scaler\", StandardScaler(with_mean=False)),\n",
    "    (\"classifier\", SVC(random_state=742, class_weight=\"balanced\"))\n",
    "])\n",
    "grid_svm = [{\n",
    "    \"classifier__kernel\": [\"rbf\", \"sigmoid\", \"linear\"],\n",
    "    \"classifier__C\": np.logspace(-2, 2, 5)\n",
    "}, {\n",
    "    \"classifier__kernel\": [\"poly\"],\n",
    "    \"classifier__degree\": [2, 3],\n",
    "    \"classifier__C\": np.logspace(-2, 2, 5)\n",
    "}]\n",
    "gs_svm = GridSearchCV(model_svm, grid_svm, cv=skf)\n",
    "gs_svm.fit(X_train, y_train)\n",
    "pd.DataFrame(gs_svm.cv_results_)[[\"param_classifier__kernel\", \"param_classifier__C\", \"param_classifier__degree\", \"mean_test_score\", \"std_test_score\"]] \\\n",
    "  .sort_values(\"mean_test_score\", ascending=False) \\\n",
    "  .head(10)"
   ]
  },
  {
   "cell_type": "markdown",
   "metadata": {},
   "source": [
    "Infatti, l'intervallo di confidenza è molto simile a quello del miglior modello ottenuto tramite regressione logistica, è infatti compreso tra il 78,5% e l'89,3%."
   ]
  },
  {
   "cell_type": "code",
   "execution_count": 94,
   "metadata": {},
   "outputs": [
    {
     "data": {
      "text/plain": [
       "(0.785338347557347, 0.8934410460377628)"
      ]
     },
     "execution_count": 94,
     "metadata": {},
     "output_type": "execute_result"
    }
   ],
   "source": [
    "best_svm = gs_svm.best_estimator_\n",
    "y_pred = best_svm.predict(X_val)\n",
    "confidence_interval(best_svm, X_val, y_val)"
   ]
  },
  {
   "cell_type": "markdown",
   "metadata": {},
   "source": [
    "Si osserva che l'accuratezza più alta rispetto al miglior modello ottenuto tramite regressione logistica è dovuta ad una maggiore *precision* nell'individuare gli episodi \"brutti\" e ad una maggiore *recall* della classe \"good\", non compensata da una minor *precision* nell'individuare gli episodi \"belli\" e da una minor *recall* della classe \"bad\". Da questo deriva che entrambi gli *f1-score* sono più alti."
   ]
  },
  {
   "cell_type": "code",
   "execution_count": 95,
   "metadata": {},
   "outputs": [
    {
     "data": {
      "text/html": [
       "<div>\n",
       "<style scoped>\n",
       "    .dataframe tbody tr th:only-of-type {\n",
       "        vertical-align: middle;\n",
       "    }\n",
       "\n",
       "    .dataframe tbody tr th {\n",
       "        vertical-align: top;\n",
       "    }\n",
       "\n",
       "    .dataframe thead th {\n",
       "        text-align: right;\n",
       "    }\n",
       "</style>\n",
       "<table border=\"1\" class=\"dataframe\">\n",
       "  <thead>\n",
       "    <tr style=\"text-align: right;\">\n",
       "      <th></th>\n",
       "      <th>bad</th>\n",
       "      <th>good</th>\n",
       "    </tr>\n",
       "  </thead>\n",
       "  <tbody>\n",
       "    <tr>\n",
       "      <th>bad</th>\n",
       "      <td>80</td>\n",
       "      <td>16</td>\n",
       "    </tr>\n",
       "    <tr>\n",
       "      <th>good</th>\n",
       "      <td>10</td>\n",
       "      <td>64</td>\n",
       "    </tr>\n",
       "  </tbody>\n",
       "</table>\n",
       "</div>"
      ],
      "text/plain": [
       "      bad  good\n",
       "bad    80    16\n",
       "good   10    64"
      ]
     },
     "execution_count": 95,
     "metadata": {},
     "output_type": "execute_result"
    }
   ],
   "source": [
    "pd.DataFrame(confusion_matrix(y_val, y_pred), index=best_svm.classes_, columns=best_svm.classes_)"
   ]
  },
  {
   "cell_type": "code",
   "execution_count": 96,
   "metadata": {},
   "outputs": [
    {
     "name": "stdout",
     "output_type": "stream",
     "text": [
      "              precision    recall  f1-score   support\n",
      "\n",
      "         bad       0.89      0.83      0.86        96\n",
      "        good       0.80      0.86      0.83        74\n",
      "\n",
      "    accuracy                           0.85       170\n",
      "   macro avg       0.84      0.85      0.85       170\n",
      "weighted avg       0.85      0.85      0.85       170\n",
      "\n"
     ]
    }
   ],
   "source": [
    "print(classification_report(y_val, y_pred))"
   ]
  },
  {
   "cell_type": "markdown",
   "metadata": {},
   "source": [
    "#### Classificazione tramite XGBoost"
   ]
  },
  {
   "cell_type": "markdown",
   "metadata": {},
   "source": [
    "Proviamo ad utilizzare anche \"XGBoost\" per vedere se è capace di darci risultati più interessanti. Per prima cosa lo testiamo senza applicare alcuna regolarizzazione per vedere quali iperparametri propri del classificatore sembrano essere migliori. In un secondo momento vedremo se invece, applicando una regolarizzazione, il risultato è migliorato oppure no. I primi risultati non sono incoraggianti, lo score medio del modello migliore è infatti addirittura inferiore a quello del modello ottenuto con \"Perceptron\". In particolare, il valore massimo dello score si ha in corrispondenza di un learning rate relativamente piccolo e di una profondità degli alberi non necessariamente alta."
   ]
  },
  {
   "cell_type": "code",
   "execution_count": 97,
   "metadata": {},
   "outputs": [
    {
     "data": {
      "text/html": [
       "<div>\n",
       "<style scoped>\n",
       "    .dataframe tbody tr th:only-of-type {\n",
       "        vertical-align: middle;\n",
       "    }\n",
       "\n",
       "    .dataframe tbody tr th {\n",
       "        vertical-align: top;\n",
       "    }\n",
       "\n",
       "    .dataframe thead th {\n",
       "        text-align: right;\n",
       "    }\n",
       "</style>\n",
       "<table border=\"1\" class=\"dataframe\">\n",
       "  <thead>\n",
       "    <tr style=\"text-align: right;\">\n",
       "      <th></th>\n",
       "      <th>param_classifier__learning_rate</th>\n",
       "      <th>param_classifier__max_depth</th>\n",
       "      <th>mean_test_score</th>\n",
       "      <th>std_test_score</th>\n",
       "    </tr>\n",
       "  </thead>\n",
       "  <tbody>\n",
       "    <tr>\n",
       "      <th>3</th>\n",
       "      <td>0.1</td>\n",
       "      <td>5</td>\n",
       "      <td>0.771416</td>\n",
       "      <td>0.043782</td>\n",
       "    </tr>\n",
       "    <tr>\n",
       "      <th>4</th>\n",
       "      <td>0.1</td>\n",
       "      <td>10</td>\n",
       "      <td>0.758771</td>\n",
       "      <td>0.032663</td>\n",
       "    </tr>\n",
       "    <tr>\n",
       "      <th>5</th>\n",
       "      <td>0.1</td>\n",
       "      <td>15</td>\n",
       "      <td>0.758771</td>\n",
       "      <td>0.032663</td>\n",
       "    </tr>\n",
       "    <tr>\n",
       "      <th>6</th>\n",
       "      <td>1</td>\n",
       "      <td>5</td>\n",
       "      <td>0.746087</td>\n",
       "      <td>0.029551</td>\n",
       "    </tr>\n",
       "    <tr>\n",
       "      <th>0</th>\n",
       "      <td>0.01</td>\n",
       "      <td>5</td>\n",
       "      <td>0.735967</td>\n",
       "      <td>0.020871</td>\n",
       "    </tr>\n",
       "    <tr>\n",
       "      <th>7</th>\n",
       "      <td>1</td>\n",
       "      <td>10</td>\n",
       "      <td>0.733499</td>\n",
       "      <td>0.012502</td>\n",
       "    </tr>\n",
       "    <tr>\n",
       "      <th>8</th>\n",
       "      <td>1</td>\n",
       "      <td>15</td>\n",
       "      <td>0.733499</td>\n",
       "      <td>0.012502</td>\n",
       "    </tr>\n",
       "    <tr>\n",
       "      <th>1</th>\n",
       "      <td>0.01</td>\n",
       "      <td>10</td>\n",
       "      <td>0.730877</td>\n",
       "      <td>0.024435</td>\n",
       "    </tr>\n",
       "    <tr>\n",
       "      <th>2</th>\n",
       "      <td>0.01</td>\n",
       "      <td>15</td>\n",
       "      <td>0.730877</td>\n",
       "      <td>0.024435</td>\n",
       "    </tr>\n",
       "    <tr>\n",
       "      <th>9</th>\n",
       "      <td>10</td>\n",
       "      <td>5</td>\n",
       "      <td>0.581213</td>\n",
       "      <td>0.001499</td>\n",
       "    </tr>\n",
       "  </tbody>\n",
       "</table>\n",
       "</div>"
      ],
      "text/plain": [
       "  param_classifier__learning_rate param_classifier__max_depth  \\\n",
       "3                             0.1                           5   \n",
       "4                             0.1                          10   \n",
       "5                             0.1                          15   \n",
       "6                               1                           5   \n",
       "0                            0.01                           5   \n",
       "7                               1                          10   \n",
       "8                               1                          15   \n",
       "1                            0.01                          10   \n",
       "2                            0.01                          15   \n",
       "9                              10                           5   \n",
       "\n",
       "   mean_test_score  std_test_score  \n",
       "3         0.771416        0.043782  \n",
       "4         0.758771        0.032663  \n",
       "5         0.758771        0.032663  \n",
       "6         0.746087        0.029551  \n",
       "0         0.735967        0.020871  \n",
       "7         0.733499        0.012502  \n",
       "8         0.733499        0.012502  \n",
       "1         0.730877        0.024435  \n",
       "2         0.730877        0.024435  \n",
       "9         0.581213        0.001499  "
      ]
     },
     "execution_count": 97,
     "metadata": {},
     "output_type": "execute_result"
    }
   ],
   "source": [
    "model = Pipeline([\n",
    "    (\"scaler\", StandardScaler(with_mean=False)),\n",
    "    (\"classifier\", XGBClassifier(objective=\"binary:logistic\", random_state=742, n_jobs=4))\n",
    "])\n",
    "grid = [{\n",
    "    \"classifier__learning_rate\": np.logspace(-2, 2, 5).tolist(),\n",
    "    \"classifier__max_depth\": [5, 10, 15]\n",
    "}]\n",
    "gs = GridSearchCV(model, grid, cv=skf)\n",
    "gs.fit(X_train, y_train)\n",
    "pd.DataFrame(gs.cv_results_)[[\"param_classifier__learning_rate\", \"param_classifier__max_depth\", \"mean_test_score\", \"std_test_score\"]] \\\n",
    "  .sort_values(\"mean_test_score\", ascending=False) \\\n",
    "  .head(10)"
   ]
  },
  {
   "cell_type": "markdown",
   "metadata": {},
   "source": [
    "L'uso dei parametri individuati al passo precedente per costruire un modello su cui testare la regolarizzazione non ci fa ottenere un risultato di tanto migliore, infatti lo *score* aumenta dello 0,3%."
   ]
  },
  {
   "cell_type": "code",
   "execution_count": 98,
   "metadata": {},
   "outputs": [
    {
     "data": {
      "text/html": [
       "<div>\n",
       "<style scoped>\n",
       "    .dataframe tbody tr th:only-of-type {\n",
       "        vertical-align: middle;\n",
       "    }\n",
       "\n",
       "    .dataframe tbody tr th {\n",
       "        vertical-align: top;\n",
       "    }\n",
       "\n",
       "    .dataframe thead th {\n",
       "        text-align: right;\n",
       "    }\n",
       "</style>\n",
       "<table border=\"1\" class=\"dataframe\">\n",
       "  <thead>\n",
       "    <tr style=\"text-align: right;\">\n",
       "      <th></th>\n",
       "      <th>param_classifier__reg_alpha</th>\n",
       "      <th>param_classifier__reg_lambda</th>\n",
       "      <th>mean_test_score</th>\n",
       "      <th>std_test_score</th>\n",
       "    </tr>\n",
       "  </thead>\n",
       "  <tbody>\n",
       "    <tr>\n",
       "      <th>0</th>\n",
       "      <td>0.01</td>\n",
       "      <td>0.01</td>\n",
       "      <td>0.773980</td>\n",
       "      <td>0.038676</td>\n",
       "    </tr>\n",
       "    <tr>\n",
       "      <th>6</th>\n",
       "      <td>0.1</td>\n",
       "      <td>0.1</td>\n",
       "      <td>0.766366</td>\n",
       "      <td>0.036639</td>\n",
       "    </tr>\n",
       "    <tr>\n",
       "      <th>1</th>\n",
       "      <td>0.01</td>\n",
       "      <td>0.1</td>\n",
       "      <td>0.761277</td>\n",
       "      <td>0.040718</td>\n",
       "    </tr>\n",
       "    <tr>\n",
       "      <th>12</th>\n",
       "      <td>1</td>\n",
       "      <td>1</td>\n",
       "      <td>0.761277</td>\n",
       "      <td>0.042125</td>\n",
       "    </tr>\n",
       "    <tr>\n",
       "      <th>2</th>\n",
       "      <td>0.01</td>\n",
       "      <td>1</td>\n",
       "      <td>0.761238</td>\n",
       "      <td>0.051358</td>\n",
       "    </tr>\n",
       "    <tr>\n",
       "      <th>5</th>\n",
       "      <td>0.1</td>\n",
       "      <td>0.01</td>\n",
       "      <td>0.758771</td>\n",
       "      <td>0.031451</td>\n",
       "    </tr>\n",
       "    <tr>\n",
       "      <th>10</th>\n",
       "      <td>1</td>\n",
       "      <td>0.01</td>\n",
       "      <td>0.756207</td>\n",
       "      <td>0.038592</td>\n",
       "    </tr>\n",
       "    <tr>\n",
       "      <th>7</th>\n",
       "      <td>0.1</td>\n",
       "      <td>1</td>\n",
       "      <td>0.753682</td>\n",
       "      <td>0.035034</td>\n",
       "    </tr>\n",
       "    <tr>\n",
       "      <th>13</th>\n",
       "      <td>1</td>\n",
       "      <td>10</td>\n",
       "      <td>0.748651</td>\n",
       "      <td>0.025619</td>\n",
       "    </tr>\n",
       "    <tr>\n",
       "      <th>8</th>\n",
       "      <td>0.1</td>\n",
       "      <td>10</td>\n",
       "      <td>0.746087</td>\n",
       "      <td>0.029551</td>\n",
       "    </tr>\n",
       "  </tbody>\n",
       "</table>\n",
       "</div>"
      ],
      "text/plain": [
       "   param_classifier__reg_alpha param_classifier__reg_lambda  mean_test_score  \\\n",
       "0                         0.01                         0.01         0.773980   \n",
       "6                          0.1                          0.1         0.766366   \n",
       "1                         0.01                          0.1         0.761277   \n",
       "12                           1                            1         0.761277   \n",
       "2                         0.01                            1         0.761238   \n",
       "5                          0.1                         0.01         0.758771   \n",
       "10                           1                         0.01         0.756207   \n",
       "7                          0.1                            1         0.753682   \n",
       "13                           1                           10         0.748651   \n",
       "8                          0.1                           10         0.746087   \n",
       "\n",
       "    std_test_score  \n",
       "0         0.038676  \n",
       "6         0.036639  \n",
       "1         0.040718  \n",
       "12        0.042125  \n",
       "2         0.051358  \n",
       "5         0.031451  \n",
       "10        0.038592  \n",
       "7         0.035034  \n",
       "13        0.025619  \n",
       "8         0.029551  "
      ]
     },
     "execution_count": 98,
     "metadata": {},
     "output_type": "execute_result"
    }
   ],
   "source": [
    "model_xgb = Pipeline([\n",
    "    (\"scaler\", StandardScaler(with_mean=False)),\n",
    "    (\"classifier\", XGBClassifier(objective=\"binary:logistic\", learning_rate=0.1, max_depth=10, random_state=742, n_jobs=4))\n",
    "])\n",
    "grid_xgb = {\n",
    "    \"classifier__reg_alpha\": np.logspace(-2, 2, 5),\n",
    "    \"classifier__reg_lambda\": np.logspace(-2, 2, 5),\n",
    "}\n",
    "gs_xgb = GridSearchCV(model_xgb, grid_xgb, cv=skf)\n",
    "gs_xgb.fit(X_train, y_train)\n",
    "pd.DataFrame(gs_xgb.cv_results_)[[\"param_classifier__reg_alpha\", \"param_classifier__reg_lambda\", \"mean_test_score\", \"std_test_score\"]] \\\n",
    "  .sort_values(\"mean_test_score\", ascending=False) \\\n",
    "  .head(10)"
   ]
  },
  {
   "cell_type": "markdown",
   "metadata": {},
   "source": [
    "L'intervallo di confidenza calcolato sul *validation set* però ci rivela che i risultati del miglior modello trovato non sono pessimi, in quanto si colloca davanti al miglior modello individuato con \"Perceptron\", ma si colloca anche dietro ai precedenti due migliori modelli già visti."
   ]
  },
  {
   "cell_type": "code",
   "execution_count": 99,
   "metadata": {},
   "outputs": [
    {
     "data": {
      "text/plain": [
       "(0.7335414618685494, 0.8532000478492574)"
      ]
     },
     "execution_count": 99,
     "metadata": {},
     "output_type": "execute_result"
    }
   ],
   "source": [
    "best_xgb = gs_xgb.best_estimator_\n",
    "y_pred = best_xgb.predict(X_val)\n",
    "confidence_interval(best_xgb, X_val, y_val)"
   ]
  },
  {
   "cell_type": "markdown",
   "metadata": {},
   "source": [
    "Notiamo infatti che ha una *precision* leggermente più bassa del miglior modello ottenuto con \"Perceptron\" per quanto riguarda gli episodi \"brutti\", mentre quella per gli episodi \"belli\" è cresciuta di molto. La *recall* della classe \"bad\" è decisamente più alta che nel caso del \"Perceptron\", mentre quella della classe \"good\" è più bassa. Complessivamente, ciascun *f1-score* è migliorato producendo un'accuratezza migliore."
   ]
  },
  {
   "cell_type": "code",
   "execution_count": 100,
   "metadata": {},
   "outputs": [
    {
     "data": {
      "text/html": [
       "<div>\n",
       "<style scoped>\n",
       "    .dataframe tbody tr th:only-of-type {\n",
       "        vertical-align: middle;\n",
       "    }\n",
       "\n",
       "    .dataframe tbody tr th {\n",
       "        vertical-align: top;\n",
       "    }\n",
       "\n",
       "    .dataframe thead th {\n",
       "        text-align: right;\n",
       "    }\n",
       "</style>\n",
       "<table border=\"1\" class=\"dataframe\">\n",
       "  <thead>\n",
       "    <tr style=\"text-align: right;\">\n",
       "      <th></th>\n",
       "      <th>bad</th>\n",
       "      <th>good</th>\n",
       "    </tr>\n",
       "  </thead>\n",
       "  <tbody>\n",
       "    <tr>\n",
       "      <th>bad</th>\n",
       "      <td>81</td>\n",
       "      <td>15</td>\n",
       "    </tr>\n",
       "    <tr>\n",
       "      <th>good</th>\n",
       "      <td>19</td>\n",
       "      <td>55</td>\n",
       "    </tr>\n",
       "  </tbody>\n",
       "</table>\n",
       "</div>"
      ],
      "text/plain": [
       "      bad  good\n",
       "bad    81    15\n",
       "good   19    55"
      ]
     },
     "execution_count": 100,
     "metadata": {},
     "output_type": "execute_result"
    }
   ],
   "source": [
    "pd.DataFrame(confusion_matrix(y_val, y_pred), index=best_xgb.classes_, columns=best_xgb.classes_)"
   ]
  },
  {
   "cell_type": "code",
   "execution_count": 101,
   "metadata": {},
   "outputs": [
    {
     "name": "stdout",
     "output_type": "stream",
     "text": [
      "              precision    recall  f1-score   support\n",
      "\n",
      "         bad       0.81      0.84      0.83        96\n",
      "        good       0.79      0.74      0.76        74\n",
      "\n",
      "    accuracy                           0.80       170\n",
      "   macro avg       0.80      0.79      0.80       170\n",
      "weighted avg       0.80      0.80      0.80       170\n",
      "\n"
     ]
    }
   ],
   "source": [
    "print(classification_report(y_val, y_pred))"
   ]
  },
  {
   "cell_type": "markdown",
   "metadata": {},
   "source": [
    "#### Classificazione mediante Random Forest"
   ]
  },
  {
   "cell_type": "markdown",
   "metadata": {},
   "source": [
    "Utilizziamo come ultimo metodo \"Random Forest\" per vedere se, estraendo regole di partizione delle istanze dal nostro *set* di dati, è capace di ottenere dei risultati migliori rispetto ai metodi già utilizzati. Osserviamo che i risultati migliori non si hanno necessariamente in corrispondenza di un maggior numero di alberi e nemmeno con una profondità degli stessi più alta. Ciò che rimane costante è il numero di istanze per considerare un nodo come una foglia, relativamente basso, e il numero di elementi da raggiungere in un nodo per effettuare lo *split*, un valore non troppo alto. I risultati non sono però soddisfacenti, migliori rispetto a quelli ottenuti con \"XGBoost\", ma sempre inferiori a quelli di tutti gli altri metodi."
   ]
  },
  {
   "cell_type": "code",
   "execution_count": 102,
   "metadata": {},
   "outputs": [
    {
     "data": {
      "text/html": [
       "<div>\n",
       "<style scoped>\n",
       "    .dataframe tbody tr th:only-of-type {\n",
       "        vertical-align: middle;\n",
       "    }\n",
       "\n",
       "    .dataframe tbody tr th {\n",
       "        vertical-align: top;\n",
       "    }\n",
       "\n",
       "    .dataframe thead th {\n",
       "        text-align: right;\n",
       "    }\n",
       "</style>\n",
       "<table border=\"1\" class=\"dataframe\">\n",
       "  <thead>\n",
       "    <tr style=\"text-align: right;\">\n",
       "      <th></th>\n",
       "      <th>param_classifier__n_estimators</th>\n",
       "      <th>param_classifier__max_depth</th>\n",
       "      <th>param_classifier__min_samples_leaf</th>\n",
       "      <th>param_classifier__min_samples_split</th>\n",
       "      <th>mean_test_score</th>\n",
       "      <th>std_test_score</th>\n",
       "    </tr>\n",
       "  </thead>\n",
       "  <tbody>\n",
       "    <tr>\n",
       "      <th>37</th>\n",
       "      <td>200</td>\n",
       "      <td>4</td>\n",
       "      <td>2</td>\n",
       "      <td>3</td>\n",
       "      <td>0.817179</td>\n",
       "      <td>0.028977</td>\n",
       "    </tr>\n",
       "    <tr>\n",
       "      <th>38</th>\n",
       "      <td>500</td>\n",
       "      <td>4</td>\n",
       "      <td>2</td>\n",
       "      <td>3</td>\n",
       "      <td>0.814596</td>\n",
       "      <td>0.040968</td>\n",
       "    </tr>\n",
       "    <tr>\n",
       "      <th>40</th>\n",
       "      <td>200</td>\n",
       "      <td>4</td>\n",
       "      <td>2</td>\n",
       "      <td>5</td>\n",
       "      <td>0.812090</td>\n",
       "      <td>0.031811</td>\n",
       "    </tr>\n",
       "    <tr>\n",
       "      <th>71</th>\n",
       "      <td>500</td>\n",
       "      <td>8</td>\n",
       "      <td>2</td>\n",
       "      <td>10</td>\n",
       "      <td>0.807078</td>\n",
       "      <td>0.014732</td>\n",
       "    </tr>\n",
       "    <tr>\n",
       "      <th>2</th>\n",
       "      <td>500</td>\n",
       "      <td>2</td>\n",
       "      <td>1</td>\n",
       "      <td>3</td>\n",
       "      <td>0.807040</td>\n",
       "      <td>0.019609</td>\n",
       "    </tr>\n",
       "    <tr>\n",
       "      <th>5</th>\n",
       "      <td>500</td>\n",
       "      <td>2</td>\n",
       "      <td>1</td>\n",
       "      <td>5</td>\n",
       "      <td>0.807040</td>\n",
       "      <td>0.019609</td>\n",
       "    </tr>\n",
       "    <tr>\n",
       "      <th>8</th>\n",
       "      <td>500</td>\n",
       "      <td>2</td>\n",
       "      <td>1</td>\n",
       "      <td>10</td>\n",
       "      <td>0.807040</td>\n",
       "      <td>0.019609</td>\n",
       "    </tr>\n",
       "    <tr>\n",
       "      <th>34</th>\n",
       "      <td>200</td>\n",
       "      <td>4</td>\n",
       "      <td>1</td>\n",
       "      <td>10</td>\n",
       "      <td>0.807001</td>\n",
       "      <td>0.031872</td>\n",
       "    </tr>\n",
       "    <tr>\n",
       "      <th>35</th>\n",
       "      <td>500</td>\n",
       "      <td>4</td>\n",
       "      <td>1</td>\n",
       "      <td>10</td>\n",
       "      <td>0.806963</td>\n",
       "      <td>0.047197</td>\n",
       "    </tr>\n",
       "    <tr>\n",
       "      <th>53</th>\n",
       "      <td>500</td>\n",
       "      <td>4</td>\n",
       "      <td>4</td>\n",
       "      <td>10</td>\n",
       "      <td>0.806963</td>\n",
       "      <td>0.041968</td>\n",
       "    </tr>\n",
       "  </tbody>\n",
       "</table>\n",
       "</div>"
      ],
      "text/plain": [
       "   param_classifier__n_estimators param_classifier__max_depth  \\\n",
       "37                            200                           4   \n",
       "38                            500                           4   \n",
       "40                            200                           4   \n",
       "71                            500                           8   \n",
       "2                             500                           2   \n",
       "5                             500                           2   \n",
       "8                             500                           2   \n",
       "34                            200                           4   \n",
       "35                            500                           4   \n",
       "53                            500                           4   \n",
       "\n",
       "   param_classifier__min_samples_leaf param_classifier__min_samples_split  \\\n",
       "37                                  2                                   3   \n",
       "38                                  2                                   3   \n",
       "40                                  2                                   5   \n",
       "71                                  2                                  10   \n",
       "2                                   1                                   3   \n",
       "5                                   1                                   5   \n",
       "8                                   1                                  10   \n",
       "34                                  1                                  10   \n",
       "35                                  1                                  10   \n",
       "53                                  4                                  10   \n",
       "\n",
       "    mean_test_score  std_test_score  \n",
       "37         0.817179        0.028977  \n",
       "38         0.814596        0.040968  \n",
       "40         0.812090        0.031811  \n",
       "71         0.807078        0.014732  \n",
       "2          0.807040        0.019609  \n",
       "5          0.807040        0.019609  \n",
       "8          0.807040        0.019609  \n",
       "34         0.807001        0.031872  \n",
       "35         0.806963        0.047197  \n",
       "53         0.806963        0.041968  "
      ]
     },
     "execution_count": 102,
     "metadata": {},
     "output_type": "execute_result"
    }
   ],
   "source": [
    "model_rnd = Pipeline([\n",
    "    (\"scaler\", StandardScaler(with_mean=False)),\n",
    "    (\"classifier\", RandomForestClassifier(n_jobs=-1, random_state=742, class_weight=\"balanced\"))\n",
    "])\n",
    "grid_rnd = {\n",
    "    \"classifier__n_estimators\": [100, 200, 500],\n",
    "    \"classifier__max_depth\": [2, 4, 8, 10],\n",
    "    \"classifier__min_samples_leaf\": [1, 2, 4],\n",
    "    \"classifier__min_samples_split\": [3, 5, 10]\n",
    "}\n",
    "gs_rnd = GridSearchCV(model_rnd, grid_rnd, cv=skf)\n",
    "gs_rnd.fit(X_train, y_train)\n",
    "pd.DataFrame(gs_rnd.cv_results_)[[\"param_classifier__n_estimators\", \"param_classifier__max_depth\", \"param_classifier__min_samples_leaf\", \"param_classifier__min_samples_split\", \"mean_test_score\", \"std_test_score\"]] \\\n",
    "  .sort_values(\"mean_test_score\", ascending=False) \\\n",
    "  .head(10)"
   ]
  },
  {
   "cell_type": "markdown",
   "metadata": {},
   "source": [
    "L'intervallo di accuratezza mostra un miglioramento della stessa rispetto a \"Perceptron\", ma il valore calcolato è comunque peggiore di quello ottenuto dal miglior modello costruito con \"XGBoost\"."
   ]
  },
  {
   "cell_type": "code",
   "execution_count": 103,
   "metadata": {},
   "outputs": [
    {
     "data": {
      "text/plain": [
       "(0.7207997534601619, 0.8429322852883191)"
      ]
     },
     "execution_count": 103,
     "metadata": {},
     "output_type": "execute_result"
    }
   ],
   "source": [
    "best_rnd = gs_rnd.best_estimator_\n",
    "y_pred = best_rnd.predict(X_val)\n",
    "confidence_interval(best_rnd, X_val, y_val)"
   ]
  },
  {
   "cell_type": "markdown",
   "metadata": {},
   "source": [
    "Il miglior modello individuato ha una *precision* per gli episodi \"belli\" che è la stessa del miglior modello ottenuto con \"XGBoost\", mentre quella degli episodi con valutazione \"brutto\" è di poco inferiore. La *recall* per la classe \"bad\" è leggermente più alta del modello di \"XGBoost\", mentre invece quella della classe \"good\" è al contrario leggermente più bassa. Questo fa sì che le accuratezze di questi due modelli si discostino di solo l'1%."
   ]
  },
  {
   "cell_type": "code",
   "execution_count": 104,
   "metadata": {},
   "outputs": [
    {
     "data": {
      "text/html": [
       "<div>\n",
       "<style scoped>\n",
       "    .dataframe tbody tr th:only-of-type {\n",
       "        vertical-align: middle;\n",
       "    }\n",
       "\n",
       "    .dataframe tbody tr th {\n",
       "        vertical-align: top;\n",
       "    }\n",
       "\n",
       "    .dataframe thead th {\n",
       "        text-align: right;\n",
       "    }\n",
       "</style>\n",
       "<table border=\"1\" class=\"dataframe\">\n",
       "  <thead>\n",
       "    <tr style=\"text-align: right;\">\n",
       "      <th></th>\n",
       "      <th>bad</th>\n",
       "      <th>good</th>\n",
       "    </tr>\n",
       "  </thead>\n",
       "  <tbody>\n",
       "    <tr>\n",
       "      <th>bad</th>\n",
       "      <td>82</td>\n",
       "      <td>14</td>\n",
       "    </tr>\n",
       "    <tr>\n",
       "      <th>good</th>\n",
       "      <td>22</td>\n",
       "      <td>52</td>\n",
       "    </tr>\n",
       "  </tbody>\n",
       "</table>\n",
       "</div>"
      ],
      "text/plain": [
       "      bad  good\n",
       "bad    82    14\n",
       "good   22    52"
      ]
     },
     "execution_count": 104,
     "metadata": {},
     "output_type": "execute_result"
    }
   ],
   "source": [
    "pd.DataFrame(confusion_matrix(y_val, y_pred), index=best_rnd.classes_, columns=best_rnd.classes_)"
   ]
  },
  {
   "cell_type": "code",
   "execution_count": 105,
   "metadata": {},
   "outputs": [
    {
     "name": "stdout",
     "output_type": "stream",
     "text": [
      "              precision    recall  f1-score   support\n",
      "\n",
      "         bad       0.79      0.85      0.82        96\n",
      "        good       0.79      0.70      0.74        74\n",
      "\n",
      "    accuracy                           0.79       170\n",
      "   macro avg       0.79      0.78      0.78       170\n",
      "weighted avg       0.79      0.79      0.79       170\n",
      "\n"
     ]
    }
   ],
   "source": [
    "print(classification_report(y_val, y_pred))"
   ]
  },
  {
   "cell_type": "markdown",
   "metadata": {},
   "source": [
    "### Confronto tra modelli"
   ]
  },
  {
   "cell_type": "markdown",
   "metadata": {},
   "source": [
    "Per poter confrontare più accuratamente i modelli definiamo prima la funzione capace di calcolare se la differenza di accuratezza tra due modelli è statisticamente significativa. Questa ci restituirà gli estremi dell'intervallo di variazione, oltre ad un booleano che ci dice se effettivamente la differenza tra le due accuratezze è statisticamente significativa."
   ]
  },
  {
   "cell_type": "code",
   "execution_count": 106,
   "metadata": {},
   "outputs": [],
   "source": [
    "def models_difference_interval(accuracy1, accuracy2, X_size, confidence_level=0.99):\n",
    "    abs_diff = abs(accuracy1 - accuracy2)\n",
    "    radius = norm.ppf((1 + confidence_level) / 2) * np.sqrt((accuracy1 * (1 - accuracy1) + accuracy2 * (1 - accuracy2)) / X_size)\n",
    "    min_int = abs_diff - radius\n",
    "    max_int = abs_diff + radius\n",
    "    return min_int, max_int, min_int > 0"
   ]
  },
  {
   "cell_type": "markdown",
   "metadata": {},
   "source": [
    "Poi defininiamo un modello \"dummy\", ovverosia un modello che effettui le sue predizioni senza alcun tipo di conoscenza sulle regole interne al *dataset* che permettono di associare un'istanza alla sua classe, facendo perciò le sue predizioni in maniera semi-casuale. In realtà, per fare in modo che il nostro modello di *benchmark* abbia un'accuratezza maggiore, in modo da mettere maggiormente alla prova i modelli precedentemente estratti, non effettuerà la classificazione in maniera completamente casuale, ma assegnerà tutte le istanze alla classe più frequente nel *dataset*. Questo perchè sappiamo esistere un leggero sbilanciamento tra le istanze delle due classi e perciò tutti i modelli che sono più propensi ad assegnare le istanze alla classe più frequente piuttosto che all'altra, avranno automaticamente un certo vantaggio sugli altri modelli."
   ]
  },
  {
   "cell_type": "code",
   "execution_count": 107,
   "metadata": {},
   "outputs": [
    {
     "data": {
      "text/plain": [
       "0.5647058823529412"
      ]
     },
     "execution_count": 107,
     "metadata": {},
     "output_type": "execute_result"
    }
   ],
   "source": [
    "dummy = Pipeline([\n",
    "    (\"scaler\", StandardScaler(with_mean=False)),\n",
    "    (\"classifier\", DummyClassifier(strategy=\"most_frequent\", random_state=742))\n",
    "])\n",
    "dummy.fit(X_train, y_train)\n",
    "dummy.score(X_val, y_val)"
   ]
  },
  {
   "cell_type": "markdown",
   "metadata": {},
   "source": [
    "Osserviamo che tutti i migliori modelli estratti mediante i metodi utilizzati in precedenza sono significativamente migliori a livello statistico del modello di benchmark con un livello di confidenza del 99%, segno che hanno effetivamente appreso qualcosa dal dataset. Designamo come modello migliore quello ottenuto mediante regressione logistica, che è il secondo con accuratezza più alta. Anche se quest'ultima non è diversa in maniera statisticamente significativa da quella dei migliori modelli ottenuti con \"XGBoost\", \"Random Forest\" o \"Support Vector Machines\", il modello è stato comunque molto capace nel bilanciare *precision* e *recall* delle due classi."
   ]
  },
  {
   "cell_type": "code",
   "execution_count": 108,
   "metadata": {},
   "outputs": [
    {
     "data": {
      "text/html": [
       "<div>\n",
       "<style scoped>\n",
       "    .dataframe tbody tr th:only-of-type {\n",
       "        vertical-align: middle;\n",
       "    }\n",
       "\n",
       "    .dataframe tbody tr th {\n",
       "        vertical-align: top;\n",
       "    }\n",
       "\n",
       "    .dataframe thead th {\n",
       "        text-align: right;\n",
       "    }\n",
       "</style>\n",
       "<table border=\"1\" class=\"dataframe\">\n",
       "  <thead>\n",
       "    <tr style=\"text-align: right;\">\n",
       "      <th></th>\n",
       "      <th>accuracy</th>\n",
       "      <th>lower_bound_interval_dummy</th>\n",
       "      <th>upper_bound_interval_dummy</th>\n",
       "      <th>statistically_significative_dummy</th>\n",
       "      <th>lower_bound_interval_best</th>\n",
       "      <th>upper_bound_interval_best</th>\n",
       "      <th>statistically_significative_best</th>\n",
       "    </tr>\n",
       "    <tr>\n",
       "      <th>model</th>\n",
       "      <th></th>\n",
       "      <th></th>\n",
       "      <th></th>\n",
       "      <th></th>\n",
       "      <th></th>\n",
       "      <th></th>\n",
       "      <th></th>\n",
       "    </tr>\n",
       "  </thead>\n",
       "  <tbody>\n",
       "    <tr>\n",
       "      <th>Dummy</th>\n",
       "      <td>0.564706</td>\n",
       "      <td>-0.138519</td>\n",
       "      <td>0.138519</td>\n",
       "      <td>False</td>\n",
       "      <td>0.190255</td>\n",
       "      <td>0.374451</td>\n",
       "      <td>True</td>\n",
       "    </tr>\n",
       "    <tr>\n",
       "      <th>Perceptron</th>\n",
       "      <td>0.705882</td>\n",
       "      <td>0.008148</td>\n",
       "      <td>0.274205</td>\n",
       "      <td>True</td>\n",
       "      <td>0.053891</td>\n",
       "      <td>0.228462</td>\n",
       "      <td>True</td>\n",
       "    </tr>\n",
       "    <tr>\n",
       "      <th>Random Forest</th>\n",
       "      <td>0.788235</td>\n",
       "      <td>0.096610</td>\n",
       "      <td>0.350449</td>\n",
       "      <td>True</td>\n",
       "      <td>-0.023026</td>\n",
       "      <td>0.140673</td>\n",
       "      <td>False</td>\n",
       "    </tr>\n",
       "    <tr>\n",
       "      <th>XGBoost</th>\n",
       "      <td>0.800000</td>\n",
       "      <td>0.109443</td>\n",
       "      <td>0.361145</td>\n",
       "      <td>True</td>\n",
       "      <td>-0.033829</td>\n",
       "      <td>0.127947</td>\n",
       "      <td>False</td>\n",
       "    </tr>\n",
       "    <tr>\n",
       "      <th>Logistic Regression</th>\n",
       "      <td>0.835294</td>\n",
       "      <td>0.148264</td>\n",
       "      <td>0.392913</td>\n",
       "      <td>True</td>\n",
       "      <td>-0.065929</td>\n",
       "      <td>0.089458</td>\n",
       "      <td>False</td>\n",
       "    </tr>\n",
       "    <tr>\n",
       "      <th>Support Vector Machines</th>\n",
       "      <td>0.847059</td>\n",
       "      <td>0.161316</td>\n",
       "      <td>0.403390</td>\n",
       "      <td>True</td>\n",
       "      <td>-0.076517</td>\n",
       "      <td>0.076517</td>\n",
       "      <td>False</td>\n",
       "    </tr>\n",
       "  </tbody>\n",
       "</table>\n",
       "</div>"
      ],
      "text/plain": [
       "                         accuracy  lower_bound_interval_dummy  \\\n",
       "model                                                           \n",
       "Dummy                    0.564706                   -0.138519   \n",
       "Perceptron               0.705882                    0.008148   \n",
       "Random Forest            0.788235                    0.096610   \n",
       "XGBoost                  0.800000                    0.109443   \n",
       "Logistic Regression      0.835294                    0.148264   \n",
       "Support Vector Machines  0.847059                    0.161316   \n",
       "\n",
       "                         upper_bound_interval_dummy  \\\n",
       "model                                                 \n",
       "Dummy                                      0.138519   \n",
       "Perceptron                                 0.274205   \n",
       "Random Forest                              0.350449   \n",
       "XGBoost                                    0.361145   \n",
       "Logistic Regression                        0.392913   \n",
       "Support Vector Machines                    0.403390   \n",
       "\n",
       "                         statistically_significative_dummy  \\\n",
       "model                                                        \n",
       "Dummy                                                False   \n",
       "Perceptron                                            True   \n",
       "Random Forest                                         True   \n",
       "XGBoost                                               True   \n",
       "Logistic Regression                                   True   \n",
       "Support Vector Machines                               True   \n",
       "\n",
       "                         lower_bound_interval_best  upper_bound_interval_best  \\\n",
       "model                                                                           \n",
       "Dummy                                     0.190255                   0.374451   \n",
       "Perceptron                                0.053891                   0.228462   \n",
       "Random Forest                            -0.023026                   0.140673   \n",
       "XGBoost                                  -0.033829                   0.127947   \n",
       "Logistic Regression                      -0.065929                   0.089458   \n",
       "Support Vector Machines                  -0.076517                   0.076517   \n",
       "\n",
       "                         statistically_significative_best  \n",
       "model                                                      \n",
       "Dummy                                                True  \n",
       "Perceptron                                           True  \n",
       "Random Forest                                       False  \n",
       "XGBoost                                             False  \n",
       "Logistic Regression                                 False  \n",
       "Support Vector Machines                             False  "
      ]
     },
     "execution_count": 108,
     "metadata": {},
     "output_type": "execute_result"
    }
   ],
   "source": [
    "models = [dummy, best_perc, best_logreg, best_svm, best_xgb, best_rnd]\n",
    "scores = list(map(lambda model: model.score(X_val, y_val), models))\n",
    "data = []\n",
    "dummy_accuracy = dummy.score(X_val, y_val)\n",
    "best_accuracy = max(scores)\n",
    "for model in models:\n",
    "    accuracy = model.score(X_val, y_val)\n",
    "    min_int_dummy, max_int_dummy, significative_dummy = models_difference_interval(accuracy, dummy_accuracy, X_val.shape[0])\n",
    "    min_int_best, max_int_best, significative_best = models_difference_interval(accuracy, best_accuracy, X_val.shape[0], 0.95)\n",
    "    data.append((accuracy, min_int_dummy, max_int_dummy, significative_dummy, min_int_best, max_int_best, significative_best))\n",
    "pd.DataFrame(data,\n",
    "             index=pd.Index([\"Dummy\", \"Perceptron\", \"Logistic Regression\", \"Support Vector Machines\", \"XGBoost\", \"Random Forest\"], name=\"model\"),\n",
    "             columns=[\"accuracy\", \"lower_bound_interval_dummy\", \"upper_bound_interval_dummy\", \"statistically_significative_dummy\", \"lower_bound_interval_best\", \"upper_bound_interval_best\", \"statistically_significative_best\"]) \\\n",
    "  .sort_values(\"accuracy\")"
   ]
  },
  {
   "cell_type": "markdown",
   "metadata": {},
   "source": [
    "### Interpretazione della conoscenza"
   ]
  },
  {
   "cell_type": "markdown",
   "metadata": {},
   "source": [
    "Scelto il modello migliore, osserviamo perciò quali sono le *feature* che sono per esso più incisive per la scelta dell'una o dell'altra classe. Le *feature* che maggiormente portano un episodio ad essere considerato \"bello\" sembrano essere le esclamazioni - come \"ah\", \"hmmm\", \"oh\", \"huh\", \"hey\", \"uh huh\" - e le loro varianti, le risate - ad esempio \"heh heh heh\" -, ma anche altre parole come \"minute\", \"sir\", \"come\" ed \"everybody\". Tutto sommato, queste informazioni sono in linea con quanto ci aspettavamo: gli episodi migliori della serie sono quelli dove vengono trasmesse più emozioni e il pubblico si sente più coinvolto."
   ]
  },
  {
   "cell_type": "code",
   "execution_count": 109,
   "metadata": {},
   "outputs": [
    {
     "data": {
      "text/plain": [
       "ah                0.034807\n",
       "heh               0.033439\n",
       "etc               0.030776\n",
       "hmmm              0.030340\n",
       "heh heh           0.029744\n",
       "oh                0.028886\n",
       "Simpson Home      0.026432\n",
       "ohh               0.025481\n",
       "minut             0.025284\n",
       "hey wait          0.025239\n",
       "Maude Flanders    0.025042\n",
       "sir               0.024916\n",
       "huh               0.024537\n",
       "hey               0.024314\n",
       "heh heh heh       0.024228\n",
       "uh huh            0.024035\n",
       "come              0.023422\n",
       "everybodi         0.023223\n",
       "ahh               0.023176\n",
       "uh oh             0.022366\n",
       "dtype: float64"
      ]
     },
     "execution_count": 109,
     "metadata": {},
     "output_type": "execute_result"
    }
   ],
   "source": [
    "coefs = pd.Series(best_logreg.named_steps[\"classifier\"].coef_[0], index).sort_values(ascending=False)\n",
    "coefs.head(20)"
   ]
  },
  {
   "cell_type": "markdown",
   "metadata": {},
   "source": [
    "Se consideriamo solo gli \"1-gram\" che rendono più probabile che l'episodio abbia un buon *rating*, vediamo come questa teoria è confermata, trovando oltre alle già citate parole anche \"ewww\". Troviamo però anche due cognomi, \"mcclure\", appartenente al personaggio di Troy McClure, e \"simpson\"."
   ]
  },
  {
   "cell_type": "code",
   "execution_count": 110,
   "metadata": {},
   "outputs": [
    {
     "data": {
      "text/plain": [
       "ah           0.034807\n",
       "heh          0.033439\n",
       "etc          0.030776\n",
       "hmmm         0.030340\n",
       "oh           0.028886\n",
       "ohh          0.025481\n",
       "minut        0.025284\n",
       "sir          0.024916\n",
       "huh          0.024537\n",
       "hey          0.024314\n",
       "come         0.023422\n",
       "everybodi    0.023223\n",
       "ahh          0.023176\n",
       "ewww         0.022293\n",
       "hello        0.022077\n",
       "ooooh        0.021631\n",
       "simpson      0.021411\n",
       "mcclure      0.021081\n",
       "hmm          0.020794\n",
       "problemo     0.020686\n",
       "dtype: float64"
      ]
     },
     "execution_count": 110,
     "metadata": {},
     "output_type": "execute_result"
    }
   ],
   "source": [
    "coefs[~coefs.index.str.contains(r\"[A-Z ]\")].head(20)"
   ]
  },
  {
   "cell_type": "markdown",
   "metadata": {},
   "source": [
    "Al contrario, le *feature* che portano un episodio ad essere considerato \"brutto\" sembrano essere parole che rappresentano giudizi o in generale aggettivi come \"great\", \"huge\", \"awesome\", \"final\", \"sweet\", ma anche parole di uso comune come \"everyone\", \"back\", \"made\", \"use\", \"move\", \"welcome\"... Forse il loro uso in maniera sovrabbondante potrebbe far perdere di significato l'episodio. Troviamo inoltre quella che sembra essere una parola che Marge usa spesso per apostrofare Homer, \"homie\", nonchè il nome di un personaggio, ovvero \"lenny\"."
   ]
  },
  {
   "cell_type": "code",
   "execution_count": 111,
   "metadata": {},
   "outputs": [
    {
     "data": {
      "text/plain": [
       "lenni           -0.018666\n",
       "oh god          -0.019223\n",
       "na              -0.019448\n",
       "back            -0.019579\n",
       "huge            -0.019656\n",
       "everyon         -0.019709\n",
       "made            -0.020135\n",
       "Carl Carlson    -0.020175\n",
       "great           -0.020190\n",
       "Springfield     -0.020316\n",
       "make            -0.021421\n",
       "use             -0.021571\n",
       "move            -0.021936\n",
       "Lenny Leonard   -0.023717\n",
       "final           -0.024238\n",
       "awesom          -0.024263\n",
       "homi            -0.024809\n",
       "welcom          -0.026117\n",
       "sweeti          -0.026576\n",
       "till            -0.028848\n",
       "dtype: float64"
      ]
     },
     "execution_count": 111,
     "metadata": {},
     "output_type": "execute_result"
    }
   ],
   "source": [
    "coefs.tail(20)"
   ]
  },
  {
   "cell_type": "markdown",
   "metadata": {},
   "source": [
    "Se consideriamo solo gli \"1-gram\", oltre alle già discusse parole, troviamo anche \"disco\" e \"god\". Evidentemente gli episodi dove si parla di temi religiosi non sono stati molto apprezzati. La parola \"disco\" fa probabilmente anch'essa riferimento al nome di un personaggio, \"Disco Stu\"."
   ]
  },
  {
   "cell_type": "code",
   "execution_count": 112,
   "metadata": {},
   "outputs": [
    {
     "data": {
      "text/plain": [
       "focu      -0.017902\n",
       "disco     -0.018030\n",
       "god       -0.018382\n",
       "never     -0.018621\n",
       "lenni     -0.018666\n",
       "na        -0.019448\n",
       "back      -0.019579\n",
       "huge      -0.019656\n",
       "everyon   -0.019709\n",
       "made      -0.020135\n",
       "great     -0.020190\n",
       "make      -0.021421\n",
       "use       -0.021571\n",
       "move      -0.021936\n",
       "final     -0.024238\n",
       "awesom    -0.024263\n",
       "homi      -0.024809\n",
       "welcom    -0.026117\n",
       "sweeti    -0.026576\n",
       "till      -0.028848\n",
       "dtype: float64"
      ]
     },
     "execution_count": 112,
     "metadata": {},
     "output_type": "execute_result"
    }
   ],
   "source": [
    "coefs[~coefs.index.str.contains(r\"[A-Z ]\")].tail(20)"
   ]
  },
  {
   "cell_type": "markdown",
   "metadata": {},
   "source": [
    "Se ci concentriamo esclusivamente sui personaggi osserviamo che tra quelli che più portano una puntata ad essere apprezzata troviamo i già visti \"Maude Flanders\" e la \"signorina Hoover\", ma anche la \"signora della mensa\", il \"signor Smithers\", gli anziani e \"Jasper\", uno degli ospiti della casa di riposo di Springfield, ma anche \"Chuck\" e \"Janey\", due compagni di scuola di Bart e Lisa."
   ]
  },
  {
   "cell_type": "code",
   "execution_count": 113,
   "metadata": {},
   "outputs": [
    {
     "data": {
      "text/plain": [
       "name\n",
       "Maude Flanders     0.025042\n",
       "Miss Hoover        0.021896\n",
       "Lunchlady Doris    0.020350\n",
       "Waylon Smithers    0.019116\n",
       "Lewis Clark        0.019043\n",
       "Singers            0.017712\n",
       "Old People         0.016658\n",
       "Chuck              0.015798\n",
       "JANEY              0.014545\n",
       "Jasper Beardly     0.014542\n",
       "dtype: float64"
      ]
     },
     "execution_count": 113,
     "metadata": {},
     "output_type": "execute_result"
    }
   ],
   "source": [
    "best_characters = coefs[characters_cols].sort_values(ascending=False)\n",
    "best_characters.head(10)"
   ]
  },
  {
   "cell_type": "markdown",
   "metadata": {},
   "source": [
    "Tra i personaggi che invece abbassano il gradimento di una puntata troviamo il \"ricco texano\", la businesswoman \"Lindsey Naegle\", \"Brandine\", cioè la moglie di Cletus il bifolco, nonchè \"Cletus il bifolco\" stesso. Quello che hanno in comune questi personaggi è di essere tutti intrinsecamente repubblicani, rappresentando la parte più conservatrice degli Stati Uniti. La serie, di chiaro stampo democratico, satirizza molto questi personaggi e questo potrebbe non essere gradito al pubblico fortemente repubblicano della rete televisiva. Tra gli altri personaggi a sorpresa troviamo \"Secco\", la madre di Nelson, l'\"adolescente dalla voce stridula\", ma anche \"Disco Stu\" e \"Lenny\" e \"Carl\", i nomi dei quali avevamo già incontrati in precedenza, come personaggi o come \"1-gram\" dei loro nomi."
   ]
  },
  {
   "cell_type": "code",
   "execution_count": 114,
   "metadata": {},
   "outputs": [
    {
     "data": {
      "text/plain": [
       "name\n",
       "DOLPH                 -0.012443\n",
       "The Rich Texan        -0.013368\n",
       "Lindsay Naegle        -0.014731\n",
       "Mrs. Muntz            -0.014794\n",
       "Brandine Del Roy      -0.015579\n",
       "Disco Stu             -0.016485\n",
       "Squeaky-Voiced Teen   -0.016614\n",
       "Cletus Spuckler       -0.017582\n",
       "Carl Carlson          -0.020175\n",
       "Lenny Leonard         -0.023717\n",
       "dtype: float64"
      ]
     },
     "execution_count": 114,
     "metadata": {},
     "output_type": "execute_result"
    }
   ],
   "source": [
    "best_characters.tail(10)"
   ]
  },
  {
   "cell_type": "markdown",
   "metadata": {},
   "source": [
    "Tra i luoghi in cui si svolgono le puntate de \"I Simpson\" che più portano ad alzare il gradimento di una puntata ci sono casa Simpson e le sue stanze, le stanze della scuola elementare di Springfield, la centrale nucleare, ma anche altri luoghi meno riconoscibili come le vie della città o le automobili. I primi tre luoghi, casa Simpson, la scuola elementare e la centrale nucleare, sono i luoghi dove chiaramente si svolgono il maggior numero di scene degli episodi, i luoghi più ricorrenti, perchè è dove i personaggi passano maggiormente il loro tempo. Evidentemente, quando non è chiaro il luogo in cui si svolge l'azione, nel *dataset* è stato semplicemente etichettato come \"Somewhere\" e così lì si svolgono molte scene della serie tv e questo porta il suo coefficiente ad essere alto."
   ]
  },
  {
   "cell_type": "code",
   "execution_count": 115,
   "metadata": {},
   "outputs": [
    {
     "data": {
      "text/plain": [
       "name\n",
       "Simpson Home                       0.026432\n",
       "Somewhere                          0.019351\n",
       "Simpson Kitchen                    0.015717\n",
       "Simpson Dining Room                0.015626\n",
       "Miss Hoover's Classroom            0.014022\n",
       "Springfield Nuclear Power Plant    0.013393\n",
       "Street                             0.013048\n",
       "Selma's Car                        0.013000\n",
       "Downtown Street                    0.012837\n",
       "Simpson Bathroom                   0.012661\n",
       "dtype: float64"
      ]
     },
     "execution_count": 115,
     "metadata": {},
     "output_type": "execute_result"
    }
   ],
   "source": [
    "best_locations = coefs[locations_cols].sort_values(ascending=False)\n",
    "best_locations.head(10)"
   ]
  },
  {
   "cell_type": "markdown",
   "metadata": {},
   "source": [
    "Tra i luoghi che invece portano il pubblico a dire che un episodio è \"brutto\" troviamo invece molte più *location* di contorno come il castello di riposo, la spiaggia, le automobili di Homer e di Marge, il tribunale, il garage di casa Simpson, la via dove abitano i Simpson, \"Evergreen Terrace\", lo stadio, la città di Springfield in generale, che avevamo già incontrato. Evidentemente in questi luoghi si svolgono scene meno rilevanti ai fini della trama o comunque sono luoghi dove più spesso si svolgono scene non interessanti per il pubblico."
   ]
  },
  {
   "cell_type": "code",
   "execution_count": 116,
   "metadata": {},
   "outputs": [
    {
     "data": {
      "text/plain": [
       "name\n",
       "Springfield Retirement Castle   -0.011866\n",
       "Marge's Car                     -0.011928\n",
       "Beach                           -0.012087\n",
       "Homer's Car                     -0.012186\n",
       "Announcer's Booth               -0.012697\n",
       "Court                           -0.012950\n",
       "Simpson Garage                  -0.014004\n",
       "Evergreen Terrace               -0.015091\n",
       "STADIUM                         -0.015761\n",
       "Springfield                     -0.020316\n",
       "dtype: float64"
      ]
     },
     "execution_count": 116,
     "metadata": {},
     "output_type": "execute_result"
    }
   ],
   "source": [
    "best_locations.tail(10)"
   ]
  },
  {
   "cell_type": "markdown",
   "metadata": {},
   "source": [
    "Notiamo come l'intercetta del nostro modello sia una valore molto piccolo, approssimabile con 0. Questo significa che il nostro modello non conferisce a priori un bonus o un malus ad un episodio prima di classificarlo e perciò entrambe le valutazioni, \"bello\" o \"brutto\", hanno la stessa probabilità di essere assegnate ad un episodio a partire dalle parole conenute nel copione di quest'ultimo, dai personaggi e dalle *location* che compaiono."
   ]
  },
  {
   "cell_type": "code",
   "execution_count": 117,
   "metadata": {},
   "outputs": [
    {
     "data": {
      "text/plain": [
       "6.5737984059353544e-06"
      ]
     },
     "execution_count": 117,
     "metadata": {},
     "output_type": "execute_result"
    }
   ],
   "source": [
    "best_logreg.named_steps[\"classifier\"].intercept_[0]"
   ]
  },
  {
   "cell_type": "markdown",
   "metadata": {},
   "source": [
    "### Test di reti neurali"
   ]
  },
  {
   "cell_type": "markdown",
   "metadata": {},
   "source": [
    "#### Classificazione tramite multi-layer perceptron"
   ]
  },
  {
   "cell_type": "markdown",
   "metadata": {},
   "source": [
    "Proviamo quindi un approccio con un maggior numero di *feature*, ma dove queste sono autonomamente apprese dal metodo stesso, quindi utilizzando una rete neurale. In cambio sacrifichiamo la possibilità di interpretare il nostro modello. Prima di tutto testiamo quella che la libreria \"scikit-learn\" ci fornisce di base, ovverosia \"Multi-Layer Perceptron\". Lo *score* medio con i parametri scelti non è troppo distante da quello degli altri modelli valutati precedentemente."
   ]
  },
  {
   "cell_type": "code",
   "execution_count": 118,
   "metadata": {},
   "outputs": [
    {
     "data": {
      "text/html": [
       "<div>\n",
       "<style scoped>\n",
       "    .dataframe tbody tr th:only-of-type {\n",
       "        vertical-align: middle;\n",
       "    }\n",
       "\n",
       "    .dataframe tbody tr th {\n",
       "        vertical-align: top;\n",
       "    }\n",
       "\n",
       "    .dataframe thead th {\n",
       "        text-align: right;\n",
       "    }\n",
       "</style>\n",
       "<table border=\"1\" class=\"dataframe\">\n",
       "  <thead>\n",
       "    <tr style=\"text-align: right;\">\n",
       "      <th></th>\n",
       "      <th>mean_test_score</th>\n",
       "      <th>std_test_score</th>\n",
       "    </tr>\n",
       "  </thead>\n",
       "  <tbody>\n",
       "    <tr>\n",
       "      <th>0</th>\n",
       "      <td>0.862981</td>\n",
       "      <td>0.021324</td>\n",
       "    </tr>\n",
       "  </tbody>\n",
       "</table>\n",
       "</div>"
      ],
      "text/plain": [
       "   mean_test_score  std_test_score\n",
       "0         0.862981        0.021324"
      ]
     },
     "execution_count": 118,
     "metadata": {},
     "output_type": "execute_result"
    }
   ],
   "source": [
    "mlp = Pipeline([\n",
    "    (\"scaler\", StandardScaler(with_mean=False)),\n",
    "    (\"classifier\", MLPClassifier(shuffle=True, hidden_layer_sizes=(500, 20), batch_size=10, random_state=742))\n",
    "])\n",
    "gs = GridSearchCV(mlp, {}, cv=skf, n_jobs=-1)\n",
    "gs.fit(X_train, y_train)\n",
    "pd.DataFrame(gs.cv_results_)[[\"mean_test_score\", \"std_test_score\"]]"
   ]
  },
  {
   "cell_type": "markdown",
   "metadata": {},
   "source": [
    "Anche l'accuratezza non è male, ha un valore comparabile con quella del miglior modello ottenuto con \"Random Forest\", però non è chiaramente capace di superare il miglior modello in assoluto che siamo riusciti ad individuare."
   ]
  },
  {
   "cell_type": "code",
   "execution_count": 119,
   "metadata": {},
   "outputs": [
    {
     "data": {
      "text/plain": [
       "0.788235294117647"
      ]
     },
     "execution_count": 119,
     "metadata": {},
     "output_type": "execute_result"
    }
   ],
   "source": [
    "gs.score(X_val, y_val)"
   ]
  },
  {
   "cell_type": "markdown",
   "metadata": {},
   "source": [
    "#### Classificazione mediante reti neurali convoluzionali"
   ]
  },
  {
   "cell_type": "markdown",
   "metadata": {},
   "source": [
    "In seconda battuta proviamo a costruire una rete neurale più complessa con l'aiuto delle librerie \"Keras\" e \"TensorFlow\", vedendo se un approccio che sfrutta una rete neurale convoluzionale è capace di ottenere dei risultati migliori. Per prima cosa aggiungiamo una colonna fittizia al nostro dataset per rendere le feature scomponibili in sottogruppi."
   ]
  },
  {
   "cell_type": "code",
   "execution_count": 120,
   "metadata": {},
   "outputs": [
    {
     "data": {
      "text/plain": [
       "(394, 8390)"
      ]
     },
     "execution_count": 120,
     "metadata": {},
     "output_type": "execute_result"
    }
   ],
   "source": [
    "X_train_nn = hstack([X_train, np.zeros((X_train.shape[0], 1))])\n",
    "X_train_nn.shape"
   ]
  },
  {
   "cell_type": "markdown",
   "metadata": {},
   "source": [
    "Inseriamo un primo livello di \"reshape\" per ottenere una matrice 2D da ciascuna istanza, applichiamo poi la convoluzione, e infine facciamo passare gli output attraverso due strati simili a quelli inseriti nel \"Multi-Layer Perceptron\". Sul primo applichiamo la stessa regolarizzazione del modello migliore trovato in precedenza, mentre prima del secondo applichiamo uno strato di \"dropout\"."
   ]
  },
  {
   "cell_type": "code",
   "execution_count": 121,
   "metadata": {},
   "outputs": [
    {
     "name": "stdout",
     "output_type": "stream",
     "text": [
      "Model: \"sequential_1\"\n",
      "_________________________________________________________________\n",
      "Layer (type)                 Output Shape              Param #   \n",
      "=================================================================\n",
      "reshape_1 (Reshape)          (None, 839, 10)           0         \n",
      "_________________________________________________________________\n",
      "conv1d_1 (Conv1D)            (None, 830, 500)          50500     \n",
      "_________________________________________________________________\n",
      "dense_1 (Dense)              (None, 830, 500)          250500    \n",
      "_________________________________________________________________\n",
      "flatten_1 (Flatten)          (None, 415000)            0         \n",
      "_________________________________________________________________\n",
      "dropout_1 (Dropout)          (None, 415000)            0         \n",
      "_________________________________________________________________\n",
      "dense_2 (Dense)              (None, 20)                8300020   \n",
      "_________________________________________________________________\n",
      "dense_3 (Dense)              (None, 2)                 42        \n",
      "=================================================================\n",
      "Total params: 8,601,062\n",
      "Trainable params: 8,601,062\n",
      "Non-trainable params: 0\n",
      "_________________________________________________________________\n"
     ]
    }
   ],
   "source": [
    "nn = Sequential([\n",
    "    Reshape((839, 10), input_shape=(X_train_nn.shape[1],)),\n",
    "    Conv1D(500, 10, activation=\"relu\"),\n",
    "    Dense(500, activation=\"relu\", kernel_regularizer=l2(100)),\n",
    "    Flatten(),\n",
    "    Dropout(0.1, seed=742),\n",
    "    Dense(20, activation=\"relu\"),\n",
    "    Dense(2, activation=\"softmax\")\n",
    "])\n",
    "nn.summary()"
   ]
  },
  {
   "cell_type": "markdown",
   "metadata": {},
   "source": [
    "Codifichiamo le classi da predire per ciascuna istanza in formato \"one-hot encoding\", compiliamo il modello facendoci restituire anche la metrica di accuratezza e poi effettuiamo il *fitting*."
   ]
  },
  {
   "cell_type": "code",
   "execution_count": 122,
   "metadata": {},
   "outputs": [
    {
     "name": "stdout",
     "output_type": "stream",
     "text": [
      "Epoch 1/10\n",
      "394/394 [==============================] - 12s 30ms/step - loss: 24980.4072 - accuracy: 0.4746\n",
      "Epoch 2/10\n",
      "394/394 [==============================] - 12s 31ms/step - loss: 3053.8943 - accuracy: 0.5838\n",
      "Epoch 3/10\n",
      "394/394 [==============================] - 13s 32ms/step - loss: 197.3589 - accuracy: 0.5812\n",
      "Epoch 4/10\n",
      "394/394 [==============================] - 13s 32ms/step - loss: 6.2652 - accuracy: 0.5812\n",
      "Epoch 5/10\n",
      "394/394 [==============================] - 12s 32ms/step - loss: 0.7331 - accuracy: 0.5812\n",
      "Epoch 6/10\n",
      "394/394 [==============================] - 13s 32ms/step - loss: 0.6883 - accuracy: 0.5812\n",
      "Epoch 7/10\n",
      "394/394 [==============================] - 12s 32ms/step - loss: 0.6838 - accuracy: 0.5812\n",
      "Epoch 8/10\n",
      "394/394 [==============================] - 13s 32ms/step - loss: 0.6850 - accuracy: 0.5812\n",
      "Epoch 9/10\n",
      "394/394 [==============================] - 12s 32ms/step - loss: 0.6856 - accuracy: 0.5812\n",
      "Epoch 10/10\n",
      "394/394 [==============================] - 12s 31ms/step - loss: 0.6864 - accuracy: 0.5812\n"
     ]
    }
   ],
   "source": [
    "y_train_nn = to_categorical(np.where(y_train == \"good\", 1, 0))\n",
    "nn.compile(loss=\"categorical_crossentropy\", optimizer=\"adam\", metrics=[\"accuracy\"])\n",
    "fit_history = nn.fit(X_train_nn.toarray(), y_train_nn, epochs=10, batch_size=10);"
   ]
  },
  {
   "cell_type": "markdown",
   "metadata": {},
   "source": [
    "Infine valutiamo il modello sul *validation set*, dopo avere adattato anche la sua *shape*. La *categorical cross-entropy* non sembra essere particolarmente alta, ma nemmeno troppo bassa, mentre l'accuratezza, anche se sempre migliore di quella del modello benchmark, è la più bassa tra tutte quelle dei modelli valutati in precedenza. È infatti più bassa di quella del modello ottenuto da \"Perceptron\", il più scarso tra i metodi che usano *statistical learning*, ma anche di quella del modello ottenuto da \"Multi-Layer Perceptron\", l'altra rete neurale che abbiamo addestrato."
   ]
  },
  {
   "cell_type": "code",
   "execution_count": 123,
   "metadata": {},
   "outputs": [
    {
     "name": "stdout",
     "output_type": "stream",
     "text": [
      "170/170 [==============================] - 1s 7ms/step\n"
     ]
    },
    {
     "data": {
      "text/plain": [
       "[0.6849482024417204, 0.5647059082984924]"
      ]
     },
     "execution_count": 123,
     "metadata": {},
     "output_type": "execute_result"
    }
   ],
   "source": [
    "X_val_nn = hstack([X_val, np.zeros((X_val.shape[0], 1))])\n",
    "y_val_nn = to_categorical(np.where(y_val == \"good\", 1, 0))\n",
    "nn.evaluate(X_val_nn.toarray(), y_val_nn, batch_size=10)"
   ]
  }
 ],
 "metadata": {
  "kernelspec": {
   "display_name": "DataIntensive",
   "language": "python",
   "name": "dataintensive"
  },
  "language_info": {
   "codemirror_mode": {
    "name": "ipython",
    "version": 3
   },
   "file_extension": ".py",
   "mimetype": "text/x-python",
   "name": "python",
   "nbconvert_exporter": "python",
   "pygments_lexer": "ipython3",
   "version": "3.8.3"
  }
 },
 "nbformat": 4,
 "nbformat_minor": 4
}
